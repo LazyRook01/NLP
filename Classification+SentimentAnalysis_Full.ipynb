{
  "nbformat": 4,
  "nbformat_minor": 0,
  "metadata": {
    "colab": {
      "provenance": [],
      "authorship_tag": "ABX9TyN0A4H52CfKQ9H50LiqJiy3",
      "include_colab_link": true
    },
    "kernelspec": {
      "name": "python3",
      "display_name": "Python 3"
    },
    "language_info": {
      "name": "python"
    }
  },
  "cells": [
    {
      "cell_type": "markdown",
      "metadata": {
        "id": "view-in-github",
        "colab_type": "text"
      },
      "source": [
        "<a href=\"https://colab.research.google.com/github/LazyRook01/NLP/blob/main/Classification%2BSentimentAnalysis_Full.ipynb\" target=\"_parent\"><img src=\"https://colab.research.google.com/assets/colab-badge.svg\" alt=\"Open In Colab\"/></a>"
      ]
    },
    {
      "cell_type": "markdown",
      "source": [
        "# **1. Tokenization**"
      ],
      "metadata": {
        "id": "rNstagfLzqMA"
      }
    },
    {
      "cell_type": "markdown",
      "source": [
        "---\n",
        "# **Setting Up NLTK**\n",
        "---"
      ],
      "metadata": {
        "id": "AMvBcBPGvma-"
      }
    },
    {
      "cell_type": "code",
      "execution_count": 1,
      "metadata": {
        "colab": {
          "base_uri": "https://localhost:8080/"
        },
        "id": "sHJ3FIaVvZi5",
        "outputId": "c13c1ca6-d2fa-4fcf-de87-f3e00d363371"
      },
      "outputs": [
        {
          "name": "stdout",
          "output_type": "stream",
          "text": [
            "NLTK Downloader\n",
            "---------------------------------------------------------------------------\n",
            "    d) Download   l) List    u) Update   c) Config   h) Help   q) Quit\n",
            "---------------------------------------------------------------------------\n",
            "Downloader> d\n",
            "\n",
            "Download which package (l=list; x=cancel)?\n",
            "  Identifier> all\n"
          ]
        },
        {
          "output_type": "stream",
          "name": "stderr",
          "text": [
            "    Downloading collection 'all'\n",
            "       | \n",
            "       | Downloading package abc to /root/nltk_data...\n",
            "       |   Unzipping corpora/abc.zip.\n",
            "       | Downloading package alpino to /root/nltk_data...\n",
            "       |   Unzipping corpora/alpino.zip.\n",
            "       | Downloading package averaged_perceptron_tagger to\n",
            "       |     /root/nltk_data...\n",
            "       |   Unzipping taggers/averaged_perceptron_tagger.zip.\n",
            "       | Downloading package averaged_perceptron_tagger_ru to\n",
            "       |     /root/nltk_data...\n",
            "       |   Unzipping taggers/averaged_perceptron_tagger_ru.zip.\n",
            "       | Downloading package basque_grammars to /root/nltk_data...\n",
            "       |   Unzipping grammars/basque_grammars.zip.\n",
            "       | Downloading package bcp47 to /root/nltk_data...\n",
            "       | Downloading package biocreative_ppi to /root/nltk_data...\n",
            "       |   Unzipping corpora/biocreative_ppi.zip.\n",
            "       | Downloading package bllip_wsj_no_aux to /root/nltk_data...\n",
            "       |   Unzipping models/bllip_wsj_no_aux.zip.\n",
            "       | Downloading package book_grammars to /root/nltk_data...\n",
            "       |   Unzipping grammars/book_grammars.zip.\n",
            "       | Downloading package brown to /root/nltk_data...\n",
            "       |   Unzipping corpora/brown.zip.\n",
            "       | Downloading package brown_tei to /root/nltk_data...\n",
            "       |   Unzipping corpora/brown_tei.zip.\n",
            "       | Downloading package cess_cat to /root/nltk_data...\n",
            "       |   Unzipping corpora/cess_cat.zip.\n",
            "       | Downloading package cess_esp to /root/nltk_data...\n",
            "       |   Unzipping corpora/cess_esp.zip.\n",
            "       | Downloading package chat80 to /root/nltk_data...\n",
            "       |   Unzipping corpora/chat80.zip.\n",
            "       | Downloading package city_database to /root/nltk_data...\n",
            "       |   Unzipping corpora/city_database.zip.\n",
            "       | Downloading package cmudict to /root/nltk_data...\n",
            "       |   Unzipping corpora/cmudict.zip.\n",
            "       | Downloading package comparative_sentences to\n",
            "       |     /root/nltk_data...\n",
            "       |   Unzipping corpora/comparative_sentences.zip.\n",
            "       | Downloading package comtrans to /root/nltk_data...\n",
            "       | Downloading package conll2000 to /root/nltk_data...\n",
            "       |   Unzipping corpora/conll2000.zip.\n",
            "       | Downloading package conll2002 to /root/nltk_data...\n",
            "       |   Unzipping corpora/conll2002.zip.\n",
            "       | Downloading package conll2007 to /root/nltk_data...\n",
            "       | Downloading package crubadan to /root/nltk_data...\n",
            "       |   Unzipping corpora/crubadan.zip.\n",
            "       | Downloading package dependency_treebank to /root/nltk_data...\n",
            "       |   Unzipping corpora/dependency_treebank.zip.\n",
            "       | Downloading package dolch to /root/nltk_data...\n",
            "       |   Unzipping corpora/dolch.zip.\n",
            "       | Downloading package europarl_raw to /root/nltk_data...\n",
            "       |   Unzipping corpora/europarl_raw.zip.\n",
            "       | Downloading package extended_omw to /root/nltk_data...\n",
            "       | Downloading package floresta to /root/nltk_data...\n",
            "       |   Unzipping corpora/floresta.zip.\n",
            "       | Downloading package framenet_v15 to /root/nltk_data...\n",
            "       |   Unzipping corpora/framenet_v15.zip.\n",
            "       | Downloading package framenet_v17 to /root/nltk_data...\n",
            "       |   Unzipping corpora/framenet_v17.zip.\n",
            "       | Downloading package gazetteers to /root/nltk_data...\n",
            "       |   Unzipping corpora/gazetteers.zip.\n",
            "       | Downloading package genesis to /root/nltk_data...\n",
            "       |   Unzipping corpora/genesis.zip.\n",
            "       | Downloading package gutenberg to /root/nltk_data...\n",
            "       |   Unzipping corpora/gutenberg.zip.\n",
            "       | Downloading package ieer to /root/nltk_data...\n",
            "       |   Unzipping corpora/ieer.zip.\n",
            "       | Downloading package inaugural to /root/nltk_data...\n",
            "       |   Unzipping corpora/inaugural.zip.\n",
            "       | Downloading package indian to /root/nltk_data...\n",
            "       |   Unzipping corpora/indian.zip.\n",
            "       | Downloading package jeita to /root/nltk_data...\n",
            "       | Downloading package kimmo to /root/nltk_data...\n",
            "       |   Unzipping corpora/kimmo.zip.\n",
            "       | Downloading package knbc to /root/nltk_data...\n",
            "       | Downloading package large_grammars to /root/nltk_data...\n",
            "       |   Unzipping grammars/large_grammars.zip.\n",
            "       | Downloading package lin_thesaurus to /root/nltk_data...\n",
            "       |   Unzipping corpora/lin_thesaurus.zip.\n",
            "       | Downloading package mac_morpho to /root/nltk_data...\n",
            "       |   Unzipping corpora/mac_morpho.zip.\n",
            "       | Downloading package machado to /root/nltk_data...\n",
            "       | Downloading package masc_tagged to /root/nltk_data...\n",
            "       | Downloading package maxent_ne_chunker to /root/nltk_data...\n",
            "       |   Unzipping chunkers/maxent_ne_chunker.zip.\n",
            "       | Downloading package maxent_treebank_pos_tagger to\n",
            "       |     /root/nltk_data...\n",
            "       |   Unzipping taggers/maxent_treebank_pos_tagger.zip.\n",
            "       | Downloading package moses_sample to /root/nltk_data...\n",
            "       |   Unzipping models/moses_sample.zip.\n",
            "       | Downloading package movie_reviews to /root/nltk_data...\n",
            "       |   Unzipping corpora/movie_reviews.zip.\n",
            "       | Downloading package mte_teip5 to /root/nltk_data...\n",
            "       |   Unzipping corpora/mte_teip5.zip.\n",
            "       | Downloading package mwa_ppdb to /root/nltk_data...\n",
            "       |   Unzipping misc/mwa_ppdb.zip.\n",
            "       | Downloading package names to /root/nltk_data...\n",
            "       |   Unzipping corpora/names.zip.\n",
            "       | Downloading package nombank.1.0 to /root/nltk_data...\n",
            "       | Downloading package nonbreaking_prefixes to\n",
            "       |     /root/nltk_data...\n",
            "       |   Unzipping corpora/nonbreaking_prefixes.zip.\n",
            "       | Downloading package nps_chat to /root/nltk_data...\n",
            "       |   Unzipping corpora/nps_chat.zip.\n",
            "       | Downloading package omw to /root/nltk_data...\n",
            "       | Downloading package omw-1.4 to /root/nltk_data...\n",
            "       | Downloading package opinion_lexicon to /root/nltk_data...\n",
            "       |   Unzipping corpora/opinion_lexicon.zip.\n",
            "       | Downloading package panlex_swadesh to /root/nltk_data...\n",
            "       | Downloading package paradigms to /root/nltk_data...\n",
            "       |   Unzipping corpora/paradigms.zip.\n",
            "       | Downloading package pe08 to /root/nltk_data...\n",
            "       |   Unzipping corpora/pe08.zip.\n",
            "       | Downloading package perluniprops to /root/nltk_data...\n",
            "       |   Unzipping misc/perluniprops.zip.\n",
            "       | Downloading package pil to /root/nltk_data...\n",
            "       |   Unzipping corpora/pil.zip.\n",
            "       | Downloading package pl196x to /root/nltk_data...\n",
            "       |   Unzipping corpora/pl196x.zip.\n",
            "       | Downloading package porter_test to /root/nltk_data...\n",
            "       |   Unzipping stemmers/porter_test.zip.\n",
            "       | Downloading package ppattach to /root/nltk_data...\n",
            "       |   Unzipping corpora/ppattach.zip.\n",
            "       | Downloading package problem_reports to /root/nltk_data...\n",
            "       |   Unzipping corpora/problem_reports.zip.\n",
            "       | Downloading package product_reviews_1 to /root/nltk_data...\n",
            "       |   Unzipping corpora/product_reviews_1.zip.\n",
            "       | Downloading package product_reviews_2 to /root/nltk_data...\n",
            "       |   Unzipping corpora/product_reviews_2.zip.\n",
            "       | Downloading package propbank to /root/nltk_data...\n",
            "       | Downloading package pros_cons to /root/nltk_data...\n",
            "       |   Unzipping corpora/pros_cons.zip.\n",
            "       | Downloading package ptb to /root/nltk_data...\n",
            "       |   Unzipping corpora/ptb.zip.\n",
            "       | Downloading package punkt to /root/nltk_data...\n",
            "       |   Unzipping tokenizers/punkt.zip.\n",
            "       | Downloading package qc to /root/nltk_data...\n",
            "       |   Unzipping corpora/qc.zip.\n",
            "       | Downloading package reuters to /root/nltk_data...\n",
            "       | Downloading package rslp to /root/nltk_data...\n",
            "       |   Unzipping stemmers/rslp.zip.\n",
            "       | Downloading package rte to /root/nltk_data...\n",
            "       |   Unzipping corpora/rte.zip.\n",
            "       | Downloading package sample_grammars to /root/nltk_data...\n",
            "       |   Unzipping grammars/sample_grammars.zip.\n",
            "       | Downloading package semcor to /root/nltk_data...\n",
            "       | Downloading package senseval to /root/nltk_data...\n",
            "       |   Unzipping corpora/senseval.zip.\n",
            "       | Downloading package sentence_polarity to /root/nltk_data...\n",
            "       |   Unzipping corpora/sentence_polarity.zip.\n",
            "       | Downloading package sentiwordnet to /root/nltk_data...\n",
            "       |   Unzipping corpora/sentiwordnet.zip.\n",
            "       | Downloading package shakespeare to /root/nltk_data...\n",
            "       |   Unzipping corpora/shakespeare.zip.\n",
            "       | Downloading package sinica_treebank to /root/nltk_data...\n",
            "       |   Unzipping corpora/sinica_treebank.zip.\n",
            "       | Downloading package smultron to /root/nltk_data...\n",
            "       |   Unzipping corpora/smultron.zip.\n",
            "       | Downloading package snowball_data to /root/nltk_data...\n",
            "       | Downloading package spanish_grammars to /root/nltk_data...\n",
            "       |   Unzipping grammars/spanish_grammars.zip.\n",
            "       | Downloading package state_union to /root/nltk_data...\n",
            "       |   Unzipping corpora/state_union.zip.\n",
            "       | Downloading package stopwords to /root/nltk_data...\n",
            "       |   Unzipping corpora/stopwords.zip.\n",
            "       | Downloading package subjectivity to /root/nltk_data...\n",
            "       |   Unzipping corpora/subjectivity.zip.\n",
            "       | Downloading package swadesh to /root/nltk_data...\n",
            "       |   Unzipping corpora/swadesh.zip.\n",
            "       | Downloading package switchboard to /root/nltk_data...\n",
            "       |   Unzipping corpora/switchboard.zip.\n",
            "       | Downloading package tagsets to /root/nltk_data...\n",
            "       |   Unzipping help/tagsets.zip.\n",
            "       | Downloading package timit to /root/nltk_data...\n",
            "       |   Unzipping corpora/timit.zip.\n",
            "       | Downloading package toolbox to /root/nltk_data...\n",
            "       |   Unzipping corpora/toolbox.zip.\n",
            "       | Downloading package treebank to /root/nltk_data...\n",
            "       |   Unzipping corpora/treebank.zip.\n",
            "       | Downloading package twitter_samples to /root/nltk_data...\n",
            "       |   Unzipping corpora/twitter_samples.zip.\n",
            "       | Downloading package udhr to /root/nltk_data...\n",
            "       |   Unzipping corpora/udhr.zip.\n",
            "       | Downloading package udhr2 to /root/nltk_data...\n",
            "       |   Unzipping corpora/udhr2.zip.\n",
            "       | Downloading package unicode_samples to /root/nltk_data...\n",
            "       |   Unzipping corpora/unicode_samples.zip.\n",
            "       | Downloading package universal_tagset to /root/nltk_data...\n",
            "       |   Unzipping taggers/universal_tagset.zip.\n",
            "       | Downloading package universal_treebanks_v20 to\n",
            "       |     /root/nltk_data...\n",
            "       | Downloading package vader_lexicon to /root/nltk_data...\n",
            "       | Downloading package verbnet to /root/nltk_data...\n",
            "       |   Unzipping corpora/verbnet.zip.\n",
            "       | Downloading package verbnet3 to /root/nltk_data...\n",
            "       |   Unzipping corpora/verbnet3.zip.\n",
            "       | Downloading package webtext to /root/nltk_data...\n",
            "       |   Unzipping corpora/webtext.zip.\n",
            "       | Downloading package wmt15_eval to /root/nltk_data...\n",
            "       |   Unzipping models/wmt15_eval.zip.\n",
            "       | Downloading package word2vec_sample to /root/nltk_data...\n",
            "       |   Unzipping models/word2vec_sample.zip.\n",
            "       | Downloading package wordnet to /root/nltk_data...\n",
            "       | Downloading package wordnet2021 to /root/nltk_data...\n",
            "       | Downloading package wordnet2022 to /root/nltk_data...\n",
            "       |   Unzipping corpora/wordnet2022.zip.\n",
            "       | Downloading package wordnet31 to /root/nltk_data...\n",
            "       | Downloading package wordnet_ic to /root/nltk_data...\n",
            "       |   Unzipping corpora/wordnet_ic.zip.\n",
            "       | Downloading package words to /root/nltk_data...\n",
            "       |   Unzipping corpora/words.zip.\n",
            "       | Downloading package ycoe to /root/nltk_data...\n",
            "       |   Unzipping corpora/ycoe.zip.\n",
            "       | \n",
            "     Done downloading collection all\n"
          ]
        },
        {
          "name": "stdout",
          "output_type": "stream",
          "text": [
            "\n",
            "---------------------------------------------------------------------------\n",
            "    d) Download   l) List    u) Update   c) Config   h) Help   q) Quit\n",
            "---------------------------------------------------------------------------\n",
            "Downloader> q\n"
          ]
        },
        {
          "output_type": "execute_result",
          "data": {
            "text/plain": [
              "True"
            ]
          },
          "metadata": {},
          "execution_count": 1
        }
      ],
      "source": [
        "import nltk\n",
        "nltk.download()"
      ]
    },
    {
      "cell_type": "markdown",
      "source": [
        "---\n",
        "# **Definitions**\n",
        "---\n",
        "**1. Corpus** - Body of text, singular. Corpora is the plural of this. Example: A collection of medical journals.\n",
        "\n",
        "**2. Lexicon** - Words and their meanings. Example: English dictionary. Consider, however, that various fields will have different lexicons. For example: To a financial investor, the first meaning for the word \"Bull\" is someone who is confident about the market, as compared to the common English lexicon, where the first meaning for the word \"Bull\" is an animal. As such, there is a special lexicon for financial investors, doctors, children, mechanics, and so on.\n",
        "\n",
        "**3. Token** - Each \"entity\" that is a part of whatever was split up based on rules. For examples, each word is a token when a sentence is \"tokenized\" into words. Each sentence can also be a token, if you tokenized the sentences out of a paragraph.\n",
        "\n",
        "---"
      ],
      "metadata": {
        "id": "BwURPtP9wTNR"
      }
    },
    {
      "cell_type": "markdown",
      "source": [
        "---\n",
        "# **Example 1**\n",
        "---\n",
        "An example of how one might actually tokenize something into tokens with the NLTK module"
      ],
      "metadata": {
        "id": "URT60cIEw0pL"
      }
    },
    {
      "cell_type": "code",
      "source": [
        "from nltk.tokenize import sent_tokenize, word_tokenize\n",
        "\n",
        "EXAMPLE_TEXT = \"Hello Mr. Smith, how are you doing today? The weather is great, and Python is awesome. The sky is pinkish-blue. You shouldn't eat cardboard.\"\n",
        "\n",
        "print(sent_tokenize(EXAMPLE_TEXT))"
      ],
      "metadata": {
        "id": "BNutPra5vqxI",
        "colab": {
          "base_uri": "https://localhost:8080/"
        },
        "outputId": "6e530f7d-f378-4f31-884a-21d83fa0c3c9"
      },
      "execution_count": 2,
      "outputs": [
        {
          "output_type": "stream",
          "name": "stdout",
          "text": [
            "['Hello Mr. Smith, how are you doing today?', 'The weather is great, and Python is awesome.', 'The sky is pinkish-blue.', \"You shouldn't eat cardboard.\"]\n"
          ]
        }
      ]
    },
    {
      "cell_type": "markdown",
      "source": [
        "\n",
        "---\n",
        "At first, you may think tokenizing by things like words or sentences is a rather trivial enterprise. For many sentences it can be. The first step would be likely doing a simple .split('. '), or splitting by period followed by a space. Then maybe you would bring in some regular expressions to split by period, space, and then a capital letter. The problem is that things like Mr. Smith would cause you trouble, and many other things. Splitting by word is also a challenge, especially when considering things like concatenations like we and are to we're. NLTK is going to go ahead and just save you a ton of time with this seemingly simple, yet very complex, operation.\n",
        "\n",
        "**The above code will output the sentences, split up into a list of sentences, which you can do things like iterate through with a for loop.**\n",
        "['Hello Mr. Smith, how are you doing today?', 'The weather is great, and Python is awesome.', 'The sky is pinkish-blue.', \"You shouldn't eat cardboard.\"]\n",
        "\n",
        "**So there, we have created tokens, which are sentences.**\n",
        "\n",
        "Let's tokenize by word instead this time:\n",
        "\n",
        "---\n"
      ],
      "metadata": {
        "id": "hZqWOT5wxd1Z"
      }
    },
    {
      "cell_type": "code",
      "source": [
        "print(word_tokenize(EXAMPLE_TEXT))"
      ],
      "metadata": {
        "id": "FhhbZ8gzxK94",
        "colab": {
          "base_uri": "https://localhost:8080/"
        },
        "outputId": "28cd8310-47cb-4819-e357-925dd8d8da89"
      },
      "execution_count": 3,
      "outputs": [
        {
          "output_type": "stream",
          "name": "stdout",
          "text": [
            "['Hello', 'Mr.', 'Smith', ',', 'how', 'are', 'you', 'doing', 'today', '?', 'The', 'weather', 'is', 'great', ',', 'and', 'Python', 'is', 'awesome', '.', 'The', 'sky', 'is', 'pinkish-blue', '.', 'You', 'should', \"n't\", 'eat', 'cardboard', '.']\n"
          ]
        }
      ]
    },
    {
      "cell_type": "markdown",
      "source": [
        "---\n",
        "There are a few things to note here. First, notice that punctuation is treated as a separate token. Also, notice the separation of the word \"shouldn't\" into \"should\" and \"n't.\" Finally, notice that \"pinkish-blue\" is indeed treated like the \"one word\" it was meant to be turned into.\n",
        "***\n",
        "Now, looking at these tokenized words, we have to begin thinking about what our next step might be. We start to ponder about how might we derive meaning by looking at these words. We can clearly think of ways to put value to many words, **but we also see a few words that are basically worthless. These are a form of \"stop words,\"** which we can also handle for. That is what we're going to be talking about in the next tutorial.\n",
        "***"
      ],
      "metadata": {
        "id": "Q7TvEFAmybqq"
      }
    },
    {
      "cell_type": "markdown",
      "source": [
        "# 2. Stop Words"
      ],
      "metadata": {
        "id": "7RcvvKjk16IA"
      }
    },
    {
      "cell_type": "markdown",
      "source": [
        "***\n",
        "The idea of Natural Language Processing is to do some form of analysis, or processing, where the machine can understand, at least to some level, what the text means, says, or implies.\n",
        "***\n",
        "This is an obviously massive challenge, but there are steps to doing it that anyone can follow. The main idea, however, is that computers simply do not, and will not, ever understand words directly. Humans don't either *shocker*. In humans, memory is broken down into electrical signals in the brain, in the form of neural groups that fire in patterns. There is a lot about the brain that remains unknown, but, the more we break down the human brain to the basic elements, we find out basic the elements really are. Well, it turns out computers store information in a very similar way! We need a way to get as close to that as possible if we're going to mimic how humans read and understand text. Generally, computers use numbers for everything, but we often see directly in programming where we use binary signals (True or False, which directly translate to 1 or 0, which originates directly from either the presence of an electrical signal (True, 1), or not (False, 0)). To do this, we need a way to convert words to values, in numbers, or signal patterns. The process of converting data to something a computer can understand is referred to as \"pre-processing.\" **One of the major forms of pre-processing is going to be filtering out useless data. In natural language processing, useless words (data), are referred to as stop words.**\n",
        "***\n",
        "Immediately, we can recognize ourselves that some words carry more meaning than other words. We can also see that some words are just plain useless, and are filler words. We use them in the English language, for example, to sort of \"fluff\" up the sentence so it is not so strange sounding. An example of one of the most common, unofficial, useless words is the phrase \"umm.\" People stuff in \"umm\" frequently, some more than others. This word means nothing, unless of course we're searching for someone who is maybe lacking confidence, is confused, or hasn't practiced much speaking. We all do it, you can hear me saying \"umm\" or \"uhh\" in the videos plenty of ...uh ... times. For most analysis, these words are useless.\n",
        "***\n",
        "**We would not want these words taking up space in our database, or taking up valuable processing time. As such, we call these words \"stop words\" because they are useless, and we wish to do nothing with them. Another version of the term \"stop words\" can be more literal: Words we stop on.**\n",
        "***\n",
        "You can do this easily, by storing a list of words that you consider to be stop words. NLTK starts you off with a bunch of words that they consider to be stop words, you can access it via the NLTK corpus with:\n",
        "***"
      ],
      "metadata": {
        "id": "ihTZbc6K2AZA"
      }
    },
    {
      "cell_type": "code",
      "source": [
        "# NLTK stopwords\n",
        "from nltk.corpus import stopwords\n",
        "print(stopwords.words(\"english\"))"
      ],
      "metadata": {
        "id": "l3xP2O0UyWf4",
        "colab": {
          "base_uri": "https://localhost:8080/"
        },
        "outputId": "faee84d1-6725-456d-ff6c-b599f09485c0"
      },
      "execution_count": 4,
      "outputs": [
        {
          "output_type": "stream",
          "name": "stdout",
          "text": [
            "['i', 'me', 'my', 'myself', 'we', 'our', 'ours', 'ourselves', 'you', \"you're\", \"you've\", \"you'll\", \"you'd\", 'your', 'yours', 'yourself', 'yourselves', 'he', 'him', 'his', 'himself', 'she', \"she's\", 'her', 'hers', 'herself', 'it', \"it's\", 'its', 'itself', 'they', 'them', 'their', 'theirs', 'themselves', 'what', 'which', 'who', 'whom', 'this', 'that', \"that'll\", 'these', 'those', 'am', 'is', 'are', 'was', 'were', 'be', 'been', 'being', 'have', 'has', 'had', 'having', 'do', 'does', 'did', 'doing', 'a', 'an', 'the', 'and', 'but', 'if', 'or', 'because', 'as', 'until', 'while', 'of', 'at', 'by', 'for', 'with', 'about', 'against', 'between', 'into', 'through', 'during', 'before', 'after', 'above', 'below', 'to', 'from', 'up', 'down', 'in', 'out', 'on', 'off', 'over', 'under', 'again', 'further', 'then', 'once', 'here', 'there', 'when', 'where', 'why', 'how', 'all', 'any', 'both', 'each', 'few', 'more', 'most', 'other', 'some', 'such', 'no', 'nor', 'not', 'only', 'own', 'same', 'so', 'than', 'too', 'very', 's', 't', 'can', 'will', 'just', 'don', \"don't\", 'should', \"should've\", 'now', 'd', 'll', 'm', 'o', 're', 've', 'y', 'ain', 'aren', \"aren't\", 'couldn', \"couldn't\", 'didn', \"didn't\", 'doesn', \"doesn't\", 'hadn', \"hadn't\", 'hasn', \"hasn't\", 'haven', \"haven't\", 'isn', \"isn't\", 'ma', 'mightn', \"mightn't\", 'mustn', \"mustn't\", 'needn', \"needn't\", 'shan', \"shan't\", 'shouldn', \"shouldn't\", 'wasn', \"wasn't\", 'weren', \"weren't\", 'won', \"won't\", 'wouldn', \"wouldn't\"]\n"
          ]
        }
      ]
    },
    {
      "cell_type": "markdown",
      "source": [
        "***\n",
        "Here is how you might incorporate using the stop_words set to remove the stop words from your text:\n",
        "***"
      ],
      "metadata": {
        "id": "nCJYfijU2-yf"
      }
    },
    {
      "cell_type": "code",
      "source": [
        "from nltk.corpus import stopwords\n",
        "from nltk.tokenize import word_tokenize\n",
        "\n",
        "example_sent = \"This is a sample sentence, showing off the stop words filtration.\"\n",
        "\n",
        "stop_words = set(stopwords.words('english'))\n",
        "\n",
        "word_tokens = word_tokenize(example_sent)\n",
        "\n",
        "filtered_sentence = [w for w in word_tokens if not w in stop_words]\n",
        "\n",
        "filtered_sentence = []\n",
        "\n",
        "for w in word_tokens:\n",
        "    if w not in stop_words:\n",
        "        filtered_sentence.append(w)\n",
        "\n",
        "print(word_tokens)\n",
        "print(filtered_sentence)"
      ],
      "metadata": {
        "id": "FQXfGSgN20aC",
        "colab": {
          "base_uri": "https://localhost:8080/"
        },
        "outputId": "08e396fa-7383-47ab-b3b7-4cdb05e03afd"
      },
      "execution_count": 5,
      "outputs": [
        {
          "output_type": "stream",
          "name": "stdout",
          "text": [
            "['This', 'is', 'a', 'sample', 'sentence', ',', 'showing', 'off', 'the', 'stop', 'words', 'filtration', '.']\n",
            "['This', 'sample', 'sentence', ',', 'showing', 'stop', 'words', 'filtration', '.']\n"
          ]
        }
      ]
    },
    {
      "cell_type": "markdown",
      "source": [
        "***\n",
        "Another form of data pre-processing is 'stemming,' which is what we're going to be talking about next.\n",
        "***"
      ],
      "metadata": {
        "id": "Rx-zk6Z93JZr"
      }
    },
    {
      "cell_type": "markdown",
      "source": [
        "# 3. Stemming"
      ],
      "metadata": {
        "id": "NHtnpfUE4AMY"
      }
    },
    {
      "cell_type": "markdown",
      "source": [
        "***\n",
        "The idea of stemming is a sort of normalizing method. Many variations of words carry the same meaning, other than when tense is involved.\n",
        "\n",
        "The reason why we stem is to shorten the lookup, and normalize sentences.\n",
        "***\n",
        "Consider:\n",
        "\n",
        "- I was taking a ride in the car.\n",
        "- I was riding in the car.\n",
        "\n",
        "This sentence means the same thing. in the car is the same. I was is the same. the ing denotes a clear past-tense in both cases, so is it truly necessary to differentiate between ride and riding, in the case of just trying to figure out the meaning of what this past-tense activity was?\n",
        "\n",
        "No, not really.\n",
        "***\n",
        "\n",
        "This is just one minor example, but **imagine every word in the English language, every possible tense and affix you can put on a word. Having individual dictionary entries per version would be highly redundant and inefficient, especially since, once we convert to numbers, the \"value\" is going to be identical.**\n",
        "***\n",
        "One of the most popular stemming algorithms is the Porter stemmer, which has been around since 1979.\n",
        "***\n",
        "First, we're going to grab and define our stemmer:\n",
        "***"
      ],
      "metadata": {
        "id": "d1snYPRh4DwY"
      }
    },
    {
      "cell_type": "code",
      "source": [
        "from nltk.stem import PorterStemmer\n",
        "from nltk.tokenize import sent_tokenize, word_tokenize\n",
        "\n",
        "ps = PorterStemmer()"
      ],
      "metadata": {
        "id": "D14kZB0l3D24"
      },
      "execution_count": 6,
      "outputs": []
    },
    {
      "cell_type": "markdown",
      "source": [
        "***\n",
        "Now, let's choose some words with a similar stem, like:\n",
        "***"
      ],
      "metadata": {
        "id": "bsYNNdbv4-M9"
      }
    },
    {
      "cell_type": "code",
      "source": [
        "example_words = [\"python\",\"pythoner\",\"pythoning\",\"pythoned\",\"pythonly\"]"
      ],
      "metadata": {
        "id": "oNBRJZJm47HT"
      },
      "execution_count": 7,
      "outputs": []
    },
    {
      "cell_type": "code",
      "source": [
        "for w in example_words:\n",
        "    print(ps.stem(w))"
      ],
      "metadata": {
        "id": "uXA863rA5CIW",
        "colab": {
          "base_uri": "https://localhost:8080/"
        },
        "outputId": "896d2727-30c1-4533-b533-e2355c0fccfb"
      },
      "execution_count": 8,
      "outputs": [
        {
          "output_type": "stream",
          "name": "stdout",
          "text": [
            "python\n",
            "python\n",
            "python\n",
            "python\n",
            "pythonli\n"
          ]
        }
      ]
    },
    {
      "cell_type": "markdown",
      "source": [
        "***\n",
        "Now let's try stemming a typical sentence, rather than some words:\n",
        "***"
      ],
      "metadata": {
        "id": "7SJKEggH5IuN"
      }
    },
    {
      "cell_type": "code",
      "source": [
        "new_text = \"It is important to by very pythonly while you are pythoning with python. All pythoners have pythoned poorly at least once.\""
      ],
      "metadata": {
        "id": "Xg1JNGCD5ExX"
      },
      "execution_count": 9,
      "outputs": []
    },
    {
      "cell_type": "code",
      "source": [
        "words = word_tokenize(new_text)\n",
        "\n",
        "for w in words:\n",
        "    print(ps.stem(w))"
      ],
      "metadata": {
        "id": "7wZJsyhe5MJu",
        "colab": {
          "base_uri": "https://localhost:8080/"
        },
        "outputId": "50659eb8-3e1a-4adb-cd66-b8f0f691ce66"
      },
      "execution_count": 10,
      "outputs": [
        {
          "output_type": "stream",
          "name": "stdout",
          "text": [
            "it\n",
            "is\n",
            "import\n",
            "to\n",
            "by\n",
            "veri\n",
            "pythonli\n",
            "while\n",
            "you\n",
            "are\n",
            "python\n",
            "with\n",
            "python\n",
            ".\n",
            "all\n",
            "python\n",
            "have\n",
            "python\n",
            "poorli\n",
            "at\n",
            "least\n",
            "onc\n",
            ".\n"
          ]
        }
      ]
    },
    {
      "cell_type": "markdown",
      "source": [
        "***\n",
        "Next up, we're going to discuss something a bit more advanced from the NLTK module, Part of Speech tagging, where we can use the NLTK module to identify the parts of speech for each word in a sentence.\n",
        "***"
      ],
      "metadata": {
        "id": "SysZzpEj5Xm9"
      }
    },
    {
      "cell_type": "markdown",
      "source": [
        "# 4. Part of Speech Tagging"
      ],
      "metadata": {
        "id": "YYNHBEvyAQ0Z"
      }
    },
    {
      "cell_type": "markdown",
      "source": [
        "***\n",
        "One of the more powerful aspects of the NLTK module is the Part of Speech tagging that it can do for you. This means **labeling words in a sentence as nouns, adjectives, verbs...etc.** Even more impressive, it also labels by tense, and more. Here's a list of the tags, what they mean, and some examples:\n",
        "***\n",
        "```\n",
        "POS tag list:\n",
        "\n",
        "CC\tcoordinating conjunction\n",
        "CD\tcardinal digit\n",
        "DT\tdeterminer\n",
        "EX\texistential there (like: \"there is\" ... think of it like \"there exists\")\n",
        "FW\tforeign word\n",
        "IN\tpreposition/subordinating conjunction\n",
        "JJ\tadjective\t'big'\n",
        "JJR\tadjective, comparative\t'bigger'\n",
        "JJS\tadjective, superlative\t'biggest'\n",
        "LS\tlist marker\t1)\n",
        "MD\tmodal\tcould, will\n",
        "NN\tnoun, singular 'desk'\n",
        "NNS\tnoun plural\t'desks'\n",
        "NNP\tproper noun, singular\t'Harrison'\n",
        "NNPS\tproper noun, plural\t'Americans'\n",
        "PDT\tpredeterminer\t'all the kids'\n",
        "POS\tpossessive ending\tparent\\'s\n",
        "PRP\tpersonal pronoun\tI, he, she\n",
        "PRP$\tpossessive pronoun\tmy, his, hers\n",
        "RB\tadverb\tvery, silently,\n",
        "RBR\tadverb, comparative\tbetter\n",
        "RBS\tadverb, superlative\tbest\n",
        "RP\tparticle\tgive up\n",
        "TO\tto\tgo 'to' the store.\n",
        "UH\tinterjection\terrrrrrrrm\n",
        "VB\tverb, base form\ttake\n",
        "VBD\tverb, past tense\ttook\n",
        "VBG\tverb, gerund/present participle\ttaking\n",
        "VBN\tverb, past participle\ttaken\n",
        "VBP\tverb, sing. present, non-3d\ttake\n",
        "VBZ\tverb, 3rd person sing. present\ttakes\n",
        "WDT\twh-determiner\twhich\n",
        "WP\twh-pronoun\twho, what\n",
        "WP$\tpossessive wh-pronoun\twhose\n",
        "WRB\twh-abverb\twhere, when\n",
        "```\n",
        "***"
      ],
      "metadata": {
        "id": "m-ev8LL4AUvn"
      }
    },
    {
      "cell_type": "markdown",
      "source": [
        "***\n",
        "How might we use this? While we're at it, we're going to cover a new sentence tokenizer, called the PunktSentenceTokenizer. This tokenizer is capable of unsupervised machine learning, so you can actually train it on any body of text that you use. First, let's get some imports out of the way that we're going to use:\n",
        "***"
      ],
      "metadata": {
        "id": "wFaWLAwdAsHP"
      }
    },
    {
      "cell_type": "code",
      "source": [
        "import nltk\n",
        "from nltk.corpus import state_union\n",
        "from nltk.tokenize import PunktSentenceTokenizer"
      ],
      "metadata": {
        "id": "qj5yhurKAULr"
      },
      "execution_count": 11,
      "outputs": []
    },
    {
      "cell_type": "markdown",
      "source": [
        "***\n",
        "Now, let's create our training and testing data:\n",
        "***"
      ],
      "metadata": {
        "id": "QCWiSCk5Aw3_"
      }
    },
    {
      "cell_type": "code",
      "source": [
        "train_text = state_union.raw(\"2005-GWBush.txt\")\n",
        "sample_text = state_union.raw(\"2006-GWBush.txt\")"
      ],
      "metadata": {
        "id": "xG8ptfghAwVv"
      },
      "execution_count": 12,
      "outputs": []
    },
    {
      "cell_type": "markdown",
      "source": [
        "***\n",
        "One is a State of the Union address from 2005, and the other is from 2006 from past President George W. Bush.\n",
        "\n",
        "Next, we can train the Punkt tokenizer like:\n",
        "***"
      ],
      "metadata": {
        "id": "oXkLlFAeA4LB"
      }
    },
    {
      "cell_type": "code",
      "source": [
        "custom_sent_tokenizer = PunktSentenceTokenizer(train_text)"
      ],
      "metadata": {
        "id": "he37cD9hA0_Z"
      },
      "execution_count": 13,
      "outputs": []
    },
    {
      "cell_type": "markdown",
      "source": [
        "***\n",
        "Then we can actually tokenize, using:\n",
        "***"
      ],
      "metadata": {
        "id": "fmcvaz-FA9kI"
      }
    },
    {
      "cell_type": "code",
      "source": [
        "tokenized = custom_sent_tokenizer.tokenize(sample_text)"
      ],
      "metadata": {
        "id": "rWelgwGOA7f6"
      },
      "execution_count": 14,
      "outputs": []
    },
    {
      "cell_type": "markdown",
      "source": [
        "***\n",
        "Now we can finish up this part of speech tagging script by creating a function that will run through and tag all of the parts of speech per sentence like so:\n",
        "***"
      ],
      "metadata": {
        "id": "tM6CKUJ5BEzw"
      }
    },
    {
      "cell_type": "code",
      "source": [
        "def process_content():\n",
        "    try:\n",
        "        for i in tokenized[:5]:\n",
        "            words = nltk.word_tokenize(i)\n",
        "            tagged = nltk.pos_tag(words)\n",
        "            print(tagged)\n",
        "\n",
        "    except Exception as e:\n",
        "        print(str(e))\n",
        "\n",
        "\n",
        "process_content()"
      ],
      "metadata": {
        "colab": {
          "base_uri": "https://localhost:8080/"
        },
        "id": "sKQodj0mBANs",
        "outputId": "67d26c8b-d49d-4dee-d499-fbde7fcbebab"
      },
      "execution_count": 15,
      "outputs": [
        {
          "output_type": "stream",
          "name": "stdout",
          "text": [
            "[('PRESIDENT', 'NNP'), ('GEORGE', 'NNP'), ('W.', 'NNP'), ('BUSH', 'NNP'), (\"'S\", 'POS'), ('ADDRESS', 'NNP'), ('BEFORE', 'IN'), ('A', 'NNP'), ('JOINT', 'NNP'), ('SESSION', 'NNP'), ('OF', 'IN'), ('THE', 'NNP'), ('CONGRESS', 'NNP'), ('ON', 'NNP'), ('THE', 'NNP'), ('STATE', 'NNP'), ('OF', 'IN'), ('THE', 'NNP'), ('UNION', 'NNP'), ('January', 'NNP'), ('31', 'CD'), (',', ','), ('2006', 'CD'), ('THE', 'NNP'), ('PRESIDENT', 'NNP'), (':', ':'), ('Thank', 'NNP'), ('you', 'PRP'), ('all', 'DT'), ('.', '.')]\n",
            "[('Mr.', 'NNP'), ('Speaker', 'NNP'), (',', ','), ('Vice', 'NNP'), ('President', 'NNP'), ('Cheney', 'NNP'), (',', ','), ('members', 'NNS'), ('of', 'IN'), ('Congress', 'NNP'), (',', ','), ('members', 'NNS'), ('of', 'IN'), ('the', 'DT'), ('Supreme', 'NNP'), ('Court', 'NNP'), ('and', 'CC'), ('diplomatic', 'JJ'), ('corps', 'NN'), (',', ','), ('distinguished', 'JJ'), ('guests', 'NNS'), (',', ','), ('and', 'CC'), ('fellow', 'JJ'), ('citizens', 'NNS'), (':', ':'), ('Today', 'VB'), ('our', 'PRP$'), ('nation', 'NN'), ('lost', 'VBD'), ('a', 'DT'), ('beloved', 'VBN'), (',', ','), ('graceful', 'JJ'), (',', ','), ('courageous', 'JJ'), ('woman', 'NN'), ('who', 'WP'), ('called', 'VBD'), ('America', 'NNP'), ('to', 'TO'), ('its', 'PRP$'), ('founding', 'NN'), ('ideals', 'NNS'), ('and', 'CC'), ('carried', 'VBD'), ('on', 'IN'), ('a', 'DT'), ('noble', 'JJ'), ('dream', 'NN'), ('.', '.')]\n",
            "[('Tonight', 'NN'), ('we', 'PRP'), ('are', 'VBP'), ('comforted', 'VBN'), ('by', 'IN'), ('the', 'DT'), ('hope', 'NN'), ('of', 'IN'), ('a', 'DT'), ('glad', 'JJ'), ('reunion', 'NN'), ('with', 'IN'), ('the', 'DT'), ('husband', 'NN'), ('who', 'WP'), ('was', 'VBD'), ('taken', 'VBN'), ('so', 'RB'), ('long', 'RB'), ('ago', 'RB'), (',', ','), ('and', 'CC'), ('we', 'PRP'), ('are', 'VBP'), ('grateful', 'JJ'), ('for', 'IN'), ('the', 'DT'), ('good', 'JJ'), ('life', 'NN'), ('of', 'IN'), ('Coretta', 'NNP'), ('Scott', 'NNP'), ('King', 'NNP'), ('.', '.')]\n",
            "[('(', '('), ('Applause', 'NNP'), ('.', '.'), (')', ')')]\n",
            "[('President', 'NNP'), ('George', 'NNP'), ('W.', 'NNP'), ('Bush', 'NNP'), ('reacts', 'VBZ'), ('to', 'TO'), ('applause', 'VB'), ('during', 'IN'), ('his', 'PRP$'), ('State', 'NNP'), ('of', 'IN'), ('the', 'DT'), ('Union', 'NNP'), ('Address', 'NNP'), ('at', 'IN'), ('the', 'DT'), ('Capitol', 'NNP'), (',', ','), ('Tuesday', 'NNP'), (',', ','), ('Jan', 'NNP'), ('.', '.')]\n"
          ]
        }
      ]
    },
    {
      "cell_type": "markdown",
      "source": [
        "***\n",
        "The output is a list of tuples, where the first element in the tuple is the word, and the second is the part of speech tag\n",
        "***"
      ],
      "metadata": {
        "id": "PCw0nQ9dBL7e"
      }
    },
    {
      "cell_type": "markdown",
      "source": [
        "***\n",
        "At this point, we can begin to derive meaning, but there is still some work to do. The next topic that we're going to cover is chunking, which is where we group words, based on their parts of speech, into hopefully meaningful groups.\n",
        "***"
      ],
      "metadata": {
        "id": "TshpsuXXBVoe"
      }
    },
    {
      "cell_type": "markdown",
      "source": [
        "# 5. Chunking"
      ],
      "metadata": {
        "id": "vZY9TpPRCHc_"
      }
    },
    {
      "cell_type": "markdown",
      "source": [
        "***\n",
        "Now that we know the parts of speech, we can do what is called **chunking, and group words into hopefully meaningful chunks. One of the main goals of chunking is to group into what are known as \"noun phrases.\" These are phrases of one or more words that contain a noun, maybe some descriptive words, maybe a verb, and maybe something like an adverb. The idea is to group nouns with the words that are in relation to them.**\n",
        "***\n",
        "In order to chunk, we combine the part of speech tags with regular expressions. Mainly from regular expressions, we are going to utilize the following:\n",
        "```\n",
        "+ = match 1 or more\n",
        "? = match 0 or 1 repetitions.\n",
        "* = match 0 or MORE repetitions\t  \n",
        ". = Any character except a new line\n",
        "```\n",
        "***\n",
        "The last things to note is that the part of speech tags are denoted with the \"<\" and \">\" and we can also place regular expressions within the tags themselves, so account for things like \"all nouns\" (<N.*>)\n",
        "***"
      ],
      "metadata": {
        "id": "r4F6wHosCNRf"
      }
    },
    {
      "cell_type": "code",
      "source": [
        "import nltk\n",
        "from nltk.corpus import state_union\n",
        "from nltk.tokenize import PunktSentenceTokenizer\n",
        "\n",
        "train_text = state_union.raw(\"2005-GWBush.txt\")\n",
        "sample_text = state_union.raw(\"2006-GWBush.txt\")\n",
        "\n",
        "custom_sent_tokenizer = PunktSentenceTokenizer(train_text)\n",
        "\n",
        "tokenized = custom_sent_tokenizer.tokenize(sample_text)\n",
        "\n",
        "def process_content():\n",
        "    try:\n",
        "        with open('parse_tree.txt', 'w') as file:\n",
        "            for i in tokenized:\n",
        "                words = nltk.word_tokenize(i)\n",
        "                tagged = nltk.pos_tag(words)\n",
        "                chunkGram = r\"\"\"Chunk: {<RB.?>*<VB.?>*<NNP>+<NN>?}\"\"\"\n",
        "                chunkParser = nltk.RegexpParser(chunkGram)\n",
        "                chunked = chunkParser.parse(tagged)\n",
        "                file.write(str(chunked))\n",
        "                file.write('\\n\\n')\n",
        "\n",
        "    except Exception as e:\n",
        "        print(str(e))\n",
        "\n",
        "process_content()\n"
      ],
      "metadata": {
        "id": "4O_Y0SgJCI4O"
      },
      "execution_count": 16,
      "outputs": []
    },
    {
      "cell_type": "markdown",
      "source": [
        "***\n",
        "The main line here in question is:\n",
        "```\n",
        "chunkGram = r\"\"\"Chunk: {<RB.?>*<VB.?>*<NNP>+<NN>?}\"\"\"\n",
        "```\n",
        "This line, broken down:\n",
        "\n",
        "<RB.?>* = \"0 or more of any tense of adverb,\" followed by:\n",
        "\n",
        "<VB.?>* = \"0 or more of any tense of verb,\" followed by:\n",
        "\n",
        "<NNP>+ = \"One or more proper nouns,\" followed by\n",
        "\n",
        "<NN>? = \"zero or one singular noun.\"\n",
        "***"
      ],
      "metadata": {
        "id": "-xrb03zaESHH"
      }
    },
    {
      "cell_type": "markdown",
      "source": [
        "![image.png](data:image/png;base64,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)"
      ],
      "metadata": {
        "id": "hMcdiu5yGSHH"
      }
    },
    {
      "cell_type": "markdown",
      "source": [
        "***\n",
        "Well, what is happening here is our \"chunked\" variable is an NLTK tree. Each \"chunk\" and \"non chunk\" is a \"subtree\" of the tree. We can reference these by doing something like chunked.subtrees. We can then iterate through these subtrees like so:\n",
        "***"
      ],
      "metadata": {
        "id": "NcRomh1OEiCm"
      }
    },
    {
      "cell_type": "code",
      "source": [
        "import nltk\n",
        "from nltk.corpus import state_union\n",
        "from nltk.tokenize import PunktSentenceTokenizer\n",
        "\n",
        "train_text = state_union.raw(\"2005-GWBush.txt\")\n",
        "sample_text = state_union.raw(\"2006-GWBush.txt\")\n",
        "\n",
        "custom_sent_tokenizer = PunktSentenceTokenizer(train_text)\n",
        "\n",
        "tokenized = custom_sent_tokenizer.tokenize(sample_text)\n",
        "\n",
        "def process_content():\n",
        "    try:\n",
        "        for i in tokenized:\n",
        "            words = nltk.word_tokenize(i)\n",
        "            tagged = nltk.pos_tag(words)\n",
        "            chunkGram = r\"\"\"Chunk: {<RB.?>*<VB.?>*<NNP>+<NN>?}\"\"\"\n",
        "            chunkParser = nltk.RegexpParser(chunkGram)\n",
        "            chunked = chunkParser.parse(tagged)\n",
        "\n",
        "            print(chunked)\n",
        "            for subtree in chunked.subtrees(filter=lambda t: t.label() == 'Chunk'):\n",
        "                print(subtree)\n",
        "\n",
        "            chunked.draw()\n",
        "\n",
        "    except Exception as e:\n",
        "        print(str(e))\n",
        "\n",
        "process_content()"
      ],
      "metadata": {
        "colab": {
          "base_uri": "https://localhost:8080/"
        },
        "id": "l8O_uEvfD6_a",
        "outputId": "df859970-5e45-410b-edcb-91ca4a418af0"
      },
      "execution_count": 17,
      "outputs": [
        {
          "output_type": "stream",
          "name": "stdout",
          "text": [
            "(S\n",
            "  (Chunk PRESIDENT/NNP GEORGE/NNP W./NNP BUSH/NNP)\n",
            "  'S/POS\n",
            "  (Chunk ADDRESS/NNP)\n",
            "  BEFORE/IN\n",
            "  (Chunk A/NNP JOINT/NNP SESSION/NNP)\n",
            "  OF/IN\n",
            "  (Chunk THE/NNP CONGRESS/NNP ON/NNP THE/NNP STATE/NNP)\n",
            "  OF/IN\n",
            "  (Chunk THE/NNP UNION/NNP January/NNP)\n",
            "  31/CD\n",
            "  ,/,\n",
            "  2006/CD\n",
            "  (Chunk THE/NNP PRESIDENT/NNP)\n",
            "  :/:\n",
            "  (Chunk Thank/NNP)\n",
            "  you/PRP\n",
            "  all/DT\n",
            "  ./.)\n",
            "(Chunk PRESIDENT/NNP GEORGE/NNP W./NNP BUSH/NNP)\n",
            "(Chunk ADDRESS/NNP)\n",
            "(Chunk A/NNP JOINT/NNP SESSION/NNP)\n",
            "(Chunk THE/NNP CONGRESS/NNP ON/NNP THE/NNP STATE/NNP)\n",
            "(Chunk THE/NNP UNION/NNP January/NNP)\n",
            "(Chunk THE/NNP PRESIDENT/NNP)\n",
            "(Chunk Thank/NNP)\n",
            "no display name and no $DISPLAY environment variable\n"
          ]
        }
      ]
    },
    {
      "cell_type": "markdown",
      "source": [
        "***\n",
        "If you get particular enough, you may find that you may be better off if there was a way to chunk everything, except some stuff. This process is what is known as chinking, and that's what we're going to be covering next.\n",
        "***"
      ],
      "metadata": {
        "id": "b82doolCE-ef"
      }
    },
    {
      "cell_type": "markdown",
      "source": [
        "# 6. Chinking"
      ],
      "metadata": {
        "id": "fiNmPanGFtf0"
      }
    },
    {
      "cell_type": "markdown",
      "source": [
        "You may find that, after a lot of chunking, you have some words in your chunk you still do not want, but you have no idea how to get rid of them by chunking. You may find that chinking is your solution.\n",
        "\n",
        "Chinking is a lot like chunking, it is basically a way for you to remove a chunk from a chunk. The chunk that you remove from your chunk is your chink.\n",
        "\n",
        "The code is very similar, you just denote the chink, after the chunk, with }{ instead of the chunk's {}."
      ],
      "metadata": {
        "id": "rUgxOPtnFx6z"
      }
    },
    {
      "cell_type": "code",
      "source": [
        "import nltk\n",
        "from nltk.corpus import state_union\n",
        "from nltk.tokenize import PunktSentenceTokenizer\n",
        "\n",
        "train_text = state_union.raw(\"2005-GWBush.txt\")\n",
        "sample_text = state_union.raw(\"2006-GWBush.txt\")\n",
        "\n",
        "custom_sent_tokenizer = PunktSentenceTokenizer(train_text)\n",
        "\n",
        "tokenized = custom_sent_tokenizer.tokenize(sample_text)\n",
        "\n",
        "def process_content():\n",
        "    try:\n",
        "        for i in tokenized[5:]:\n",
        "            words = nltk.word_tokenize(i)\n",
        "            tagged = nltk.pos_tag(words)\n",
        "\n",
        "            chunkGram = r\"\"\"Chunk: {<.*>+}\n",
        "                                    }<VB.?|IN|DT|TO>+{\"\"\"\n",
        "\n",
        "            chunkParser = nltk.RegexpParser(chunkGram)\n",
        "            chunked = chunkParser.parse(tagged)\n",
        "\n",
        "            chunked.draw()\n",
        "\n",
        "    except Exception as e:\n",
        "        print(str(e))\n",
        "\n",
        "process_content()"
      ],
      "metadata": {
        "id": "VfrUTEnlEpAi",
        "colab": {
          "base_uri": "https://localhost:8080/"
        },
        "outputId": "f65fecfb-f404-4a0a-a52f-089acc64fc67"
      },
      "execution_count": 18,
      "outputs": [
        {
          "output_type": "stream",
          "name": "stdout",
          "text": [
            "no display name and no $DISPLAY environment variable\n"
          ]
        }
      ]
    },
    {
      "cell_type": "markdown",
      "source": [
        "With this, you are given something like:\n",
        "\n",
        "![image.png](data:image/png;base64,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)"
      ],
      "metadata": {
        "id": "l-k-kUU7F7u1"
      }
    },
    {
      "cell_type": "markdown",
      "source": [
        "***\n",
        "Now, the main difference here is:\n",
        "\n",
        "}<VB.?|IN|DT|TO>+{\n",
        "This means we're removing from the chink one or more verbs, prepositions, determiners, or the word 'to'.\n",
        "\n",
        "Now that we've learned how to do some custom forms of chunking, and chinking, let's discuss a built-in form of chunking that comes with NLTK, and that is named entity recognition.\n",
        "***"
      ],
      "metadata": {
        "id": "8_Hw_xVFGHj9"
      }
    },
    {
      "cell_type": "markdown",
      "source": [
        "# 7. Named Entity Recognition"
      ],
      "metadata": {
        "id": "tMZUhk3IGZU7"
      }
    },
    {
      "cell_type": "markdown",
      "source": [
        "***\n",
        "One of the most major forms of chunking in natural language processing is called **\"Named Entity Recognition.\" The idea is to have the machine immediately be able to pull out \"entities\" like people, places, things, locations, monetary figures, and more.**\n",
        "***\n",
        "This can be a bit of a challenge, but NLTK is this built in for us. There are two major options with NLTK's named entity recognition: either recognize all named entities, or recognize named entities as their respective type, like people, places, locations, etc.\n",
        "***\n",
        "Here's an example:\n",
        "***"
      ],
      "metadata": {
        "id": "wa1xT37gGbgU"
      }
    },
    {
      "cell_type": "code",
      "source": [
        "import nltk\n",
        "from nltk.corpus import state_union\n",
        "from nltk.tokenize import PunktSentenceTokenizer\n",
        "\n",
        "train_text = state_union.raw(\"2005-GWBush.txt\")\n",
        "sample_text = state_union.raw(\"2006-GWBush.txt\")\n",
        "\n",
        "custom_sent_tokenizer = PunktSentenceTokenizer(train_text)\n",
        "\n",
        "tokenized = custom_sent_tokenizer.tokenize(sample_text)\n",
        "\n",
        "def process_content():\n",
        "    try:\n",
        "        for i in tokenized[5:]:\n",
        "            words = nltk.word_tokenize(i)\n",
        "            tagged = nltk.pos_tag(words)\n",
        "            namedEnt = nltk.ne_chunk(tagged, binary=True)\n",
        "            namedEnt.draw()\n",
        "    except Exception as e:\n",
        "        print(str(e))\n",
        "\n",
        "\n",
        "process_content()"
      ],
      "metadata": {
        "colab": {
          "base_uri": "https://localhost:8080/"
        },
        "id": "IrhuyGGCF5Pp",
        "outputId": "4b057763-fc21-4b86-8597-3a89a2e5391a"
      },
      "execution_count": 19,
      "outputs": [
        {
          "output_type": "stream",
          "name": "stdout",
          "text": [
            "no display name and no $DISPLAY environment variable\n"
          ]
        }
      ]
    },
    {
      "cell_type": "markdown",
      "source": [
        "***\n",
        "Here, with the option of binary = True, this means either something is a named entity, or not. There will be no further detail. The result is:\n",
        "***\n",
        "![image.png](data:image/png;base64,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)\n",
        "***\n",
        "If you set binary = False, then the result is:\n",
        "![image.png](data:image/png;base64,iVBORw0KGgoAAAANSUhEUgAAAxgAAAFbCAIAAADZTL/YAAAgAElEQVR4Aey9eXQU173v2/nzvfXuuu+8ddY9d61z38l5N48kvsEniTnGcXxPbN5JHNuxHWOCjOMhyNjEBN8TxwOxIbYlsCXADMYgcGyJGQJIgGwESEKAQAMgRGuep5bUklpTq1stqSW1qvqtqt21a9fQU6klpO5vr9+Sdu/a46d2VX37t3fvNnnxAgEQAAEQAAEQAAEQMETAZCgXMoEACIAACIAACIAACHghpDAIQAAEQAAEQAAEQMAgAQgpg+CQDQRAAARAAARAAAQgpDAGQAAEQAAEQAAEQMAgAQgpg+CQDQRAAARAAARAAAQgpDAGQAAEQAAEQAAEQMAgAQgpg+CQDQRAAARAAARAAAQgpDAGQAAEQAAEQAAEQMAgAQgpg+CQDQRAAARAAARAAAQgpDAGQAAEQAAEQAAEQMAgAQgpg+CQDQRAAARAAARAAAQgpDAGQAAEQAAEQAAEQMAgAQgpg+CQDQRAAARAAARAAAQgpDAGQAAEQAAEQAAEQMAggRkRUrzyxeEFAiAAAiAAAiAAApEmoJQbvEEpNL1skRFSqp6QtxTX1NSUBy8QAAEQAAEQAAEQiByBqakpqjR0dcj0BFKouacrpFRN5zhuSnp5PJ5J8TUxMTGOFwiAAAiAAAiAAAhEjsDExASRGR6PR5IegrRSKZNQBZHRdMaFFNtQqp+I0JycnCTiye12j4mvUfE1MjLiwgsEQAAEQAAEQAAEjBIYGRkhooIIDLfbPT4+TkQVESFEVKkUlVGZFDyfQSFFVRQroVT6aUR8DYsvh/QawgsEQAAEQAAEQAAEjBKQBIWDCAwiNsbGxlSKSiungmsiQymMCCmViiJTeBMTE8T/RNxOTqfT4XDY7fbBwcF+8dXX19crvmx4gQAIgAAIgAAIgED4BIiQ6OvrI9JicHDQbrc7HA6n0+lyuUZGRoiiog4qso6K6hZDSilIprCFFG0N8UV5PB4yizc2NjYyMjI8POxwOIaGhgYGBvr7+3t7e3t6erq6uqziq0N6tbe3S0H8BwEQAAEQAAEQAIEwCBBR0dXV1dPT09vb29/fPzAwMDQ05HAIbioip8h8H1k+xU7zBZFF4R8OT0jpqijqiHI6nXa7fWBgoLe3t7u722q1dnR0WCyW1tbWZvHVKL0aGhqkIP6DAAiAAAiAAAiAQBgEiKhobW21WCwdHR1Wq7W7u7u3t3dgYMButzudTtY1NdNayoiQor6oycnJ8fHx0dFRl8vlcDiohOrs7LRYLC0tLY2NjfX19bW1tdXV1VVVVZWVlRXiq6ysjATwFwRAAARAAARAAARCJ1BZWVlVVVVdXV1bW1tfX9/Y2NjS0mKxWDo7O6mccjgcLpdrdHR0fHx8cnJSpaXC9zoFyhGGkCLuKK2KGh4eJnN5NpvNarW2tbU1NjbW1NRUVFTcuXOnpKSkuLi4sLCwoKDg+vXr165dy8cLBEAABEAABEAABMIncO3atevXrxcWFt64caOkpMRsNldUVNTU1NTX1zc3N1ssFqvVarPZyEzf8PDwLGipsIUU2V2T+qKIiurv7+/u7m5vb29qaqqpqSktLS0qKrpy5Up2dnZWVlZmZuaZM2dOnz6dnp5+6tSpk3iBAAiAAAiAAAiAQPgETp06lZGRcfbs2XPnzmVnZ1+9erWoqKikpKSsrKy6urqhoaGlpaWjo6O7u7u/v39oaEirpYhXKJCLKcxjBoXU+Pj42NiYy+UaGhoiKspisTQ0NJSXlxcWFubk5Jw5c+bIkSOpqan79u3bvXv3rl27Pvvssx07dmzfvn0bXiAAAiAAAiAAAiAQPoHt27fv3Llz9+7dX3zxxcGDB0+ePHnu3Lm8vLzCwsLbt2+Xl5fX1tY2NTW1t7dTLeVyucbGxsbHx8kE31wRUhMTE2NjY+Q7elRI1dfXFxcXZ2VlHTp0aMeOHe+9996ChYtgIAACIAACIAACIBBZAm+88cZHH320b9++48ePnzt37sqVK8XFxXfu3KmqqmpsbGxra+vq6qJOqbGxsYmJiTkkpCYnJ91u98jICFlg3tPT097e3tDQYDabz507l5qa+umnny5YuOiee+/78sCxMY/XoE16x6LCRie9s2Mjk161TXhHQjDXhNeYDU94dWzcOxy+Oce9MBAAARAwcPcQsujdi4Le1jyc93evvKpNFsptU0ijueXSW/3KV16d4oLf+T1T/Cuvrqa/bRKpwJ6UvZEqipSz7z9ei2yB0ynthV/+u4fjvzxw7J5771uwcNHbb7+9c+fOw4cPf/3113l5eUVFRaWlpURLWSyWnp6e/v5+h8MxMjLidrsnJyenpqbuskeK4ziycRRxR9nt9t7e3s7Ozubm5srKyuvXrx88ePDTTz/9h3/8duqh4wOjfPMgX9UbtlXa+CrWmBKqe/npWFUvX0nNxldKVmHjg1gPX6Gx8h4+qJX18DrWzZd182Y9u9PNK6yLv9PFlzJ2u4v3mVUMWPkShXG3rJJ1cjclu9HJCdYhWDFjRR1cUbvPCts5YgXtHLHrFo7aNQvnszbuWhuXz9jVNs5nrdwVpV1u5XzWwuX5sUstnM+auUuM5TZz/iynmdO3Ji5Hz7KbOBgIgECkCOheZUKknwvT34Wcy1zvvmtfuhv4u11cbpFuKcpbzZVW7mqrdCNi7k754v3qWpt0+2LuadctXP8o/+SKVUOjnrZ+NzFLv9tnA24LY+0Dbn0bdLeL1jHo7hgcJ+YY9Tzz/KuDY97b5C4t3rTZ2/gd8cZ+p5sfHOOffXG1fdRjtU8EsqEJq8a6hiZ0bXDE8+lne13jnO5RA5H2EU/KmviB+gbLN5mWbzI7z2VaswTrycq0CXZ2QDR71lmHYKeHs067sk6P+DfVUVfW6eHzpx2CnR06f9Z+/uzA+bP958/aBMvsPp9pFa0zK9NyLrOvovz5Xzwy5BbUxcAon3ro+D/847eJljpy5Mg333xDtNSdO3dqamqampo6OjpsNtvg4ODw8DB1SpE9pcJcBxUoeRhrpOj39cbHx6k7qqurq62trba29ubNmxcuXCC+qNSDx6zOsPVTlSiSfBJKFE+sZqrp5Wv6BKs1atV9vGCkFkmc+XRVAEWl0U9EURmUUD2ChNJVUQr9ROQUo59KqX6iASt/25+EssoS6iaRUKKKUksoSUVpJVQBc7sxIKFk/dTKXfajn/KkO6agopT3U3+3XX+3aV+8RkJF6rGBckAABHQJ6CgqP1qKXKT+Lm3VHYB+uApFTl1WKqqw5FTfiFpIKeQUI6SIqAqspdoFLSXIKceo59caIUU+AKvkVKhCyq4jpIi00gqjmRBSe1avHKits5xJJ9ZxJt16Nt169mTP2ZO2syf7zp4cyBRsKPOkQ7ThzJNhmZDra8GGvj458PXJ/q9P9mWetGWe7M48ac082Xk2veNsukU02507cf8uCCnio7E6+dSDx4hfau/evWSO7/Lly8XFxWazua6ujk7wEacUu0wqkDIK81ioQorneSKk6Ooo4o7q6OhoamqqqKjIz88/efLk2rVr77n3voHRsFWUT9/YhIxUPxHxRJRTXR9f1y9YvSEjeWv7BR1GBJlKVAmKSiun9FRUUAlVruuFkiRUiCqKvd6CqijZCxWChCru4LSOKOqFmqaEukJdUBGVULkB7s4a/URu7rr3fUSCAAhEloCOliKXpJ9r1p+WuiveKSKk7COelr4xaq19YwrrH2sLwSz9Y9QUQopxSmm11OBoaB4p6q/S+KWsGr/U4Ihn8449kfVIff7KC33VNc0njjWfONZ24pjlxLGOU8c6Tx2znjrWc+qYLf1oX/rRAdGGMo46BDsy7N8cGUeczFFHxhFHxtGhjKP2jKMDGUf7M47aROtJP2ZNP9aZfqzj5DHLyWNtJ481nzxmu3Vr+ZL/SYVUVa/gl7rn3vuWLVu2devWtLS0jIyMCxcu5Ofn37p1q7KysrGxkTil7HY7cUrNxOxeeELK4/GQHTidTidZY97W1lZXV3f79u3s7Oz9+/cvWrToywPHmsKc0avuFefyJAml0E+SbGro5xsG+EbJmgb50K1xQMhLrF5UY3X9PBVVRFEReUvllDDTNwMqKsTpvEAqKoAjSprIY71QOnN5/h1RYU3kqWbx5o6EysFEHgiAwCwS8Kul7vZknzDfJy08YFcjCDN94mQfEVIDrsn6bhdrDd0uhfW4GnpcjX6sqcclm83VZHPZRyZ//fyqwTEvWXchTPAp5RS9wxMhNeCaZKcRLf6mEf3Hdwy4qfUPTyRt2+0YnaQxNLBjz6FlcasD2I6UQ6JTjbjWfH/7hyc+f3m5rbyi/nBa4+G05sNpzUfS2o6kWY6kdRxNs4pmO5pmO5rWfzRt4Giq/Wjq0NFUh2h7/ryBVrfnzxscR1O1MQ4xy8DR1IGjaX1H02zH0nqOpVlF6ziWZjma1no0rfmoUGnjkTRrUdGynz3ICqmmQWG91KJFiz788MM9e/YcPXo0MzMzNze3sLDQbDbX1tZSp5TT6RwdHSVLziO7TCoMITU1NcUuM+/r67Narc3NzdXV1cXFxd98882+ffsWLFw0NCa4lEJfGkUTE0cUnbwjzqeGfp94ahoU5kSbB/mWQb7FLlhrCEZSNtuFjER4NQ4qFBUrp2Qt1ctX3iUVRS8wGlAsivIzl0fXQskSqlOxFsrnhRIlFJ3IK5TWQhW0R2gtVIvfiTzqq4/MRB68ULP4mIysAwOlRTEBv4rKj3cqx/86SH+TfZf8LBUQ1k5Jy6dUn/ECTPYRIdXrGK9oH6rUWFX7UFxcXFX7kM86hqo6hqpFi4uLIwH6t6ZjiFq/c1wUUnyJlaNrWFVyitzhiZDqdY439Yw024Jbi20kqPU6xjdt3TU0MqlNuSxudeA5q2Vxq1t7R1TW6xzfteKZntLS2q9S6r5KqRetOTWlOTWlLTXFkprSmZpiTU3pTk2xpe7pS93Tn7pnIHU3MbbGZXGrP3/7PVWMlFLIaEvd05O6x5qaYk1L6UhLsaSltKalNKelNKWm1ItWl5rSeS1/6YP3s0KqupcfGuMXLFy0bt26bdu2paWlpaennz9//urVqyUlJVVVVc3NzZ2dnX19feyS88gukwpbSJHto+x2u81m6+joaGxsrKiouH79ekZGxq5duxYsXDTm8YalolKOnnvs6WUvvf42dUTpSiiqnNqGeEs41jbEtw3xrUOC8Gqx8812SVGJPirioKrtF+b7fK4paYKP1VLGp/OkGT2tL0q9KEq5Iko9naeUUCV6K8plFcUsJyfrouhcHlVRvrk8C+dvLo/9AEc/1V1VLkcIZS3U7EgoeKGi+PGMrs0jAn61lH/vVITlFLO6gFVUunJKEFLPreq2j5Y297N2p7n/TnN/XFyc1+vdtWsXeWtu7hespX/Xrl1erzcuLs7cIrwt05htaJQIqVuCkCLm+1aQyjVFhFTX4GiVZbDKMlhtGaxuD2I17YOBrbN/5MNPtvc5xrTJWBGjq6iWxa2u7RhUmXVg5NNnftlZXGzesaV8x5aKHVsqd2yp+WxL7Web6z/b3PhZcstnya2fJbfvSu7Yldy1K7lbsCSbaLv++BZbqSq8649v2XYl9exK6hYzdoglWHYJpTXvSm7clVy/a3Ptrs01O7dU7txSsXNL+c4trbnZTy/6F1ZIVfXyYx7vgoWL3nzzzaSkpC+++OL48eOZmZmXLl0qLi4uLy9vaGhob2+32Wx2u51sKDU5OXn3hZTT6RwcHOzu7ibzemVlZVevXj1x4sS2bdvCElJFDQO/efG1xT/9SdoN1/0/fZj4onwqSpzCI14oIqGofmp38B2idTr4AEbSkL/tDr7dIcgvoqionCLeqfoBYemVT0v18tXiFwaF9VI9Pr+UcRUlrivXLorSSijVV/MUKsrfXF4nd0tvLs/fivIi/1/KC2U5OXtLUszi+V8LJUuo0NaSB1oI1az/dTzop3n0iEVTY4qAX0UVvncq3OVT1DVFPump7l30Y2F+G9c3wv/quVWdA66Sxj7Bmnx2u6mPqKidO3fG6b127txJtNSd5j6VmZv7ugddTz+/anCUv9Xp+w61P9fUgLhGqqPfVdbSR6y8pS+oVbT0+ay1r0Jj7b3DH3y8rXdoVHuI6hg63UYDRFcti1td2dqnsva+4U+f+veOwoLSzZtKN28yb95UvnlT5dZN1VsTq7cm1m9NbPw0sfnTxNZtiZZtiZ3bEq2idW9LJPbZ/3qT1kvV27K41Z/9rzdJApK+U8xu2ZbYvE0orfHTxPpPE6s/Taz6NLFyy6byLZvMWzaVbtnUfPH8kz/6ga6QWrt2bWJi4u7duw8fPpyRkXHx4sWCgoI7d+7U1dW1trZ2d3cPDg46nc6xsbG7JqToxgejo6NkgZTVam1tbSU/CJOXl3fs2LEtW7aELqQqbfyvn1uZdsOVdsP1i+Smf3/8mVpxOXm9tBaKqKhWO99m97mgiITqdPKdTt7q5DsdXEgmpu9wClpKllPEOyXO9zUM8D4t1cfXkHVajJaapopSOaLUEqpbvbuBQkJ1qb6Xx8uLyrUSSncuT7m1QdAV5bpeKNVtiPVC+ftOzexIKKiomHowo7PzjoBfLWXIOxWunMqTZvoCyKleUUi12RzXqrquVXVdr+q6Xi0YUVH0qR8gEBcXV1TTJVttV1FtV3uv4+nnVw2M8jfFj7v0vk2n+UqkVVMDo/zSF1e32ZyljTbW7jTa7jQFMXOTTdfabM71G7f2DI5ojy6LW+0QX8viVpc12agp4pttZUprszm3PP6z9mv5tzZ+cGvjB7c3fnBn4wdlH39Q8fGGyo831H68of6TDY2fbGhO2tCatKE9aUOHaNakDdR2/uE/aBUOh2NZ3Oqdf/gPepSkbxeztyZtaEwSSqv/RCi58uMN5Z9sKNv0wZ1NH9ze9MGtTR80Zn39xL3f1xVSr7/++ocffrhz5879+/efOHEiKysrPz+/pKSkurq6paXFarX29/ezy6Q4jgtwZsM6FOrUHhFSZKU5+VkYsn1UdXV1SUlJTk7OkSNHkpKSQhRSrIr6l9/u/kVy0y+fXl5U16tSUYwvqvvQUpPJtPxQgyChrA7O6jQnfMuUUMR3DXcfedb0ZEZX1zAvWNP5p0yq128O1XcdXmr6VXpXh6Clyj78lsn0TNZNUUs1DfKCX0pc0l4nbqxAtFSVOMFXEWynKJ09oshX9vT2OFCrqGBzef52N9BZERVsLs+YhFJN5MmOKD/LFAzsaAAv1Lx7OqLBIBAuAb+Kaua9U4KckhSV6jPh1VaOCKmqlp5vbjRRC11FkWdtXFzchVtN1C7eaqpt66FCityuGS2lWDVFhNSdxu5TVyq19oc/baQeI93A2j9tPH218nS+wm5UW15/56P69r4z+ZUqWxa32ia+lsWtZg+p469VnmHsZo3lL9/5+6pjR9Iff/jM4w+ffeLhb554+PwTD1984me5T/7s8pP/du3Jh4qeeqj46YdKnn7I/PRD5U8/VKm05GXLaBU2m21Z3OrkZcvYNBVixlKxhOKnH7r+1EP5Tz50+cl/y33yZxef+Nm5Xz389a8ePvurh8888XDJZ9sf+vv/Q1dIvfbaaxs2bNi+fftXX311/Pjxb7755vLlyzdv3qyqqmpqaiLLpIaGhshvGHs8nrsvpPr6+jo7O5uamiorK2/dupWdnX348OFPPvkkFCFVaeNvW0YXPfBg2g3Xt/9t1S+Sm/7n8neeWLqCTOqR7+UJi8rFteRkRq/dQYSUyZRUJqoorstpThSFVPdw99FnTU9ldHUP86zlbf6WKbmse5i3OjmrUxBST6Z3dTj57ORvmZ7JuiWumvLN8YnTiA39PCukyFYIgYWUvooKRUJ1K/bYVHuh1I4oaYPNMLc20C6HUn8pT9qqjjqiqNNbJaFkL1RQCTWTs3hwQYX7AEN6EJg7BPzKqYg6qPy5yamcYvedIkIqv7TucG7F4dyKI5LFxcXVhPaKi4s7nldx/HLF3xi7fqeOCKkbzNSB4J2S1rbSmT5BSL2w+nad9XheObW/5ZUT086Iqdwky+JWn7xcfkppRVVtr/3pg1pLryr+1OXyZXGrO8WXVpbR+PTL5YJdke1GVdv6b//nysMHT/z7g+n//mDGzx88+/MHv/n5g1k//0n2oz+59OgDVx+9v+CX9xc+dv/Nx+4vfex+82P3lzOWvHQprZfU0tnZKWippUtpsjIxY4lYQuFj9+f/8v4rj95/6dEHsh/9SdbPf5L58wfP/OLBjF88mP7zB29u3/Lg3/1vukLq1Vdfff/997du3frXv/6VfHcvLy/vxo0bFRUVjY2Nc0tIjYyMkB2k2tvbyUrzGzduXLhw4eDBgx9//HFgIUU3anpq+UtkUs9kMv0iuekHP1zkc0eJ39HTLo3qEIXUk0nbnzSZPiriupxUSHHdw12ikLJ2DXOsXRKElFmIoULqlNWcEWcybc+W1ksJQmqQb5KElLDwvI+vJTt2Eo+UuAmC7uzeTKmoEBaV+7Yp191jU5zLU0soP1/Ko/opX/qG8NW2sLcmxyze3HlQoSUgMPcJzI6cCvTlPmk1+hXJI3X+ujn1QlnaRZ/tv1i2/2IZ0VKJiYnL9V6JiYk1NTVxcXGHcsoO5ZQdJpZbdkS07AIzFVLkdk2nEZSrpjgipErqrH+7VPG3PLUti1ttD/gShVTFycsVpxgrrmpb7RNSQnw6Y8KX8gK+lsWtltNfqUgXTRBS//x/Vh05dOrnD2X8/KHTv3go89GHzj36UNajP83+5U/zfvmTq489UPj4A0VPPHDriQdKn3jA/MQD5ZIlL32WrVQVTl76LElZJma8/cQDN594oPCJB/Iff+DKLx+49MufZP/yp1mP/vTrRx86+6hQb8YvHrq1Y8uD/9f/riukVq1a9d57723ZsmXfvn2HDx8+c+ZMbm5uUVGRar35yMgI2ZbzbnqkXC4X+coe+X298vLy4uLi8+fPHzhwYNOmTQGEFFVR52823XPvD9NuuIiK+kVy0+PPPFfXJ+y0SXaKokKKrI5qH+I7HN3EpVSWvty0NKtMcD4Rj5QspLqHOdZEj5S526euxOm/Z35jMi0/WK9cKaURUsLX98TtGyrJ78ZoZvf0JZT47TzViiiz6vdeAjuiNIvKfV/NU36moT/2oruofDoSKlwvFCTU3H9ooYUgMDcJzBE5ZRPXSAlC6rxgaefNaRdkI1pq48aN+y+Y91/02YGL5o0bNxIVdTDbfDDbfIi1HPOhHDMVUsXir3KptBRdOFVi5QZGuaUvrC6p7fpbXuUJjS2LW20N+FoWt/rU5Upq6Zcr069UFlVZVr/9UV17f/oV4S2xjCuVGVcql8Wtbgz4Wha3+vSVStmuVp6+WllcbXn/O39f9bdjGU8uyXh6ydmnl2Q+vSTr10suPrMk95klec8syX9mSeEzS4qfWXLz2SWlzz5iXvZI+bKHibE1Cl6o5ctVMSRZ2bJHSpc9UvKsUELhM0uuP7Pkqlhy9jNLLjwj1JUp1pvx9JLbe7Y/+Pf/yZ+Q+vOf/7x58+a9e/ceOnTo9OnTOTk5hYWFZWVl9fX17Bf35qKQKioqysrK2r9//8aNG/0JKaqiKm3879a8zbqj/vWpP/x/j/1a+2U9usxcXGPuE1Jdw2UJ3xIm8npcZeLUXnAh1e3iu4e7jwhLrISZQbLqXPgGnzh12CLuTSXs2Clu1En2PQ8gpEJXUYFXRMm7Q5GffNGoKJ8TmFFR1BHFSih2m3KVilJP5FnEPeiUv0Llm8vzt6mBn4m8cCVUoJ928bMjFGbx5ubzD60CgcgSiKyi8rf7lO583+UWzjbCP/HcquyiCuKFkv9ml+3PLjuQLfilDoiBg9llrAm+qOwywViPVE7ZEdEu3aggHil6r6Z3b5VrShRSr5XW95y8UnPics1JYldqTor2xjsfa+fg2Jg33vk442qNym7UdLz+dkKdpT8jv4a10/k1723czWbXht/fuPtMfo3KbtZ0vP/d/1qdcfLsc09lrnjqmxVPZa146uKKp7JXPJm34smrL/wq/8XHC198/MaLj99++fHSlx83v/x4uWTJv32e1pL82+fLX35cG1P+8uNlYsbSlx+/+eLjxS8+XvDi4/kvPH7lt7+6tOLJ7BVPXhBr/GaFUHvpFykP/Ze/0xVSr7zyyrp165KTk/fu3Xvw4MGMjIzs7Oy5LqQsFkt9fX1ZWVlQIcWqqEob/4snf0PdUT//pGHhj++vtk2FLKT4rqId3zItP9oUtpB6MlmYGfxVele7uA2VSkj5NpQSf0DGn5DSV1Gh/fYw3WBTvSLKn4TSWxFFL0sSCLA7lFpFKX9p2PBaKF0JFeA3HwJJKP87GkBFRfZZhdJAYC4TMKalAuw+pf5+n/Sznlo5ZXMJQurK7VpdtXQwp4wYUUvyFJ44kUc0k++vOKN3NLeM2LXS2qdWrOof5VV3bK1ramCUe27Vf5TUtJ+53piR30DsdH6DYNdkO3OtQWHXG84wdvZ6A2u3artff2djQ8dg5vUGlX19vcGAldR2f/A//qn2m7PnXn0+69XnL7z6fParz+etfj7v98/n//7566+vKHx9xY3XV5SsXVG69rnytcvL31he+cbyav9WpTxU9YaQpfyN5aVrnytd+9zNP6woFsvMf33F1d8LtVxa/fxFsd4Lr79kPnLg4f/6XwILqZSUFCqkCgoKyI/uWSyWnp4espXUHPJIhSKkVBKKvH3s189RIfWjx9asfnO9sPFBaFN7VgfXNcyL03bbxW/tBfdIiQunxKm9U9ZOQYSZPigQ95SSPFJN7M6c/oWUrorSzuWpp/PEX/mmKkrhiCLfgFUuiiKOKPqphQSEy0/5vTxBQim3Kaffy1NLKNERpbMcKhJeKIMSCl4o7EsOAiCgIWBMUQW4CykcVHpyqts5tfJPiQUVredvtZy6Vnc0r+poXmRqpaMAACAASURBVNUxxo7nVR2/LNjfVHal6m+inbhSRezklaqTV6rOFNTl3G4prmx99e3EXtcUuVGzcupGB8euQO8f5V790wc3yhuzS9q/KW6jdq64zWc32s5JlnWjjdj5G20B7E5D39o/JzVbnRdutmnt4s22cM3c2PfBDxc0Zl/MfWvNpbfW5L0tWP47r19/5/XCd14vXvf7kvd+X/re78vee618/WtVG16r3vBa9V9eq/NvtcpDtX8R0ldvELKXr3/NLJZW8t7vi9f9vvCd1/NFI5Ve/cu7pRmnf/29/z40Jvw2Lt36m2zISTxSSUlJc11Iud1uukZKJaTS0tISExPZqT1dFVVp45949rder5cskPrx4oeqbJwspAIvNk/v6hQ2PuCsjb49DhKKuK7hLnH7g5AWm3c6+DvpcSbT8gP1wtQemddTCynNYnNdCVXWw2tVlGI6TymhgjmipD2imLk8ulM5ex1q5/Igoebyp220DQRAICwCsymnWgenth06vz7p85IGW9atllP5tbqWnl+bfk2wDJVdr80Q7fT1WmI5t1vuNNk+2Pz5riPnO4amishOfsqPwcLCqU6fnLI6+e2p6Zu27y1vsV+p6Mkxd2eXdlHLKe0S7I5suXe61GbuypXskrnrkrmrstX+5oatbbaRS+auPKN22dxFrbrNnrj4fzRfuZz/4Z/zP/rz9Y/eLUx4tzjh3Zsb37298d3STe+Wf/xu5cfvVCe9U5v8Tv3mt+s3v920+U/N4Vj95j/Vb367Nvnt6uR3qj5+p1wwoeTbG9+9mSBUV7jp/RtbN1X97ejJv6ZtevEFIqSoliJCKj4+ft26dURIHThwID09nezJqfVIud3uu7n9QehCyp+KqrTxP7r/p8t/t8pkMv2n//x3xy/eqO4Vfp5FtRun7vYHT6Z3kX04rU6uLGO5ySTsI0W2P5B3jvItRSdeK+X2B6fIPlLdB8UtqfbX+X6Aj/ykse8re8xKc2GxOdkUSvs36HReABWlnssTfo9J64jyzakrr0DVXB6VUPRnXtg9yiPmhQptR4NAs3j+XVCYxQvrGYPEIBAjBALJKUPbJSi8U80cWaVQ0jnV0O369Yuvr0/6vKisrr5nVGUNPaMKs4022EYb/ViTbfRGWd0HyZ8/+9LrzTZXWc8UWbeqK6eIa6qyl6u19C7/3ZoPN39+s6Khrd/d0jsmmrulV99ae91q63O3StbW527rc7+36bOhEQ8JT+evpc9NbOu//aivsbn5Ylbrxay2i+cs2YJ1ZJ/rzD5nzRXMlve1Le/rvryv+0UbyPs6XOsXs5Nyei59LRQrlk/qsuTllGadO7o75al772ns6GsZFDxSxOhPxESXkJr00h7qBk5frfjeD35oMpne3JBUJbp/anpFIeVndk/aSkr8ZRhxm3JhQ3NhU4OQrNMpboDu9P2wDF0gxe594G+BVLlWQuk5osKdzmP3tw1DQjFzeVoJdd3C+VSU7nKomZzIg4SKkWcbugkCs0xgZuWUONlX0Opu6HZtO3R+5Z8Sn3hula796rlVAezJ51YJtkKwVW8lfnbkfLPNdcvipndpWU6JSzLYGYYbHdwd63hr38ieYxdeX7fpmRdeo7b0hdVqe3H1UsmefXF1APvNC69Gypa/8OryF16N/95/e+b/9dnSBf9t6Xf/72Xf/adl3/v2b77/7eX3/PPyH/z3uB9857mF33nu3gUr/mXBb//lu7/94fdE+/4LP/z+b6n9yBde8cPvP//D7/+Webvih99/7offi/uX7y2/97u/Wbhg2Q++8+wPvrP0nv/+zPf/n6e/989PffefnvruP7226J7P41/oHBits02opMXYpPBbe7ElpCptfHHjkMlkqhLnOKuJltI4pXR/Ikb4Bh/5yZcQfx/GwXUIKQUVJfxEjLTM3KeiBnnyfb36fkHJqTY+KLfxWiEVZDpP85MvqkVRrIQK0RHldzmUhVMvh9KVUMqtoYJurelbTj6TXqhZvhejOhAAgflOIJCiCn97dJV36lbnVOvgVLdzyubidWyEt4nWO8JrrW+EZ802PNU+NGXuniI35wILR+QU/Uq14J1SyqkbHVxVr7DfYf+obAOjws4IovEDo/o2OMorbIwfDGj2MX4u2NAYPx1rscu+KCqnYlRIlXa4fUJK0lI1ehN8dEMpYZdz8SeHLUO+n8wTfo3YGcyknzduH1JLKLoPp8oXJXxfT9w+iqgohZCK5HRepOfylBJK3mBT1xEVeFMDSCjNGtj5/hBC+0EgOgjMqJwinyG13+zz9yMzV1s58vVndhHFNfFWTCYHVFqqQPrZ+AAzfew6dLoTOt0G3fcLfVaefj6nX2MqFReT3Oni2XW62o/9Zd287pJf3U2nVZEVPcJaF7WR3RbD/EsFUKQCMSqkKm38ln3HhJVi0sJ7YaWUSkuJC88bB/gm8aeFm8WfxmuVFBWZ77OIHqbAf9vEnz0WMpJ9zOkOnAPCFqB1jC+KqqgKG69yR2lHpOHpPDKXd4tZVO5bDqX8ah5dDlUkXX4+R7HkiAp9OVQEvVCYxYuOBxJ6AQLzl0AgORX+8imVdyoUOcX+yIxfOSWttVDJKXmaT7MOnayaouvQyVe2mZ3QeTKhcZt83ZtsQCj+pXJKEFLBtJQ5GrVU7AopKkVZLUUXntO152S7c2HHc1FOER8VEVUtorTS/zsofCOPWrO466bvp2DEvTephBJm9MjX9CRflDEVRYey9tt5zHSe9FtLWhUVyqJySUIZWw6l+0lLO5Hn77vEkFDz98GDloNA9BGIrJzS3XpK955JP5eyP4GslVNa19R1C6ea6QvRNcVoKcUPHlO/1O0uxY+3xqCWgpASd4OQXFO+9VKia4p8la9WdBoJ23UOCNYgmvDDxoN+TPzhPPLLx+zfhn7B/6TQT/4llDyjF7npPOqIUvuilBJK2N2A+b08ulxR/b085Vxe4A3KdW8HMy2hou/GjR6BAAjMQQKBFNU0l0+Jq9F175+G5RTVUqqZPnYFOv1hGbqhoKClpN88pp/MVa4p9sN8KK4pw9N86tk9Ot8X5gRfhZieulSmE4CQkr7BSLSUtGSKfJtP0FXiGnCVqKoT1RURRoq/fXy9xoTfIZasRlpRThSbsJ2X9OPEdFEUVVGhTOexY5f9fECGuDTiQ3ZEEWdvOHN5gSTUtNdC+fVCYTsDrKMCARCYSwQCySn/8326DngDk33BvVOhzfSxcorO9CnklLhXDl01pdJSMeuagpBSrMAXpvnI5hC9fKX4y8Fk61Kie6r7ZF1FJJHiL1llpfzryyhO3pEffqHiiehfOpFHFtb5FuLpOaK0i6ICqChJQkl7RImfJ+j1QGbB2WuGrogiM+jUEaX9Xh67sFGroujnpMt6KipEL5Rf/YQfdZlLT4456BtAk0DgrhMIpKjCdFApFJUf79TlFo7edamc0s705WsWoQszfe2K7/Tpz/RJW3fKS6ZE1xTVUr4V6HpLpnwr0LvlFei63gFd15RqpbnuW33X1N3wS0FIKYQU8fWpPX6iqGJ1Fd0YXg5QhxYT0HUVylX0CLsbUP+T/F0GPRXFfhXiTrdiQnqajii6u0FYi8q1EupKq3Q9T0NC5fq/0QS4Pd31WycaAAIgAAIsgQD3K38fFHW9UyGunaJyimqpK62cVk4JC6dCcU1p9kfwvwLdt2oqiGuK0VJ39B5wulqqTHpE6qooEhlBLVUhbbCp++AOHBkTQsrm4vtHghu7G0co4VDKJGl0S9PuCCLEuHRMZ2cR3e1Ghvke2bieYcG6NdblFLYM0TXVFqPCVqLEmE2zOsSdsfT/DnHtIZhliAvP7JzFj7XZORgIgAAIzE0C/m5cQnyYt8FQbq0dQ8K2hf5M2EeamnRvV93zdZ8LJFL7KCGPGPGv79FjG9bbB0vvaaX7pNN9Juo+PWcuMpTHus2l8L9U2vjoF1I2F7//xNcvvbEeBgIgAAIgAAIgAALTIbD/xNcqLRX9Qqp/hH/pjfU874WBAAiAAAiAAAiAwHQIvPTG+v4RhVMqVoQUx/NTHAwEQAAEQAAEQAAEDBLgeME1E6NCatLDjY1PwUAABEAABEAABEDAGIFJDxe7Qmp8cmp4dBIGAiAAAiAAAiAAAsYIjE9Oxa6Qco9PDQ1PwEAABEAABEAABEDAGAH3eAwLKdfopG1gTGOZL5nk179+XGUr2fqvpp9sLBmzDWS+5Atoc4Uac/Pjn8ilk9DLmZo2hFoaMoIACIAACIAACNxFAq7RyZfWxuoaqeGRya6+UY2dfdH0k4Rb2vjRrr4Ah3TTB4v82ysm0ytHdNoQLCOygAAIgAAIgAAIzAECwyMxLKR6B8aqmwY1dnK56f4/52njB6ubAhzSTR848uRyk2l5auA0OAoCIAACIAACIDB3CfQOjMWuR0oUUvbqJpWdEoUUG0ljaMBenZf0I98U3e/2qUtg8/oNX9hwv2nFKbl2uUDT8lQpl06k2IZUX+3LU+1COeLrRxvuyKUZahKygwAIgAAIgAAIhEWgd2DsxRic2usTN+TsG3TXtgxp7FScTyEJ/+LShmpbTsWZ7n//im5gqDZt5Y8/MGsK0RarjLmS9GNfmSReqFSsa6hWPuQ30nRfUnaLULXJZPLVLoRX/lWnO8p6kQAEQAAEQAAEQCByBPoG3S+uXd8XUxtyVth4n5Cyu+taHRpLjzMtfv8qG09jpMDV5B8zYsv0fLqmEDa7Nmx+/z5BAMm5hAJXfik15svnTXH7HXW6ka1SG4TE/sLaGhEDAiAAAiAAAiAQeQJ9dp+QYn/kOGp3Nq+w8cSIkOq3uxvaHBpLf860eH0+G09jpEC+oHu+0snL5vIbzv1wsem+5Fw2u7LAr543PXfA0aAb2Sa1QcjuL+y3ak1nkRIEQAAEQAAEQMA4gX5GSBGNEbU/WkxVFPVIDQyNN1qcGst4zrR4wzU2nsawAdOPPyzT5GVz+QvTQtgEGc+ZTM8dEGOuCSotVWiYv0jaPLYoNsyWjDAIgAAIgAAIgMBMERgYGidTe6zMiE6PFNtD4pEadEw0d7g0dmaFafFfrrPxNIYGXM3Xt9xHZ/deOKMphM2uCKe9QLNJAZJdLpCpXSeSaUOHv7CixtDbhpQgAAIgAAIgAAJhERh0TMSKkKq0yb/M3C8uNrc7J1o7XTAQAAEQAAEQAAEQMEbA7hSEVIz+aLHdOdFmHYGBAAiAAAiAAAiAgDECMS2khoYnLV2jMBAAARAAARAAARAwRmBoeDI2PFIeb2UvT61/lH/pjfWO4cn27jEYCIAACIAACIAACBgj4KBCipEZYx7vgoWL4uPj161bl5SUlJKScuDAgfT09IsXLxYUFJjN5rq6OovF0tPTY7fbXS6X2+32eDwcx3kj9DKFWA7HcR6Px+12u1wuu91us9ksFkt9fX1ZWVlRUVFWVlZaWlpiYuKChYvG9ITUhbxSGAiAAAiAAAiAAAhMh4DPIxX1Qqqql6fm80g58AIBEAABEAABEACBaREgQopqjKpePjo9UmwPIaSmNWSQGQRAAARAAASilEBnmK81a9ZASEXpWEC3QAAEQAAEQAAEwiTQ2dkZ4voir9d78ODBGBJS1b08NXikwhxXSA4CIAACIAACMUGACKkQu8oKKaoxqqN1aq+6j6cGIRXiEEEyEAABEAABEIgpAgaF1KisMar7onSNFFVR1b08hFRMXRXoLAiAAAiAAAiESMC4kOqVtVQULjZ3e7w1fXxNr88GyD5SIUJFMhAAARAAARAAgdggYFRIcVRj1PTx7ujbR8rt8db28tQgpGLjckAvQQAEQAAEQCA8Av6ElMlk0hZE10gNjHJUY9T2RquQ6uNrJYOQ0o4GxIAACIAACIAACOgKKZP0UvGRhNT7gpCSNEZt1HqkpB7W9fGDmNpTjQW8BQEQAAEQAAEQcDi0QkoSUb7/LCRdIVUXrUKqro8nVtvHwyPFjgOEQQAEQAAEQAAECAGVkFKpKPKWslIJKao0onONVH0/X9/P14kGjxQdBAiAAAiAAAiAAAhQAiohReN1A5KQWj84yhGBQcRGdAqpBlFIkR5CSOkOCESCAAiAAAiAQIwTMCykiMCo7+cb+qN0sTntYX0/1kjF+GWC7oMACIAACICAPoHpC6n6aBVSDQM8NfsY/9Ib6/URIhYEQAAEQAAEQCBWCRgVUrLGaBiIRo/UuMfbOMBTg5CK1QsE/QYBEAABEACBQASMCSn7qKwxGgf48ejbkHPc420a5KlBSAUaRDgGAiAAAiAAArFKoLOz82A4rzVr1ry4dr19TNYYTYNRKqSaB3lqQ5jai9UrBP0GARAAARAAgQAE1oT/IkKKaozmaBVSLYM8NQipAGMIh0AABEAABEAgZgl0hvkiHqmhMVljtESnkJrytth5akNuLDaP2WsEHQcBEAABEAABvwTIGilvaC+6j5QgpBiZMT7lXbBwUXx8/Lp165KSklJSUg4cOJCenn7x4sWCggKz2VxXV2exWHp6eux2u8vlcrvdHo+H47jQqg2eyhQ8iZiC4ziPx+N2u10ul91ut9lsFoulvr6+rKysqKgoKysrLS0tMTFxwcJF41PeVjtPzQEh5XcI4QAIgAAIgAAIxC4BY4vNHW5ZY7Ta+SgUUhNT3rYhnhqEVOxeIug5CIAACIAACPgnYFhIUY3RNsRPRJ9HamLKaxniqUFI+R9COAICIAACIAACs0rA9Mgjc8FIn40JKadb1hiWqBVSDt4imXMca6Rm9SJBZSAAAiAAArNJYC7oknnXBnKCjAspSWNYHFHqkepw8NQgpGbzekZdIAACIDDfCcw7TYAGGyBARqlBITUua4yOaBVSnU6e2jA8UvP9rob2gwAIzHMCBp5zyAIChgmwl4u/QkgaY0JqeFzWGJ3OaPRITU55rcM8NQgpdkghDAIgEB0E/D0eEA8CAQhoB3+AxJE9pK2ajYlsXaGURmo3LKSoxrAO85PRt9h8csrbNcxTc8EjxY5WhEEABPQIhHLnRRoQiBQBvTGoiItURUHLUdQa7E3Q0gwncDgchvMay0j6akxIucZljdEVnUKK8/a4eMGGBYOQCnZp4DgIzAgBY3e3u5WLILhbtYdY77xoZIh9mQvJwh33s9nmcNvGpp+5ds5oLbTwSLWfFhggYFhIEYFBxMYkF3Ubck5yXl8Ph/luCKkAIwiH5hWBSN1cZq0cXbqzVruxinTbPPuflY01fp7m8sc89PhZ63joTQol5cw1W7f2iFenrSVSVWhLNhYTuD2kTGNCamTc56khYiMap/Y4r83FUxuZwPYHxgZh9OcKfJnNtaMhno+51mxVe6KjF6pORcHbEM9L6Mlmk0norTKQcuY6ErgxEa83QHWRqitAFYYPTadtoVRqWEhRjWFz8VHokfJw3l4XT20UQiqU0RSJNNMZ8Xclr+FO35XWhlhpVHYqxL7P92SGz13oGWcNUehNikjKmetXiM2LeANCqTdSlYZS13TSTKed06k3lLzGhNTohKwxel28J/qm9jyct2+EpzavhdR0xt/s5w1l1IaYZvYbH1aNIfYicLKwaoyRxJTYXewvbcOsBWazs7PWKd2KZq6nutUFiIx4SwLUpT0Uqdq1Jc9czHTaPHOt0pYcejtJXsNCimqMvpEoFVL9Izy12RFSoZ+8sFJqR8mcjQmrX0ETz9lukoYFbX8oCSLbx1BqDJwmsu2Z5rqiiDdm1goMDFn36Ky1bSYq0u2Rv8iZaICqTH9Vq+JVuSL7VlWX9m1kq4tgadqm0pgI1hKpomjb2EC4hRsWUlRj9EerkBoY5amNTWKNVLhDC+lBAARAAARAIPoJGBNSY5M+jTE4yg+ORqlHivSN/IWQiv5LAT0EARAAARAAgfAJGBZSrMyIwjVSU5zXPsZTcwfwSOWcMD2SQG1ljnQSanIXL0kwxeeapQjyPz1Bk1gsQcxYunJJgimhVJHDd7Q1OV7O6Ksu/sTK+ATTkj3JNSSHmF1+qygmlDds2xantfqykI4wfZQPORStkvvucDi03VfGmNP2+FpOu68kaXokQa5ImdehrFeikWumRYlND9Qd6bzIzQgFkL80rWmLExLS/R1l40NMSZMJgSUr2RFBD7HFBgunn1AWEiA9LX9aVYtDUTtmVGOJjFVVJHveHQ4HMyrYARaxkyt205TwCDUF7QCgDB/S1GhKiE+WrjbDpcoZA5y4YIcoBFPCI4tzfbcVuWRtSChQHPk0oE0TVkywFirOToiVapOJteh0VhNvote15lAofMy58aEkkwjVJO9RXqetaYv3pJk1VfsgaOJDrUvIGNr9yuFw0MQ0IDXX/39VR1RvxTKD9cvIiaYNCqmpQqvYMSCE96SR57U5N54eUrSEVqEMGBNS7klZY9jH+KnoW2w+xXmHxnhqQYUUe4snhIUndPyexQpZI8oO7SNcfvwHEFLSeZMTizHiWyI4hBpVDyEpUyj/hScTbS15thFJJ4appmGUh6I7iuwOh073SZlSFXI5qh4JbRVLXnKCShOd0kiXVHmZt4r2aLpDeyo3IxRG/tKEdN2KmUNMSZMJgSXy3Zy9r/lrjF68YSFltGrFSJbPhXIs+VqqjFScEfmQYkjIBVLJzozV8E4uRe1rTc5KlXLV4zmtOHWN0ypMJ3OAMRPkEPtwzVkZiryLeF+CtNDQtaBtpDpG6qw63iE8UMnDVX1IyqJzAuSoMIWUUB0rhnxvVVULb0XlrYp3hNQkuXHhhtTVBcivVk7h98vQiaYtCqOpjFKUsssnXYgRbgjsSZFSKf4bFlJUYwxFq5ByuHlqbo//NVLMw5tBK9z3F6eVCm4k6mHST+n7zB3MIyWVrS6EPmCIO0oWH1KG0P7LTyxfevl5pjpEG5Bzgj6xNHXodZ+UE7+HAJHLpwVKpQiHHklgtKleaSSxKi99q2ozEXaM/2OxthlS7cH+56xMSEj2fV6RHAnidbvyhO/zDfMJRrgIxU825BEV+C1TM70RkEBpgumE5Oqkh5jkQYOCkDqRQD5jkebJ0op86qVF0PKnVbVCSBH3pKDFNedFqFYVSU+i9hBppCr9NE8u7S9LgD479ySsFD62UqeL6hTrDQahHNWJJh/BpaK0NRJ9LH0adjhqkveQoRWonJXUy6h7BnXHTIBzqm6V+llI8TABpnlydrHxub7BJjyBSpmwLzOTkSlOCAZtoW6/VIWo3sptkw6oY6TOquOl9tCGSQWI50jpPZIPySFzbrx4uYXCRMylOJXSMFC3KkB88CYJ1dACxeqS2RuXtgGlxH2lOmWqt6TLUqR41TC3QTL+fc4eeXjTZviAKftl4ET7ypGa4fO6qd76Esn/1M0QLmr6GV5Ipk4gZ6Uhg0LKI2sMhztKPVJURTnc/Hi4Qkq816/MER0zkmdFlg4UPwnITw7l40d9VHwvJ5ZKEWPI9BYjPqSjof3XaRt9XNGAWBR1BogBP7pNr/vS8zJ3pQhErlHdIxGC5LcT6tQtjfRLlVd6KxdOu0974QtomkFTBgmIlyV55glPCPkR6/vUUppA/cPpJ6SPMjSSuSZ1jtKqaTIpoNA9quuc5vIfSD+xRP3BujSBNljxeUuqkd4+DFWtHMlq+Mp5LHpUbD8dYOI7sRylnzXCJ5f2V6YnfbIXDtEnkxSpuLHqDQaHg55Z4aMtUcBsUTo1CqNcEk/yUydIOcHOoM6Jk6oOcMiHQUgpfU6QyWhCUoF0tBCFwfaaCfueTzr9ogVLBQZooc4hml03IJUpH1TFCG91fTz+PVI0i1xogJA4i8SMBC0TKbPOMGDYiqmo1vHXC6ksv/9pRiGgukdpGqBIHOgM0tNKpLNCSOkN76D9CvtE0w7TNjMXo9Aq+bMKTarRSTrJJJ3NZFIFjQmp8VgQUk43Ty2okJKX6YiAxXu9KDLEhwTRN36Vh/T4dziUjx9yruSj4nvVWyFOdEo9wri+SMZw/gZ9OPk6KK560XTH97SjbiTd7ktCqtWctmdxmvDX59BS9kj5HBX6oF8a6Z0yL1lPI+lXunRMTEqf1lJA3YxQcQnPTukeId10mOuWuTuwn2ykx7CcUu8obQNNRgOOnJXUTWJISEltFh7zYthXYPoJ5fOS1kgDRqpWjGT5nIrw5bFE5LIqUuGMlBbbPZJgCvCBRDqnfscYBasNyN2kx/ROKz0oBOi50xsMihkWKSVbixBWLs4Qzyyd/pAC0phha2TLkc6L3zMoJZDHpJxdM5w0raIDRtF11RtaIA2wj0xFmHaHBliSUrlyObotJA9yzSEpt/5/uUzpuBCjOAW+zmri5Uev5lBIfHwVSiNKeMuGWRS+pNLZZ6b5NFUzH4r0eiH10u9/oUD6CdCnjeggUTdAJzHbbGmEyxcF6SO9SRrrl6ETTTtM26xoFdtsmlRPSFH3v5RKumdK7zX/DQspqjGc0eqRYnsYVEgpXUGisvH5VOQniiwdVKdBVgNyYjmJfFSMU70l6XQj5SKCh3Tapnk4+XSe9DxT60K5Dfrdpw85IRCfm64rpMgzlU6GCg33U5pux6U2hNQdVTOCQ/JVya4d8V1g8nXLXJZsJL170kgaEEpl761iLfQoDTikGysTE2qThY9lslqSbgqkUumZRMui5dOAkaplba3wldJBRasTei98LUNchCfmkgYYm0Q4oYKWEsRxhE8u002pRumGqzkkOPZ8y9KlGz3jtpHAim4qefW6xtWhKdZXr8/TQAdDsHJ8w8b/GdSeOKZq3/OSxtCARCGk/zQXDSgGM+0L0UxkEOr1i1Yml6MZ8AEO0ey6ASaj77g2hhxg4wV/s3zVUJ2hW0OwSJYDG5ZGGptfPQyYW4ovmeQgYVvLlhA0TDPSAOtnVTWApqEBQZ3QC+ERHyX5qFC9dC0wTVEVy9boS6XTL/UoZcoLFKSNoQEhNUueya1I4xAcV2ohJTWMyaQKQkhZ6uvry8rKioqKsrKyAWIcqwAAIABJREFU0tLSEhMTFyxcNMV52am98NZIETXAfGXJ92FaesyrzgH1oxj1SLGrrNRlh/pefpj5csiPK/aQ2AXfqi9Vd+hbf91nyklPSBBWKZFFSzSjZo250BR/pZFmynnF9/QtUxdJqNsdRTNIuuB/2XufdGWyl6Icpp/VmKdI4KO0dpqMBoRDYnW+JQs0aUgB5r4m3xSEBRwnpAk+WgytkQaMVK33kUA6m/SLC7462ZMlnkF5WSFtlYBQ+Hqs8ImFTS8mmNbJVXRTLI769hWHhIcH47fQCilpMCg+BEsdYItiw9Jx8b90fn0TEOz4kdIp8wY5g0ImqUytByLQIam6oP9pe2hA8biiTJhLQJcPrUguJ5zG0+y6AUWZYgptDMmojBe/uqV22OjWECyS5cCG2ZsJLaMmeU9Cuk92iJHKVskyRRNPiwgSoBlpQCFrpDGjcoHLifVGpuK0yjcZpiXG+iU1Jiw3vH5TdWlrdaqmd3JpTG+UQWNCyj0Z7Wukxj3epkGeWOOg8B3Fl95Yr0QnvaP3dylCuK0z0xPMW9a5In6wJsnkEvQeP/JRsQLVW1KpbqTUnhD/y/Mv0gPP9zxTPLfELvi+ecd2RwyL3WH6K9Qsv2XLERusFlJipOopK2cXu6F6Kz9cSScZDiF1h21GiJjIpzHykUX3ictcdYpFA6q7UuDJe1oIDZDmCW+ltc+hNlhIJ7hS5CUa7LOB+cwtVyEmmFbVeiNZGleqU6wURuwAYwYPu6Lc4YjkyVV1Uzy/GsGkvNsKWRjnimow6J5ZthY2rDyJ4pNb3ncg8PgRssotYQpSlS+8lcZM6IeY8gIFaYE0EFxIyWvIdJatyOWI1QpvQ2h8oCYqzx1JqaqFZlfHC4JA58Kh6UMNsOKJDes/2tX6WN0qKZc6PtTWyN41tgQmrBiHNJ4GdEe4KjLhEe3Up8F+CfVKYyDELgZrqqIYJjGJVwho8YagWEWqyOx7Y0xI2cf4RklmNA3y4x7vgoWL4uPj161bl5SUlJKScuDAgfT09IsXLxYUFJjN5rq6OovF0tPTY7fbXS6X2+32eDwcx3kj9DKFWA7HcR6Px+12u1wuu91us9ksFn2P1Oik9043f6ebLxXN5gpdSJEnAbMKWxQQ0odsn+BQzHfIj3/x8cO4soRHjnxUPGeqt+Q86kbqne/AccLzSapdftqxAkhyDOh2R4z0331FOczz0td4BRlfM3wbZfmDyXgp9DiE0B2mGYHRyEeFu9jKE2SXEUmFsJciGyaqS5jlkbSL8JihNwXqIadHpWpoITQgHVFe5FJssP+CR8r3rT2pzUIW8TOiKi+tkQakBOFUHUhI0TGm72ESx4M0wETNpB2TREtp4/2NMakLOv+FbrLzFMwDQEmAPF2EqT35S0l6g0Gog55ZiTZblKZGE33qCIekLEHLERIEPINSb+UTxzZDPBrgkJQ78H9pPMsls0KBDUuPf6E8DR9aiVyOLypAC+VDNLtuQFOmrCRU6fVTisuxtYdUeQO9ZTmwYZYJk1+oixkGwlu9IWq4STQjDSg8UkqBLqeRzrXQUt0zSBKwFwjTKa3uF0oOqV+hnmi5Nt2mam6zJL3cQTk/WS/Pfs2ZOaYTNCakbMM+gUHExuhkNAqp2108tUBCSocqoqKYgJ9733zscWvaYvVqgPnYjbvY5rs9GHAG7+LJR9UgIBEwLKSoxrjdxceAkBr275GSUOJ/bBC428/OCFEWP+Qxn3ojVGyMFXM3BwPOYIwNNnR37hKAkPI7tSdLRSvfAyE1d8cwWgYCIAACIAACd42AMSHVM8zftsoTX9HrkbIK/SyZFSFleuSRuzYK5kbFIDA3zsMcagWGxBw6GWgKCICAHwKGhVSJqDGInIpSISWpKAgpP4MnwtF4akYY6PwvDkNi/p9D9AAEop/AdIQU1VJRK6RKRHeUKKQ4v9sfRGiQ4JkBAhEaStFTDIZE9JxL9AQEopeAUSHFUY1x2xqli81pD29ZuZ5hCKkZvwjw1JxxxPOtAgyJ+XbG0F4QiEUChoXULauspaLQIzUy6SVC6paVg5CanSsDT83Z4TyPasGQmEcnC00FgZglMB0hRbXUSPTtI0WEFFFRt6xcNzxSM3+J4Kk584znWQ0YEvPshKG5IBCTBIwJqe5hwU1DrMTKR6uQ8vXwZieE1GxcHHhqzgbleVUHhsS8Ol1oLAjEKAGDQsrJ3eykQoqLTiFFdOLNTqGr8EjNwvWBp+YsQJ5fVWBIzK/zhdaCQGwSmI6QoloqaoUUUVGzI6QcDkeMPzZivPuxeQMK2muMiqCIkAAEQODuEpimkCJaKjqFFFVRN2bFIwUhhUfm3b0XzM3aMSrm5nlBq0AABCgBw0LqhjjlRcRGNAqpCS/p241O7kYn1+Wc8e0PIKTwyKSXJQKUAEYFRYEACIDA3CRgTEh1OQV1QbXUyIR3wcJF8fHx69atS0pKSklJOXDgQHp6+sWLFwsKCsxmc11dncVi6enpsdvtLpfL7XZ7PB6O47wReplCLIfjOI/H43a7XS6X3W632WwWi/5v7Y2IQop0srgDQmo2Ri8embNBeb7VgVEx384Y2gsCMUfAsJAq7pC1VHQKKaKibnRwEFKzc1ngkTk7nOdXLRgV8+t8obUgEIMEpiWkJC0VvUJKVFEQUrNzYeCROTuc51ctGBXz63yhtSAQgwSmI6QEp5SopaJUSEkqCkJqdi4MPDJnh/P8qgWjYn6dL7QWBGKQwDSFFNFS0SmkiiUhVTRba6RicPyhyyAAAiAAAiAwrwkYFlJFkswo7uCiVkgVdXCCtc/SYvN5PZLQeBAAARAAARCIQQLGhVS7qDFEORXVQqqdK4SQisErA10GARAAARAAgRAIGBZShe2Cp4b4paJTSBFfVJEopKzMPlIrSyWupQmmhEcUb0/kOFrTFickpEtJfP9pJA2oEqjeCsmWyCU7HHKxwQ6ZEh6htji3RlWw8bfalmtjjJfuP2ew/gagRDmYEh6JJAr/jcURgYB4ylj4poT45FYlm1AGD069khnegQAIzE0CxoSU1Sm4aQQhJWqpKBRSrgkv6V5hO1fQzrFCij6SzbnxK08ksG+FcOAnROCjdIyIjxATK8hoxiCHWA2Xs1L7AKNVhBugDaAZtTH0UAQDQfq7xD+lGUMRwd5FZVGRGhg49VE5PNApEIg6AoaFVIHoqSFiwxV9G3ISIUVUlFpI7UkzC+OgJnlPfHJp2mL2bavPdbTyxBLyidznL/E9WnJWJpB48oxXvWUGF0lfmmA6keOLpQ+noIfkYmqS9yjdWvKh8EO0ATSrIkbTF/YoGxbdeCIcldBhydA6JFfcnELBtA5BHQLs6WYPt6Yt3pOwco+ofRVp6OBROq5IGpx6liHCIAACc4/AdIQU1VLRKaSoilIJqZU+R1HOSkFC1STvoapIDAh3/yU+N1VpgonILPrYoAGHI/2EL5k5N14WTGSISMnST0hKSIqhHq8Ah3zDTMiifDJNZ/zRBtBCmBjaF4e2y+y8pCNHoudge02zs5FMLwSwAfob4BBTSORQUAII6BJgBobiuBCvGc/CFSRF0sFDsknlBDi/AQ75qhYKwalXnAe8AQEQiCwBg0LKIcx3ESts56JaSFm46xbF1J7giCKeJ9Fd5LuVt6YtJt4j6e4vnCca1gYESUHv77K88J1dmt5B5JpeUfqHfJ4whT8sIkNGaJKicMarxLZf6pfcBabxil7TZklZhAi2KDGBXM6cQUEbjoAuAe1QUX2c0L00tEXh1GuZIAYEQGDuETAspK5buAKLoKWiVkgJOlFUUdctXCez2FxYGlUqOFR803alwjIpc268zwsl3/0ZAUEjaUBQDKwuoaJKHCNyMqEixdKr0A5FfqQx9foKpzE0IBwQZzylKU7fons2gRAmHaddnm8oIg83ukpkTzfbMzaehoX5PjJXziYVwzSNY85cBZo2IgIEQAAEjAmpTofgpqFaKjo9UgXtvk5eUwopYfbqRE76CUkHiL4oxVu6SJw+CbQBreuFHYw0vRApLcYixYZ6iC0uEmFFvWKBcgzrRpLcS/JRRlCyDZHncdjsbApVLXMGhaaNiFAQYE89e4CNp2EaYFOSsOLQ3LgKtI1EDAiAQMwTMCykrknOmoJondojUvGahROElIN76Y310mjJWbknnvkYLdziF/tWSilFA30SaAPMGil5XZFUgTwnSGKE7NLX02hRQQ/R0iISUNXLzs7o90VSVKI7wffdOlk8Odhe0zVSbKSv1ap65wKKiPCM4kJUp4z2lI2Xw8waKTlSzKPz9m5fBbQvCIAACICARGA6Qopqqej0SF0XJZQgpNpUQkq49bPLw9NPMG/Zuz8N04C4tFb6xj6d0pKcW9JZUQspVovIRflSCwu0dZxVtKwIBTT1KhtJ+yJ/F09smLCp1eLcNLrGXGDl2+lKTikujVLN90nN1tQboL8BDknF4f/MExBOGT3Lvl3NhHlw9lSyYXmaW3khKNIIzQ5wfgMcmvkOowYQAIGYJmBcSLUJnhqipaJaSLVx+WohFdMjBp0HARAAARAAARCgBAwLqfw2wVMTzUKK+KLyRSHVoZjao/QQAAEQAAEQAAEQiGkCxoRUh0Nw01AtFZ0eqWtiDyGkYvr6QOdBAARAAARAICCBaQopoqWiXEhdbePgkQo4inAQBEAABEAABGKUgEEhNcRdlfw119qidENO4ou62sZdbYWQitHLA90GARAAARAAgcAEjAupVllLRaFHanjCm98m9PBqG3cFQirwIMJREAABEAABEIhVAoaF1BVRSBG/1HD0/Wjx8ISXqKirrRBSsXpxoN8gAAIgAAIgEIzAtISUpKWiV0iJKgoeqWCjCMdBAARAAARAIEYJTEdICU4pUUtFqZCSVNRlTO3F6NWBboMACIAACIBAEAKGhdRlSWZcbeWiUUiNe6+IPbzcyglCaoj9iZggTHEYBEAABEAABEAgRghMR0hRLTU87l2wcFF8fPy6deuSkpJSUlIOHDiQnp5+8eLFgoICs9lcV1dnsVh6enrsdrvL5XK73R6Ph+M4b4RephDL4TjO4/G43W6Xy2W32202m8Viqa+vLysrKyoqysrKSktLS0xMXLBw0bAopIiKutzCtUNIxcgFgW6CAAiAAAiAQDgEjAmp9iHucovgqSFaKqqFVAuXByEVzpBCWhAAARAAARCIHQKGhVRei09LXWnlolNIEZ2YByEVO1cDegoCIAACIAACYRKYjpAStJTolIpaIUVUFDxSYQ4qJAcBEAABEACBWCEwTSFFtFR0CimqoiCkYuVqQD9BAARAAARAIEwC0xdSeS1ROrVHhdQlrJEKc1QhOQiAAAiAAAjECAHDQuqSuHaIiI1o9khdauEgpGLkYkA3QQAEQAAEQCBcAgaFlF1QF1RLRbuQasb2B+GOK6QHARAAARAAgZggYFxINceAkBLUYrNg2EcqJq4GdBIEQAAEQAAEwiQwLSElaano9EgRnxsRUhZsyBnmwEJyEAABEAABEIgFAsaElMXu89QQsRG9Qkp0R+U2cxBSsXAxoI8gAAIgAAIgEC4Bw0IqV9QYgr8mKr+15xz3El/UpWYOQircUYX0IAACIAACIBAjBCIgpJo5Z/T91h4VUrkQUjFyKaCbIAACIAACIBA+gekIKeqUilohRVQUPFLhjyvkAAEQAAEQAIGYIDBNIUW0VHQKKaqiIKRi4lJAJ0EABEAABEAgfALTF1K50Tq1R4VUDhabhz+wkAMEQAAEQAAEYoGAYSGVI64dImIjmj1SOc0chFQsXAnoIwiAAAiAAAgYIDAdIUW1FISUAfLIAgIgAAIgAAIgMO8JQEhZ6uvry8rKioqKsrKy0tLSEhMTFyxc5Bz35oq+KHik5v0YRwdAAARAAARAYMYITFNIEadUdHqkiITyCSk799Ib62fsLKBgEAABEAABEACBeUlg+kIqJ1oXm8tCqomzQEjNy+GNRoMACIAACIDAzBIwLqSahEXYxKLdIwUhNbODEKWDAAiAAAiAwHwlACHld42UTyc2cTkQUvN1eKPdIAACIAACIDCzBKYlpCSnVPR6pEQVBSE1s2MQpYMACIAACIDAvCUwXSElaqkoFVKSispp4tqwRmreDnE0HARAAARAAARmjoAxIdVmF+a7qEW5kMqGkJq5AYiSQQAEQAAEQGA+EzAspLIhpObzeUfbQQAEQAAEQAAEIkAAQsr/YnNRKmY3cfBIRWCgoQgQAAEQAAEQiEYC0xFS1CkVtVN7REVBSEXjyEefQAAEQAAEQCACBKYppIiWik4hRVUUhFQEBhqKAAEQAAEQAIFoJDB9IZXdxEFIRePQQJ9AAARAAARAAASCEYCQ8rtGCh6pYIMHx0EABEAABEAg1glASEFIxfo1gP6DAAiAAAiAgGECEFIQUoYHDzKCAAiAAAiAQKwTgJCCkIr1awD9BwEQAAEQAAHDBCCkIKQMDx5kBAEQAAEQAIFYJwAhBSEV69cA+g8CIAACIAAChglASEFIGR48yAgCIAACIAACsU4AQgpCKtavAfQfBEAABEAABAwTgJCCkDI8eJARBEAABEAABGKdAIQUhFSsXwPoPwiAAAiAAAgYJgAhBSFlePAgIwiAAAiAAAjEOgEIKQipWL8G0H8QAAEQAAEQMEwAQgpCyvDgQUYQAAEQAAEQiHUCEFIQUrF+DaD/IAACIAACIGCYAIQUhJThwYOMIAACIAACIBDrBCCkIKRi/RpA/0EABEAABEDAMAEIKQgpw4MHGUEABEAABEAg1glASEFIxfo1gP6DAAiAAAiAgGECEFIQUoYHDzKCAAiAAAiAQKwTgJCCkIr1awD9BwEQAAEQAAHDBCCkIKQMDx5kBAEQAAEQAIFYJwAhBSEV69cA+g8CIAACIAAChglASEFIGR48yAgCIAACIAACsU4AQgpCKtavAfQfBEAABEAABAwTgJCCkDI8eJARBEAABEAABGKdAIQUhFSsXwPoPwiAAAiAAAgYJgAhBSFlePAgIwiAAAiAAAjEOgEIKQipWL8G0H8QAAEQAAEQMEwAQgpCyvDgQUYQAAEQAAEQiHUCEFIQUrF+DaD/IAACIAACIGCYAIQUhJThwYOMIAACIAACIBDrBCCkIKRi/RpA/0EABEAABEDAMAEIKQgpw4MHGUEABEAABEAg1glASEFIxfo1gP6DAAiAAAiAgGECEFIQUoYHDzKCAAiAAAiAQKwTgJCCkIr1awD9BwEQAAEQAAHDBCCkIKQMDx5kBAEQAAEQAIFYJwAhBSEV69cA+g8CIAACIAAChglASEFIGR48yAgCIAACIAACsU4AQgpCKtavAfQfBEAABEAABAwTgJCCkDI8eJARBEAABEAABGKdAIQUhFSsXwPoPwiAAAiAAAgYJgAhBSFlePAgIwiAAAiAAAjEOgEIKQipWL8G0H8QAAEQAAEQMEwAQgpCyvDgQUYQAAEQAAEQiHUCEFIQUrF+DaD/IAACIAACIGCYAIQUhJThwYOMIAACIAACIBDrBCCkIKRi/RpA/0EABEAABEDAMAEIKQgpw4MHGUEABEAABEAg1glASEFIxfo1gP6DAAiAAAiAgGECEFIQUoYHDzKCAAiAAAiAQKwTgJCCkIr1awD9BwEQAAEQAAHDBCCkIKQMDx5kBAEQAAEQAIFYJwAhBSEV69cA+g8CIAACIAAChglASEFIGR48yAgCIAACIAACsU4AQgpCKtavAfQfBEAABEAABAwTgJCCkDI8eJARBEAABEAABGKdAIQUhFSsXwPoPwiAAAiAAAgYJgAhBSFlePAgIwiAAAiAAAjEOgEIKQipWL8G0H8QAAEQAAEQMEwAQgpCyvDgQUYQAAEQAAEQiHUCEFIQUrF+DaD/IAACIAACIGCYAIQUhJThwYOMIAACIAACIBDrBCCkIKRi/RpA/0EABEAABEDAMAEIKQgpw4MHGUEABEAABEAg1gl0dnYeDOe1Zs2aF9eub7Nz2U2yOce9CxYuio+PX7duXVJSUkpKyoEDB9LT0y9evFhQUGA2m+vq6iwWS09Pj91ud7lcbrfb4/FwHOeN0MsUYjkcx3k8Hrfb7XK57Ha7zWazWCCkYv0aQP9BAARAAARAwDCBNeG/IKQM00ZGEAABEAABEACBqCLg9XodDkdYfyGkomoEoDMgAAIgAAIgAALTIRCWinI4HBBS06GNvCAAAiAAAiAAAtFDIFwV5fV6IaSi5/SjJyAAAiAAAiAAAtMkEK6WgpCaJnBkBwEQAAEQAAEQiBIC4aooeKSi5MSjGyAAAiAAAiAAAhEhEK6WgkcqIthRCAiAAAiAAAiAwLwnEK6Kgkdq3p9ydAAEQAAEQAAEQCCCBMLVUvBIRRA+igIBEAABEAABEJjHBMJVUfBIzeOTjaaDAAiAAAiAAAhEnEC4WgoeqYifAhQIAiAAAiAAAiAwLwmEq6LgkZqXpxmNBgEQAAEQAAEQmCEC4WopeKRm6ESgWBAAARAAARAAgXlGIFwVBY/UPDvBaC4IgAAIgAAIgMCMEghXS8EjNaOnA4WDAAiAAAiAAAjMGwLhqih4pObNqUVDQQAEQAAEQAAEZoFAuFoKHqlZOCmoAgRAAARAAARAYB4QCFdFwSM1D04qmggCIAACIAACIDBrBMLVUvBIzdqpQUUgAAIgAAIgAAJzmkC4KgoeqTl9OtE4EAABEAABEACBWSYQrpaCR2qWTxCqAwEQAAEQAAEQmKMEwlVR8EjN0ROJZoEACIAACIAACNwVAuFqKXik7sppQqUgAAIgAAIgAAJzjkC4KgoeqTl3CtEgEAABEAABEACBu0ggXC0Fj9RdPFmoGgRAAARAAARAYA4RCFdFwSM1h04emgICIAACIAACIHDXCYSrpeCRuuunDA0AARAAARAAARCYEwTCVVHwSM2J04ZGgAAIgAAIgAAIzBEC4WopeKTmyIlDM0AABEAABEAABO4ygXBVFDxSd/mEoXoQAAEQAAEQAIE5RSBcLQWP1Jw6fWgMCIAACIAACIDAXSMQroqCR+qunSpUDAIgAAIgAAIgMAcJhKul4JGagycRTQIBEAABEAABELgLBMJVUfBI3YWThCpBAARAAARAAATmLIFwtRQ8UnP2VKJhIAACIAACIAACs0ogXBUFj9Ssnh5UBgIgAAIgAAIgMMcJhKul4JGa4ycUzQMBEAABEAABEJglAuGqKHikZunEoBoQAAEQAAEQAIF5QSBcLRW7HqnOMF9r1qzxer1hZkJyEIhyAuS6cDgc4d56kB4EQAAEZppAuPffNWvWGMgS00LKG/Lr4MGDa9ascTgcnZ2dIWdCQhCIcgL0upjpuyHKBwEQAAEDBMJ6ZJMbmoEssS6kQnQzEr7EI0XOZYgZkQwEopgAvS7gkQIBEACBOUiAqKIQb8KskAorC4RUSLgIX+qRCikPEoFAtBOg14WBT4pz8J6LXoAACEQZAQipINMiHMd5PB632+1yuex2u81ms1gs9fX1ZWVlRUVFWVlZaWlpiYmJCxYuco57s5s4am127qU31hvgC49UtAsD9C88AvBIRdlTB+oWBKKMgIEHvYEs8Eipnxwmk0kd5XDQT95hIdaWgxgQiCYC9LqAngABEACBOUhA95Gt+5R3SA963Sz+7tvkHugTUo2yv8Y57l2wcFF8fPy6deuSkpJSUlIOHDiQnp5+8eLFgoICs9lcV1dnsVh6enrsdrvL5XK73R6Ph+O4IA6kkA+bQkw5Ex4pk/jSIqOfvMNCrC0HMSAQTQTodRFln2Ln4PMAhEEABAwQ0H1kB37Q62bxd9+GkBK+f8fSIXB1tSqBhTVSLC6EQYBeF1AeIAACIDAHCeiqIn/PenJDU2WhidkAvflHlZAaHByka6TMZrOBNVK6jFSwsEaKAkEABKgnfA7ePQ18ckUvQAAEoo+AShWR+7a/x72ukHI4HGx6lavFmJC6c+cOndobHBycK1N7REi1tbXV19cbE1IsLO0zksCCR0pLBjGxTIBeF9F3/0WPQAAEooBAYCGlunv7E1IB5IFCSDHfaVOtkdqzZw+7RooIqba2tp6enmgTUhSWCi77yVv3rGjTIwYEYoEAuYlEwd0WHiwQAIGoJKD7yCYeJu0tOoCQIvLAX5ag39qLLSEVGBY8UtphhJhYJkDuO1F5/4U6BAEQiAIC/oSU7n07sJAKkCWqhBTZR8rw1J4uJhJJP3nrnpUAGXEIBKKYAL0uoKVAAARAYA4SCOuRbVhIvbR2fZtd3vsgu4lTTe2ptj9g10hF4fYH/p55hC88Uv74ID42CdDrIgo+uc7BZwCoggAITJPA3BRSc24fqfHxcX87m+/fv3/jxo3Y2Tw2n/Ho9SwQgEdqmnd5qDcQAIEZJTBLQuoNfY/UK6+8QjfkPHjwYEZGRnZ2tu6GnOPj43dzQ87pCKmD4bzWrFlDPFLhZEJaEIhyAuS6gJ4AARAAgTlIoLOzM6xb8Jo1awxkeSmgkEpOTk5JSZk3Qqq9vb2hoaG8vJzsIxXYI7Um/JfX6w0/E3KAQJQTmIN3zxn9jIv+ggAIzBcCs3PzDSqk9u7dS4VUYWFhWVlZfX19e3u7zWYja6TmkEeKCqni4uLz588fOHDg448/1k7tNQ7wew5nvvTGehgIgAAIgAAIgAAITIfAnsOZjQN8tmYfqVWrVr333ntbtmzZu3fvoUOHTp8+nZOTM0eF1MjIiN1u7+3tbW9vb2xsrKiouHHjRnZ29uHDh5OTk7VCqsTKNw7wbXYOBgIgAAIgAAIgAALTIdA4wJdYdYTU6tWr33///a1bt+7bt+/w4cNnzpzJzc0tKioqLy9vaGigHqmRkZG775EaHR0dGhrq6+vr7OxsamqqrKy8detWbm7u8ePHt23btmjRoi8PHitqV3w1kVWOCIMACIAACIAACIBARAgUtXNfHjy2aNGgG9S+AAAKOUlEQVSiNWvW/OUvf9m2bdtf//rXo0ePZmZm5uXl3bhxo6KiorGxsbOzs6+vb2hoaHR0dK4Iqf7+/s7Ozubm5urq6pKSkry8vFOnTu3evXvVqlX33Htf+xCEFAiAAAiAAAiAAAjMLIH2Ie6ee+974okn/vjHPyYkJOzcufOrr746fvz4N998c/ny5Zs3b1ZVVTU1Nc0hITUxMTE6Oup0Ovv7+61Wa2tra01NTWlpaX5+fmZm5ldfffX2228vWLgo9eCxql6F5y0iwhOFgAAIgAAIgAAIgAAhUNXLpx48tmDhohUrVqxbt+6TTz75/PPP9+/ff+LEiaysrPz8/JKSkurq6paWFqvV2t/f73Q6R0dHJyYm7s72BzzPT01NTU5Ojo2NOZ3OwcHB7u7utra2urq6srKygoKC8+fPHzlyZPv27X/4wx/+4R+/nXrwWPsQV9wxs1IUgwkEQAAEQAAEQCDWCBR1cO1DXOrBY//wj99eunTp22+//eGHH3766adkgVRGRsbFixevX79OtjVvbW3t7u4eHBx0Op1jY2OTk5Mcx/E8743QyxRiOayQontydnR00PXmly5dysjI+Oqrr5KTk//whz8sWLjonnvv+/LAMee4FwYCIAACIAACIAACkSLw5YFj99x734KFi5YuXfrmm29++OGHSUlJn3/+eWpq6vHjxzMzMy9dulRcXFxWVsauNHe5XHNCSLnd7pGREYfD0dfXZ7VayTKp27dvX7t27fz58ydOnNi3b19ycvLrr7/+/PPPL1i4CAYCIAACIAACIAACkSXw2GOPxcXFvfXWWx9++OHWrVu3b9++b9++Q4cOpaennz9//urVqyUlJVVVVc3NzWSBlMPhGBkZcbvdd9MjRZ1Sbrfb6XQODAzQ2T2z2VxYWJiTk3PmzJlDhw6lpKRs3rz5L3/5y1tvvbV27drVq1e/8sorv/vd715++eWXpNeL4kt6h/8gAAIgAAIgAAIgEITAyy+/HB8f/+qrr65du/att95av379pk2btm3blpKSkpaWRtxRubm5hYWF5Ff22trauru7BwYGnE4nUVFTU1O8+ApxRi5osjCm9lgh5XK5hoaGent7Ozo6mpqaqqqqbt26lZ+ff/78+fT09MOHD+/bt2/Hjh2ffPLJRx999P77769bt+6tt97605/+9Kb4+iNeIAACIAACIAACIBAOASIh3nrrrXfffXf9+vUJCQnJyck7duxISUlJTU09evTo6dOnL1y4kJ+ff+vWLfJ9vY6Ojt7e3qGhIZfLdZeFlNfrJULK4/GMj4+T7+6pnFLFxcWXL1/OyspKT08/cuRIampqSkrKzp07t27dmpSUtGnTpsTExISEhI8++uhDvEAABEAABEAABEAgHAIfffRRQkJCYmLixx9/vHnz5m3btn3++ef79u1LS0s7evRoRkZGVlbW5cuXyeqouro61h1Fd5AiHqmgfqbQE4TqkSJCiuM4j8czMTExNjZGlpz39vbSDaVKS0sLCwuJljp9+vTx48cPHjz41Vdf7du3b/fu3Z999tmOHTu2bdv2qfjaKr5IGH9BAARAAARAAARAICiBbdu27dix47PPPtu9e/e+ffu++uqrgwcPHj9+/PTp00RFFRYWlpaW1tTUkNVRvb295Cf2xsbG6MYHEfzKntfrDU9I0dk91inV09NjsVgaGxurqqpu375NtNSFCxcyMzNPnTp17NixQ4cOpaWlffnll1988cXevXtTxNce8UXC+AsCIAACIAACIAACQQns3bv3iy+++PLLL9PS0g79/+3da2vqWBiG4f//K9oiguyJWJHKGJSAE481KknJaILGU2xMNB52PNsy7LwYxHam1dHMIM/7wWrZbM3ll5u1FunDQzAY/PHjx+PjYzweT6VSPM8/Pz9LkqQoSqvVen19pdNRtBy12WwufkDqzJA6XJSaTCaWZem6rmlavV6XJKlUKmWzWY7jWJZ9enqKRCIMw4RCoWAwGAgEHty5v7+/u7u7x0AAAhCAAAQgAIHvCVBCBAKBYDAYCoUYholEIk9PTyzLchyXzWZLpZIkSfV6XdM0Xdcty5pMJnTXA1qO+l+E1NvbG92ZkxalZrMZ/ek9r6VeXl7K5XKhUOB5nnIqHo/HYrFoNBqJRMLhMMMwv2EgAAEIQAACEIDAKQIMw4TD4UgkEo1GY7FYPB6nhOJ5vlAolMvlw4qiP643m80Ol6PoVpz/2dYeHZPyjpyv12u6p9R0OrVt2zRNXddbrZaqqrIsi6IoCEKhUMhkMul0muO4VCqVTCZZlk0kEr9jIAABCEAAAhCAwCkCiUSCZdlkMplKpTiOS6fTmUymUCgIgiCKoizLqqq2Wi1d103TtG17Op3SvaOutxx12taeF1K0KEUbfEct1e/3O52OpmmKosiyLElSpVIRBKFYLObz+Vwul8lkeJ7/AwMBCEAAAhCAAAROEeB5PpPJ5HK5fD5fLBYFQahUKpIkybKsKIqmaZ1Op9/v/11FXWM56uSQ+oeWoj0+y7IMw+j1eu12u9lsqqpaq9WoqERRrFarlUql7I7gDj3HIwQgAAEIQAACEPhSoFKpVKtVURSpn2q1mqqqzWaz3W73ej3DMCzLGo/Hs9nsaC3qShV1fki9v78frUvN5/PZbDaZTEajEeWUruvdbpeKqtFoqKqqKEq9Xq+586c79ByPEIAABCAAAQhA4EuBer2uKIqqqo1Gg/qp2+3quk4JNRqNJpMJnYtaLpfejp5XUZc9HUX3mjrh9gfezano3upHLbVarRaLheM4lFO2bVuWZZqmYRhUVB13WvvR3Nm/wk8IQAACEIAABCDwtQDlhNdPpmlalmXbNiWU4ziLxWK1WvlTUeesSFFOfWypzWZDx88Pc2o8Ho9Go+FwaLozGAwMw3jFQAACEIAABCAAgdMFDMMYDAYUFcPhcDQajcfjw4SihajNZrPdbne73VXXos5fkfq0pXa73Xa7Pcyp+Xz+052pO2N3bAwEIAABCEAAAhA4V4BygtKCMmM+ny8Wi6OE8qeizl+ROmopb5vvMKdWq9VyuVy4M9+P4zh02XiEAAQgAAEIQAACJwk4jrMPil/xRP1EG3neKtRRQl3jXBRV0L9dkfL+F2+bj554h9BpgWrjznq9XmEgAAEIQAACEIDAJQTW6zUFBvXTx408ahKvVa735JzD5p9+msOcetvPbj9bDAQgAAEIQAACELicwD4xfh2EojlMkU9b5Rq/vFhIHX24w4uhjb/9ZeInBCAAAQhAAAIQuLDAUXh85+VRupz38loh9fHTfOeS8G8gAAEIQAACEIDAGQIfw8Of3/gXUv5cD94FAhCAAAQgAAEI+CaAkPKNGm8EAQhAAAIQgMCtCSCkbu0bxfVAAAIQgAAEIOCbAELKN2q8EQQgAAEIQAACtyaAkLq1bxTXAwEIQAACEICAbwIIKd+o8UYQgAAEIAABCNyaAELq1r5RXA8EIAABCEAAAr4J/AWCCISd0EYGzQAAAABJRU5ErkJggg==)\n",
        "***"
      ],
      "metadata": {
        "id": "3PZH_JUKGuE8"
      }
    },
    {
      "cell_type": "markdown",
      "source": [
        "***\n",
        "Immediately, you can see a few things. When Binary is False, it picked up the same things, but wound up splitting up terms like White House into \"White\" and \"House\" as if they were different, whereas we could see in the binary = True option, the named entity recognition was correct to say White House was part of the same named entity.\n",
        "***\n",
        "Depending on your goals, you may use the binary option how you see fit. Here are the types of Named Entities that you can get if you have binary as false:\n",
        "```\n",
        "NE Type and Examples\n",
        "ORGANIZATION - Georgia-Pacific Corp., WHO\n",
        "PERSON - Eddy Bonte, President Obama\n",
        "LOCATION - Murray River, Mount Everest\n",
        "DATE - June, 2008-06-29\n",
        "TIME - two fifty a m, 1:30 p.m.\n",
        "MONEY - 175 million Canadian Dollars, GBP 10.40\n",
        "PERCENT - twenty pct, 18.75 %\n",
        "FACILITY - Washington Monument, Stonehenge\n",
        "GPE - South East Asia, Midlothian\n",
        "```\n",
        "***\n",
        "Either way, you will probably find that you need to do a bit more work to get it just right, but this is pretty powerful right out of the box.\n",
        "***\n",
        "Next, we're going to talk about something similar to stemming, called lemmatizing.\n",
        "***"
      ],
      "metadata": {
        "id": "Vo_I-0A0G20d"
      }
    },
    {
      "cell_type": "markdown",
      "source": [
        "# 8. Lemmatizing"
      ],
      "metadata": {
        "id": "1zkxYl6pHQGr"
      }
    },
    {
      "cell_type": "markdown",
      "source": [
        "***\n",
        "A very similar operation to stemming is called lemmatizing. The major difference between these is, as you saw earlier, stemming can often create non-existent words, whereas lemmas are actual words.\n",
        "***\n",
        "So, your root stem, meaning the word you end up with, is not something you can just look up in a dictionary, but you can look up a lemma.\n",
        "***\n",
        "Some times you will wind up with a very similar word, but sometimes, you will wind up with a completely different word. Let's see some examples.\n",
        "***"
      ],
      "metadata": {
        "id": "qUmGuQ1_HUWM"
      }
    },
    {
      "cell_type": "code",
      "source": [
        "from nltk.stem import WordNetLemmatizer\n",
        "\n",
        "lemmatizer = WordNetLemmatizer()\n",
        "\n",
        "print(lemmatizer.lemmatize(\"cats\"))\n",
        "print(lemmatizer.lemmatize(\"cacti\"))\n",
        "print(lemmatizer.lemmatize(\"geese\"))\n",
        "print(lemmatizer.lemmatize(\"rocks\"))\n",
        "print(lemmatizer.lemmatize(\"python\"))\n",
        "print(lemmatizer.lemmatize(\"better\", pos=\"a\"))\n",
        "print(lemmatizer.lemmatize(\"best\", pos=\"a\"))\n",
        "print(lemmatizer.lemmatize(\"run\"))\n",
        "print(lemmatizer.lemmatize(\"run\",'v'))"
      ],
      "metadata": {
        "colab": {
          "base_uri": "https://localhost:8080/"
        },
        "id": "ler4NCSAGsAr",
        "outputId": "7608594b-af69-452b-8b3f-d3ff3fd5e17f"
      },
      "execution_count": 20,
      "outputs": [
        {
          "output_type": "stream",
          "name": "stdout",
          "text": [
            "cat\n",
            "cactus\n",
            "goose\n",
            "rock\n",
            "python\n",
            "good\n",
            "best\n",
            "run\n",
            "run\n"
          ]
        }
      ]
    },
    {
      "cell_type": "markdown",
      "source": [
        "***\n",
        "Here, we've got a bunch of examples of the lemma for the words that we use. The only major thing to note is that lemmatize takes a part of speech parameter, \"pos.\" If not supplied, the default is \"noun.\" This means that an attempt will be made to find the closest noun, which can create trouble for you. Keep this in mind if you use lemmatizing!\n",
        "***\n",
        "Next, we're going to dive into the NTLK corpus that came with the module, looking at all of the awesome documents they have waiting for us there.\n",
        "***"
      ],
      "metadata": {
        "id": "N8uMQX1fHmkK"
      }
    },
    {
      "cell_type": "markdown",
      "source": [
        "# 9 The corpora with NLTK"
      ],
      "metadata": {
        "id": "kY-UuJn6H3Uj"
      }
    },
    {
      "cell_type": "markdown",
      "source": [
        "***\n",
        "I want us to take a moment to peak into the corpora we all downloaded! The NLTK corpus is a massive dump of all kinds of natural language data sets that are definitely worth taking a look at.\n",
        "***\n",
        "Almost all of the files in the NLTK corpus follow the same rules for accessing them by using the NLTK module, but nothing is magical about them. These files are plain text files for the most part, some are XML and some are other formats, but they are all accessible by you manually, or via the module and Python. Let's talk about viewing them manually.\n",
        "***\n",
        "Depending on your installation, your nltk_data directory might be hiding in a multitude of locations. To figure out where it is, head to your Python directory, where the NLTK module is. If you do not know where that is, use the following code:\n",
        "***"
      ],
      "metadata": {
        "id": "k-gPXOPRH6xA"
      }
    },
    {
      "cell_type": "code",
      "source": [
        "import nltk\n",
        "print(nltk.__file__)"
      ],
      "metadata": {
        "colab": {
          "base_uri": "https://localhost:8080/"
        },
        "id": "PxgqI0LKHgCY",
        "outputId": "82dadeb5-020d-49d9-c5b9-c043a2de5336"
      },
      "execution_count": 21,
      "outputs": [
        {
          "output_type": "stream",
          "name": "stdout",
          "text": [
            "/usr/local/lib/python3.10/dist-packages/nltk/__init__.py\n"
          ]
        }
      ]
    },
    {
      "cell_type": "markdown",
      "source": [
        "***\n",
        "Run that, and the output will be the location of the NLTK module's __init__.py. Head into the NLTK directory, and then look for the data.py file.\n",
        "***\n",
        "The important blurb of code is:"
      ],
      "metadata": {
        "id": "y1SPd7j2IHkS"
      }
    },
    {
      "cell_type": "code",
      "source": [
        "import sys\n",
        "if sys.platform.startswith('win'):\n",
        "    # Common locations on Windows:\n",
        "    path += [\n",
        "        str(r'C:\\nltk_data'), str(r'D:\\nltk_data'), str(r'E:\\nltk_data'),\n",
        "        os.path.join(sys.prefix, str('nltk_data')),\n",
        "        os.path.join(sys.prefix, str('lib'), str('nltk_data')),\n",
        "        os.path.join(os.environ.get(str('APPDATA'), str('C:\\\\')), str('nltk_data'))\n",
        "    ]\n",
        "else:\n",
        "    # Common locations on UNIX & OS X:\n",
        "    path = [\n",
        "        str('/usr/share/nltk_data'),\n",
        "        str('/usr/local/share/nltk_data'),\n",
        "        str('/usr/lib/nltk_data'),\n",
        "        str('/usr/local/lib/nltk_data')\n",
        "    ]"
      ],
      "metadata": {
        "id": "sqlZzl2CIFdX"
      },
      "execution_count": 24,
      "outputs": []
    },
    {
      "cell_type": "markdown",
      "source": [
        "***\n",
        "Now, we're going to talk about accessing these documents via NLTK. As you can see, these are mostly text documents, so you could just use normal Python code to open and read documents. That said, the NLTK module has a few nice methods for handling the corpus, so you may find it useful to use their methology. Here's an example of us opening the Gutenberg Bible, and reading the first few lines:\n",
        "***"
      ],
      "metadata": {
        "id": "HSx2DEVLIt3r"
      }
    },
    {
      "cell_type": "code",
      "source": [
        "from nltk.tokenize import sent_tokenize, PunktSentenceTokenizer\n",
        "from nltk.corpus import gutenberg\n",
        "\n",
        "# sample text\n",
        "sample = gutenberg.raw(\"bible-kjv.txt\")\n",
        "\n",
        "tok = sent_tokenize(sample)\n",
        "\n",
        "for x in range(5):\n",
        "    print(tok[x])"
      ],
      "metadata": {
        "colab": {
          "base_uri": "https://localhost:8080/"
        },
        "id": "phvwuwluIP-c",
        "outputId": "f9312621-f31e-4197-9c26-eb2d0f074859"
      },
      "execution_count": 25,
      "outputs": [
        {
          "output_type": "stream",
          "name": "stdout",
          "text": [
            "[The King James Bible]\n",
            "\n",
            "The Old Testament of the King James Bible\n",
            "\n",
            "The First Book of Moses:  Called Genesis\n",
            "\n",
            "\n",
            "1:1 In the beginning God created the heaven and the earth.\n",
            "1:2 And the earth was without form, and void; and darkness was upon\n",
            "the face of the deep.\n",
            "And the Spirit of God moved upon the face of the\n",
            "waters.\n",
            "1:3 And God said, Let there be light: and there was light.\n",
            "1:4 And God saw the light, that it was good: and God divided the light\n",
            "from the darkness.\n"
          ]
        }
      ]
    },
    {
      "cell_type": "markdown",
      "source": [
        "***\n",
        "One of the more advanced data sets in here is \"wordnet.\" Wordnet is a collection of words, definitions, examples of their use, synonyms, antonyms, and more. We'll dive into using wordnet next.\n",
        "***"
      ],
      "metadata": {
        "id": "UgF67m3eI1Kj"
      }
    },
    {
      "cell_type": "markdown",
      "source": [
        "# 10 . WordNet"
      ],
      "metadata": {
        "id": "hDb6KKVcI5-q"
      }
    },
    {
      "cell_type": "markdown",
      "source": [
        "***\n",
        "WordNet is a lexical database for the English language, which was created by Princeton, and is part of the NLTK corpus.\n",
        "***\n",
        "You can use WordNet alongside the NLTK module to find the meanings of words, synonyms, antonyms, and more. Let's cover some examples.\n",
        "***\n",
        "First, you're going to need to import wordnet:"
      ],
      "metadata": {
        "id": "nM_FLfKEI9Sj"
      }
    },
    {
      "cell_type": "code",
      "source": [
        "from nltk.corpus import wordnet"
      ],
      "metadata": {
        "id": "Uy46ygRuIxMw"
      },
      "execution_count": 26,
      "outputs": []
    },
    {
      "cell_type": "markdown",
      "source": [
        "***\n",
        "Then, we're going to use the term \"program\" to find synsets like so:\n",
        "***"
      ],
      "metadata": {
        "id": "8lPi6iotJEbG"
      }
    },
    {
      "cell_type": "code",
      "source": [
        "syns = wordnet.synsets(\"program\")"
      ],
      "metadata": {
        "id": "e9rAed6DJCPc"
      },
      "execution_count": 27,
      "outputs": []
    },
    {
      "cell_type": "markdown",
      "source": [
        "***\n",
        "An example of a synset:\n",
        "***"
      ],
      "metadata": {
        "id": "42KjIfZmJHz7"
      }
    },
    {
      "cell_type": "code",
      "source": [
        "print(syns[0].name())"
      ],
      "metadata": {
        "colab": {
          "base_uri": "https://localhost:8080/"
        },
        "id": "Pd_OPqFEJHUg",
        "outputId": "288678d1-8fba-47d5-dade-884ef37b801f"
      },
      "execution_count": 28,
      "outputs": [
        {
          "output_type": "stream",
          "name": "stdout",
          "text": [
            "plan.n.01\n"
          ]
        }
      ]
    },
    {
      "cell_type": "markdown",
      "source": [
        "***\n",
        "Just the word:\n",
        "***"
      ],
      "metadata": {
        "id": "vcDNFAMJJMiE"
      }
    },
    {
      "cell_type": "code",
      "source": [
        "print(syns[0].lemmas()[0].name())"
      ],
      "metadata": {
        "colab": {
          "base_uri": "https://localhost:8080/"
        },
        "id": "o7kEO48SJL3q",
        "outputId": "fd76c109-17b2-4915-b2e5-8a8d38c4740c"
      },
      "execution_count": 29,
      "outputs": [
        {
          "output_type": "stream",
          "name": "stdout",
          "text": [
            "plan\n"
          ]
        }
      ]
    },
    {
      "cell_type": "markdown",
      "source": [
        "***\n",
        "Definition of that first synset:\n",
        "***"
      ],
      "metadata": {
        "id": "dx4BH0-NJTHJ"
      }
    },
    {
      "cell_type": "code",
      "source": [
        "print(syns[0].definition())"
      ],
      "metadata": {
        "colab": {
          "base_uri": "https://localhost:8080/"
        },
        "id": "grCcVkzGJQi9",
        "outputId": "592a72c6-aa6f-4da7-ac3d-e2b136c097aa"
      },
      "execution_count": 30,
      "outputs": [
        {
          "output_type": "stream",
          "name": "stdout",
          "text": [
            "a series of steps to be carried out or goals to be accomplished\n"
          ]
        }
      ]
    },
    {
      "cell_type": "markdown",
      "source": [
        "***\n",
        "Examples of the word in use:\n",
        "***"
      ],
      "metadata": {
        "id": "IDVcLSj3JW9C"
      }
    },
    {
      "cell_type": "code",
      "source": [
        "print(syns[0].examples())"
      ],
      "metadata": {
        "colab": {
          "base_uri": "https://localhost:8080/"
        },
        "id": "mYS_rSf0JWS7",
        "outputId": "c24ed326-0de6-4df9-e1da-d0371befb8af"
      },
      "execution_count": 31,
      "outputs": [
        {
          "output_type": "stream",
          "name": "stdout",
          "text": [
            "['they drew up a six-step plan', 'they discussed plans for a new bond issue']\n"
          ]
        }
      ]
    },
    {
      "cell_type": "markdown",
      "source": [
        "***\n",
        "Next, how might we discern synonyms and antonyms to a word? The lemmas will be synonyms, and then you can use .antonyms to find the antonyms to the lemmas. As such, we can populate some lists like:\n",
        "***"
      ],
      "metadata": {
        "id": "APqLkX3dJeA6"
      }
    },
    {
      "cell_type": "code",
      "source": [
        "synonyms = []\n",
        "antonyms = []\n",
        "\n",
        "for syn in wordnet.synsets(\"good\"):\n",
        "    for l in syn.lemmas():\n",
        "        synonyms.append(l.name())\n",
        "        if l.antonyms():\n",
        "            antonyms.append(l.antonyms()[0].name())\n",
        "\n",
        "print(set(synonyms))\n",
        "print(set(antonyms))"
      ],
      "metadata": {
        "colab": {
          "base_uri": "https://localhost:8080/"
        },
        "id": "dWE-i-T3JbiU",
        "outputId": "d7f3f45d-a248-4f0f-fbd9-f71e86d0b3de"
      },
      "execution_count": 32,
      "outputs": [
        {
          "output_type": "stream",
          "name": "stdout",
          "text": [
            "{'full', 'goodness', 'soundly', 'skilful', 'sound', 'dear', 'good', 'ripe', 'commodity', 'honest', 'undecomposed', 'secure', 'honorable', 'in_force', 'adept', 'thoroughly', 'near', 'respectable', 'effective', 'dependable', 'trade_good', 'proficient', 'expert', 'unspoilt', 'well', 'skillful', 'beneficial', 'right', 'salutary', 'serious', 'estimable', 'safe', 'in_effect', 'unspoiled', 'upright', 'just', 'practiced'}\n",
            "{'ill', 'evil', 'bad', 'evilness', 'badness'}\n"
          ]
        }
      ]
    },
    {
      "cell_type": "markdown",
      "source": [
        "***\n",
        "As you can see, we got many more synonyms than antonyms, since we just looked up the antonym for the first lemma, but you could easily balance this buy also doing the exact same process for the term \"bad.\"\n",
        "***\n",
        "Next, we can also easily use WordNet to compare the similarity of two words and their tenses, by incorporating the Wu and Palmer method for semantic related-ness.\n",
        "***\n",
        "Let's compare the noun of \"ship\" and \"boat:\"\n",
        "***"
      ],
      "metadata": {
        "id": "wJI9Go9lJkUx"
      }
    },
    {
      "cell_type": "code",
      "source": [
        "w1 = wordnet.synset('ship.n.01')\n",
        "w2 = wordnet.synset('boat.n.01')\n",
        "print(w1.wup_similarity(w2))"
      ],
      "metadata": {
        "colab": {
          "base_uri": "https://localhost:8080/"
        },
        "id": "L-f8kwFoJhzM",
        "outputId": "0d4441c8-d108-4295-b4b2-45a44d15b422"
      },
      "execution_count": 33,
      "outputs": [
        {
          "output_type": "stream",
          "name": "stdout",
          "text": [
            "0.9090909090909091\n"
          ]
        }
      ]
    },
    {
      "cell_type": "code",
      "source": [
        "w1 = wordnet.synset('ship.n.01')\n",
        "w2 = wordnet.synset('car.n.01')\n",
        "print(w1.wup_similarity(w2))"
      ],
      "metadata": {
        "colab": {
          "base_uri": "https://localhost:8080/"
        },
        "id": "f6xrb8ByJriR",
        "outputId": "ae1bf6f9-07d3-4dee-94ab-57a1ae993c39"
      },
      "execution_count": 34,
      "outputs": [
        {
          "output_type": "stream",
          "name": "stdout",
          "text": [
            "0.6956521739130435\n"
          ]
        }
      ]
    },
    {
      "cell_type": "code",
      "source": [
        "w1 = wordnet.synset('ship.n.01')\n",
        "w2 = wordnet.synset('cat.n.01')\n",
        "print(w1.wup_similarity(w2))"
      ],
      "metadata": {
        "colab": {
          "base_uri": "https://localhost:8080/"
        },
        "id": "qzZetzdMJtMa",
        "outputId": "52649fd3-04ed-43f5-cc03-a9beb80bdcef"
      },
      "execution_count": 35,
      "outputs": [
        {
          "output_type": "stream",
          "name": "stdout",
          "text": [
            "0.32\n"
          ]
        }
      ]
    },
    {
      "cell_type": "markdown",
      "source": [
        "***\n",
        "Next, we're going to pick things up a bit and begin to cover the topic of Text Classification.\n",
        "***"
      ],
      "metadata": {
        "id": "sky40-HeJw96"
      }
    },
    {
      "cell_type": "markdown",
      "source": [
        "# 11. Text Classification"
      ],
      "metadata": {
        "id": "TOb6KC7IJ5AJ"
      }
    },
    {
      "cell_type": "markdown",
      "source": [
        "***\n",
        "Now that we're comfortable with NLTK, let's try to tackle text classification. The goal with text classification can be pretty broad. Maybe we're trying to classify text as about politics or the military. Maybe we're trying to classify it by the gender of the author who wrote it. A fairly popular text classification task is to identify a body of text as either spam or not spam, for things like email filters. In our case, we're going to try to create a **sentiment analysis algorithm.**\n",
        "***\n",
        "To do this, we're going to start by trying to use the movie reviews database that is part of the NLTK corpus. From there we'll try to use words as \"features\" which are a part of either a positive or negative movie review. The NLTK corpus movie_reviews data set has the reviews, and they are labeled already as positive or negative. This means we can train and test with this data. First, let's wrangle our data.\n",
        "***"
      ],
      "metadata": {
        "id": "lQlHo794J-kx"
      }
    },
    {
      "cell_type": "code",
      "source": [
        "import nltk\n",
        "import random\n",
        "from nltk.corpus import movie_reviews\n",
        "\n",
        "documents = [(list(movie_reviews.words(fileid)), category)\n",
        "             for category in movie_reviews.categories()\n",
        "             for fileid in movie_reviews.fileids(category)]\n",
        "\n",
        "random.shuffle(documents)\n",
        "\n",
        "print(documents[1])\n",
        "\n",
        "all_words = []\n",
        "for w in movie_reviews.words():\n",
        "    all_words.append(w.lower())\n",
        "\n",
        "all_words = nltk.FreqDist(all_words)\n",
        "print(all_words.most_common(15))\n",
        "print(all_words[\"stupid\"])"
      ],
      "metadata": {
        "colab": {
          "base_uri": "https://localhost:8080/"
        },
        "id": "xaANBxg-JwF6",
        "outputId": "7d72aa35-f385-4933-db0f-2e48b565ccc1"
      },
      "execution_count": 36,
      "outputs": [
        {
          "output_type": "stream",
          "name": "stdout",
          "text": [
            "(['inspired', 'by', 'the', '1958', 'film', 'house', 'on', 'haunted', 'hill', 'starring', 'vincent', 'price', '.', 'directed', 'by', 'william', 'malone', '.', 'starring', 'geoffrey', 'rush', ',', 'famke', 'janssen', ',', 'and', 'chris', 'kattan', '.', 'rated', 'r', '(', 'contains', 'violence', ',', 'profanity', ',', 'and', 'brief', 'nudity', ')', '.', 'synopsis', ':', 'eccentric', 'millionaire', 'price', 'offers', '$', '1', ',', '000', ',', '000', 'to', 'each', 'of', 'his', 'guests', 'who', 'appear', 'at', 'a', 'gathering', 'at', 'a', 'former', 'sanitarium', '.', 'the', 'only', 'catch', 'is', 'that', 'they', 'have', 'to', 'survive', 'the', 'night', 'at', 'the', 'establishment', ',', 'an', 'establishment', 'haunted', 'by', 'its', 'former', 'staff', 'and', 'patients', '.', 'comments', ':', 'house', 'on', 'haunted', 'hill', 'is', 'based', 'upon', 'the', 'original', '1958', 'film', 'of', 'the', 'same', 'title', 'directed', 'by', 'william', 'castle', 'and', 'starring', 'vincent', 'price', '.', 'in', 'an', 'obvious', 'homage', ',', 'the', 'millionaire', \"'\", 's', 'name', 'is', 'price', 'and', 'he', 'sports', 'a', 'thin', 'mustache', 'like', 'price', 'used', 'to', 'have', '.', 'this', 'is', 'a', 'pretty', 'bad', 'horror', 'film', ',', 'yet', 'bad', 'horror', 'films', 'sometimes', 'are', 'very', 'entertaining', ',', 'and', 'house', 'on', 'haunted', 'hill', 'is', 'just', 'such', 'a', 'film', '.', 'it', 'is', ',', 'surprisingly', ',', 'better', 'than', 'another', 'recent', 'haunted', 'house', 'remake', ',', 'the', 'haunting', ',', 'a', 'film', 'which', 'owes', 'its', 'basis', 'to', 'the', 'classic', 'horror', 'novel', 'by', 'shirley', 'jackson', '.', 'the', 'haunting', 'had', 'literary', 'pretensions', 'and', 'fell', 'flat', 'on', 'it', 'face', '.', 'house', 'on', 'haunted', 'hill', 'owes', 'its', 'lineage', 'to', 'a', 'b', '-', 'movie', '40', 'years', 'old', 'and', 'makes', 'no', 'illusion', 'that', 'it', \"'\", 's', 'a', 'crappy', 'horror', 'movie', '.', 'thus', ',', 'somehow', ',', 'it', 'proves', 'slightly', 'more', 'successful', '.', 'i', 'can', \"'\", 't', 'think', 'of', 'another', 'recent', 'film', 'which', 'has', 'had', 'such', 'an', 'eclectic', 'cast', '.', 'it', 'is', 'this', 'cast', 'which', 'lifts', 'this', 'ho', '-', 'hum', 'thriller', 'into', 'a', 'borderline', 'entertaining', 'exercise', 'in', 'camp', 'horror', '.', 'price', ',', 'the', 'main', 'character', ',', 'is', 'played', 'by', 'geoffrey', 'rush', ',', 'the', 'academy', '-', 'award', 'winning', 'actor', 'of', 'shine', '.', 'rush', 'seems', 'to', 'be', 'making', 'a', 'downward', 'spiral', 'in', 'the', 'movie', 'industry', ',', 'a', 'spiral', 'reminiscent', 'of', 'ben', '(', 'ghandi', ',', 'schindler', \"'\", 's', 'list', ')', 'kingsley', \"'\", 's', 'ridiculous', 'appearance', 'in', 'the', 'camp', 'sci', '-', 'fi', 'classic', 'species', '.', 'i', 'don', \"'\", 't', 'know', 'why', ',', 'but', 'sometimes', 'it', \"'\", 's', 'entertaining', 'to', 'see', '\"', 'quality', '\"', 'actors', 'in', 'bad', 'movies', '.', 'more', 'surprises', '?', 'rising', 'star', 'taye', 'diggs', 'plays', 'a', 'stereotypical', 'african', 'american', 'sports', 'figure', '(', 'rather', 'lamely', 'too', ')', ',', 'and', 'singer', 'lisa', 'loeb', '(', '!', ')', 'appears', 'as', 'a', 'tv', 'news', 'reporter', '.', 'the', 'highlight', 'of', 'the', 'cast', ',', 'however', ',', 'has', 'to', 'be', 'saturday', 'night', 'live', 'member', 'chris', 'kattan', '.', 'kattan', \"'\", 's', 'comic', 'sense', 'provides', 'several', 'good', 'humorous', 'moments', 'as', 'he', 'plays', 'the', 'hysterical', 'proprietor', 'of', 'the', 'former', 'sanitarium', '.', 'while', 'the', 'first', 'half', 'of', 'the', 'film', 'leaves', 'the', 'audience', 'guessing', 'as', 'to', 'what', \"'\", 's', 'exactly', 'going', 'on', ',', 'the', 'second', 'half', 'dissolves', 'into', 'standard', 'ghost', 'story', 'stuff', 'and', 'loses', 'some', 'of', 'its', 'suspense', '.', 'a', 'disappointingly', 'cheesy', 'ending', 'really', 'mars', 'this', 'movie', 'too', '.', 'house', 'on', 'haunted', 'hill', ',', 'i', 'suspect', ',', 'has', 'just', 'about', 'left', 'the', 'second', '-', 'run', 'theaters', '.', 'it', \"'\", 's', 'worth', 'catching', 'on', 'cable', 'next', 'year', ',', 'if', 'you', 'get', 'a', 'chance', '.', 'if', 'you', 'have', 'a', 'choice', ',', 'pick', 'this', 'movie', 'over', 'the', 'haunting', ',', 'it', \"'\", 's', 'the', 'better', 'of', 'two', 'evils', ',', 'you', 'could', 'say', '.', 'though', ',', 'more', 'appropriately', 'perhaps', ',', 'it', \"'\", 'd', 'be', 'better', 'to', 'say', 'that', 'it', \"'\", 's', 'the', 'better', 'of', 'two', 'turkeys', '.'], 'neg')\n",
            "[(',', 77717), ('the', 76529), ('.', 65876), ('a', 38106), ('and', 35576), ('of', 34123), ('to', 31937), (\"'\", 30585), ('is', 25195), ('in', 21822), ('s', 18513), ('\"', 17612), ('it', 16107), ('that', 15924), ('-', 15595)]\n",
            "253\n"
          ]
        }
      ]
    },
    {
      "cell_type": "markdown",
      "source": [
        "***\n",
        "It may take a moment to run this script, as the movie reviews dataset is somewhat large. Let's cover what is happening here.\n",
        "***\n",
        "After importing the data set we want, you see:\n",
        "```\n",
        "documents = [(list(movie_reviews.words(fileid)), category)\n",
        "             for category in movie_reviews.categories()\n",
        "             for fileid in movie_reviews.fileids(category)]\n",
        "```\n",
        "Basically, in plain English, the above code is translated to: In each category (we have pos or neg), take all of the file IDs (each review has its own ID), then store the word_tokenized version (a list of words) for the file ID, followed by the positive or negative label in one big list.\n",
        "***\n",
        "Next, we use random to shuffle our documents. This is because we're going to be training and testing. If we left them in order, chances are we'd train on all of the negatives, some positives, and then test only against positives. We don't want that, so we shuffle the data.\n",
        "***\n",
        "Then, just so you can see the data you are working with, we print out documents[1], which is a big list, where the first element is a list the words, and the 2nd element is the \"pos\" or \"neg\" label.\n",
        "***\n",
        "Next, we want to collect all words that we find, so we can have a massive list of typical words. From here, we can perform a frequency distribution, to then find out the most common words. As you will see, the most popular \"words\" are actually things like punctuation, \"the,\" \"a\" and so on, but quickly we get to legitimate words. We intend to store a few thousand of the most popular words, so this shouldn't be a problem.\n",
        "***\n",
        "```\n",
        "print(all_words.most_common(15))\n",
        "```\n",
        "The above gives you the 15 most common words. You can also find out how many occurences a word has by doing:\n",
        "```\n",
        "print(all_words[\"stupid\"])\n",
        "```\n",
        "***\n",
        "Next up, we'll begin storing our words as features of either positive or negative movie reviews.\n",
        "***"
      ],
      "metadata": {
        "id": "unpr6BiRKMlp"
      }
    },
    {
      "cell_type": "markdown",
      "source": [
        "# 12. Converting words to Features"
      ],
      "metadata": {
        "id": "QANXLrtPKxKh"
      }
    },
    {
      "cell_type": "markdown",
      "source": [
        "***\n",
        "Here, we're going to be building off the previous code and compiling feature lists of words from positive reviews and words from the negative reviews to hopefully see trends in specific types of words in positive or negative reviews.\n",
        "***"
      ],
      "metadata": {
        "id": "RvxkxMfRK19M"
      }
    },
    {
      "cell_type": "code",
      "source": [
        "import nltk\n",
        "import random\n",
        "from nltk.corpus import movie_reviews\n",
        "\n",
        "documents = [(list(movie_reviews.words(fileid)), category)\n",
        "             for category in movie_reviews.categories()\n",
        "             for fileid in movie_reviews.fileids(category)]\n",
        "\n",
        "random.shuffle(documents)\n",
        "\n",
        "all_words = []\n",
        "\n",
        "for w in movie_reviews.words():\n",
        "    all_words.append(w.lower())\n",
        "\n",
        "all_words = nltk.FreqDist(all_words)\n",
        "\n",
        "word_features = list(all_words.keys())[:3000]"
      ],
      "metadata": {
        "id": "Kz5gHk_0KMAI"
      },
      "execution_count": 37,
      "outputs": []
    },
    {
      "cell_type": "markdown",
      "source": [
        "***\n",
        "Mostly the same as before, only with now a new variable, word_features, which contains the top 3,000 most common words. Next, we're going to build a quick function that will find these top 3,000 words in our positive and negative documents, marking their presence as either positive or negative:\n",
        "\n",
        "***"
      ],
      "metadata": {
        "id": "OJzxmWrJK-pJ"
      }
    },
    {
      "cell_type": "code",
      "source": [
        "def find_features(document):\n",
        "    words = set(document)\n",
        "    features = {}\n",
        "    for w in word_features:\n",
        "        features[w] = (w in words)\n",
        "\n",
        "    return features"
      ],
      "metadata": {
        "id": "GwfkIxnoK-K4"
      },
      "execution_count": 38,
      "outputs": []
    },
    {
      "cell_type": "markdown",
      "source": [
        "***\n",
        "Next, we can print one feature set like:\n",
        "***"
      ],
      "metadata": {
        "id": "UEd8XSogLHoJ"
      }
    },
    {
      "cell_type": "code",
      "source": [
        "print((find_features(movie_reviews.words('neg/cv000_29416.txt'))))"
      ],
      "metadata": {
        "colab": {
          "base_uri": "https://localhost:8080/"
        },
        "id": "h3FwFOZ4LGs0",
        "outputId": "93af1cc9-5da3-401f-b345-b665e5f92db0"
      },
      "execution_count": 39,
      "outputs": [
        {
          "output_type": "stream",
          "name": "stdout",
          "text": [
            "{'plot': True, ':': True, 'two': True, 'teen': True, 'couples': True, 'go': True, 'to': True, 'a': True, 'church': True, 'party': True, ',': True, 'drink': True, 'and': True, 'then': True, 'drive': True, '.': True, 'they': True, 'get': True, 'into': True, 'an': True, 'accident': True, 'one': True, 'of': True, 'the': True, 'guys': True, 'dies': True, 'but': True, 'his': True, 'girlfriend': True, 'continues': True, 'see': True, 'him': True, 'in': True, 'her': True, 'life': True, 'has': True, 'nightmares': True, 'what': True, \"'\": True, 's': True, 'deal': True, '?': True, 'watch': True, 'movie': True, '\"': True, 'sorta': True, 'find': True, 'out': True, 'critique': True, 'mind': True, '-': True, 'fuck': True, 'for': True, 'generation': True, 'that': True, 'touches': True, 'on': True, 'very': True, 'cool': True, 'idea': True, 'presents': True, 'it': True, 'bad': True, 'package': True, 'which': True, 'is': True, 'makes': True, 'this': True, 'review': True, 'even': True, 'harder': True, 'write': True, 'since': True, 'i': True, 'generally': True, 'applaud': True, 'films': True, 'attempt': True, 'break': True, 'mold': True, 'mess': True, 'with': True, 'your': True, 'head': True, 'such': True, '(': True, 'lost': True, 'highway': True, '&': True, 'memento': True, ')': True, 'there': True, 'are': True, 'good': True, 'ways': True, 'making': True, 'all': True, 'types': True, 'these': True, 'folks': True, 'just': True, 'didn': True, 't': True, 'snag': True, 'correctly': True, 'seem': True, 'have': True, 'taken': True, 'pretty': True, 'neat': True, 'concept': True, 'executed': True, 'terribly': True, 'so': True, 'problems': True, 'well': True, 'its': True, 'main': True, 'problem': True, 'simply': True, 'too': True, 'jumbled': True, 'starts': True, 'off': True, 'normal': True, 'downshifts': True, 'fantasy': True, 'world': True, 'you': True, 'as': True, 'audience': True, 'member': True, 'no': True, 'going': True, 'dreams': True, 'characters': True, 'coming': True, 'back': True, 'from': True, 'dead': True, 'others': True, 'who': True, 'look': True, 'like': True, 'strange': True, 'apparitions': True, 'disappearances': True, 'looooot': True, 'chase': True, 'scenes': True, 'tons': True, 'weird': True, 'things': True, 'happen': True, 'most': True, 'not': True, 'explained': True, 'now': True, 'personally': True, 'don': True, 'trying': True, 'unravel': True, 'film': True, 'every': True, 'when': True, 'does': True, 'give': True, 'me': True, 'same': True, 'clue': True, 'over': True, 'again': True, 'kind': True, 'fed': True, 'up': True, 'after': True, 'while': True, 'biggest': True, 'obviously': True, 'got': True, 'big': True, 'secret': True, 'hide': True, 'seems': True, 'want': True, 'completely': True, 'until': True, 'final': True, 'five': True, 'minutes': True, 'do': True, 'make': True, 'entertaining': True, 'thrilling': True, 'or': True, 'engaging': True, 'meantime': True, 'really': True, 'sad': True, 'part': True, 'arrow': True, 'both': True, 'dig': True, 'flicks': True, 'we': True, 'actually': True, 'figured': True, 'by': True, 'half': True, 'way': True, 'point': True, 'strangeness': True, 'did': True, 'start': True, 'little': True, 'bit': True, 'sense': True, 'still': True, 'more': True, 'guess': True, 'bottom': True, 'line': True, 'movies': True, 'should': True, 'always': True, 'sure': True, 'before': True, 'given': True, 'password': True, 'enter': True, 'understanding': True, 'mean': True, 'showing': True, 'melissa': True, 'sagemiller': True, 'running': True, 'away': True, 'visions': True, 'about': True, '20': True, 'throughout': True, 'plain': True, 'lazy': True, '!': True, 'okay': True, 'people': True, 'chasing': True, 'know': True, 'need': True, 'how': True, 'giving': True, 'us': True, 'different': True, 'offering': True, 'further': True, 'insight': True, 'down': True, 'apparently': True, 'studio': True, 'took': True, 'director': True, 'chopped': True, 'themselves': True, 'shows': True, 'might': True, 've': True, 'been': True, 'decent': True, 'here': True, 'somewhere': True, 'suits': True, 'decided': True, 'turning': True, 'music': True, 'video': True, 'edge': True, 'would': True, 'actors': True, 'although': True, 'wes': True, 'bentley': True, 'seemed': True, 'be': True, 'playing': True, 'exact': True, 'character': True, 'he': True, 'american': True, 'beauty': True, 'only': True, 'new': True, 'neighborhood': True, 'my': True, 'kudos': True, 'holds': True, 'own': True, 'entire': True, 'feeling': True, 'unraveling': True, 'overall': True, 'doesn': True, 'stick': True, 'because': True, 'entertain': True, 'confusing': True, 'rarely': True, 'excites': True, 'feels': True, 'redundant': True, 'runtime': True, 'despite': True, 'ending': True, 'explanation': True, 'craziness': True, 'came': True, 'oh': True, 'horror': True, 'slasher': True, 'flick': True, 'packaged': True, 'someone': True, 'assuming': True, 'genre': True, 'hot': True, 'kids': True, 'also': True, 'wrapped': True, 'production': True, 'years': True, 'ago': True, 'sitting': True, 'shelves': True, 'ever': True, 'whatever': True, 'skip': True, 'where': True, 'joblo': True, 'nightmare': True, 'elm': True, 'street': True, '3': True, '7': True, '/': True, '10': True, 'blair': True, 'witch': True, '2': True, 'crow': True, '9': True, 'salvation': True, '4': True, 'stir': True, 'echoes': True, '8': True, 'happy': False, 'bastard': False, 'quick': False, 'damn': False, 'y2k': False, 'bug': False, 'starring': False, 'jamie': False, 'lee': False, 'curtis': False, 'another': False, 'baldwin': False, 'brother': False, 'william': False, 'time': False, 'story': False, 'regarding': False, 'crew': False, 'tugboat': False, 'comes': False, 'across': False, 'deserted': False, 'russian': False, 'tech': False, 'ship': False, 'kick': False, 'power': False, 'within': False, 'gore': False, 'bringing': False, 'few': False, 'action': False, 'sequences': False, 'virus': False, 'empty': False, 'flash': False, 'substance': False, 'why': False, 'was': False, 'middle': False, 'nowhere': False, 'origin': False, 'pink': False, 'flashy': False, 'thing': False, 'hit': False, 'mir': False, 'course': False, 'donald': False, 'sutherland': False, 'stumbling': False, 'around': False, 'drunkenly': False, 'hey': False, 'let': False, 'some': False, 'robots': False, 'acting': False, 'below': False, 'average': False, 'likes': False, 're': False, 'likely': False, 'work': False, 'halloween': False, 'h20': False, 'wasted': False, 'real': False, 'star': False, 'stan': False, 'winston': False, 'robot': False, 'design': False, 'schnazzy': False, 'cgi': False, 'occasional': False, 'shot': False, 'picking': False, 'brain': False, 'if': False, 'body': False, 'parts': False, 'turn': False, 'otherwise': False, 'much': False, 'sunken': False, 'jaded': False, 'viewer': False, 'thankful': False, 'invention': False, 'timex': False, 'indiglo': False, 'based': False, 'late': False, '1960': False, 'television': False, 'show': False, 'name': False, 'mod': False, 'squad': False, 'tells': False, 'tale': False, 'three': False, 'reformed': False, 'criminals': False, 'under': False, 'employ': False, 'police': False, 'undercover': False, 'however': False, 'wrong': False, 'evidence': False, 'gets': False, 'stolen': False, 'immediately': False, 'suspicion': False, 'ads': False, 'cuts': False, 'claire': False, 'dane': False, 'nice': False, 'hair': False, 'cute': False, 'outfits': False, 'car': False, 'chases': False, 'stuff': False, 'blowing': False, 'sounds': False, 'first': False, 'fifteen': False, 'quickly': False, 'becomes': False, 'apparent': False, 'certainly': False, 'slick': False, 'looking': False, 'complete': False, 'costumes': False, 'isn': False, 'enough': False, 'best': False, 'described': False, 'cross': False, 'between': False, 'hour': False, 'long': False, 'cop': False, 'stretched': False, 'span': False, 'single': False, 'clich': False, 'matter': False, 'elements': False, 'recycled': False, 'everything': False, 'already': False, 'seen': False, 'nothing': False, 'spectacular': False, 'sometimes': False, 'bordering': False, 'wooden': False, 'danes': False, 'omar': False, 'epps': False, 'deliver': False, 'their': False, 'lines': False, 'bored': False, 'transfers': False, 'onto': False, 'escape': False, 'relatively': False, 'unscathed': False, 'giovanni': False, 'ribisi': False, 'plays': False, 'resident': False, 'crazy': False, 'man': False, 'ultimately': False, 'being': False, 'worth': False, 'watching': False, 'unfortunately': False, 'save': False, 'convoluted': False, 'apart': False, 'occupying': False, 'screen': False, 'young': False, 'cast': False, 'clothes': False, 'hip': False, 'soundtrack': False, 'appears': False, 'geared': False, 'towards': False, 'teenage': False, 'mindset': False, 'r': False, 'rating': False, 'content': False, 'justify': False, 'juvenile': False, 'older': False, 'information': False, 'literally': False, 'spoon': False, 'hard': False, 'instead': False, 'telling': False, 'dialogue': False, 'poorly': False, 'written': False, 'extremely': False, 'predictable': False, 'progresses': False, 'won': False, 'care': False, 'heroes': False, 'any': False, 'jeopardy': False, 'll': False, 'aren': False, 'basing': False, 'nobody': False, 'remembers': False, 'questionable': False, 'wisdom': False, 'especially': False, 'considers': False, 'target': False, 'fact': False, 'number': False, 'memorable': False, 'can': False, 'counted': False, 'hand': False, 'missing': False, 'finger': False, 'times': False, 'checked': False, 'six': False, 'clear': False, 'indication': False, 'them': False, 'than': False, 'cash': False, 'spending': False, 'dollar': False, 'judging': False, 'rash': False, 'awful': False, 'seeing': False, 'avoid': False, 'at': False, 'costs': False, 'quest': False, 'camelot': False, 'warner': False, 'bros': False, 'feature': False, 'length': False, 'fully': False, 'animated': False, 'steal': False, 'clout': False, 'disney': False, 'cartoon': False, 'empire': False, 'mouse': False, 'reason': False, 'worried': False, 'other': False, 'recent': False, 'challenger': False, 'throne': False, 'last': False, 'fall': False, 'promising': False, 'flawed': False, '20th': False, 'century': False, 'fox': False, 'anastasia': False, 'hercules': False, 'lively': False, 'colorful': False, 'palate': False, 'had': False, 'beat': False, 'hands': False, 'crown': False, '1997': False, 'piece': False, 'animation': False, 'year': False, 'contest': False, 'arrival': False, 'magic': False, 'kingdom': False, 'mediocre': False, '--': False, 'd': False, 'pocahontas': False, 'those': False, 'keeping': False, 'score': False, 'nearly': False, 'dull': False, 'revolves': False, 'adventures': False, 'free': False, 'spirited': False, 'kayley': False, 'voiced': False, 'jessalyn': False, 'gilsig': False, 'early': False, 'daughter': False, 'belated': False, 'knight': False, 'king': False, 'arthur': False, 'round': False, 'table': False, 'dream': False, 'follow': False, 'father': False, 'footsteps': False, 'she': False, 'chance': False, 'evil': False, 'warlord': False, 'ruber': False, 'gary': False, 'oldman': False, 'ex': False, 'gone': False, 'steals': False, 'magical': False, 'sword': False, 'excalibur': False, 'accidentally': False, 'loses': False, 'dangerous': False, 'booby': False, 'trapped': False, 'forest': False, 'help': False, 'hunky': False, 'blind': False, 'timberland': False, 'dweller': False, 'garrett': False, 'carey': False, 'elwes': False, 'headed': False, 'dragon': False, 'eric': False, 'idle': False, 'rickles': False, 'arguing': False, 'itself': False, 'able': False, 'medieval': False, 'sexist': False, 'prove': False, 'fighter': False, 'side': False, 'pure': False, 'showmanship': False, 'essential': False, 'element': False, 'expected': False, 'climb': False, 'high': False, 'ranks': False, 'differentiates': False, 'something': False, 'saturday': False, 'morning': False, 'subpar': False, 'instantly': False, 'forgettable': False, 'songs': False, 'integrated': False, 'computerized': False, 'footage': False, 'compare': False, 'run': False, 'angry': False, 'ogre': False, 'herc': False, 'battle': False, 'hydra': False, 'rest': False, 'case': False, 'stink': False, 'none': False, 'remotely': False, 'interesting': False, 'race': False, 'bland': False, 'end': False, 'tie': False, 'win': False, 'comedy': False, 'shtick': False, 'awfully': False, 'cloying': False, 'least': False, 'signs': False, 'pulse': False, 'fans': False, \"-'\": False, '90s': False, 'tgif': False, 'will': False, 'thrilled': False, 'jaleel': False, 'urkel': False, 'white': False, 'bronson': False, 'balki': False, 'pinchot': False, 'sharing': False, 'nicely': False, 'realized': False, 'though': False, 'm': False, 'loss': False, 'recall': False, 'specific': False, 'providing': False, 'voice': False, 'talent': False, 'enthusiastic': False, 'paired': False, 'singers': False, 'sound': False, 'musical': False, 'moments': False, 'jane': False, 'seymour': False, 'celine': False, 'dion': False, 'must': False, 'strain': False, 'through': False, 'aside': False, 'children': False, 'probably': False, 'adults': False, 'grievous': False, 'error': False, 'lack': False, 'personality': False, 'learn': False, 'goes': False, 'synopsis': False, 'mentally': False, 'unstable': False, 'undergoing': False, 'psychotherapy': False, 'saves': False, 'boy': False, 'potentially': False, 'fatal': False, 'falls': False, 'love': False, 'mother': False, 'fledgling': False, 'restauranteur': False, 'unsuccessfully': False, 'attempting': False, 'gain': False, 'woman': False, 'favor': False, 'takes': False, 'pictures': False, 'kills': False, 'comments': False, 'stalked': False, 'yet': False, 'seemingly': False, 'endless': False, 'string': False, 'spurned': False, 'psychos': False, 'getting': False, 'revenge': False, 'type': False, 'stable': False, 'category': False, '1990s': False, 'industry': False, 'theatrical': False, 'direct': False, 'proliferation': False, 'may': False, 'due': False, 'typically': False, 'inexpensive': False, 'produce': False, 'special': False, 'effects': False, 'stars': False, 'serve': False, 'vehicles': False, 'nudity': False, 'allowing': False, 'frequent': False, 'night': False, 'cable': False, 'wavers': False, 'slightly': False, 'norm': False, 'respect': False, 'psycho': False, 'never': False, 'affair': False, ';': False, 'contrary': False, 'rejected': False, 'rather': False, 'lover': False, 'wife': False, 'husband': False, 'entry': False, 'doomed': False, 'collect': False, 'dust': False, 'viewed': False, 'midnight': False, 'provide': False, 'suspense': False, 'sets': False, 'interspersed': False, 'opening': False, 'credits': False, 'instance': False, 'serious': False, 'sounding': False, 'narrator': False, 'spouts': False, 'statistics': False, 'stalkers': False, 'ponders': False, 'cause': False, 'stalk': False, 'implicitly': False, 'implied': False, 'men': False, 'shown': False, 'snapshot': False, 'actor': False, 'jay': False, 'underwood': False, 'states': False, 'daryl': False, 'gleason': False, 'stalker': False, 'brooke': False, 'daniels': False, 'meant': False, 'called': False, 'guesswork': False, 'required': False, 'proceeds': False, 'begins': False, 'obvious': False, 'sequence': False, 'contrived': False, 'quite': False, 'brings': False, 'victim': False, 'together': False, 'obsesses': False, 'follows': False, 'tries': False, 'woo': False, 'plans': False, 'become': False, 'desperate': False, 'elaborate': False, 'include': False, 'cliche': False, 'murdered': False, 'pet': False, 'require': False, 'found': False, 'exception': False, 'cat': False, 'shower': False, 'events': False, 'lead': False, 'inevitable': False, 'showdown': False, 'survives': False, 'invariably': False, 'conclusion': False, 'turkey': False, 'uniformly': False, 'adequate': False, 'anything': False, 'home': False, 'either': False, 'turns': False, 'toward': False, 'melodrama': False, 'overdoes': False, 'words': False, 'manages': False, 'creepy': False, 'pass': False, 'demands': False, 'maryam': False, 'abo': False, 'close': False, 'played': False, 'bond': False, 'chick': False, 'living': False, 'daylights': False, 'equally': False, 'title': False, 'ditzy': False, 'strong': False, 'independent': False, 'business': False, 'owner': False, 'needs': False, 'proceed': False, 'example': False, 'suspicions': False, 'ensure': False, 'use': False, 'excuse': False, 'decides': False, 'return': False, 'toolbox': False, 'left': False, 'place': False, 'house': False, 'leave': False, 'door': False, 'answers': False, 'opens': False, 'wanders': False, 'returns': False, 'enters': False, 'our': False, 'heroine': False, 'danger': False, 'somehow': False, 'parked': False, 'front': False, 'right': False, 'oblivious': False, 'presence': False, 'inside': False, 'whole': False, 'episode': False, 'places': False, 'incredible': False, 'suspension': False, 'disbelief': False, 'questions': False, 'validity': False, 'intelligence': False, 'receives': False, 'highly': False, 'derivative': False, 'somewhat': False, 'boring': False, 'cannot': False, 'watched': False, 'rated': False, 'mostly': False, 'several': False, 'murder': False, 'brief': False, 'strip': False, 'bar': False, 'offensive': False, 'many': False, 'thrillers': False, 'mood': False, 'stake': False, 'else': False, 'capsule': False, '2176': False, 'planet': False, 'mars': False, 'taking': False, 'custody': False, 'accused': False, 'murderer': False, 'face': False, 'menace': False, 'lot': False, 'fighting': False, 'john': False, 'carpenter': False, 'reprises': False, 'ideas': False, 'previous': False, 'assault': False, 'precinct': False, '13': False, 'homage': False, 'himself': False, '0': False, '+': False, 'believes': False, 'fight': False, 'horrible': False, 'writer': False, 'supposedly': False, 'expert': False, 'mistake': False, 'ghosts': False, 'drawn': False, 'humans': False, 'surprisingly': False, 'low': False, 'powered': False, 'alien': False, 'addition': False, 'anybody': False, 'made': False, 'grounds': False, 'sue': False, 'chock': False, 'full': False, 'pieces': False, 'prince': False, 'darkness': False, 'surprising': False, 'managed': False, 'fit': False, 'admittedly': False, 'novel': False, 'science': False, 'fiction': False, 'experience': False, 'terraformed': False, 'walk': False, 'surface': False, 'without': False, 'breathing': False, 'gear': False, 'budget': False, 'mentioned': False, 'gravity': False, 'increased': False, 'earth': False, 'easier': False, 'society': False, 'changed': False, 'advanced': False, 'culture': False, 'women': False, 'positions': False, 'control': False, 'view': False, 'stagnated': False, 'female': False, 'beyond': False, 'minor': False, 'technological': False, 'advances': False, 'less': False, '175': False, 'expect': False, 'change': False, 'ten': False, 'basic': False, 'common': False, 'except': False, 'yes': False, 'replaced': False, 'tacky': False, 'rundown': False, 'martian': False, 'mining': False, 'colony': False, 'having': False, 'criminal': False, 'napolean': False, 'wilson': False, 'desolation': False, 'williams': False, 'facing': False, 'hoodlums': False, 'automatic': False, 'weapons': False, 'nature': False, 'behave': False, 'manner': False, 'essentially': False, 'human': False, 'savages': False, 'lapse': False, 'imagination': False, 'told': False, 'flashback': False, 'entirely': False, 'filmed': False, 'almost': False, 'tones': False, 'red': False, 'yellow': False, 'black': False, 'powerful': False, 'scene': False, 'train': False, 'rushing': False, 'heavy': False, 'sadly': False, 'buildup': False, 'terror': False, 'creates': False, 'looks': False, 'fugitive': False, 'wannabes': False, 'rock': False, 'band': False, 'kiss': False, 'building': False, 'bunch': False, 'sudden': False, 'jump': False, 'sucker': False, 'thinking': False, 'scary': False, 'happening': False, 'standard': False, 'haunted': False, 'shock': False, 'great': False, 'newer': False, 'unimpressive': False, 'digital': False, 'decapitations': False, 'fights': False, 'short': False, 'stretch': False, 'release': False, 'mission': False, 'panned': False, 'reviewers': False, 'better': False, 'rate': False, 'scale': False, 'following': False, 'showed': False, 'liked': False, 'moderately': False, 'classic': False, 'comment': False, 'twice': False, 'ask': False, 'yourself': False, '8mm': False, 'eight': False, 'millimeter': False, 'wholesome': False, 'surveillance': False, 'sight': False, 'values': False, 'becoming': False, 'enmeshed': False, 'seedy': False, 'sleazy': False, 'underworld': False, 'hardcore': False, 'pornography': False, 'bubbling': False, 'beneath': False, 'town': False, 'americana': False, 'sordid': False, 'sick': False, 'depraved': False, 'necessarily': False, 'stop': False, 'order': False, 'satisfy': False, 'twisted': False, 'desires': False, 'position': False, 'influence': False, 'kinds': False, 'demented': False, 'talking': False, 'snuff': False, 'supposed': False, 'documentaries': False, 'victims': False, 'brutalized': False, 'killed': False, 'camera': False, 'joel': False, 'schumacher': False, 'credit': False, 'batman': False, 'robin': False, 'kill': False, 'forever': False, 'client': False, 'thirds': False, 'unwind': False, 'fairly': False, 'conventional': False, 'persons': False, 'drama': False, 'albeit': False, 'particularly': False, 'unsavory': False, 'core': False, 'threatening': False, 'along': False, 'explodes': False, 'violence': False, 'think': False, 'finally': False, 'tags': False, 'ridiculous': False, 'self': False, 'righteous': False, 'finale': False, 'drags': False, 'unpleasant': False, 'trust': False, 'waste': False, 'hours': False, 'nicolas': False, 'snake': False, 'eyes': False, 'cage': False, 'private': False, 'investigator': False, 'tom': False, 'welles': False, 'hired': False, 'wealthy': False, 'philadelphia': False, 'widow': False, 'determine': False, 'whether': False, 'reel': False, 'safe': False, 'documents': False, 'girl': False, 'assignment': False, 'factly': False, 'puzzle': False, 'neatly': False, 'specialized': False, 'skills': False, 'training': False, 'easy': False, 'cops': False, 'toilet': False, 'tanks': False, 'clues': False, 'deeper': False, 'digs': False, 'investigation': False, 'obsessed': False, 'george': False, 'c': False, 'scott': False, 'paul': False, 'schrader': False, 'occasionally': False, 'flickering': False, 'whirs': False, 'sprockets': False, 'winding': False, 'projector': False, 'reminding': False, 'task': False, 'hints': False, 'toll': False, 'lovely': False, 'catherine': False, 'keener': False, 'frustrated': False, 'cleveland': False, 'ugly': False, 'split': False, 'level': False, 'harrisburg': False, 'pa': False, 'condemn': False, 'condone': False, 'subject': False, 'exploits': False, 'irony': False, 'seven': False, 'scribe': False, 'andrew': False, 'kevin': False, 'walker': False, 'vision': False, 'lane': False, 'limited': False, 'hollywood': False, 'product': False, 'snippets': False, 'covering': False, 'later': False, 'joaquin': False, 'phoenix': False, 'far': False, 'adult': False, 'bookstore': False, 'flunky': False, 'max': False, 'california': False, 'cover': False, 'horrid': False, 'screened': False, 'familiar': False, 'revelation': False, 'sexual': False, 'deviants': False, 'indeed': False, 'monsters': False, 'everyday': False, 'neither': False, 'super': False, 'nor': False, 'shocking': False, 'banality': False, 'exactly': False, 'felt': False, 'weren': False, 'nine': False, 'laughs': False, 'months': False, 'terrible': False, 'mr': False, 'hugh': False, 'grant': False, 'huge': False, 'dork': False, 'oral': False, 'sex': False, 'prostitution': False, 'referring': False, 'bugs': False, 'annoying': False, 'adam': False, 'sandler': False, 'jim': False, 'carrey': False, 'eye': False, 'flutters': False, 'nervous': False, 'smiles': False, 'slapstick': False, 'fistfight': False, 'delivery': False, 'room': False, 'culminating': False, 'joan': False, 'cusack': False, 'lap': False, 'paid': False, '$': False, '60': False, 'included': False, 'obscene': False, 'double': False, 'entendres': False, 'obstetrician': False, 'pregnant': False, 'pussy': False, 'size': False, 'hairs': False, 'coat': False, 'nonetheless': False, 'exchange': False, 'cookie': False, 'cutter': False, 'originality': False, 'humor': False, 'successful': False, 'child': False, 'psychiatrist': False, 'psychologist': False, 'scriptwriters': False, 'could': False, 'inject': False, 'unfunny': False, 'kid': False, 'dad': False, 'asshole': False, 'eyelashes': False, 'offers': False, 'smile': False, 'responds': False, 'english': False, 'accent': False, 'attitude': False, 'possibly': False, '_huge_': False, 'beside': False, 'includes': False, 'needlessly': False, 'stupid': False, 'jokes': False, 'olds': False, 'everyone': False, 'shakes': False, 'anyway': False, 'finds': False, 'usual': False, 'reaction': False, 'fluttered': False, 'paves': False, 'possible': False, 'pregnancy': False, 'birth': False, 'gag': False, 'book': False, 'friend': False, 'arnold': False, 'provides': False, 'cacophonous': False, 'funny': False, 'beats': False, 'costumed': False, 'arnie': False, 'dinosaur': False, 'draw': False, 'parallels': False, 'toy': False, 'store': False, 'jeff': False, 'goldblum': False, 'hid': False, 'dreadful': False, 'hideaway': False, 'artist': False, 'fear': False, 'simultaneous': False, 'longing': False, 'commitment': False, 'doctor': False, 'recently': False, 'switch': False, 'veterinary': False, 'medicine': False, 'obstetrics': False, 'joke': False, 'old': False, 'foreign': False, 'guy': False, 'mispronounces': False, 'stereotype': False, 'say': False, 'yakov': False, 'smirnov': False, 'favorite': False, 'vodka': False, 'hence': False, 'take': False, 'volvo': False, 'nasty': False, 'unamusing': False, 'heads': False, 'simultaneously': False, 'groan': False, 'failure': False, 'loud': False, 'failed': False, 'uninspired': False, 'lunacy': False, 'sunset': False, 'boulevard': False, 'arrest': False, 'please': False, 'caught': False, 'pants': False, 'bring': False, 'theaters': False, 'faces': False, '90': False, 'forced': False, 'unauthentic': False, 'anyone': False, 'q': False, '80': False, 'sorry': False, 'money': False, 'unfulfilled': False, 'desire': False, 'spend': False, 'bucks': False, 'call': False, 'road': False, 'trip': False, 'walking': False, 'wounded': False, 'stellan': False, 'skarsg': False, 'rd': False, 'convincingly': False, 'zombified': False, 'drunken': False, 'loser': False, 'difficult': False, 'smelly': False, 'boozed': False, 'reliable': False, 'swedish': False, 'adds': False, 'depth': False, 'significance': False, 'plodding': False, 'aberdeen': False, 'sentimental': False, 'painfully': False, 'mundane': False, 'european': False, 'playwright': False, 'august': False, 'strindberg': False, 'built': False, 'career': False, 'families': False, 'relationships': False, 'paralyzed': False, 'secrets': False, 'unable': False, 'express': False, 'longings': False, 'accurate': False, 'reflection': False, 'strives': False, 'focusing': False, 'pairing': False, 'alcoholic': False, 'tomas': False, 'alienated': False, 'openly': False, 'hostile': False, 'yuppie': False, 'kaisa': False, 'lena': False, 'headey': False, 'gossip': False, 'haven': False, 'spoken': False, 'wouldn': False, 'norway': False, 'scotland': False, 'automobile': False, 'charlotte': False, 'rampling': False, 'sand': False, 'rotting': False, 'hospital': False, 'bed': False, 'cancer': False, 'soap': False, 'opera': False, 'twist': False, 'days': False, 'live': False, 'blitzed': False, 'step': False, 'foot': False, 'plane': False, 'hits': False, 'open': False, 'loathing': False, 'each': False, 'periodic': False, 'stops': False, 'puke': False, 'dashboard': False, 'whenever': False, 'muttering': False, 'rotten': False, 'turned': False, 'sloshed': False, 'viewpoint': False, 'recognizes': False, 'apple': False, 'hasn': False, 'fallen': False, 'tree': False, 'nosebleeds': False, 'snorting': False, 'coke': False, 'sabotages': False, 'personal': False, 'indifference': False, 'restrain': False, 'vindictive': False, 'temper': False, 'ain': False, 'pair': False, 'true': False, 'notes': False, 'unspoken': False, 'familial': False, 'empathy': False, 'note': False, 'repetitively': False, 'bitchy': False, 'screenwriters': False, 'kristin': False, 'amundsen': False, 'hans': False, 'petter': False, 'moland': False, 'fabricate': False, 'series': False, 'contrivances': False, 'propel': False, 'forward': False, 'roving': False, 'hooligans': False, 'drunks': False, 'nosy': False, 'flat': False, 'tires': False, 'figure': False, 'schematic': False, 'convenient': False, 'narrative': False, 'reach': False, 'unveil': False, 'dark': False, 'past': False, 'simplistic': False, 'devices': False, 'trivialize': False, 'conflict': False, 'mainstays': False, 'wannabe': False, 'exists': False, 'purely': False, 'sake': False, 'weak': False, 'unimaginative': False, 'casting': False, 'thwarts': False, 'pivotal': False, 'role': False, 'were': False, 'stronger': False, 'actress': False, 'perhaps': False, 'coast': False, 'performances': False, 'moody': False, 'haunting': False, 'cinematography': False, 'rendering': False, 'pastoral': False, 'ghost': False, 'reference': False, 'certain': False, 'superior': False, 'indie': False, 'intentional': False, 'busy': False, 'using': False, 'furrowed': False, 'brow': False, 'convey': False, 'twitch': False, 'insouciance': False, 'paying': False, 'attention': False, 'maybe': False, 'doing': False, 'reveal': False, 'worthwhile': False, 'earlier': False, 'released': False, '2001': False, 'jonathan': False, 'nossiter': False, 'captivating': False, 'wonders': False, 'disturbed': False, 'parental': False, 'figures': False, 'bound': False, 'ceremonial': False, 'wedlock': False, 'differences': False, 'presented': False, 'significant': False, 'luminous': False, 'diva': False, 'preening': False, 'static': False, 'solid': False, 'performance': False, 'pathetic': False, 'drunk': False, 'emote': False, 'besides': False, 'catatonic': False, 'sorrow': False, 'genuine': False, 'ferocity': False, 'sexually': False, 'charged': False, 'frisson': False, 'during': False, 'understated': False, 'confrontations': False, 'suggest': False, 'gray': False, 'zone': False, 'complications': False, 'accompany': False, 'torn': False, 'romance': False, 'stifled': False, 'curiosity': False, 'thoroughly': False, 'explores': False, 'neurotic': False, 'territory': False, 'delving': False, 'americanization': False, 'greece': False, 'mysticism': False, 'illusion': False, 'deflect': False, 'pain': False, 'overloaded': False, 'willing': False, 'come': False, 'traditional': False, 'ambitious': False, 'sleepwalk': False, 'rhythms': False, 'timing': False, 'driven': False, 'stories': False, 'complexities': False, 'depressing': False, 'answer': False, 'lawrence': False, 'kasdan': False, 'trite': False, 'useful': False, 'grand': False, 'canyon': False, 'steve': False, 'martin': False, 'mogul': False, 'pronounces': False, 'riddles': False, 'answered': False, 'advice': False, 'heart': False, 'french': False, 'sees': False, 'parents': False, 'tim': False, 'roth': False, 'oops': False, 'vows': False, 'taught': False, 'musketeer': False, 'dude': False, 'used': False, 'fourteen': False, 'arrgh': False, 'swish': False, 'zzzzzzz': False, 'original': False, 'lacks': False, 'energy': False, 'next': False, 'hmmmm': False, 'justin': False, 'chambers': False, 'basically': False, 'uncharismatic': False, 'version': False, 'chris': False, 'o': False, 'donnell': False, 'range': False, 'mena': False, 'suvari': False, 'thora': False, 'birch': False, 'dungeons': False, 'dragons': False, 'miscast': False, 'deliveries': False, 'piss': False, 'poor': False, 'ms': False, 'fault': False, 'definitely': False, 'higher': False, 'semi': False, 'saving': False, 'grace': False, 'wise': False, 'irrepressible': False, 'once': False, 'thousand': False, 'god': False, 'beg': False, 'agent': False, 'marketplace': False, 'modern': False, 'day': False, 'roles': False, 'romantic': False, 'gunk': False, 'alright': False, 'yeah': False, 'yikes': False, 'notches': False, 'fellas': False, 'blares': False, 'ear': False, 'accentuate': False, 'annoy': False, 'important': False, 'behind': False, 'recognize': False, 'epic': False, 'fluffy': False, 'rehashed': False, 'cake': False, 'created': False, 'shrewd': False, 'advantage': False, 'kung': False, 'fu': False, 'phenomenon': False, 'test': False, 'dudes': False, 'keep': False, 'reading': False, 'editing': False, 'shoddy': False, 'banal': False, 'stilted': False, 'plentiful': False, 'top': False, 'horse': False, 'carriage': False, 'stand': False, 'opponent': False, 'scampering': False, 'cut': False, 'mouseketeer': False, 'rope': False, 'tower': False, 'jumping': False, 'chords': False, 'hanging': False, 'says': False, '14': False, 'shirt': False, 'strayed': False, 'championing': False, 'fun': False, 'stretches': False, 'atrocious': False, 'lake': False, 'reminded': False, 'school': False, 'cringe': False, 'musketeers': False, 'fat': False, 'raison': False, 'etre': False, 'numbers': False, 'hoping': False, 'packed': False, 'stuntwork': False, 'promoted': False, 'trailer': False, 'major': False, 'swashbuckling': False, 'beginning': False, 'finishes': False, 'juggling': False, 'ladders': False, 'ladder': False, 'definite': False, 'keeper': False, 'regurgitated': False, 'crap': False, 'tell': False, 'deneuve': False, 'placed': False, 'hullo': False, 'barely': False, 'ugh': False, 'small': False, 'annoyed': False, 'trash': False, 'gang': False, 'vow': False, 'stay': False, 'thank': False, 'outlaws': False, '5': False, 'crouching': False, 'tiger': False, 'hidden': False, 'matrix': False, 'replacement': False, 'killers': False, '6': False, 'romeo': False, 'die': False, 'shanghai': False, 'noon': False, 'remembered': False, 'dr': False, 'hannibal': False, 'lecter': False, 'michael': False, 'mann': False, 'forensics': False, 'thriller': False, 'manhunter': False, 'scottish': False, 'brian': False, 'cox': False, 'works': False, 'usually': False, 'schlock': False, 'halfway': False, 'goodnight': False, 'meaty': False, 'substantial': False, 'brilliant': False, 'check': False, 'dogged': False, 'inspector': False, 'opposite': False, 'frances': False, 'mcdormand': False, 'ken': False, 'loach': False, 'agenda': False, 'harrigan': False, 'disturbing': False, 'l': False, 'e': False, '47': False, 'picked': False, 'sundance': False, 'distributors': False, 'scared': False, 'budge': False, 'dares': False, 'speak': False, 'expresses': False, 'seeking': False, 'adolescents': False, 'pad': False, 'bothered': False, 'members': False, 'presentation': False, 'oddly': False, 'empathetic': False, 'light': False, 'tempered': False, 'robust': False, 'listens': False, 'opposed': False, 'friends': False, 'wire': False, 'act': False, 'confused': False, 'lives': False, 'pay': False, 'courtship': False, 'charming': False, 'temptations': False, 'grown': False, 'stands': False, 'island': False, 'expressway': False, 'slices': False, 'malls': False, 'class': False, 'homes': False, 'suburbia': False, 'filmmaker': False, 'cuesta': False, 'uses': False, 'transparent': False, 'metaphor': False, '15': False, 'protagonist': False, 'howie': False, 'franklin': False, 'dano': False, 'reveals': False, 'morbid': False, 'preoccupation': False, 'death': False, 'citing': False, 'deaths': False, 'alan': False, 'j': False, 'pakula': False, 'songwriter': False, 'harry': False, 'chapin': False, 'exit': False, '52': False, 'fascinated': False, 'feelings': False, 'projected': False, 'bright': False, 'move': False, 'force': False, 'complex': False, 'molesters': False, 'beast': False, 'ashamed': False, 'worked': False, 'ill': False, 'advised': False, 'foray': False, 'unnecessary': False, 'padding': False, 'miserable': False, 'bruce': False, 'altman': False, 'seat': False, 'collar': False, 'crime': False, 'degenerate': False, 'youngsters': False, 'kicks': False, 'robbing': False, 'houses': False, 'homoerotic': False, 'shenanigans': False, 'ass': False, 'terrio': False, 'billy': False, 'kay': False, 'handsome': False, 'artful': False, 'dodger': False, 'add': False, 'themes': False, 'suburban': False, 'ennui': False, 'needed': False, 'awkward': False, 'subplots': False, 'concurrently': False, 'relationship': False, 'evenly': False, 'paced': False, 'exceptionally': False, 'acted': False, 'sporting': False, 'baseball': False, 'cap': False, 'faded': False, 'marine': False, 'tattoo': False, 'bluff': False, 'bluster': False, 'quiet': False, 'glance': False, 'withdrawn': False, 'whose': False, 'dramatic': False, 'choices': False, 'broad': False, 'calling': False, 'haley': False, 'restraint': False, 'admirable': False, 'screenplay': False, 'material': False, 'reads': False, 'walt': False, 'whitman': False, 'poem': False, 'moment': False, 'precious': False, 'lingers': False, 'ecstatic': False, 'hearing': False, 'glenn': False, 'gould': False, 'performing': False, 'bach': False, 'goldberg': False, 'variations': False, 'involving': False, 'walter': False, 'masterson': False, 'jealous': False, 'newbie': False, 'thread': False, 'predictably': False, 'leads': False, 'observational': False, 'portrait': False, 'alienation': False, 'royally': False, 'screwed': False, 'terry': False, 'zwigoff': False, 'superb': False, 'confidence': False, 'ambivalent': False, 'typical': False, 'cinema': False, 'wrap': False, 'bullet': False, 'sparing': False, 'writers': False, 'philosophical': False, 'regard': False, 'countless': False, 'share': False, 'blockbuster': False, 'solved': False, 'obstacle': False, 'removed': False, 'often': False, 'extend': False, 'question': False, 'striving': False, 'realism': False, 'destroy': False, 'janeane': False, 'garofalo': False, 'couple': False, 'truth': False, 'cats': False, 'dogs': False, 'excruciating': False, 'matchmaker': False, 'books': False, 'plods': False, 'predestined': False, 'surprises': False, 'jumps': False, 'popular': False, 'political': False, 'satire': False, 'bandwagon': False, 'campaign': False, 'aide': False, 'massacusetts': False, 'senator': False, 'sanders': False, 'reelection': False, 'denis': False, 'leary': False, 'stereotypical': False, 'strategist': False, 'ethics': False, 'scandal': False, 'plagued': False, 'play': False, 'irish': False, 'roots': False, 'boston': False, 'roman': False, 'catholic': False, 'democrat': False, 'contingent': False, 'kennedy': False, 'family': False, 'orders': False, 'ireland': False, 'relatives': False, 'exploit': False, 'soon': False, 'learns': False, 'said': False, 'done': False, 'mantra': False, 'tiny': False, 'misses': False, 'bus': False, 'hotel': False, 'ends': False, 'smallest': False, 'trashiest': False, 'dog': False, 'luggage': False, 'roger': False, 'ebert': False, 'calls': False, 'meet': False, 'happens': False, 'unconventional': False, 'cinematic': False, 'walks': False, 'bathroom': False, 'nude': False, 'sean': False, 'david': False, 'hara': False, 'bathtub': False, 'points': False, 'guessing': False, 'water': False, 'hates': False, 'instant': False, 'saw': False, 'irishman': False, 'hate': False, 'awhile': False, 'succumb': False, 'charms': False, 'happily': False, 'superficial': False, 'detail': False, 'throw': False, 'turmoil': False, 'reconcile': False, 'tune': False, 'annual': False, 'matchmaking': False, 'festival': False, 'lonely': False, 'county': False, 'future': False, 'bliss': False, 'milo': False, 'shea': False, 'snyder': False, 'pops': False, 'onscreen': False, 'spew': False, 'souls': False, 'assured': False, 'match': False, 'utter': False, 'predictability': False, 'message': False, 'respectable': False, 'person': False, 'comedic': False, 'distinction': False, 'sell': False, 'script': False, 'excited': False, 'stays': False, 'stateside': False, 'yelling': False, 'phone': False, 'undoes': False, 'microphone': False, 'speech': False, 'known': False, 'flying': False, 'hong': False, 'kong': False, 'style': False, 'filmmaking': False, 'classics': False, 'nod': False, 'asia': False, 'france': False, 'lukewarm': False, 'dumas': False, 'asian': False, 'stunt': False, 'coordinator': False, 'xing': False, 'xiong': False, 'prior': False, 'attempts': False, 'choreography': False, 'laughable': False, 'van': False, 'damme': False, 'vehicle': False, 'team': False, 'dennis': False, 'rodman': False, 'simon': False, 'sez': False, 'thrown': False, 'air': False, 'result': False, 'tepid': False, 'adventure': False, 'rip': False, 'stinks': False, 'indiana': False, 'jones': False, 'simple': False, 'grandmother': False, 'adapted': False, 'artagnan': False, 'vengeful': False, 'son': False, 'slain': False, 'travels': False, 'paris': False, 'join': False, 'royal': False, 'meets': False, 'cunning': False, 'cardinal': False, 'richelieu': False, 'stephen': False, 'rea': False, 'overthrow': False, 'associate': False, 'febre': False, 'killer': False, 'disbanded': False, 'rounds': False, 'aramis': False, 'nick': False, 'moran': False, 'athos': False, 'jan': False, 'gregor': False, 'kremp': False, 'porthos': False, 'steven': False, 'spiers': False, 'wrongfully': False, 'imprisoned': False, 'leader': False, 'treville': False, 'prison': False, 'frisky': False, 'interest': False, 'chambermaid': False, 'francesca': False, 'footsy': False, 'coo': False, 'hunts': False, 'queen': False, 'captured': False, 'menancing': False, 'forcing': False, 'regroup': False, 'leading': False, 'charge': False, 'peter': False, 'hyams': False, 'wanted': False, 'blend': False, 'eastern': False, 'western': False, 'styles': False, 'disaster': False, 'reality': False, 'ones': False, 'jet': False, 'li': False, 'risk': False, 'ironically': False, 'swordplay': False, 'spread': False, 'carry': False, 'bulk': False, '30': False, 'minute': False, 'picture': False, 'weighs': False, 'monotonous': False, 'gene': False, 'quintano': False, 'prosaic': False, 'wedding': False, 'planner': False, 'mousy': False, 'artangnan': False, 'hyam': False, 'candles': False, 'torches': False, 'grime': False, 'filth': False, '17th': False, 'noted': False, 'standout': False, 'mortal': False, 'kombat': False, 'annihilation': False, 'reviewed': False, 'multiple': False, 'levels': False, 'rampant': False, 'usage': False, 'randian': False, 'subtext': False, 'pervades': False, 'occasionaly': False, 'ironic': False, 'depreciating': False, 'remark': False, 'tosses': False, 'clearly': False, 'marxist': False, 'imagery': False, 'kidding': False, 'seriousness': False, 'fair': False, '*': False, 'necessary': False, 'viewpoints': False, 'watcher': False, 'unfamiliar': False, 'marginally': False, 'fan': False, 'games': False, '1995': False, 'concerned': False, 'martial': False, 'arts': False, 'tournament': False, 'decide': False, 'fate': False, 'billion': False, 'inhabitants': False, 'mortals': False, 'theory': False, 'prevented': False, 'emperor': False, 'shao': False, 'khan': False, 'arriving': False, 'ready': False, 'assumed': False, 'stance': False, 'extraordinarily': False, 'myself': False, 'game': False, 'enjoyed': False, 'directors': False, 'knew': False, 'limitations': False, 'try': False, 'overachieve': False, 'accompanying': False, 'intersperesed': False, 'distracting': False, 'non': False, 'intrusive': False, 'bits': False, 'fluff': False, 'passing': False, 'smashing': False, 'success': False, 'box': False, 'office': False, 'picks': False, 'precisely': False, 'introductory': False, 'exposition': False, 'anyways': False, 'hell': False, 'silly': False, 'rule': False, 'winning': False, 'thereafter': False, 'approximately': False, '85': False, 'alternates': False, 'general': False, 'impression': False, 'producers': False, 'thought': False, 'formula': False, 'volumes': False, 'truly': False, 'sandra': False, 'hess': False, 'sonya': False, 'blade': False, 'execrable': False, 'convince': False, 'loved': False, 'johnny': False, 'greased': False, 'worst': False, 'mis': False, 'james': False, 'remar': False, 'raiden': False, 'thunder': False, 'christopher': False, 'lambert': False, 'japanese': False, 'revered': False, 'chinese': False, 'mystics': False, 'against': False, 'lister': False, 'jr': False, 'president': False, 'u': False, 'fifth': False, 'utility': False, 'totally': False, 'luxury': False, 'amused': False, 'awareness': False, 'introduced': False, 'meaningless': False, 'sidetracks': False, 'including': False, 'muddled': False, 'liu': False, 'kang': False, 'shou': False, 'seeks': False, 'nightwolf': False, 'litefoot': False, 'mystical': False, 'hallucination': False, 'jade': False, 'irina': False, 'pantaeva': False, 'reasons': False, 'unless': False, 'critiques': False, 'apply': False, 'worse': False, 'bridgette': False, 'convincing': False, 'looked': False, 'mimicing': False, 'movements': False, 'choreographer': False, 'knows': False, 'puts': False, 'believable': False, 'jax': False, 'earthquake': False, 'animality': False, 'bonus': False, 'similar': False, 'moves': False, 'mistakenly': False, 'hang': False, 'lamest': False, 'involved': False, 'mud': False, 'wrestling': False, 'lame': False, 'politically': False, 'incorrect': False, 'noticed': False, 'remarked': False, 'upon': False, 'emporer': False, 'perform': False, 'animalities': False, 'motaro': False, 'sheeva': False, 'lifelike': False, 'goro': False, 'enjoy': False, 'femme': False, 'la': False, 'nikita': False, 'backdraft': False, 'sliver': False, 'cindy': False, 'crawford': False, 'anne': False, 'parillaud': False, 'conspire': False, 'shattered': False, 'image': False, 'hooey': False, 'stallone': False, 'stone': False, 'specialist': False, 'poses': False, 'recurring': False, 'assassin': False, 'honeymooning': False, 'jamaica': False, 'believe': False, 'runs': False, 'painful': False, 'pedestrian': False, 'siouxsie': False, 'sioux': False, 'wig': False, 'emotionless': False, 'leather': False, 'clothing': False, 'seattle': False, 'moping': False, 'karen': False, 'endlessly': False, 'complicated': False, 'plots': False, 'helps': False, 'crisp': False, 'modicum': False, 'shakespearean': False, 'begin': False, 'saddled': False, 'leaden': False, 'zero': False, 'breaking': False, 'cardboard': False, 'confines': False, 'insist': False, 'couldn': False, 'huh': False, 'wonderful': False, 'interchange': False, 'charm': False, 'faster': False, 'learned': False, 'cereal': False, 'crybaby': False, 'imagines': False, 'stranger': False, 'sends': False, 'flowers': False, 'chromium': False, 'tough': False, 'nails': False, 'crack': False, 'killing': False, 'machine': False, 'shoots': False, 'mirrors': False, 'stock': False, 'interested': False, 'nest': False, 'egg': False, 'pave': False, 'paradise': False, 'put': False, 'parking': False, 'graham': False, 'greene': False, 'barbet': False, 'schroeder': False, 'reversal': False, 'fortune': False, 'co': False, 'produced': False, 'agonizingly': False, 'b': False, 'york': False, 'vampires': False, 'latest': False, 'opus': False, 'bent': False, 'outing': False, 'aptly': False, 'titled': False, 'suppose': False, 'went': False, 'prefixed': False, 'possessive': False, 'unashamed': False, 'punctuated': False, 'above': False, 'storyline': False, 'borders': False, 'idiotic': False, 'chaotic': False, 'dormant': False, 'martians': False, 'swirling': False, 'gases': False, 'awakened': False, 'meddling': False, 'possess': False, 'hapless': False, 'colonists': False, 'testy': False, 'marilyn': False, 'manson': False, 'lookalikes': False, 'pooh': False, 'bah': False, 'counsel': False, 'official': False, 'melanie': False, 'ballard': False, 'natasha': False, 'henstridge': False, 'sub': False, 'species': False, 'returnee': False, 'officer': False, 'incarcerated': False, 'felon': False, 'second': False, 'blonde': False, 'pulled': False, 'tightly': False, 'awkwardly': False, 'ponytail': False, 'ice': False, 'cube': False, 'appropriately': False, 'named': False, 'pam': False, 'grier': False, 'briefly': False, 'whom': False, 'wonder': False, 'host': False, 'extras': False, 'therefore': False, 'bird': False, 'shots': False, 'sprawling': False, 'metropolis': False, 'reddish': False, 'state': False, 'art': False, 'trademark': False, 'finding': False, 'department': False, 'lock': False, 'laughing': False, 'barrel': False, 'fare': False, 'dingy': False, 'interiors': False, 'cluttered': False, 'exteriors': False, 'inane': False, 'lots': False, 'scarred': False, 'crazed': False, 'aliens': False, 'weaponry': False, 'warfare': False, 'warning': False, 'spontaneously': False, 'stupidly': False, 'villains': False, 'border': False, 'conflicts': False, 'shootouts': False, 'minus': False, 'hissing': False, 'plissken': False, 'miss': False, 'dubbed': False, 'minimalist': False, 'soundtracks': False, 'graduated': False, 'effective': False, 'scoring': False, 'highlighting': False, 'screeching': False, 'guitar': False, 'fortunately': False, 'drowns': False, 'er': False, 'audible': False, 'priceless': False, 'proven': False, 'infertile': False, 'breeding': False, 'ground': False, 'stillborn': False, 'val': False, 'kilmer': False, 'disappointing': False, 'weekend': False, 'overshadowed': False, 'sequels': False, 'among': False, 'pie': False, 'rush': False, 'absent': False, 'references': False, 'set': False, 'perth': False, 'amboys': False, 'closest': False, 'neighbor': False, 'slap': False, 'upside': False, '1': False, 'keeps': False, 'miraculously': False, 'pretend': False, 'means': False, 'intelligent': False, 'grade': False, 'sci': False, 'fi': False, 'singularly': False, 'luck': False, 'starting': False, 'alicia': False, 'silverstone': False, 'beautiful': False, 'creatures': False, 'green': False, 'critic': False, 'large': False, 'choosing': False, 'strikes': False, 'crush': False, 'slow': False, 'moving': False, 'horrific': False, 'adaptation': False, 'clueless': False, 'mailed': False, 'saying': False, 'theater': False, 'expecting': False, 'preview': False, 'crazymadinlove': False, 'whiny': False, 'unlikable': False, 'wasn': False, 'yelled': False, 'f': False, '$&#': False, 'laugh': False, 'agreement': False, 'walked': False, 'babysitter': False, 'inner': False, 'compulsion': False, 'understand': False, 'rent': False, 'regret': False, 'paragraph': False, 'competition': False, 'criticizing': False, 'thin': False, 'shred': False, 'slower': False, 'glacier': False, 'writing': False, 'appeal': False, 'whatsoever': False, 'pointlessly': False, 'concluded': False, 'violent': False, 'plus': False, 'equals': False, 'spends': False, 'twenty': False, 'bubble': False, 'bath': False, 'joined': False, 'four': False, 'features': False, 'settle': False, 'friday': False, 'cocktail': False, 'automatically': False, 'nights': False, 'trods': False, 'discover': False, 'silent': False, 'object': False, 'male': False, 'fantasies': False, 'thinks': False, 'recapture': False, 'youth': False, 'boyfriend': False, 'lets': False, 'wild': False, 'spying': False, 'outside': False, 'prepubescent': False, 'keyhole': False, 'aged': False, 'counterpart': False, 'asked': False, '200': False, 'pound': False, 'silk': False, 'teddy': False, 'fanatasies': False, 'realm': False, 'pg': False, 'imagine': False, 'cinemax': False, 'staple': False, 'absolutely': False, 'pointed': False, 'classify': False, 'mix': False, 'various': False, 'encounters': False, 'third': False, 'space': False, 'odyssey': False, 'apollo': False, 'contact': False, 'hope': False, 'melange': False, 'considering': False, 'disastrous': False, 'results': False, 'sucks': False, 'rescue': False, 'astronauts': False, 'sent': False, '2020': False, 'unknown': False, 'aviators': False, 'visit': False, 'underwhelming': False, 'describe': False, 'uneven': False, 'promise': False, 'buzz': False, 'neutral': False, 'cherry': False, 'colored': False, 'nerdies': False, 'techie': False}\n"
          ]
        }
      ]
    },
    {
      "cell_type": "markdown",
      "source": [
        "***\n",
        "Then we can do this for all of our documents, saving the feature existence booleans and their respective positive or negative categories by doing:\n",
        "***"
      ],
      "metadata": {
        "id": "I9GIdG1yLPnj"
      }
    },
    {
      "cell_type": "code",
      "source": [
        "featuresets = [(find_features(rev), category) for (rev, category) in documents]"
      ],
      "metadata": {
        "id": "SLmGqf9ULL1x"
      },
      "execution_count": 40,
      "outputs": []
    },
    {
      "cell_type": "markdown",
      "source": [
        "***\n",
        "now that we have our features and labels, what is next? Typically the next step is to go ahead and train an algorithm, then test it. So, let's go ahead and do that, starting with the Naive Bayes classifier in the next tutorial!\n",
        "***"
      ],
      "metadata": {
        "id": "aezVdAovLWe0"
      }
    },
    {
      "cell_type": "markdown",
      "source": [
        "# 13. Naive Bayes Classifier"
      ],
      "metadata": {
        "id": "WfO6V5dfLojZ"
      }
    },
    {
      "cell_type": "markdown",
      "source": [
        "***\n",
        "Now it is time to choose an algorithm, separate our data into training and testing sets, and press go! The algorithm that we're going to use first is the Naive Bayes classifier. This is a pretty popular algorithm used in text classification, so it is only fitting that we try it out first. Before we can train and test our algorithm, however, we need to go ahead and split up the data into a training set and a testing set.\n",
        "***\n",
        "You could train and test on the same dataset, but this would present you with some serious bias issues, so you should never train and test against the exact same data. To do this, since we've shuffled our data set, we'll assign the first 1,900 shuffled reviews, consisting of both positive and negative reviews, as the training set. Then, we can test against the last 100 to see how accurate we are.\n",
        "***\n",
        "This is called supervised machine learning, because we're showing the machine data, and telling it \"hey, this data is positive,\" or \"this data is negative.\" Then, after that training is done, we show the machine some new data and ask the computer, based on what we taught the computer before, what the computer thinks the category of the new data is.\n",
        "***\n",
        "We can split the data with:\n",
        "***"
      ],
      "metadata": {
        "id": "zEuprGwhLvOE"
      }
    },
    {
      "cell_type": "code",
      "source": [
        "# set that we'll train our classifier with\n",
        "training_set = featuresets[:1900]\n",
        "\n",
        "# set that we'll test against.\n",
        "testing_set = featuresets[1900:]"
      ],
      "metadata": {
        "id": "0-W47VyKLTVK"
      },
      "execution_count": 41,
      "outputs": []
    },
    {
      "cell_type": "markdown",
      "source": [
        "***\n",
        "Next, we can define, and train our classifier like:\n",
        "***"
      ],
      "metadata": {
        "id": "Invk8vrUL8l4"
      }
    },
    {
      "cell_type": "code",
      "source": [
        "classifier = nltk.NaiveBayesClassifier.train(training_set)"
      ],
      "metadata": {
        "id": "D44SfI4cL6qC"
      },
      "execution_count": 42,
      "outputs": []
    },
    {
      "cell_type": "markdown",
      "source": [
        "***\n",
        "First we just simply are invoking the Naive Bayes classifier, then we go ahead and use .train() to train it all in one line.\n",
        "***\n",
        "Easy enough, now it is trained. Next, we can test it:\n",
        "***"
      ],
      "metadata": {
        "id": "eXAY0E65MJso"
      }
    },
    {
      "cell_type": "code",
      "source": [
        "print(\"Classifier accuracy percent:\",(nltk.classify.accuracy(classifier, testing_set))*100)"
      ],
      "metadata": {
        "colab": {
          "base_uri": "https://localhost:8080/"
        },
        "id": "uMlVif1NL_S7",
        "outputId": "2ce4351f-6431-499a-b77a-60a954a5417d"
      },
      "execution_count": 43,
      "outputs": [
        {
          "output_type": "stream",
          "name": "stdout",
          "text": [
            "Classifier accuracy percent: 85.0\n"
          ]
        }
      ]
    },
    {
      "cell_type": "markdown",
      "source": [
        "***\n",
        "Boom, you have your answer. In case you missed it, the reason why we can \"test\" the data is because we still have the correct answers. So, in testing, we show the computer the data without giving it the correct answer. If it guesses correctly what we know the answer to be, then the computer got it right. Given the shuffling that we've done, you and me might come up with varying accuracy, but you should see something from 60-75% on average.\n",
        "***\n",
        "Next, we can take it a step further to see what the most valuable words are when it comes to positive or negative reviews:\n",
        "***"
      ],
      "metadata": {
        "id": "UygbbwT8Maux"
      }
    },
    {
      "cell_type": "code",
      "source": [
        "classifier.show_most_informative_features(15)"
      ],
      "metadata": {
        "colab": {
          "base_uri": "https://localhost:8080/"
        },
        "id": "SZuiStCGMOGQ",
        "outputId": "b886d242-b08b-455e-e8d2-aeb256aa599b"
      },
      "execution_count": 44,
      "outputs": [
        {
          "output_type": "stream",
          "name": "stdout",
          "text": [
            "Most Informative Features\n",
            "               atrocious = True              neg : pos    =     11.8 : 1.0\n",
            "                   sucks = True              neg : pos    =      9.9 : 1.0\n",
            "                  annual = True              pos : neg    =      9.6 : 1.0\n",
            "                  turkey = True              neg : pos    =      8.8 : 1.0\n",
            "           unimaginative = True              neg : pos    =      8.4 : 1.0\n",
            "                 frances = True              pos : neg    =      7.6 : 1.0\n",
            "                 idiotic = True              neg : pos    =      7.1 : 1.0\n",
            "                  shoddy = True              neg : pos    =      7.1 : 1.0\n",
            "             silverstone = True              neg : pos    =      7.1 : 1.0\n",
            "                  regard = True              pos : neg    =      6.9 : 1.0\n",
            "                 cunning = True              pos : neg    =      6.3 : 1.0\n",
            "                obstacle = True              pos : neg    =      6.3 : 1.0\n",
            "              schumacher = True              neg : pos    =      6.3 : 1.0\n",
            "                 bronson = True              neg : pos    =      5.7 : 1.0\n",
            "                   dudes = True              neg : pos    =      5.7 : 1.0\n"
          ]
        }
      ]
    },
    {
      "cell_type": "markdown",
      "source": [
        "***\n",
        "What this tells you is the ratio of occurences in negative to positive, or visa versa, for every word. So here, we can see that the term \"insulting\" appears 10.6 more times as often in negative reviews as it does in positive reviews. Ludicrous, 10.1.\n",
        "***\n",
        "Now, let's say you were totally content with your results, and you wanted to move forward, maybe using this classifier to predict things right now. It would be very impractical to train the classifier, and retrain it every time you needed to use it. As such, you can save the classifier using the pickle module. Let's do that next.\n",
        "***"
      ],
      "metadata": {
        "id": "lVZLFC5JMtkw"
      }
    },
    {
      "cell_type": "markdown",
      "source": [
        "# 14. Saving Classifiers with NLTK"
      ],
      "metadata": {
        "id": "ZeK4JA9UM1Qv"
      }
    },
    {
      "cell_type": "markdown",
      "source": [
        "***\n",
        "Training classifiers and machine learning algorithms can take a very long time, especially if you're training against a larger data set. Ours is actually pretty small. Can you imagine having to train the classifier every time you wanted to fire it up and use it? What horror! Instead, what we can do is use the Pickle module to go ahead and serialize our classifier object, so that all we need to do is load that file in real quick.\n",
        "***\n",
        "So, how do we do this? The first step is to save the object. To do this, first you need to import pickle at the top of your script, then, after you have trained with .train() the classifier, you can then call the following lines:\n",
        "***"
      ],
      "metadata": {
        "id": "9hjc5pAhM4ik"
      }
    },
    {
      "cell_type": "code",
      "source": [
        "import pickle\n",
        "save_classifier = open(\"naivebayes.pickle\",\"wb\")\n",
        "pickle.dump(classifier, save_classifier)\n",
        "save_classifier.close()"
      ],
      "metadata": {
        "id": "iNSELD3lMo7z"
      },
      "execution_count": 45,
      "outputs": []
    },
    {
      "cell_type": "markdown",
      "source": [
        "***\n",
        "This opens up a pickle file, preparing to write in bytes some data. Then, we use pickle.dump() to dump the data. The first parameter to pickle.dump() is what are you dumping, the second parameter is where are you dumping it.\n",
        "***\n",
        "After that, we close the file as we're supposed to, and that is that, we now have a pickled, or serialized, object saved in our script's directory!\n",
        "***\n",
        "Next, how would we go about opening and using this classifier? The .pickle file is a serialized object, all we need to do now is read it into memory, which will be about as quick as reading any other ordinary file. To do this:\n",
        "***"
      ],
      "metadata": {
        "id": "tEoNbtWaNLDs"
      }
    },
    {
      "cell_type": "code",
      "source": [
        "classifier_f = open(\"naivebayes.pickle\", \"rb\")\n",
        "classifier = pickle.load(classifier_f)\n",
        "classifier_f.close()"
      ],
      "metadata": {
        "id": "h35jeR9hNG1c"
      },
      "execution_count": 46,
      "outputs": []
    },
    {
      "cell_type": "markdown",
      "source": [
        "***\n",
        "Here, we do a very similar process. We open the file to read as bytes. Then, we use pickle.load() to load the file, and we save the data to the classifier variable. Then we close the file, and that is that. We now have the same classifier object as before!\n",
        "***\n",
        "Now, we can use this object, and we no longer need to train our classifier every time we wanted to use it to classify.\n",
        "***\n",
        "While this is all fine and dandy, we're probably not too content with the 60-75% accuracy we're getting. What about other classifiers? Turns out, there are many classifiers, but we need the scikit-learn (sklearn) module. Luckily for us, the people at NLTK recognized the value of incorporating the sklearn module into NLTK, and they have built us a little API to do it. That's what we'll be doing in the next tutorial.\n",
        "***"
      ],
      "metadata": {
        "id": "yx0zCoCYNVsw"
      }
    },
    {
      "cell_type": "markdown",
      "source": [
        "# 15. Scikit-Learn Sklearn with NLTK\n",
        "***\n",
        "We've seen by now how easy it can be to use classifiers out of the box, and now we want to try some more! The best module for Python to do this with is the Scikit-learn (sklearn) module.\n",
        "***\n",
        "If you would like to learn more about the Scikit-learn Module, I have some tutorials on machine learning with Scikit-Learn.\n",
        "***\n",
        "Luckily for us, the people behind NLTK forsaw the value of incorporating the sklearn module into the NLTK classifier methodology. As such, they created the SklearnClassifier API of sorts. To use that, you just need to import it like:\n",
        "***"
      ],
      "metadata": {
        "id": "_jDQpiBrNgWX"
      }
    },
    {
      "cell_type": "code",
      "source": [
        "from nltk.classify.scikitlearn import SklearnClassifier"
      ],
      "metadata": {
        "id": "vHbB-NRzNSxE"
      },
      "execution_count": 47,
      "outputs": []
    },
    {
      "cell_type": "markdown",
      "source": [
        "***\n",
        "From here, you can use just about any of the sklearn classifiers. For example, lets bring in a couple more variations of the Naive Bayes algorithm:\n",
        "***"
      ],
      "metadata": {
        "id": "OyUXunRvNrna"
      }
    },
    {
      "cell_type": "code",
      "source": [
        "from sklearn.naive_bayes import MultinomialNB,BernoulliNB"
      ],
      "metadata": {
        "id": "aJgIoIHKNp4g"
      },
      "execution_count": 48,
      "outputs": []
    },
    {
      "cell_type": "markdown",
      "source": [
        "***\n",
        "With this, how might we use them? It turns out, this is very simple:\n",
        "***"
      ],
      "metadata": {
        "id": "tGMGHGTeQERG"
      }
    },
    {
      "cell_type": "code",
      "source": [
        "MNB_classifier = SklearnClassifier(MultinomialNB())\n",
        "MNB_classifier.train(training_set)\n",
        "print(\"MultinomialNB accuracy percent:\",nltk.classify.accuracy(MNB_classifier, testing_set))\n",
        "\n",
        "BNB_classifier = SklearnClassifier(BernoulliNB())\n",
        "BNB_classifier.train(training_set)\n",
        "print(\"BernoulliNB accuracy percent:\",nltk.classify.accuracy(BNB_classifier, testing_set))"
      ],
      "metadata": {
        "colab": {
          "base_uri": "https://localhost:8080/"
        },
        "id": "8Tx-40XvQCoF",
        "outputId": "28ce0df7-acca-468e-fcf3-68c3bb5561ae"
      },
      "execution_count": 49,
      "outputs": [
        {
          "output_type": "stream",
          "name": "stdout",
          "text": [
            "MultinomialNB accuracy percent: 0.84\n",
            "BernoulliNB accuracy percent: 0.86\n"
          ]
        }
      ]
    },
    {
      "cell_type": "markdown",
      "source": [
        "***\n",
        "It is as simple as that. Let's bring in some more:\n",
        "***"
      ],
      "metadata": {
        "id": "qPxOBEcBQKY-"
      }
    },
    {
      "cell_type": "code",
      "source": [
        "from sklearn.linear_model import LogisticRegression,SGDClassifier\n",
        "from sklearn.svm import SVC, LinearSVC, NuSVC"
      ],
      "metadata": {
        "id": "ll9bvLyOQH0R"
      },
      "execution_count": 50,
      "outputs": []
    },
    {
      "cell_type": "markdown",
      "source": [
        "***\n",
        "Now, all of our classifiers should look something like:\n",
        "***"
      ],
      "metadata": {
        "id": "XHeg-MIdQTx7"
      }
    },
    {
      "cell_type": "code",
      "source": [
        "print(\"Original Naive Bayes Algo accuracy percent:\", (nltk.classify.accuracy(classifier, testing_set))*100)\n",
        "classifier.show_most_informative_features(15)\n",
        "\n",
        "MNB_classifier = SklearnClassifier(MultinomialNB())\n",
        "MNB_classifier.train(training_set)\n",
        "print(\"MNB_classifier accuracy percent:\", (nltk.classify.accuracy(MNB_classifier, testing_set))*100)\n",
        "\n",
        "BernoulliNB_classifier = SklearnClassifier(BernoulliNB())\n",
        "BernoulliNB_classifier.train(training_set)\n",
        "print(\"BernoulliNB_classifier accuracy percent:\", (nltk.classify.accuracy(BernoulliNB_classifier, testing_set))*100)\n",
        "\n",
        "LogisticRegression_classifier = SklearnClassifier(LogisticRegression())\n",
        "LogisticRegression_classifier.train(training_set)\n",
        "print(\"LogisticRegression_classifier accuracy percent:\", (nltk.classify.accuracy(LogisticRegression_classifier, testing_set))*100)\n",
        "\n",
        "SGDClassifier_classifier = SklearnClassifier(SGDClassifier())\n",
        "SGDClassifier_classifier.train(training_set)\n",
        "print(\"SGDClassifier_classifier accuracy percent:\", (nltk.classify.accuracy(SGDClassifier_classifier, testing_set))*100)\n",
        "\n",
        "SVC_classifier = SklearnClassifier(SVC())\n",
        "SVC_classifier.train(training_set)\n",
        "print(\"SVC_classifier accuracy percent:\", (nltk.classify.accuracy(SVC_classifier, testing_set))*100)\n",
        "\n",
        "LinearSVC_classifier = SklearnClassifier(LinearSVC())\n",
        "LinearSVC_classifier.train(training_set)\n",
        "print(\"LinearSVC_classifier accuracy percent:\", (nltk.classify.accuracy(LinearSVC_classifier, testing_set))*100)\n",
        "\n",
        "NuSVC_classifier = SklearnClassifier(NuSVC())\n",
        "NuSVC_classifier.train(training_set)\n",
        "print(\"NuSVC_classifier accuracy percent:\", (nltk.classify.accuracy(NuSVC_classifier, testing_set))*100)"
      ],
      "metadata": {
        "colab": {
          "base_uri": "https://localhost:8080/"
        },
        "id": "6CENdnI1QSax",
        "outputId": "ef673843-c023-4854-ab03-a0ad7b8ea17c"
      },
      "execution_count": 51,
      "outputs": [
        {
          "output_type": "stream",
          "name": "stdout",
          "text": [
            "Original Naive Bayes Algo accuracy percent: 85.0\n",
            "Most Informative Features\n",
            "               atrocious = True              neg : pos    =     11.8 : 1.0\n",
            "                   sucks = True              neg : pos    =      9.9 : 1.0\n",
            "                  annual = True              pos : neg    =      9.6 : 1.0\n",
            "                  turkey = True              neg : pos    =      8.8 : 1.0\n",
            "           unimaginative = True              neg : pos    =      8.4 : 1.0\n",
            "                 frances = True              pos : neg    =      7.6 : 1.0\n",
            "                 idiotic = True              neg : pos    =      7.1 : 1.0\n",
            "                  shoddy = True              neg : pos    =      7.1 : 1.0\n",
            "             silverstone = True              neg : pos    =      7.1 : 1.0\n",
            "                  regard = True              pos : neg    =      6.9 : 1.0\n",
            "                 cunning = True              pos : neg    =      6.3 : 1.0\n",
            "                obstacle = True              pos : neg    =      6.3 : 1.0\n",
            "              schumacher = True              neg : pos    =      6.3 : 1.0\n",
            "                 bronson = True              neg : pos    =      5.7 : 1.0\n",
            "                   dudes = True              neg : pos    =      5.7 : 1.0\n",
            "MNB_classifier accuracy percent: 84.0\n",
            "BernoulliNB_classifier accuracy percent: 86.0\n"
          ]
        },
        {
          "output_type": "stream",
          "name": "stderr",
          "text": [
            "/usr/local/lib/python3.10/dist-packages/sklearn/linear_model/_logistic.py:458: ConvergenceWarning: lbfgs failed to converge (status=1):\n",
            "STOP: TOTAL NO. of ITERATIONS REACHED LIMIT.\n",
            "\n",
            "Increase the number of iterations (max_iter) or scale the data as shown in:\n",
            "    https://scikit-learn.org/stable/modules/preprocessing.html\n",
            "Please also refer to the documentation for alternative solver options:\n",
            "    https://scikit-learn.org/stable/modules/linear_model.html#logistic-regression\n",
            "  n_iter_i = _check_optimize_result(\n"
          ]
        },
        {
          "output_type": "stream",
          "name": "stdout",
          "text": [
            "LogisticRegression_classifier accuracy percent: 85.0\n",
            "SGDClassifier_classifier accuracy percent: 84.0\n",
            "SVC_classifier accuracy percent: 83.0\n",
            "LinearSVC_classifier accuracy percent: 81.0\n",
            "NuSVC_classifier accuracy percent: 84.0\n"
          ]
        }
      ]
    },
    {
      "cell_type": "markdown",
      "source": [
        "***\n",
        "So, we can see SVC is wrong more often than it is right right out of the gate, so we should probably dump that one. But then what? The next thing we can try is to use all of these algorithms at once. An algo of algos! To do this, we can create another classifier, and make the result of that classifier based on what the other algorithms said. Sort of like a voting system, so we'll just need an odd number of algorithms. That's what we'll be talking about in the next tutorial.\n",
        "***"
      ],
      "metadata": {
        "id": "Y_QoPtI1Qeit"
      }
    },
    {
      "cell_type": "markdown",
      "source": [
        "# 16. Combining Algorithms with NLTK"
      ],
      "metadata": {
        "id": "Th1-tflZQmXE"
      }
    },
    {
      "cell_type": "markdown",
      "source": [
        "***\n",
        "Now that we know how to use a bunch of algorithmic classifiers, like a child in the candy isle, told they can only pick one, we may find it difficult to choose just one classifier. The good news is, you don't have to! Combining classifier algorithms is is a common technique, done by creating a sort of voting system, where each algorithm gets one vote, and the classification that has the votes votes is the chosen one.\n",
        "***\n",
        "To do this, we want our new classifier to act like a typical NLTK classifier, with all of the methods. Simple enough, using object oriented programming, we can just be sure to inherit from the NLTK classifier class. To do this, we'll import it:\n",
        "***"
      ],
      "metadata": {
        "id": "hzUpNsQdQqZS"
      }
    },
    {
      "cell_type": "markdown",
      "source": [
        "from nltk.classify import ClassifierI\n",
        "from statistics import mode\n",
        "We also import mode, as it will be our method for choosing the most popular vote.\n",
        "***\n",
        "Now, let's build our classifier class:\n",
        "```\n",
        "class VoteClassifier(ClassifierI):\n",
        "    def __init__(self, *classifiers):\n",
        "        self._classifiers = classifiers\n",
        "```\n",
        "We're calling our class the VoteClassifier, and we're inheriting from NLTK's ClassifierI. Next, we're assigning the list of classifiers that are passed to our class to self._classifiers.\n",
        "***\n",
        "Next, we want to go ahead and create our own classify method. We want to call it classify, so that we can invoke .classify later on, like a traditional NLTK classifier would allow.\n",
        "```\n",
        "    def classify(self, features):\n",
        "        votes = []\n",
        "        for c in self._classifiers:\n",
        "            v = c.classify(features)\n",
        "            votes.append(v)\n",
        "        return mode(votes)\n",
        "```\n",
        "***\n",
        "Easy enough, all we're doing here is iterating through our list of classifier objects. Then, for each one, we ask it to classify based on the features. The classification is being treated as a vote. After we are done iterating, we then return the mode(votes), which is just returning the most popular vote.\n",
        "***\n",
        "This is all we really need, but I think it would be useful to have another parameter, confidence. Since we have algorithms voting, we can also tally the votes for and against the winning vote, and call this \"confidence.\" For example, 3/5 votes for positive is weaker than 5/5 votes. As such, we can literally return the ratio of votes as a sort of confidence indicator. Here's our confidence method:\n",
        "```\n",
        "\n",
        "    def confidence(self, features):\n",
        "        votes = []\n",
        "        for c in self._classifiers:\n",
        "            v = c.classify(features)\n",
        "            votes.append(v)\n",
        "\n",
        "        choice_votes = votes.count(mode(votes))\n",
        "        conf = choice_votes / len(votes)\n",
        "        return conf\n",
        "```\n",
        "Now, let's put everything together:"
      ],
      "metadata": {
        "id": "54Xs-A-RRKqR"
      }
    },
    {
      "cell_type": "code",
      "source": [
        "import nltk\n",
        "import random\n",
        "from nltk.corpus import movie_reviews\n",
        "from nltk.classify.scikitlearn import SklearnClassifier\n",
        "import pickle\n",
        "\n",
        "from sklearn.naive_bayes import MultinomialNB, BernoulliNB\n",
        "from sklearn.linear_model import LogisticRegression, SGDClassifier\n",
        "from sklearn.svm import SVC, LinearSVC, NuSVC\n",
        "\n",
        "from nltk.classify import ClassifierI\n",
        "from statistics import mode\n",
        "\n",
        "\n",
        "class VoteClassifier(ClassifierI):\n",
        "    def __init__(self, *classifiers):\n",
        "        self._classifiers = classifiers\n",
        "\n",
        "    def classify(self, features):\n",
        "        votes = []\n",
        "        for c in self._classifiers:\n",
        "            v = c.classify(features)\n",
        "            votes.append(v)\n",
        "        return mode(votes)\n",
        "\n",
        "    def confidence(self, features):\n",
        "        votes = []\n",
        "        for c in self._classifiers:\n",
        "            v = c.classify(features)\n",
        "            votes.append(v)\n",
        "\n",
        "        choice_votes = votes.count(mode(votes))\n",
        "        conf = choice_votes / len(votes)\n",
        "        return conf\n",
        "\n",
        "documents = [(list(movie_reviews.words(fileid)), category)\n",
        "             for category in movie_reviews.categories()\n",
        "             for fileid in movie_reviews.fileids(category)]\n",
        "\n",
        "random.shuffle(documents)\n",
        "\n",
        "all_words = []\n",
        "\n",
        "for w in movie_reviews.words():\n",
        "    all_words.append(w.lower())\n",
        "\n",
        "all_words = nltk.FreqDist(all_words)\n",
        "\n",
        "word_features = list(all_words.keys())[:3000]\n",
        "\n",
        "def find_features(document):\n",
        "    words = set(document)\n",
        "    features = {}\n",
        "    for w in word_features:\n",
        "        features[w] = (w in words)\n",
        "\n",
        "    return features\n",
        "\n",
        "#print((find_features(movie_reviews.words('neg/cv000_29416.txt'))))\n",
        "\n",
        "featuresets = [(find_features(rev), category) for (rev, category) in documents]\n",
        "\n",
        "training_set = featuresets[:1900]\n",
        "testing_set =  featuresets[1900:]\n",
        "\n",
        "#classifier = nltk.NaiveBayesClassifier.train(training_set)\n",
        "\n",
        "classifier_f = open(\"naivebayes.pickle\",\"rb\")\n",
        "classifier = pickle.load(classifier_f)\n",
        "classifier_f.close()\n",
        "\n",
        "\n",
        "\n",
        "\n",
        "print(\"Original Naive Bayes Algo accuracy percent:\", (nltk.classify.accuracy(classifier, testing_set))*100)\n",
        "classifier.show_most_informative_features(15)\n",
        "\n",
        "MNB_classifier = SklearnClassifier(MultinomialNB())\n",
        "MNB_classifier.train(training_set)\n",
        "print(\"MNB_classifier accuracy percent:\", (nltk.classify.accuracy(MNB_classifier, testing_set))*100)\n",
        "\n",
        "BernoulliNB_classifier = SklearnClassifier(BernoulliNB())\n",
        "BernoulliNB_classifier.train(training_set)\n",
        "print(\"BernoulliNB_classifier accuracy percent:\", (nltk.classify.accuracy(BernoulliNB_classifier, testing_set))*100)\n",
        "\n",
        "LogisticRegression_classifier = SklearnClassifier(LogisticRegression())\n",
        "LogisticRegression_classifier.train(training_set)\n",
        "print(\"LogisticRegression_classifier accuracy percent:\", (nltk.classify.accuracy(LogisticRegression_classifier, testing_set))*100)\n",
        "\n",
        "SGDClassifier_classifier = SklearnClassifier(SGDClassifier())\n",
        "SGDClassifier_classifier.train(training_set)\n",
        "print(\"SGDClassifier_classifier accuracy percent:\", (nltk.classify.accuracy(SGDClassifier_classifier, testing_set))*100)\n",
        "\n",
        "##SVC_classifier = SklearnClassifier(SVC())\n",
        "##SVC_classifier.train(training_set)\n",
        "##print(\"SVC_classifier accuracy percent:\", (nltk.classify.accuracy(SVC_classifier, testing_set))*100)\n",
        "\n",
        "LinearSVC_classifier = SklearnClassifier(LinearSVC())\n",
        "LinearSVC_classifier.train(training_set)\n",
        "print(\"LinearSVC_classifier accuracy percent:\", (nltk.classify.accuracy(LinearSVC_classifier, testing_set))*100)\n",
        "\n",
        "NuSVC_classifier = SklearnClassifier(NuSVC())\n",
        "NuSVC_classifier.train(training_set)\n",
        "print(\"NuSVC_classifier accuracy percent:\", (nltk.classify.accuracy(NuSVC_classifier, testing_set))*100)\n",
        "\n",
        "\n",
        "voted_classifier = VoteClassifier(classifier,\n",
        "                                  NuSVC_classifier,\n",
        "                                  LinearSVC_classifier,\n",
        "                                  SGDClassifier_classifier,\n",
        "                                  MNB_classifier,\n",
        "                                  BernoulliNB_classifier,\n",
        "                                  LogisticRegression_classifier)\n",
        "\n",
        "print(\"voted_classifier accuracy percent:\", (nltk.classify.accuracy(voted_classifier, testing_set))*100)\n",
        "\n",
        "print(\"Classification:\", voted_classifier.classify(testing_set[0][0]), \"Confidence %:\",voted_classifier.confidence(testing_set[0][0])*100)\n",
        "print(\"Classification:\", voted_classifier.classify(testing_set[1][0]), \"Confidence %:\",voted_classifier.confidence(testing_set[1][0])*100)\n",
        "print(\"Classification:\", voted_classifier.classify(testing_set[2][0]), \"Confidence %:\",voted_classifier.confidence(testing_set[2][0])*100)\n",
        "print(\"Classification:\", voted_classifier.classify(testing_set[3][0]), \"Confidence %:\",voted_classifier.confidence(testing_set[3][0])*100)\n",
        "print(\"Classification:\", voted_classifier.classify(testing_set[4][0]), \"Confidence %:\",voted_classifier.confidence(testing_set[4][0])*100)\n",
        "print(\"Classification:\", voted_classifier.classify(testing_set[5][0]), \"Confidence %:\",voted_classifier.confidence(testing_set[5][0])*100)"
      ],
      "metadata": {
        "colab": {
          "base_uri": "https://localhost:8080/"
        },
        "id": "CRP9UEvsReqA",
        "outputId": "0344c828-3c01-4a3b-a366-5a13ca6dafb6"
      },
      "execution_count": 54,
      "outputs": [
        {
          "output_type": "stream",
          "name": "stdout",
          "text": [
            "Original Naive Bayes Algo accuracy percent: 86.0\n",
            "Most Informative Features\n",
            "               atrocious = True              neg : pos    =     11.8 : 1.0\n",
            "                   sucks = True              neg : pos    =      9.9 : 1.0\n",
            "                  annual = True              pos : neg    =      9.6 : 1.0\n",
            "                  turkey = True              neg : pos    =      8.8 : 1.0\n",
            "           unimaginative = True              neg : pos    =      8.4 : 1.0\n",
            "                 frances = True              pos : neg    =      7.6 : 1.0\n",
            "                 idiotic = True              neg : pos    =      7.1 : 1.0\n",
            "                  shoddy = True              neg : pos    =      7.1 : 1.0\n",
            "             silverstone = True              neg : pos    =      7.1 : 1.0\n",
            "                  regard = True              pos : neg    =      6.9 : 1.0\n",
            "                 cunning = True              pos : neg    =      6.3 : 1.0\n",
            "                obstacle = True              pos : neg    =      6.3 : 1.0\n",
            "              schumacher = True              neg : pos    =      6.3 : 1.0\n",
            "                 bronson = True              neg : pos    =      5.7 : 1.0\n",
            "                   dudes = True              neg : pos    =      5.7 : 1.0\n",
            "MNB_classifier accuracy percent: 82.0\n",
            "BernoulliNB_classifier accuracy percent: 78.0\n"
          ]
        },
        {
          "output_type": "stream",
          "name": "stderr",
          "text": [
            "/usr/local/lib/python3.10/dist-packages/sklearn/linear_model/_logistic.py:458: ConvergenceWarning: lbfgs failed to converge (status=1):\n",
            "STOP: TOTAL NO. of ITERATIONS REACHED LIMIT.\n",
            "\n",
            "Increase the number of iterations (max_iter) or scale the data as shown in:\n",
            "    https://scikit-learn.org/stable/modules/preprocessing.html\n",
            "Please also refer to the documentation for alternative solver options:\n",
            "    https://scikit-learn.org/stable/modules/linear_model.html#logistic-regression\n",
            "  n_iter_i = _check_optimize_result(\n"
          ]
        },
        {
          "output_type": "stream",
          "name": "stdout",
          "text": [
            "LogisticRegression_classifier accuracy percent: 81.0\n",
            "SGDClassifier_classifier accuracy percent: 79.0\n",
            "LinearSVC_classifier accuracy percent: 79.0\n",
            "NuSVC_classifier accuracy percent: 81.0\n",
            "voted_classifier accuracy percent: 84.0\n",
            "Classification: neg Confidence %: 100.0\n",
            "Classification: neg Confidence %: 100.0\n",
            "Classification: pos Confidence %: 100.0\n",
            "Classification: pos Confidence %: 57.14285714285714\n",
            "Classification: pos Confidence %: 100.0\n",
            "Classification: neg Confidence %: 100.0\n"
          ]
        }
      ]
    },
    {
      "cell_type": "markdown",
      "source": [
        "# 17. Investigating bias"
      ],
      "metadata": {
        "id": "Cev1cymSRzY8"
      }
    },
    {
      "cell_type": "markdown",
      "source": [
        "***\n",
        "The most major issue is that we have a fairly biased algorithm. You can test this yourself by commenting-out the shuffling of the documents, then training against the first 1900, and leaving the last 100 (all positive) reviews. Test, and you will find you have very poor accuracy.\n",
        "***\n",
        "Conversely, you can test against the first 100 data sets, all negative, and train against the following 1900. You will find very high accuracy here. This is a bad sign. It could mean a lot of things, and there are many options for us to fix it.\n",
        "***\n",
        "That said, the project I have in mind for us suggests we go ahead and use a different data set anyways, so we will do that. In the end, we will find this new data set still contains some bias, and that is that it picks up negative things more often. The reason for this is that negative reviews tend to be \"more negative\" than positive reviews are positive. Handling this can be done with some simple weighting, but it can also get complex fast. Maybe a tutorial for another day. For now, we're going to just grab a new dataset, which we'll be discussing in the next tutorial.\n",
        "***"
      ],
      "metadata": {
        "id": "Ddq8vdeCR8VF"
      }
    },
    {
      "cell_type": "markdown",
      "source": [
        "# 18. Improving Training Data"
      ],
      "metadata": {
        "id": "CI6IIAv1SNSc"
      }
    },
    {
      "cell_type": "markdown",
      "source": [
        "***\n",
        "So now it is time to train on a new data set. Our goal is to do Twitter sentiment, so we're hoping for a data set that is a bit shorter per positive and negative statement. It just so happens that I have a data set of 5300+ positive and 5300+ negative movie reviews, which are much shorter. These should give us a bit more accuracy from the larger training set, as well as be more fitting for tweets from Twitter.\n",
        "***\n",
        "I have hosted both files here, you can find them by going to the downloads for the short reviews. Save these files as positive.txt and negative.txt.\n",
        "***\n",
        "Now, we can build our new data set in a very similar way as before. What needs to change?\n",
        "***\n",
        "We need a new methodology for creating our \"documents\" variable, and then we also need a new way to create the \"all_words\" variable. No problem, really, here's how I did it:\n",
        "***"
      ],
      "metadata": {
        "id": "23msFewDSPG0"
      }
    },
    {
      "cell_type": "code",
      "source": [
        "!wget https://pythonprogramming.net/static/downloads/short_reviews/positive.txt\n",
        "!wget https://pythonprogramming.net/static/downloads/short_reviews/negative.txt"
      ],
      "metadata": {
        "colab": {
          "base_uri": "https://localhost:8080/"
        },
        "id": "mbZMwgkOSfCE",
        "outputId": "e2c5b3a2-3ce6-4405-c515-7d8c6ad73d4d"
      },
      "execution_count": 56,
      "outputs": [
        {
          "output_type": "stream",
          "name": "stdout",
          "text": [
            "--2023-11-20 19:51:56--  https://pythonprogramming.net/static/downloads/short_reviews/positive.txt\n",
            "Resolving pythonprogramming.net (pythonprogramming.net)... 104.237.143.20, 2600:3c00::f03c:91ff:fe84:176d\n",
            "Connecting to pythonprogramming.net (pythonprogramming.net)|104.237.143.20|:443... connected.\n",
            "HTTP request sent, awaiting response... 200 OK\n",
            "Length: 626168 (611K) [text/plain]\n",
            "Saving to: ‘positive.txt’\n",
            "\n",
            "positive.txt        100%[===================>] 611.49K  3.96MB/s    in 0.2s    \n",
            "\n",
            "2023-11-20 19:51:57 (3.96 MB/s) - ‘positive.txt’ saved [626168/626168]\n",
            "\n",
            "--2023-11-20 19:51:57--  https://pythonprogramming.net/static/downloads/short_reviews/negative.txt\n",
            "Resolving pythonprogramming.net (pythonprogramming.net)... 104.237.143.20, 2600:3c00::f03c:91ff:fe84:176d\n",
            "Connecting to pythonprogramming.net (pythonprogramming.net)|104.237.143.20|:443... connected.\n",
            "HTTP request sent, awaiting response... 200 OK\n",
            "Length: 612290 (598K) [text/plain]\n",
            "Saving to: ‘negative.txt’\n",
            "\n",
            "negative.txt        100%[===================>] 597.94K  3.79MB/s    in 0.2s    \n",
            "\n",
            "2023-11-20 19:51:57 (3.79 MB/s) - ‘negative.txt’ saved [612290/612290]\n",
            "\n"
          ]
        }
      ]
    },
    {
      "cell_type": "code",
      "source": [
        "short_pos = open(\"positive.txt\", encoding=\"latin-1\").read()\n",
        "short_neg = open(\"negative.txt\", encoding=\"latin-1\").read()\n",
        "\n",
        "\n",
        "documents = []\n",
        "\n",
        "for r in short_pos.split('\\n'):\n",
        "    documents.append( (r, \"pos\") )\n",
        "\n",
        "for r in short_neg.split('\\n'):\n",
        "    documents.append( (r, \"neg\") )\n",
        "\n",
        "\n",
        "all_words = []\n",
        "\n",
        "short_pos_words = word_tokenize(short_pos)\n",
        "short_neg_words = word_tokenize(short_neg)\n",
        "\n",
        "for w in short_pos_words:\n",
        "    all_words.append(w.lower())\n",
        "\n",
        "for w in short_neg_words:\n",
        "    all_words.append(w.lower())\n",
        "\n",
        "all_words = nltk.FreqDist(all_words)"
      ],
      "metadata": {
        "id": "8P2ZcoTTRjj5"
      },
      "execution_count": 62,
      "outputs": []
    },
    {
      "cell_type": "markdown",
      "source": [
        "***\n",
        "Next, we also need to adjust our feature finding function, mainly tokenizing by word in the document, since we didn't have a nifty .words() feature for our new sample. I also went ahead and increased the most common words:\n",
        "***"
      ],
      "metadata": {
        "id": "joTggoUpTOV8"
      }
    },
    {
      "cell_type": "code",
      "source": [
        "word_features = list(all_words.keys())[:5000]\n",
        "\n",
        "def find_features(document):\n",
        "    words = word_tokenize(document)\n",
        "    features = {}\n",
        "    for w in word_features:\n",
        "        features[w] = (w in words)\n",
        "\n",
        "    return features\n",
        "\n",
        "featuresets = [(find_features(rev), category) for (rev, category) in documents]\n",
        "random.shuffle(featuresets)"
      ],
      "metadata": {
        "id": "O8XLlEnwSYK8"
      },
      "execution_count": 63,
      "outputs": []
    },
    {
      "cell_type": "markdown",
      "source": [
        "***\n",
        "Other than this, the rest is the same. Here's the full script just in case you or I missed something:\n",
        "***\n",
        "This process will take a while.. You may want to just go run some errands. It took me about 30-40 minutes to run it in full, and I am running an i7 3930k. For the typical processor in the year I am writing this (2015), it may be hours. This is a one and done process, however.\n",
        "***"
      ],
      "metadata": {
        "id": "SI1DTfcJTX8t"
      }
    },
    {
      "cell_type": "code",
      "source": [
        "%%time\n",
        "import nltk\n",
        "import random\n",
        "from nltk.corpus import movie_reviews\n",
        "from nltk.classify.scikitlearn import SklearnClassifier\n",
        "import pickle\n",
        "\n",
        "from sklearn.naive_bayes import MultinomialNB, BernoulliNB\n",
        "from sklearn.linear_model import LogisticRegression, SGDClassifier\n",
        "from sklearn.svm import SVC, LinearSVC, NuSVC\n",
        "\n",
        "from nltk.classify import ClassifierI\n",
        "from statistics import mode\n",
        "\n",
        "from nltk.tokenize import word_tokenize\n",
        "\n",
        "\n",
        "class VoteClassifier(ClassifierI):\n",
        "    def __init__(self, *classifiers):\n",
        "        self._classifiers = classifiers\n",
        "\n",
        "    def classify(self, features):\n",
        "        votes = []\n",
        "        for c in self._classifiers:\n",
        "            v = c.classify(features)\n",
        "            votes.append(v)\n",
        "        return mode(votes)\n",
        "\n",
        "    def confidence(self, features):\n",
        "        votes = []\n",
        "        for c in self._classifiers:\n",
        "            v = c.classify(features)\n",
        "            votes.append(v)\n",
        "\n",
        "        choice_votes = votes.count(mode(votes))\n",
        "        conf = choice_votes / len(votes)\n",
        "        return conf\n",
        "\n",
        "short_pos = open(\"positive.txt\", encoding=\"latin-1\").read()\n",
        "short_neg = open(\"negative.txt\", encoding=\"latin-1\").read()\n",
        "\n",
        "documents = []\n",
        "\n",
        "for r in short_pos.split('\\n'):\n",
        "    documents.append( (r, \"pos\") )\n",
        "\n",
        "for r in short_neg.split('\\n'):\n",
        "    documents.append( (r, \"neg\") )\n",
        "\n",
        "\n",
        "all_words = []\n",
        "\n",
        "short_pos_words = word_tokenize(short_pos)\n",
        "short_neg_words = word_tokenize(short_neg)\n",
        "\n",
        "for w in short_pos_words:\n",
        "    all_words.append(w.lower())\n",
        "\n",
        "for w in short_neg_words:\n",
        "    all_words.append(w.lower())\n",
        "\n",
        "all_words = nltk.FreqDist(all_words)\n",
        "\n",
        "word_features = list(all_words.keys())[:5000]\n",
        "\n",
        "def find_features(document):\n",
        "    words = word_tokenize(document)\n",
        "    features = {}\n",
        "    for w in word_features:\n",
        "        features[w] = (w in words)\n",
        "\n",
        "    return features\n",
        "\n",
        "#print((find_features(movie_reviews.words('neg/cv000_29416.txt'))))\n",
        "\n",
        "featuresets = [(find_features(rev), category) for (rev, category) in documents]\n",
        "\n",
        "random.shuffle(featuresets)\n",
        "\n",
        "# positive data example:\n",
        "training_set = featuresets[:10000]\n",
        "testing_set =  featuresets[10000:]\n",
        "\n",
        "##\n",
        "### negative data example:\n",
        "##training_set = featuresets[100:]\n",
        "##testing_set =  featuresets[:100]\n",
        "\n",
        "\n",
        "classifier = nltk.NaiveBayesClassifier.train(training_set)\n",
        "print(\"Original Naive Bayes Algo accuracy percent:\", (nltk.classify.accuracy(classifier, testing_set))*100)\n",
        "classifier.show_most_informative_features(15)\n",
        "\n",
        "MNB_classifier = SklearnClassifier(MultinomialNB())\n",
        "MNB_classifier.train(training_set)\n",
        "print(\"MNB_classifier accuracy percent:\", (nltk.classify.accuracy(MNB_classifier, testing_set))*100)\n",
        "\n",
        "BernoulliNB_classifier = SklearnClassifier(BernoulliNB())\n",
        "BernoulliNB_classifier.train(training_set)\n",
        "print(\"BernoulliNB_classifier accuracy percent:\", (nltk.classify.accuracy(BernoulliNB_classifier, testing_set))*100)\n",
        "\n",
        "LogisticRegression_classifier = SklearnClassifier(LogisticRegression())\n",
        "LogisticRegression_classifier.train(training_set)\n",
        "print(\"LogisticRegression_classifier accuracy percent:\", (nltk.classify.accuracy(LogisticRegression_classifier, testing_set))*100)\n",
        "\n",
        "SGDClassifier_classifier = SklearnClassifier(SGDClassifier())\n",
        "SGDClassifier_classifier.train(training_set)\n",
        "print(\"SGDClassifier_classifier accuracy percent:\", (nltk.classify.accuracy(SGDClassifier_classifier, testing_set))*100)\n",
        "\n",
        "##SVC_classifier = SklearnClassifier(SVC())\n",
        "##SVC_classifier.train(training_set)\n",
        "##print(\"SVC_classifier accuracy percent:\", (nltk.classify.accuracy(SVC_classifier, testing_set))*100)\n",
        "\n",
        "LinearSVC_classifier = SklearnClassifier(LinearSVC())\n",
        "LinearSVC_classifier.train(training_set)\n",
        "print(\"LinearSVC_classifier accuracy percent:\", (nltk.classify.accuracy(LinearSVC_classifier, testing_set))*100)\n",
        "\n",
        "NuSVC_classifier = SklearnClassifier(NuSVC())\n",
        "NuSVC_classifier.train(training_set)\n",
        "print(\"NuSVC_classifier accuracy percent:\", (nltk.classify.accuracy(NuSVC_classifier, testing_set))*100)\n",
        "\n",
        "\n",
        "voted_classifier = VoteClassifier(\n",
        "                                  NuSVC_classifier,\n",
        "                                  LinearSVC_classifier,\n",
        "                                  MNB_classifier,\n",
        "                                  BernoulliNB_classifier,\n",
        "                                  LogisticRegression_classifier)\n",
        "\n",
        "print(\"voted_classifier accuracy percent:\", (nltk.classify.accuracy(voted_classifier, testing_set))*100)"
      ],
      "metadata": {
        "colab": {
          "base_uri": "https://localhost:8080/"
        },
        "id": "TzBAt8SqTS_B",
        "outputId": "41eedee5-da3f-4daa-d264-de3b3a43e2e4"
      },
      "execution_count": null,
      "outputs": [
        {
          "output_type": "stream",
          "name": "stdout",
          "text": [
            "Original Naive Bayes Algo accuracy percent: 77.10843373493977\n",
            "Most Informative Features\n",
            "               wonderful = True              pos : neg    =     19.8 : 1.0\n",
            "              engrossing = True              pos : neg    =     18.5 : 1.0\n",
            "               inventive = True              pos : neg    =     15.1 : 1.0\n",
            "              refreshing = True              pos : neg    =     14.4 : 1.0\n",
            "            refreshingly = True              pos : neg    =     12.4 : 1.0\n",
            "                    warm = True              pos : neg    =     12.3 : 1.0\n",
            "                powerful = True              pos : neg    =     12.2 : 1.0\n",
            "               realistic = True              pos : neg    =     11.8 : 1.0\n",
            "                touching = True              pos : neg    =     11.7 : 1.0\n",
            "                provides = True              pos : neg    =     11.5 : 1.0\n",
            "                    ages = True              pos : neg    =     11.1 : 1.0\n",
            "                captures = True              pos : neg    =     11.1 : 1.0\n",
            "             mesmerizing = True              pos : neg    =     11.1 : 1.0\n",
            "                 quietly = True              pos : neg    =     11.1 : 1.0\n",
            "                  stupid = True              neg : pos    =     10.5 : 1.0\n",
            "MNB_classifier accuracy percent: 77.10843373493977\n",
            "BernoulliNB_classifier accuracy percent: 76.80722891566265\n"
          ]
        },
        {
          "output_type": "stream",
          "name": "stderr",
          "text": [
            "/usr/local/lib/python3.10/dist-packages/sklearn/linear_model/_logistic.py:458: ConvergenceWarning: lbfgs failed to converge (status=1):\n",
            "STOP: TOTAL NO. of ITERATIONS REACHED LIMIT.\n",
            "\n",
            "Increase the number of iterations (max_iter) or scale the data as shown in:\n",
            "    https://scikit-learn.org/stable/modules/preprocessing.html\n",
            "Please also refer to the documentation for alternative solver options:\n",
            "    https://scikit-learn.org/stable/modules/linear_model.html#logistic-regression\n",
            "  n_iter_i = _check_optimize_result(\n"
          ]
        },
        {
          "output_type": "stream",
          "name": "stdout",
          "text": [
            "LogisticRegression_classifier accuracy percent: 77.2590361445783\n",
            "SGDClassifier_classifier accuracy percent: 76.05421686746988\n",
            "LinearSVC_classifier accuracy percent: 73.04216867469879\n"
          ]
        }
      ]
    },
    {
      "cell_type": "markdown",
      "source": [
        "## Yeh waala dekhna padega"
      ],
      "metadata": {
        "id": "Cu9ARXPpZ-m4"
      }
    },
    {
      "cell_type": "code",
      "source": [
        "%%time\n",
        "\n",
        "import nltk\n",
        "from nltk.classify import SklearnClassifier\n",
        "from sklearn.naive_bayes import MultinomialNB, BernoulliNB\n",
        "from sklearn.linear_model import LogisticRegression, SGDClassifier\n",
        "from sklearn.svm import LinearSVC, NuSVC\n",
        "from nltk.classify import accuracy, ClassifierI\n",
        "from statistics import mode\n",
        "from concurrent.futures import ProcessPoolExecutor\n",
        "\n",
        "short_pos = open(\"positive.txt\", encoding=\"latin-1\").read()\n",
        "short_neg = open(\"negative.txt\", encoding=\"latin-1\").read()\n",
        "\n",
        "documents = []\n",
        "\n",
        "for r in short_pos.split('\\n'):\n",
        "    documents.append( (r, \"pos\") )\n",
        "\n",
        "for r in short_neg.split('\\n'):\n",
        "    documents.append( (r, \"neg\") )\n",
        "\n",
        "\n",
        "all_words = []\n",
        "\n",
        "short_pos_words = word_tokenize(short_pos)\n",
        "short_neg_words = word_tokenize(short_neg)\n",
        "\n",
        "for w in short_pos_words:\n",
        "    all_words.append(w.lower())\n",
        "\n",
        "for w in short_neg_words:\n",
        "    all_words.append(w.lower())\n",
        "\n",
        "all_words = nltk.FreqDist(all_words)\n",
        "\n",
        "word_features = list(all_words.keys())[:5000]\n",
        "\n",
        "def find_features(document):\n",
        "    words = word_tokenize(document)\n",
        "    features = {}\n",
        "    for w in word_features:\n",
        "        features[w] = (w in words)\n",
        "\n",
        "    return features\n",
        "\n",
        "#print((find_features(movie_reviews.words('neg/cv000_29416.txt'))))\n",
        "\n",
        "featuresets = [(find_features(rev), category) for (rev, category) in documents]\n",
        "\n",
        "random.shuffle(featuresets)\n",
        "\n",
        "# positive data example:\n",
        "training_set = featuresets[:10000]\n",
        "testing_set =  featuresets[10000:]\n",
        "\n",
        "# Function to train a classifier\n",
        "def train_classifier(classifier, training_set):\n",
        "    return classifier.train(training_set)\n",
        "\n",
        "# Train the classifiers in parallel\n",
        "classifiers = [\n",
        "    SklearnClassifier(MultinomialNB()),\n",
        "    SklearnClassifier(BernoulliNB()),\n",
        "    SklearnClassifier(LogisticRegression()),\n",
        "    SklearnClassifier(SGDClassifier()),\n",
        "    SklearnClassifier(LinearSVC()),\n",
        "    SklearnClassifier(NuSVC())\n",
        "]\n",
        "\n",
        "with ProcessPoolExecutor() as executor:\n",
        "    trained_classifiers = list(executor.map(train_classifier, classifiers, [training_set]*len(classifiers)))\n",
        "\n",
        "# Evaluate and print accuracy\n",
        "for i, classifier in enumerate(trained_classifiers):\n",
        "    accuracy_percent = accuracy(classifier, testing_set) * 100\n",
        "    print(f\"{classifiers[i].__class__.__name__} accuracy percent: {accuracy_percent}\")\n"
      ],
      "metadata": {
        "id": "qrCsmqzpTlT0"
      },
      "execution_count": null,
      "outputs": []
    },
    {
      "cell_type": "code",
      "source": [
        "%%time\n",
        "\n",
        "import nltk\n",
        "from nltk.classify import SklearnClassifier\n",
        "from sklearn.naive_bayes import MultinomialNB, BernoulliNB\n",
        "from sklearn.linear_model import LogisticRegression, SGDClassifier\n",
        "from sklearn.svm import LinearSVC, NuSVC\n",
        "from nltk.classify import accuracy, ClassifierI\n",
        "from statistics import mode\n",
        "\n",
        "# Assume you have already defined training_set and testing_set\n",
        "\n",
        "# Train the classifiers with n_jobs parameter\n",
        "classifiers = [\n",
        "    SklearnClassifier(MultinomialNB(), n_jobs=-1),\n",
        "    SklearnClassifier(BernoulliNB(), n_jobs=-1),\n",
        "    SklearnClassifier(LogisticRegression(), n_jobs=-1),\n",
        "    SklearnClassifier(SGDClassifier(), n_jobs=-1),\n",
        "    SklearnClassifier(LinearSVC(), n_jobs=-1),\n",
        "    SklearnClassifier(NuSVC(), n_jobs=-1)\n",
        "]\n",
        "\n",
        "# Train and print accuracy\n",
        "for classifier in classifiers:\n",
        "    classifier.train(training_set)\n",
        "    accuracy_percent = accuracy(classifier, testing_set) * 100\n",
        "    print(f\"{classifier.__class__.__name__} accuracy percent: {accuracy_percent}\")\n"
      ],
      "metadata": {
        "id": "i5L5MlipUxUk"
      },
      "execution_count": null,
      "outputs": []
    }
  ]
}