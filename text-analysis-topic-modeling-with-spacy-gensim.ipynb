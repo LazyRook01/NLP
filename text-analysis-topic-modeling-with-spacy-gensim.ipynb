{
 "cells": [
  {
   "cell_type": "markdown",
   "metadata": {
    "papermill": {
     "duration": 0.034193,
     "end_time": "2023-11-21T04:43:46.598066",
     "exception": false,
     "start_time": "2023-11-21T04:43:46.563873",
     "status": "completed"
    },
    "tags": []
   },
   "source": [
    "# ✔️ Apply Topic Modeling algorithms using Gensim — before moving on to more advanced textual analysis techniques\n",
    "\n",
    "> Topic Modelling is a great way to analyze completely unstructured textual data. Python NLP framework such as Gensim, NLTK, and spaCy makes it easier to do this.\n",
    "\n",
    "> The purpose of this article is to guide one through the whole process of topic modeling right from pre-processing your raw textual data, creating your topic models, evaluating the topic models, to visualizing them. The python packages used during the tutorial will be spaCy (for pre-processing), Gensim (for topic modeling), and pyLDAvis (for visualization).\n",
    "\n",
    "# 📌 Notebook Goals\n",
    "> - Learn how to use the power of `spaCy` to clean textual data.\n",
    "> - Use different Topic Modelling techniques like `LDA (Latent Dirichlet Allocation)`, `LSI (Latent Semantic Indexing)`, and `HDP (Hierarchical Drichlet Process)`\n",
    "---\n",
    "\n",
    "# 📚 Topic Modelling Overview\n",
    "Let's understand the general concept of Topic Modelling and why it's important! \n",
    "> - Topic Modeling is an unsupervised machine learning technique that allows us to efficiently analyze large volumes of text by clustering documents into topics.\n",
    "> - A large amount of text data is unlabeled meaning we can’t apply Supervised Learning approaches to create machine learning models for the data! In this case of text data, this means attempting to discover clusters of documents, grouped by topic. A very important idea to keep in mind here is that we don’t know the correct topic or the right answer! All we know is that the documents clustered together share similar topic ideas. It is up to us to identify what these topics represent.\n",
    "\n",
    "---\n",
    "# 📑 Text Analysis Tutorial\n",
    "\n",
    "> Our steps, naturally, are setting up our imports. We will be using spaCy for data pre-processing and computational linguistics, Gensim for Topic Modeling, Scikit-Learn for classification, and Keras for text generation."
   ]
  },
  {
   "cell_type": "markdown",
   "metadata": {
    "papermill": {
     "duration": 0.033913,
     "end_time": "2023-11-21T04:43:46.671154",
     "exception": false,
     "start_time": "2023-11-21T04:43:46.637241",
     "status": "completed"
    },
    "tags": []
   },
   "source": [
    "# ✔️ Import Libraries"
   ]
  },
  {
   "cell_type": "code",
   "execution_count": 1,
   "metadata": {
    "execution": {
     "iopub.execute_input": "2023-11-21T04:43:46.741522Z",
     "iopub.status.busy": "2023-11-21T04:43:46.740212Z",
     "iopub.status.idle": "2023-11-21T04:43:55.072163Z",
     "shell.execute_reply": "2023-11-21T04:43:55.071115Z",
     "shell.execute_reply.started": "2023-11-21T04:41:38.219469Z"
    },
    "papermill": {
     "duration": 8.369912,
     "end_time": "2023-11-21T04:43:55.072444",
     "exception": false,
     "start_time": "2023-11-21T04:43:46.702532",
     "status": "completed"
    },
    "tags": []
   },
   "outputs": [],
   "source": [
    "import os\n",
    "import numpy as np\n",
    "\n",
    "import spacy \n",
    "from spacy import displacy\n",
    "\n",
    "import gensim\n",
    "from gensim.corpora import Dictionary\n",
    "from gensim.models import LdaModel, CoherenceModel, LsiModel, HdpModel\n",
    "from gensim.models.wrappers import LdaMallet\n",
    "\n",
    "import matplotlib.pyplot as plt\n",
    "import sklearn\n",
    "import keras\n",
    "\n",
    "import warnings\n",
    "\n",
    "warnings.filterwarnings('ignore', category=DeprecationWarning)"
   ]
  },
  {
   "cell_type": "code",
   "execution_count": 2,
   "metadata": {
    "execution": {
     "iopub.execute_input": "2023-11-21T04:43:55.139462Z",
     "iopub.status.busy": "2023-11-21T04:43:55.138293Z",
     "iopub.status.idle": "2023-11-21T04:43:55.145863Z",
     "shell.execute_reply": "2023-11-21T04:43:55.145073Z",
     "shell.execute_reply.started": "2023-11-21T04:41:44.584983Z"
    },
    "papermill": {
     "duration": 0.041762,
     "end_time": "2023-11-21T04:43:55.146038",
     "exception": false,
     "start_time": "2023-11-21T04:43:55.104276",
     "status": "completed"
    },
    "tags": []
   },
   "outputs": [
    {
     "name": "stdout",
     "output_type": "stream",
     "text": [
      "2.3.5\n",
      "3.8.3\n"
     ]
    }
   ],
   "source": [
    "print(spacy.__version__)\n",
    "print(gensim.__version__)"
   ]
  },
  {
   "cell_type": "markdown",
   "metadata": {
    "papermill": {
     "duration": 0.03089,
     "end_time": "2023-11-21T04:43:55.208487",
     "exception": false,
     "start_time": "2023-11-21T04:43:55.177597",
     "status": "completed"
    },
    "tags": []
   },
   "source": [
    "---\n",
    "# 📂 Gathering Data\n",
    "\n",
    "> The dataset we will be working with will be the Lee corpus which is a shortened of the Lee Background Corpus, and the 20NG dataset. "
   ]
  },
  {
   "cell_type": "code",
   "execution_count": 3,
   "metadata": {
    "execution": {
     "iopub.execute_input": "2023-11-21T04:43:55.277742Z",
     "iopub.status.busy": "2023-11-21T04:43:55.276954Z",
     "iopub.status.idle": "2023-11-21T04:43:55.286406Z",
     "shell.execute_reply": "2023-11-21T04:43:55.287222Z",
     "shell.execute_reply.started": "2023-11-21T04:41:44.592720Z"
    },
    "papermill": {
     "duration": 0.047898,
     "end_time": "2023-11-21T04:43:55.287436",
     "exception": false,
     "start_time": "2023-11-21T04:43:55.239538",
     "status": "completed"
    },
    "tags": []
   },
   "outputs": [
    {
     "name": "stdout",
     "output_type": "stream",
     "text": [
      "/opt/conda/lib/python3.7/site-packages/gensim/test/test_data\n",
      "/opt/conda/lib/python3.7/site-packages/gensim/test/test_data/lee_background.cor\n"
     ]
    }
   ],
   "source": [
    "test_data_dir = '{}'.format(os.sep).join([gensim.__path__[0], 'test', 'test_data'])\n",
    "print(test_data_dir)\n",
    "\n",
    "lee_train_file = test_data_dir + os.sep + 'lee_background.cor'\n",
    "print(lee_train_file)\n",
    "\n",
    "text = open(lee_train_file).read()"
   ]
  },
  {
   "cell_type": "markdown",
   "metadata": {
    "papermill": {
     "duration": 0.031761,
     "end_time": "2023-11-21T04:43:55.350944",
     "exception": false,
     "start_time": "2023-11-21T04:43:55.319183",
     "status": "completed"
    },
    "tags": []
   },
   "source": [
    "---\n",
    "# 🧹 Cleaning Data\n",
    "\n",
    "> We can't have state-of-the-art results without data which is as good. Let's spend this section working on cleaning and understanding our data set. We will be checking out `spaCy`, an industry grade text-processing package."
   ]
  },
  {
   "cell_type": "code",
   "execution_count": 4,
   "metadata": {
    "execution": {
     "iopub.execute_input": "2023-11-21T04:43:55.417905Z",
     "iopub.status.busy": "2023-11-21T04:43:55.417040Z",
     "iopub.status.idle": "2023-11-21T04:43:57.003883Z",
     "shell.execute_reply": "2023-11-21T04:43:57.003006Z",
     "shell.execute_reply.started": "2023-11-21T04:41:44.606799Z"
    },
    "papermill": {
     "duration": 1.621235,
     "end_time": "2023-11-21T04:43:57.004114",
     "exception": false,
     "start_time": "2023-11-21T04:43:55.382879",
     "status": "completed"
    },
    "tags": []
   },
   "outputs": [],
   "source": [
    "nlp = spacy.load('en')"
   ]
  },
  {
   "cell_type": "markdown",
   "metadata": {
    "papermill": {
     "duration": 0.031362,
     "end_time": "2023-11-21T04:43:57.067716",
     "exception": false,
     "start_time": "2023-11-21T04:43:57.036354",
     "status": "completed"
    },
    "tags": []
   },
   "source": [
    "> For safe measure, let's add some stopwords. It's a newspaper corpus, so it is likely we will be coming across variations of 'said', 'Mister', and 'Mr'... which will not really add any value to the topic models."
   ]
  },
  {
   "cell_type": "code",
   "execution_count": 5,
   "metadata": {
    "execution": {
     "iopub.execute_input": "2023-11-21T04:43:57.134914Z",
     "iopub.status.busy": "2023-11-21T04:43:57.133902Z",
     "iopub.status.idle": "2023-11-21T04:43:57.146644Z",
     "shell.execute_reply": "2023-11-21T04:43:57.147264Z",
     "shell.execute_reply.started": "2023-11-21T04:41:45.438157Z"
    },
    "papermill": {
     "duration": 0.048136,
     "end_time": "2023-11-21T04:43:57.147470",
     "exception": false,
     "start_time": "2023-11-21T04:43:57.099334",
     "status": "completed"
    },
    "tags": []
   },
   "outputs": [],
   "source": [
    "my_stop_words = ['say', '\\s', 'mr', 'Mr', 'said', 'says', 'saying', 'today', 'be']\n",
    "\n",
    "for stopword in my_stop_words:\n",
    "    lexeme = nlp.vocab[stopword]\n",
    "    lexeme.is_stop = True"
   ]
  },
  {
   "cell_type": "code",
   "execution_count": 6,
   "metadata": {
    "execution": {
     "iopub.execute_input": "2023-11-21T04:43:57.215414Z",
     "iopub.status.busy": "2023-11-21T04:43:57.214336Z",
     "iopub.status.idle": "2023-11-21T04:44:09.896133Z",
     "shell.execute_reply": "2023-11-21T04:44:09.895326Z",
     "shell.execute_reply.started": "2023-11-21T04:41:45.448419Z"
    },
    "papermill": {
     "duration": 12.717361,
     "end_time": "2023-11-21T04:44:09.896300",
     "exception": false,
     "start_time": "2023-11-21T04:43:57.178939",
     "status": "completed"
    },
    "tags": []
   },
   "outputs": [],
   "source": [
    "doc = nlp(text)"
   ]
  },
  {
   "cell_type": "code",
   "execution_count": 7,
   "metadata": {
    "_kg_hide-output": true,
    "execution": {
     "iopub.execute_input": "2023-11-21T04:44:09.965556Z",
     "iopub.status.busy": "2023-11-21T04:44:09.964571Z",
     "iopub.status.idle": "2023-11-21T04:44:09.967612Z",
     "shell.execute_reply": "2023-11-21T04:44:09.966969Z",
     "shell.execute_reply.started": "2023-11-21T04:41:52.580401Z"
    },
    "papermill": {
     "duration": 0.038893,
     "end_time": "2023-11-21T04:44:09.967787",
     "exception": false,
     "start_time": "2023-11-21T04:44:09.928894",
     "status": "completed"
    },
    "tags": []
   },
   "outputs": [],
   "source": [
    "# doc"
   ]
  },
  {
   "cell_type": "markdown",
   "metadata": {
    "papermill": {
     "duration": 0.03095,
     "end_time": "2023-11-21T04:44:10.030945",
     "exception": false,
     "start_time": "2023-11-21T04:44:09.999995",
     "status": "completed"
    },
    "tags": []
   },
   "source": [
    "# 💹 Computational Linguistics\n",
    "\n",
    "Now that we have our doc object. We can see that the doc object now contains the entire corpus. This is important because we will be using the doc object to create our corpus for the machine learning algorithms. When creating a corpus for `gensim/scikit-learn`, we sometimes forget the incredible power which `spaCy` packs in its pipeline, so we will briefly demonstrate the same in this section with a smaller example sentence.\n"
   ]
  },
  {
   "cell_type": "code",
   "execution_count": 8,
   "metadata": {
    "execution": {
     "iopub.execute_input": "2023-11-21T04:44:10.101149Z",
     "iopub.status.busy": "2023-11-21T04:44:10.100306Z",
     "iopub.status.idle": "2023-11-21T04:44:10.113843Z",
     "shell.execute_reply": "2023-11-21T04:44:10.112996Z",
     "shell.execute_reply.started": "2023-11-21T04:41:52.586017Z"
    },
    "papermill": {
     "duration": 0.050997,
     "end_time": "2023-11-21T04:44:10.114015",
     "exception": false,
     "start_time": "2023-11-21T04:44:10.063018",
     "status": "completed"
    },
    "tags": []
   },
   "outputs": [],
   "source": [
    "sent = nlp('Last Thursday, Manchester United defeated AC Milan at San Siro.')"
   ]
  },
  {
   "cell_type": "markdown",
   "metadata": {
    "papermill": {
     "duration": 0.031968,
     "end_time": "2023-11-21T04:44:10.179281",
     "exception": false,
     "start_time": "2023-11-21T04:44:10.147313",
     "status": "completed"
    },
    "tags": []
   },
   "source": [
    "## 🔖 POS-Tagging\n",
    "\n",
    "The **Part Of Speech (POS)** explains how a word is used in a sentence. There are eight main parts of speech — nouns, pronouns, adjectives, verbs, adverbs, prepositions, conjunctions, and interjections."
   ]
  },
  {
   "cell_type": "code",
   "execution_count": 9,
   "metadata": {
    "execution": {
     "iopub.execute_input": "2023-11-21T04:44:10.250795Z",
     "iopub.status.busy": "2023-11-21T04:44:10.249990Z",
     "iopub.status.idle": "2023-11-21T04:44:10.258682Z",
     "shell.execute_reply": "2023-11-21T04:44:10.257917Z",
     "shell.execute_reply.started": "2023-11-21T04:41:52.604513Z"
    },
    "papermill": {
     "duration": 0.047313,
     "end_time": "2023-11-21T04:44:10.258852",
     "exception": false,
     "start_time": "2023-11-21T04:44:10.211539",
     "status": "completed"
    },
    "tags": []
   },
   "outputs": [
    {
     "name": "stdout",
     "output_type": "stream",
     "text": [
      "Last ADJ JJ\n",
      "Thursday PROPN NNP\n",
      ", PUNCT ,\n",
      "Manchester PROPN NNP\n",
      "United PROPN NNP\n",
      "defeated VERB VBD\n",
      "AC PROPN NNP\n",
      "Milan PROPN NNP\n",
      "at ADP IN\n",
      "San PROPN NNP\n",
      "Siro PROPN NNP\n",
      ". PUNCT .\n"
     ]
    }
   ],
   "source": [
    "for token in sent:\n",
    "    print(token.text, token.pos_, token.tag_)"
   ]
  },
  {
   "cell_type": "markdown",
   "metadata": {
    "papermill": {
     "duration": 0.033285,
     "end_time": "2023-11-21T04:44:10.325071",
     "exception": false,
     "start_time": "2023-11-21T04:44:10.291786",
     "status": "completed"
    },
    "tags": []
   },
   "source": [
    "## 🔖 NER-Tagging  — (Named Entity Recognition)\n",
    "\n",
    "**Named-entity recognition (NER)** is a subtask of information extraction that seeks to locate and classify named entities mentioned in unstructured text into pre-defined categories such as person names, organizations, locations, medical codes, time expressions, quantities, monetary values, percentages, etc."
   ]
  },
  {
   "cell_type": "code",
   "execution_count": 10,
   "metadata": {
    "execution": {
     "iopub.execute_input": "2023-11-21T04:44:10.395324Z",
     "iopub.status.busy": "2023-11-21T04:44:10.394321Z",
     "iopub.status.idle": "2023-11-21T04:44:10.398868Z",
     "shell.execute_reply": "2023-11-21T04:44:10.398196Z",
     "shell.execute_reply.started": "2023-11-21T04:41:52.611731Z"
    },
    "papermill": {
     "duration": 0.042258,
     "end_time": "2023-11-21T04:44:10.399043",
     "exception": false,
     "start_time": "2023-11-21T04:44:10.356785",
     "status": "completed"
    },
    "tags": []
   },
   "outputs": [
    {
     "name": "stdout",
     "output_type": "stream",
     "text": [
      "Last DATE\n",
      "Thursday DATE\n",
      ", \n",
      "Manchester ORG\n",
      "United ORG\n",
      "defeated \n",
      "AC ORG\n",
      "Milan ORG\n",
      "at \n",
      "San GPE\n",
      "Siro GPE\n",
      ". \n"
     ]
    }
   ],
   "source": [
    "for token in sent:\n",
    "    print(token.text, token.ent_type_)"
   ]
  },
  {
   "cell_type": "code",
   "execution_count": 11,
   "metadata": {
    "execution": {
     "iopub.execute_input": "2023-11-21T04:44:10.469625Z",
     "iopub.status.busy": "2023-11-21T04:44:10.468714Z",
     "iopub.status.idle": "2023-11-21T04:44:10.472654Z",
     "shell.execute_reply": "2023-11-21T04:44:10.472017Z",
     "shell.execute_reply.started": "2023-11-21T04:41:52.624085Z"
    },
    "papermill": {
     "duration": 0.04183,
     "end_time": "2023-11-21T04:44:10.472832",
     "exception": false,
     "start_time": "2023-11-21T04:44:10.431002",
     "status": "completed"
    },
    "tags": []
   },
   "outputs": [
    {
     "name": "stdout",
     "output_type": "stream",
     "text": [
      "Last Thursday DATE\n",
      "Manchester United ORG\n",
      "AC Milan ORG\n",
      "San Siro GPE\n"
     ]
    }
   ],
   "source": [
    "for ent in sent.ents:\n",
    "    print(ent.text, ent.label_)"
   ]
  },
  {
   "cell_type": "code",
   "execution_count": 12,
   "metadata": {
    "execution": {
     "iopub.execute_input": "2023-11-21T04:44:10.547243Z",
     "iopub.status.busy": "2023-11-21T04:44:10.546310Z",
     "iopub.status.idle": "2023-11-21T04:44:10.550857Z",
     "shell.execute_reply": "2023-11-21T04:44:10.550083Z",
     "shell.execute_reply.started": "2023-11-21T04:41:52.637107Z"
    },
    "papermill": {
     "duration": 0.045524,
     "end_time": "2023-11-21T04:44:10.551049",
     "exception": false,
     "start_time": "2023-11-21T04:44:10.505525",
     "status": "completed"
    },
    "tags": []
   },
   "outputs": [
    {
     "data": {
      "text/html": [
       "<span class=\"tex2jax_ignore\"><div class=\"entities\" style=\"line-height: 2.5; direction: ltr\">\n",
       "<mark class=\"entity\" style=\"background: #bfe1d9; padding: 0.45em 0.6em; margin: 0 0.25em; line-height: 1; border-radius: 0.35em;\">\n",
       "    Last Thursday\n",
       "    <span style=\"font-size: 0.8em; font-weight: bold; line-height: 1; border-radius: 0.35em; text-transform: uppercase; vertical-align: middle; margin-left: 0.5rem\">DATE</span>\n",
       "</mark>\n",
       ", \n",
       "<mark class=\"entity\" style=\"background: #7aecec; padding: 0.45em 0.6em; margin: 0 0.25em; line-height: 1; border-radius: 0.35em;\">\n",
       "    Manchester United\n",
       "    <span style=\"font-size: 0.8em; font-weight: bold; line-height: 1; border-radius: 0.35em; text-transform: uppercase; vertical-align: middle; margin-left: 0.5rem\">ORG</span>\n",
       "</mark>\n",
       " defeated \n",
       "<mark class=\"entity\" style=\"background: #7aecec; padding: 0.45em 0.6em; margin: 0 0.25em; line-height: 1; border-radius: 0.35em;\">\n",
       "    AC Milan\n",
       "    <span style=\"font-size: 0.8em; font-weight: bold; line-height: 1; border-radius: 0.35em; text-transform: uppercase; vertical-align: middle; margin-left: 0.5rem\">ORG</span>\n",
       "</mark>\n",
       " at \n",
       "<mark class=\"entity\" style=\"background: #feca74; padding: 0.45em 0.6em; margin: 0 0.25em; line-height: 1; border-radius: 0.35em;\">\n",
       "    San Siro\n",
       "    <span style=\"font-size: 0.8em; font-weight: bold; line-height: 1; border-radius: 0.35em; text-transform: uppercase; vertical-align: middle; margin-left: 0.5rem\">GPE</span>\n",
       "</mark>\n",
       ".</div></span>"
      ],
      "text/plain": [
       "<IPython.core.display.HTML object>"
      ]
     },
     "metadata": {},
     "output_type": "display_data"
    }
   ],
   "source": [
    "displacy.render(sent, style='ent', jupyter=True)"
   ]
  },
  {
   "cell_type": "markdown",
   "metadata": {
    "papermill": {
     "duration": 0.033006,
     "end_time": "2023-11-21T04:44:10.618465",
     "exception": false,
     "start_time": "2023-11-21T04:44:10.585459",
     "status": "completed"
    },
    "tags": []
   },
   "source": [
    "## 🧮 Dependency Parsing\n",
    "\n",
    "The term Dependency Parsing (DP) refers to the process of examining the dependencies between the phrases of a sentence in order to determine its grammatical structure."
   ]
  },
  {
   "cell_type": "code",
   "execution_count": 13,
   "metadata": {
    "execution": {
     "iopub.execute_input": "2023-11-21T04:44:10.693456Z",
     "iopub.status.busy": "2023-11-21T04:44:10.692687Z",
     "iopub.status.idle": "2023-11-21T04:44:10.697270Z",
     "shell.execute_reply": "2023-11-21T04:44:10.695959Z",
     "shell.execute_reply.started": "2023-11-21T04:41:52.647971Z"
    },
    "papermill": {
     "duration": 0.044602,
     "end_time": "2023-11-21T04:44:10.697548",
     "exception": false,
     "start_time": "2023-11-21T04:44:10.652946",
     "status": "completed"
    },
    "tags": []
   },
   "outputs": [
    {
     "name": "stdout",
     "output_type": "stream",
     "text": [
      "Manchester United United nsubj defeated\n",
      "AC Milan Milan dobj defeated\n",
      "San Siro Siro pobj at\n"
     ]
    }
   ],
   "source": [
    "for chunk in sent.noun_chunks:\n",
    "    print(chunk.text, chunk.root.text, chunk.root.dep_, chunk.root.head.text)"
   ]
  },
  {
   "cell_type": "code",
   "execution_count": 14,
   "metadata": {
    "execution": {
     "iopub.execute_input": "2023-11-21T04:44:10.776450Z",
     "iopub.status.busy": "2023-11-21T04:44:10.775369Z",
     "iopub.status.idle": "2023-11-21T04:44:10.779328Z",
     "shell.execute_reply": "2023-11-21T04:44:10.780269Z",
     "shell.execute_reply.started": "2023-11-21T04:41:52.658485Z"
    },
    "papermill": {
     "duration": 0.048035,
     "end_time": "2023-11-21T04:44:10.780581",
     "exception": false,
     "start_time": "2023-11-21T04:44:10.732546",
     "status": "completed"
    },
    "tags": []
   },
   "outputs": [
    {
     "name": "stdout",
     "output_type": "stream",
     "text": [
      "Last amod Thursday PROPN []\n",
      "Thursday npadvmod defeated VERB [Last]\n",
      ", punct defeated VERB []\n",
      "Manchester compound United PROPN []\n",
      "United nsubj defeated VERB [Manchester]\n",
      "defeated ROOT defeated VERB [Thursday, ,, United, Milan, at, .]\n",
      "AC compound Milan PROPN []\n",
      "Milan dobj defeated VERB [AC]\n",
      "at prep defeated VERB [Siro]\n",
      "San compound Siro PROPN []\n",
      "Siro pobj at ADP [San]\n",
      ". punct defeated VERB []\n"
     ]
    }
   ],
   "source": [
    "for token in sent:\n",
    "    print(token.text, token.dep_, token.head.text, token.head.pos_,\n",
    "         [child for child in token.children])"
   ]
  },
  {
   "cell_type": "code",
   "execution_count": 15,
   "metadata": {
    "execution": {
     "iopub.execute_input": "2023-11-21T04:44:10.860558Z",
     "iopub.status.busy": "2023-11-21T04:44:10.859424Z",
     "iopub.status.idle": "2023-11-21T04:44:10.865515Z",
     "shell.execute_reply": "2023-11-21T04:44:10.864849Z",
     "shell.execute_reply.started": "2023-11-21T04:41:52.672374Z"
    },
    "papermill": {
     "duration": 0.048334,
     "end_time": "2023-11-21T04:44:10.865680",
     "exception": false,
     "start_time": "2023-11-21T04:44:10.817346",
     "status": "completed"
    },
    "tags": []
   },
   "outputs": [
    {
     "data": {
      "text/html": [
       "<span class=\"tex2jax_ignore\"><svg xmlns=\"http://www.w3.org/2000/svg\" xmlns:xlink=\"http://www.w3.org/1999/xlink\" xml:lang=\"en\" id=\"1ad38ebdf5c34fc8a489fe1292c7d65a-0\" class=\"displacy\" width=\"950\" height=\"272.0\" direction=\"ltr\" style=\"max-width: none; height: 272.0px; color: #000000; background: #ffffff; font-family: Arial; direction: ltr\">\n",
       "<text class=\"displacy-token\" fill=\"currentColor\" text-anchor=\"middle\" y=\"182.0\">\n",
       "    <tspan class=\"displacy-word\" fill=\"currentColor\" x=\"50\">Last</tspan>\n",
       "    <tspan class=\"displacy-tag\" dy=\"2em\" fill=\"currentColor\" x=\"50\">ADJ</tspan>\n",
       "</text>\n",
       "\n",
       "<text class=\"displacy-token\" fill=\"currentColor\" text-anchor=\"middle\" y=\"182.0\">\n",
       "    <tspan class=\"displacy-word\" fill=\"currentColor\" x=\"140\">Thursday,</tspan>\n",
       "    <tspan class=\"displacy-tag\" dy=\"2em\" fill=\"currentColor\" x=\"140\">PROPN</tspan>\n",
       "</text>\n",
       "\n",
       "<text class=\"displacy-token\" fill=\"currentColor\" text-anchor=\"middle\" y=\"182.0\">\n",
       "    <tspan class=\"displacy-word\" fill=\"currentColor\" x=\"230\">Manchester</tspan>\n",
       "    <tspan class=\"displacy-tag\" dy=\"2em\" fill=\"currentColor\" x=\"230\">PROPN</tspan>\n",
       "</text>\n",
       "\n",
       "<text class=\"displacy-token\" fill=\"currentColor\" text-anchor=\"middle\" y=\"182.0\">\n",
       "    <tspan class=\"displacy-word\" fill=\"currentColor\" x=\"320\">United</tspan>\n",
       "    <tspan class=\"displacy-tag\" dy=\"2em\" fill=\"currentColor\" x=\"320\">PROPN</tspan>\n",
       "</text>\n",
       "\n",
       "<text class=\"displacy-token\" fill=\"currentColor\" text-anchor=\"middle\" y=\"182.0\">\n",
       "    <tspan class=\"displacy-word\" fill=\"currentColor\" x=\"410\">defeated</tspan>\n",
       "    <tspan class=\"displacy-tag\" dy=\"2em\" fill=\"currentColor\" x=\"410\">VERB</tspan>\n",
       "</text>\n",
       "\n",
       "<text class=\"displacy-token\" fill=\"currentColor\" text-anchor=\"middle\" y=\"182.0\">\n",
       "    <tspan class=\"displacy-word\" fill=\"currentColor\" x=\"500\">AC</tspan>\n",
       "    <tspan class=\"displacy-tag\" dy=\"2em\" fill=\"currentColor\" x=\"500\">PROPN</tspan>\n",
       "</text>\n",
       "\n",
       "<text class=\"displacy-token\" fill=\"currentColor\" text-anchor=\"middle\" y=\"182.0\">\n",
       "    <tspan class=\"displacy-word\" fill=\"currentColor\" x=\"590\">Milan</tspan>\n",
       "    <tspan class=\"displacy-tag\" dy=\"2em\" fill=\"currentColor\" x=\"590\">PROPN</tspan>\n",
       "</text>\n",
       "\n",
       "<text class=\"displacy-token\" fill=\"currentColor\" text-anchor=\"middle\" y=\"182.0\">\n",
       "    <tspan class=\"displacy-word\" fill=\"currentColor\" x=\"680\">at</tspan>\n",
       "    <tspan class=\"displacy-tag\" dy=\"2em\" fill=\"currentColor\" x=\"680\">ADP</tspan>\n",
       "</text>\n",
       "\n",
       "<text class=\"displacy-token\" fill=\"currentColor\" text-anchor=\"middle\" y=\"182.0\">\n",
       "    <tspan class=\"displacy-word\" fill=\"currentColor\" x=\"770\">San</tspan>\n",
       "    <tspan class=\"displacy-tag\" dy=\"2em\" fill=\"currentColor\" x=\"770\">PROPN</tspan>\n",
       "</text>\n",
       "\n",
       "<text class=\"displacy-token\" fill=\"currentColor\" text-anchor=\"middle\" y=\"182.0\">\n",
       "    <tspan class=\"displacy-word\" fill=\"currentColor\" x=\"860\">Siro.</tspan>\n",
       "    <tspan class=\"displacy-tag\" dy=\"2em\" fill=\"currentColor\" x=\"860\">PROPN</tspan>\n",
       "</text>\n",
       "\n",
       "<g class=\"displacy-arrow\">\n",
       "    <path class=\"displacy-arc\" id=\"arrow-1ad38ebdf5c34fc8a489fe1292c7d65a-0-0\" stroke-width=\"2px\" d=\"M70,137.0 C70,92.0 130.0,92.0 130.0,137.0\" fill=\"none\" stroke=\"currentColor\"/>\n",
       "    <text dy=\"1.25em\" style=\"font-size: 0.8em; letter-spacing: 1px\">\n",
       "        <textPath xlink:href=\"#arrow-1ad38ebdf5c34fc8a489fe1292c7d65a-0-0\" class=\"displacy-label\" startOffset=\"50%\" side=\"left\" fill=\"currentColor\" text-anchor=\"middle\">amod</textPath>\n",
       "    </text>\n",
       "    <path class=\"displacy-arrowhead\" d=\"M70,139.0 L62,127.0 78,127.0\" fill=\"currentColor\"/>\n",
       "</g>\n",
       "\n",
       "<g class=\"displacy-arrow\">\n",
       "    <path class=\"displacy-arc\" id=\"arrow-1ad38ebdf5c34fc8a489fe1292c7d65a-0-1\" stroke-width=\"2px\" d=\"M160,137.0 C160,2.0 410.0,2.0 410.0,137.0\" fill=\"none\" stroke=\"currentColor\"/>\n",
       "    <text dy=\"1.25em\" style=\"font-size: 0.8em; letter-spacing: 1px\">\n",
       "        <textPath xlink:href=\"#arrow-1ad38ebdf5c34fc8a489fe1292c7d65a-0-1\" class=\"displacy-label\" startOffset=\"50%\" side=\"left\" fill=\"currentColor\" text-anchor=\"middle\">npadvmod</textPath>\n",
       "    </text>\n",
       "    <path class=\"displacy-arrowhead\" d=\"M160,139.0 L152,127.0 168,127.0\" fill=\"currentColor\"/>\n",
       "</g>\n",
       "\n",
       "<g class=\"displacy-arrow\">\n",
       "    <path class=\"displacy-arc\" id=\"arrow-1ad38ebdf5c34fc8a489fe1292c7d65a-0-2\" stroke-width=\"2px\" d=\"M250,137.0 C250,92.0 310.0,92.0 310.0,137.0\" fill=\"none\" stroke=\"currentColor\"/>\n",
       "    <text dy=\"1.25em\" style=\"font-size: 0.8em; letter-spacing: 1px\">\n",
       "        <textPath xlink:href=\"#arrow-1ad38ebdf5c34fc8a489fe1292c7d65a-0-2\" class=\"displacy-label\" startOffset=\"50%\" side=\"left\" fill=\"currentColor\" text-anchor=\"middle\">compound</textPath>\n",
       "    </text>\n",
       "    <path class=\"displacy-arrowhead\" d=\"M250,139.0 L242,127.0 258,127.0\" fill=\"currentColor\"/>\n",
       "</g>\n",
       "\n",
       "<g class=\"displacy-arrow\">\n",
       "    <path class=\"displacy-arc\" id=\"arrow-1ad38ebdf5c34fc8a489fe1292c7d65a-0-3\" stroke-width=\"2px\" d=\"M340,137.0 C340,92.0 400.0,92.0 400.0,137.0\" fill=\"none\" stroke=\"currentColor\"/>\n",
       "    <text dy=\"1.25em\" style=\"font-size: 0.8em; letter-spacing: 1px\">\n",
       "        <textPath xlink:href=\"#arrow-1ad38ebdf5c34fc8a489fe1292c7d65a-0-3\" class=\"displacy-label\" startOffset=\"50%\" side=\"left\" fill=\"currentColor\" text-anchor=\"middle\">nsubj</textPath>\n",
       "    </text>\n",
       "    <path class=\"displacy-arrowhead\" d=\"M340,139.0 L332,127.0 348,127.0\" fill=\"currentColor\"/>\n",
       "</g>\n",
       "\n",
       "<g class=\"displacy-arrow\">\n",
       "    <path class=\"displacy-arc\" id=\"arrow-1ad38ebdf5c34fc8a489fe1292c7d65a-0-4\" stroke-width=\"2px\" d=\"M520,137.0 C520,92.0 580.0,92.0 580.0,137.0\" fill=\"none\" stroke=\"currentColor\"/>\n",
       "    <text dy=\"1.25em\" style=\"font-size: 0.8em; letter-spacing: 1px\">\n",
       "        <textPath xlink:href=\"#arrow-1ad38ebdf5c34fc8a489fe1292c7d65a-0-4\" class=\"displacy-label\" startOffset=\"50%\" side=\"left\" fill=\"currentColor\" text-anchor=\"middle\">compound</textPath>\n",
       "    </text>\n",
       "    <path class=\"displacy-arrowhead\" d=\"M520,139.0 L512,127.0 528,127.0\" fill=\"currentColor\"/>\n",
       "</g>\n",
       "\n",
       "<g class=\"displacy-arrow\">\n",
       "    <path class=\"displacy-arc\" id=\"arrow-1ad38ebdf5c34fc8a489fe1292c7d65a-0-5\" stroke-width=\"2px\" d=\"M430,137.0 C430,47.0 585.0,47.0 585.0,137.0\" fill=\"none\" stroke=\"currentColor\"/>\n",
       "    <text dy=\"1.25em\" style=\"font-size: 0.8em; letter-spacing: 1px\">\n",
       "        <textPath xlink:href=\"#arrow-1ad38ebdf5c34fc8a489fe1292c7d65a-0-5\" class=\"displacy-label\" startOffset=\"50%\" side=\"left\" fill=\"currentColor\" text-anchor=\"middle\">dobj</textPath>\n",
       "    </text>\n",
       "    <path class=\"displacy-arrowhead\" d=\"M585.0,139.0 L593.0,127.0 577.0,127.0\" fill=\"currentColor\"/>\n",
       "</g>\n",
       "\n",
       "<g class=\"displacy-arrow\">\n",
       "    <path class=\"displacy-arc\" id=\"arrow-1ad38ebdf5c34fc8a489fe1292c7d65a-0-6\" stroke-width=\"2px\" d=\"M430,137.0 C430,2.0 680.0,2.0 680.0,137.0\" fill=\"none\" stroke=\"currentColor\"/>\n",
       "    <text dy=\"1.25em\" style=\"font-size: 0.8em; letter-spacing: 1px\">\n",
       "        <textPath xlink:href=\"#arrow-1ad38ebdf5c34fc8a489fe1292c7d65a-0-6\" class=\"displacy-label\" startOffset=\"50%\" side=\"left\" fill=\"currentColor\" text-anchor=\"middle\">prep</textPath>\n",
       "    </text>\n",
       "    <path class=\"displacy-arrowhead\" d=\"M680.0,139.0 L688.0,127.0 672.0,127.0\" fill=\"currentColor\"/>\n",
       "</g>\n",
       "\n",
       "<g class=\"displacy-arrow\">\n",
       "    <path class=\"displacy-arc\" id=\"arrow-1ad38ebdf5c34fc8a489fe1292c7d65a-0-7\" stroke-width=\"2px\" d=\"M790,137.0 C790,92.0 850.0,92.0 850.0,137.0\" fill=\"none\" stroke=\"currentColor\"/>\n",
       "    <text dy=\"1.25em\" style=\"font-size: 0.8em; letter-spacing: 1px\">\n",
       "        <textPath xlink:href=\"#arrow-1ad38ebdf5c34fc8a489fe1292c7d65a-0-7\" class=\"displacy-label\" startOffset=\"50%\" side=\"left\" fill=\"currentColor\" text-anchor=\"middle\">compound</textPath>\n",
       "    </text>\n",
       "    <path class=\"displacy-arrowhead\" d=\"M790,139.0 L782,127.0 798,127.0\" fill=\"currentColor\"/>\n",
       "</g>\n",
       "\n",
       "<g class=\"displacy-arrow\">\n",
       "    <path class=\"displacy-arc\" id=\"arrow-1ad38ebdf5c34fc8a489fe1292c7d65a-0-8\" stroke-width=\"2px\" d=\"M700,137.0 C700,47.0 855.0,47.0 855.0,137.0\" fill=\"none\" stroke=\"currentColor\"/>\n",
       "    <text dy=\"1.25em\" style=\"font-size: 0.8em; letter-spacing: 1px\">\n",
       "        <textPath xlink:href=\"#arrow-1ad38ebdf5c34fc8a489fe1292c7d65a-0-8\" class=\"displacy-label\" startOffset=\"50%\" side=\"left\" fill=\"currentColor\" text-anchor=\"middle\">pobj</textPath>\n",
       "    </text>\n",
       "    <path class=\"displacy-arrowhead\" d=\"M855.0,139.0 L863.0,127.0 847.0,127.0\" fill=\"currentColor\"/>\n",
       "</g>\n",
       "</svg></span>"
      ],
      "text/plain": [
       "<IPython.core.display.HTML object>"
      ]
     },
     "metadata": {},
     "output_type": "display_data"
    }
   ],
   "source": [
    "displacy.render(sent, style='dep', jupyter=True, options={'distance':90})"
   ]
  },
  {
   "cell_type": "markdown",
   "metadata": {
    "papermill": {
     "duration": 0.034452,
     "end_time": "2023-11-21T04:44:10.935233",
     "exception": false,
     "start_time": "2023-11-21T04:44:10.900781",
     "status": "completed"
    },
    "tags": []
   },
   "source": [
    "# 🧹 Continuing Cleaning\n",
    "\n",
    "> Have a quick look at the output of the doc object. It seems like nothing, right? But spaCy's internal data structure has done all the work for us. Let's see how we can create our corpus."
   ]
  },
  {
   "cell_type": "code",
   "execution_count": 16,
   "metadata": {
    "execution": {
     "iopub.execute_input": "2023-11-21T04:44:11.036155Z",
     "iopub.status.busy": "2023-11-21T04:44:11.030738Z",
     "iopub.status.idle": "2023-11-21T04:44:11.197429Z",
     "shell.execute_reply": "2023-11-21T04:44:11.196677Z",
     "shell.execute_reply.started": "2023-11-21T04:41:52.681443Z"
    },
    "papermill": {
     "duration": 0.227253,
     "end_time": "2023-11-21T04:44:11.197623",
     "exception": false,
     "start_time": "2023-11-21T04:44:10.970370",
     "status": "completed"
    },
    "tags": []
   },
   "outputs": [
    {
     "name": "stdout",
     "output_type": "stream",
     "text": [
      "['hundred', 'people', 'force', 'vacate', 'home', 'Southern', 'Highlands', 'New', 'South', 'Wales', 'strong', 'wind', 'push', 'huge', 'bushfire', 'town', 'Hill', 'new', 'blaze', 'near', 'Goulburn', 'south', 'west', 'Sydney', 'force', 'closure', 'Hume', 'Highway', '4:00pm', 'AEDT', 'marked', 'deterioration', 'weather', 'storm', 'cell', 'move', 'east', 'Blue', 'Mountains', 'force', 'authority', 'decision', 'evacuate', 'people', 'home', 'outlying', 'street', 'Hill', 'New', 'South', 'Wales', 'southern', 'highland', 'estimated', 'resident', 'leave', 'home', 'nearby', 'Mittagong', 'New', 'South', 'Wales', 'Rural', 'Fire', 'Service', 'weather', 'condition', 'cause', 'fire', 'burn', 'finger', 'formation', 'ease', 'fire', 'unit', 'Hill', 'optimistic', 'defend', 'property', 'blaze', 'burn', 'New', 'Year', 'Eve', 'New', 'South', 'Wales', 'fire', 'crew', 'call', 'new', 'fire', 'Gunning', 'south', 'Goulburn', 'detail', 'available', 'stage', 'fire', 'authority', 'close', 'Hume', 'Highway', 'direction', 'new', 'fire', 'Sydney', 'west', 'long', 'threaten', 'property', 'Cranebrook', 'area', 'rain', 'fall', 'part', 'Illawarra', 'Sydney', 'Hunter', 'Valley', 'north', 'coast', 'Bureau', 'Meteorology', 'Claire', 'Richards', 'rain', 'little', 'ease', 'fire', 'burn', 'state', 'fall', 'isolated', 'area', 'generally', 'fall', 'millimetre', 'place', 'significant', 'millimetre', 'relief', 'far', 'rain', 'concern', 'fact', 'probably', 'hamper', 'effort', 'firefighter', 'wind', 'gust', 'associate', 'thunderstorm']\n"
     ]
    }
   ],
   "source": [
    "# We add some words to the stop word list\n",
    "texts, article = [], []\n",
    "\n",
    "for word in doc:\n",
    "    \n",
    "    if word.text != '\\n' and not word.is_stop and not word.is_punct and not word.like_num and word.text != 'I':\n",
    "        article.append(word.lemma_)\n",
    "        \n",
    "    if word.text == '\\n':\n",
    "        texts.append(article)\n",
    "        article = []\n",
    "        \n",
    "        \n",
    "print(texts[0])"
   ]
  },
  {
   "cell_type": "markdown",
   "metadata": {
    "papermill": {
     "duration": 0.035311,
     "end_time": "2023-11-21T04:44:11.268665",
     "exception": false,
     "start_time": "2023-11-21T04:44:11.233354",
     "status": "completed"
    },
    "tags": []
   },
   "source": [
    "> - And this is the magic of spaCy - just like that, we've managed to get rid of stopwords, puctuation markers, and added lemmatized word.\n",
    "> - Sometimes topic modeling make more sense when `New` and `York` are treated as `New York` - we can do this by creating a bigram model and modifying our corpus accordingly."
   ]
  },
  {
   "cell_type": "code",
   "execution_count": 17,
   "metadata": {
    "execution": {
     "iopub.execute_input": "2023-11-21T04:44:11.344440Z",
     "iopub.status.busy": "2023-11-21T04:44:11.343342Z",
     "iopub.status.idle": "2023-11-21T04:44:11.821346Z",
     "shell.execute_reply": "2023-11-21T04:44:11.822349Z",
     "shell.execute_reply.started": "2023-11-21T04:41:52.782033Z"
    },
    "papermill": {
     "duration": 0.518299,
     "end_time": "2023-11-21T04:44:11.822635",
     "exception": false,
     "start_time": "2023-11-21T04:44:11.304336",
     "status": "completed"
    },
    "tags": []
   },
   "outputs": [
    {
     "name": "stdout",
     "output_type": "stream",
     "text": [
      "['hundred', 'people', 'force', 'vacate', 'home', 'Southern', 'Highlands', 'New_South', 'Wales', 'strong', 'wind', 'push', 'huge', 'bushfire', 'town', 'Hill', 'new', 'blaze', 'near', 'Goulburn', 'south_west', 'Sydney', 'force', 'closure', 'Hume', 'Highway', '4:00pm', 'AEDT', 'marked', 'deterioration', 'weather', 'storm', 'cell', 'move', 'east', 'Blue_Mountains', 'force', 'authority', 'decision', 'evacuate', 'people', 'home', 'outlying', 'street', 'Hill', 'New_South', 'Wales', 'southern', 'highland', 'estimated', 'resident', 'leave', 'home', 'nearby', 'Mittagong', 'New_South', 'Wales', 'Rural_Fire', 'Service', 'weather_condition', 'cause', 'fire_burn', 'finger', 'formation', 'ease', 'fire', 'unit', 'Hill', 'optimistic', 'defend', 'property', 'blaze', 'burn', 'New', 'Year', 'Eve', 'New_South', 'Wales', 'fire', 'crew', 'call', 'new', 'fire', 'Gunning', 'south', 'Goulburn', 'detail', 'available', 'stage', 'fire', 'authority', 'close', 'Hume', 'Highway', 'direction', 'new', 'fire', 'Sydney', 'west', 'long', 'threaten', 'property', 'Cranebrook', 'area', 'rain', 'fall', 'part', 'Illawarra', 'Sydney', 'Hunter', 'Valley', 'north', 'coast', 'Bureau', 'Meteorology', 'Claire', 'Richards', 'rain', 'little', 'ease', 'fire_burn', 'state', 'fall', 'isolated', 'area', 'generally', 'fall', 'millimetre', 'place', 'significant', 'millimetre', 'relief', 'far', 'rain', 'concern', 'fact', 'probably', 'hamper', 'effort', 'firefighter', 'wind', 'gust', 'associate', 'thunderstorm']\n"
     ]
    }
   ],
   "source": [
    "bigram = gensim.models.phrases.Phrases(texts)\n",
    "texts = [bigram[line] for line in texts]\n",
    "texts = [bigram[line] for line in texts]\n",
    "\n",
    "print(texts[0])"
   ]
  },
  {
   "cell_type": "code",
   "execution_count": 18,
   "metadata": {
    "execution": {
     "iopub.execute_input": "2023-11-21T04:44:11.899544Z",
     "iopub.status.busy": "2023-11-21T04:44:11.898718Z",
     "iopub.status.idle": "2023-11-21T04:44:12.002485Z",
     "shell.execute_reply": "2023-11-21T04:44:12.003084Z",
     "shell.execute_reply.started": "2023-11-21T04:41:53.081337Z"
    },
    "papermill": {
     "duration": 0.143359,
     "end_time": "2023-11-21T04:44:12.003296",
     "exception": false,
     "start_time": "2023-11-21T04:44:11.859937",
     "status": "completed"
    },
    "tags": []
   },
   "outputs": [
    {
     "name": "stdout",
     "output_type": "stream",
     "text": [
      "[(71, 1), (83, 1), (91, 1), (93, 1), (94, 1), (108, 1), (109, 1), (110, 1), (111, 4), (112, 1), (113, 1), (114, 1), (115, 1), (116, 2), (117, 1), (118, 1), (119, 3), (120, 1), (121, 1), (122, 1), (123, 2), (124, 3), (125, 1), (126, 2), (127, 2), (128, 1), (129, 1), (130, 1), (131, 1), (132, 1), (133, 1), (134, 1), (135, 1), (136, 1), (137, 1), (138, 3), (139, 1), (140, 1), (141, 1), (142, 2), (143, 1), (144, 1), (145, 1), (146, 1), (147, 1), (148, 1), (149, 1), (150, 3), (151, 3), (152, 1), (153, 1), (154, 2), (155, 1), (156, 1), (157, 2), (158, 1), (159, 1), (160, 1), (161, 1), (162, 1), (163, 1), (164, 1), (165, 1), (166, 1), (167, 1), (168, 1), (169, 1), (170, 2), (171, 1), (172, 1), (173, 1), (174, 1), (175, 1), (176, 1)]\n"
     ]
    }
   ],
   "source": [
    "dictionary = Dictionary(texts)\n",
    "corpus = [dictionary.doc2bow(text) for text in texts]\n",
    "\n",
    "print(corpus[1])"
   ]
  },
  {
   "cell_type": "markdown",
   "metadata": {
    "papermill": {
     "duration": 0.036764,
     "end_time": "2023-11-21T04:44:12.077145",
     "exception": false,
     "start_time": "2023-11-21T04:44:12.040381",
     "status": "completed"
    },
    "tags": []
   },
   "source": [
    "> Now we are done with a very important part of text analysis - the data cleaning and setting up of corpus. It must kept in mind that we created the corpus the way we did because that's how gensim requires it - most algorithms still require one to clean the data set the way we did, by removing stop words and numbers, adding the lemmatized form of the word, and using bigrams."
   ]
  },
  {
   "cell_type": "markdown",
   "metadata": {
    "papermill": {
     "duration": 0.035512,
     "end_time": "2023-11-21T04:44:12.148825",
     "exception": false,
     "start_time": "2023-11-21T04:44:12.113313",
     "status": "completed"
    },
    "tags": []
   },
   "source": [
    "---\n",
    "# 📚 Topic Modeling\n",
    "\n",
    "> Topic Modeling refers to the probabilistic modeling of text document as topics. Gensim remains the most popular library to perform such modelling, and we will be using it to perform our topic modelling."
   ]
  },
  {
   "cell_type": "markdown",
   "metadata": {
    "papermill": {
     "duration": 0.035983,
     "end_time": "2023-11-21T04:44:12.220999",
     "exception": false,
     "start_time": "2023-11-21T04:44:12.185016",
     "status": "completed"
    },
    "tags": []
   },
   "source": [
    "## ✔️ LSI - Latent Semantic Indexing\n",
    "\n",
    "> LSI stands for Latent Semantic Indexing - It is a popular information retreival method which works by decomposing the original matrix of words to maintain key topics. "
   ]
  },
  {
   "cell_type": "code",
   "execution_count": 19,
   "metadata": {
    "execution": {
     "iopub.execute_input": "2023-11-21T04:44:12.298745Z",
     "iopub.status.busy": "2023-11-21T04:44:12.297870Z",
     "iopub.status.idle": "2023-11-21T04:44:12.520821Z",
     "shell.execute_reply": "2023-11-21T04:44:12.522207Z",
     "shell.execute_reply.started": "2023-11-21T04:41:53.151467Z"
    },
    "papermill": {
     "duration": 0.264409,
     "end_time": "2023-11-21T04:44:12.522582",
     "exception": false,
     "start_time": "2023-11-21T04:44:12.258173",
     "status": "completed"
    },
    "tags": []
   },
   "outputs": [
    {
     "data": {
      "text/plain": [
       "[(0,\n",
       "  '-0.231*\"israeli\" + -0.215*\"Arafat\" + -0.197*\"palestinian\" + -0.177*\"force\" + -0.159*\"kill\" + -0.159*\"official\" + -0.151*\"attack\" + -0.141*\"people\" + -0.118*\"day\" + -0.116*\"Israel\"'),\n",
       " (1,\n",
       "  '-0.306*\"israeli\" + -0.305*\"Arafat\" + -0.272*\"palestinian\" + 0.167*\"Afghanistan\" + -0.165*\"Sharon\" + 0.159*\"Australia\" + -0.154*\"Israel\" + -0.126*\"Hamas\" + -0.123*\"West_Bank\" + 0.118*\"force\"'),\n",
       " (2,\n",
       "  '0.259*\"Afghanistan\" + 0.218*\"force\" + -0.191*\"fire\" + 0.182*\"Al_Qaeda\" + 0.173*\"bin_Laden\" + 0.150*\"Pakistan\" + -0.147*\"Sydney\" + 0.131*\"fighter\" + 0.130*\"Tora_Bora\" + 0.127*\"Taliban\"'),\n",
       " (3,\n",
       "  '0.388*\"fire\" + 0.272*\"area\" + -0.207*\"Australia\" + 0.202*\"Sydney\" + 0.180*\"firefighter\" + 0.160*\"north\" + 0.149*\"wind\" + 0.135*\"New_South\" + 0.135*\"Wales\" + 0.127*\"south\"'),\n",
       " (4,\n",
       "  '0.273*\"company\" + 0.206*\"Qantas\" + 0.179*\"union\" + -0.166*\"test\" + 0.147*\"worker\" + -0.143*\"match\" + -0.141*\"South_Africa\" + -0.135*\"win\" + -0.130*\"wicket\" + -0.124*\"day\"')]"
      ]
     },
     "execution_count": 19,
     "metadata": {},
     "output_type": "execute_result"
    }
   ],
   "source": [
    "lsi_model = LsiModel(corpus=corpus, num_topics=10, id2word=dictionary)\n",
    "lsi_model.show_topics(num_topics=5)"
   ]
  },
  {
   "cell_type": "markdown",
   "metadata": {
    "papermill": {
     "duration": 0.040989,
     "end_time": "2023-11-21T04:44:12.643054",
     "exception": false,
     "start_time": "2023-11-21T04:44:12.602065",
     "status": "completed"
    },
    "tags": []
   },
   "source": [
    "## ✔️ HDP - Hierarchical Drichlet Process\n",
    "\n",
    "> HDP, the Hierarchical Drichlet Process is an unsupervised topic model which figures out the number of topics on it's own."
   ]
  },
  {
   "cell_type": "code",
   "execution_count": 20,
   "metadata": {
    "execution": {
     "iopub.execute_input": "2023-11-21T04:44:12.725120Z",
     "iopub.status.busy": "2023-11-21T04:44:12.724110Z",
     "iopub.status.idle": "2023-11-21T04:44:14.707217Z",
     "shell.execute_reply": "2023-11-21T04:44:14.706551Z",
     "shell.execute_reply.started": "2023-11-21T04:41:53.351136Z"
    },
    "papermill": {
     "duration": 2.026355,
     "end_time": "2023-11-21T04:44:14.707405",
     "exception": false,
     "start_time": "2023-11-21T04:44:12.681050",
     "status": "completed"
    },
    "tags": []
   },
   "outputs": [
    {
     "data": {
      "text/plain": [
       "[(0,\n",
       "  '0.006*Arafat + 0.005*Sharon + 0.005*israeli + 0.004*palestinian + 0.004*group + 0.003*choose + 0.003*Government + 0.003*attack + 0.003*terrorism + 0.003*kill + 0.003*West_Bank + 0.002*official + 0.002*Gaza_Strip + 0.002*suicide_attack + 0.002*war + 0.002*target + 0.002*Hamas + 0.002*air_strike + 0.002*path + 0.002*militant'),\n",
       " (1,\n",
       "  '0.004*company + 0.003*Friedli + 0.003*director + 0.003*report + 0.002*know + 0.002*reply + 0.002*Sydney + 0.002*continue + 0.002*people + 0.002*risk + 0.001*tell + 0.001*Wales + 0.001*carry + 0.001*describe + 0.001*end + 0.001*rating + 0.001*HIH + 0.001*official + 0.001*storm + 0.001*river'),\n",
       " (2,\n",
       "  '0.003*match + 0.002*team + 0.002*Leanne + 0.002*play + 0.002*ask + 0.002*Rafter + 0.002*guarantee + 0.002*israeli + 0.002*single + 0.002*tennis + 0.002*Australia + 0.002*crowd + 0.001*France + 0.001*attack + 0.001*victory + 0.001*governance + 0.001*accuse + 0.001*want + 0.001*day + 0.001*arrest'),\n",
       " (3,\n",
       "  '0.003*arrest + 0.003*year + 0.002*state + 0.002*lead + 0.002*australian + 0.002*transport + 0.002*people + 0.002*AFP + 0.002*dispute + 0.002*believe + 0.002*table + 0.002*union + 0.001*proposal + 0.001*head + 0.001*Yallourn + 0.001*Australian + 0.001*electricity + 0.001*boat + 0.001*government + 0.001*work'),\n",
       " (4,\n",
       "  '0.003*airport + 0.003*Taliban + 0.002*night + 0.002*opposition + 0.002*kill + 0.002*Kandahar + 0.002*leave + 0.002*half + 0.002*civilian + 0.002*people + 0.002*wound + 0.002*man + 0.002*near + 0.002*city + 0.002*Gul + 0.001*bombing + 0.001*Lali + 0.001*Agha + 0.001*capture + 0.001*westerly'),\n",
       " (5,\n",
       "  '0.003*Powell + 0.002*Afghanistan + 0.002*Taliban + 0.002*southern + 0.002*33-run + 0.001*objective + 0.001*go + 0.001*Graham + 0.001*United_States + 0.001*time + 0.001*rip + 0.001*Laden + 0.001*parole + 0.001*force + 0.001*Secretary + 0.001*Rumsfeld + 0.001*officer + 0.001*official + 0.001*ground + 0.001*call'),\n",
       " (6,\n",
       "  '0.003*Krishna + 0.003*ashe + 0.003*Hare + 0.002*cow + 0.002*holy + 0.002*Benares + 0.002*disease + 0.002*Japan + 0.002*Harrison + 0.002*ceremony + 0.002*official + 0.002*river + 0.002*Ganges + 0.002*case + 0.001*confirm + 0.001*mad + 0.001*devout + 0.001*sect + 0.001*age + 0.001*Allahabad'),\n",
       " (7,\n",
       "  '0.003*Australia + 0.003*strong + 0.003*economy + 0.002*firm + 0.002*conference + 0.002*australian + 0.002*republic + 0.002*follow + 0.001*economic + 0.001*BankSA + 0.001*market + 0.001*Butler + 0.001*discuss + 0.001*recession + 0.001*constitutional + 0.001*rural + 0.001*state + 0.001*set + 0.001*Canberra + 0.001*delivery'),\n",
       " (8,\n",
       "  '0.005*company + 0.003*administrator + 0.002*staff + 0.002*Traveland + 0.002*entitlement + 0.002*Austar + 0.002*$ + 0.002*pay + 0.002*Ansett + 0.002*cent + 0.002*share + 0.001*receive + 0.001*get + 0.001*cease + 0.001*Luke + 0.001*job + 0.001*redundancy + 0.001*buyer + 0.001*Fund + 0.001*end'),\n",
       " (9,\n",
       "  '0.002*win + 0.002*metre + 0.001*Commonwealth + 0.001*Australia + 0.001*israeli + 0.001*pressure + 0.001*die + 0.001*degree + 0.001*go + 0.001*event + 0.001*game + 0.001*  + 0.001*million + 0.001*Shanab + 0.001*Gold + 0.001*okay + 0.001*good + 0.001*Islamabad + 0.001*palestinian + 0.001*child'),\n",
       " (10,\n",
       "  '0.002*Indonesia + 0.002*Howard + 0.002*Australia + 0.002*summit + 0.002*HIV + 0.002*network + 0.002*President + 0.001*Megawati + 0.001*expect + 0.001*AFP + 0.001*reveal + 0.001*report + 0.001*dietitian + 0.001*1980s + 0.001*official + 0.001*people + 0.001*UN + 0.001*Europe + 0.001*timing + 0.001*militia'),\n",
       " (11,\n",
       "  '0.002*Virgin + 0.002*Launceston + 0.002*Afghanistan + 0.002*troop + 0.002*flight + 0.002*Ansett + 0.002*australian + 0.002*morning + 0.001*terminal + 0.001*force + 0.001*tell + 0.001*check + 0.001*administrator + 0.001*Melbourne + 0.001*airline + 0.001*Sherrard + 0.001*Trounson + 0.001*Defence_Minister + 0.001*Al_Qaeda + 0.001*facility'),\n",
       " (12,\n",
       "  '0.003*Australia + 0.002*job + 0.002*cent + 0.002*Olivier + 0.002*drop + 0.001*week + 0.001*fall + 0.001*Palestine + 0.001*Bank + 0.001*day + 0.001*advertising + 0.001*Adam + 0.001*newspaper + 0.001*new + 0.001*employment + 0.001*murder + 0.001*Peshawar + 0.001*Station + 0.001*low + 0.001*July'),\n",
       " (13,\n",
       "  '0.003*Harrison + 0.002*George + 0.002*tonight + 0.002*die + 0.002*music + 0.002*memory + 0.002*  + 0.002*Liverpool + 0.001*Beatle + 0.001*people + 0.001*silence + 0.001*inspector + 0.001*importer + 0.001*pay + 0.001*come + 0.001*man + 0.001*insufficient + 0.001*family + 0.001*talented + 0.001*vigil'),\n",
       " (14,\n",
       "  '0.002*band + 0.001*year + 0.001*find + 0.001*beatle + 0.001*success + 0.001*songwriter + 0.001*clue + 0.001*XVI + 0.001*limelight + 0.001*Harrison + 0.001*save + 0.001*Lennon + 0.001*song + 0.001*possibly + 0.001*Beatles + 0.001*constant + 0.001*urgent + 0.001*Taxman + 0.001*United + 0.001*flame'),\n",
       " (15,\n",
       "  '0.002*boy + 0.001*inferno + 0.001*believe + 0.001*Oscar + 0.001*embryo + 0.001*visit + 0.001*read + 0.001*judgment + 0.001*survey + 0.001*australian + 0.001*ultimatum + 0.001*alarming + 0.001*negative + 0.001*internationally + 0.001*reaction + 0.001*Olympics + 0.001*impossible + 0.001*cease + 0.001*lock + 0.001*husband'),\n",
       " (16,\n",
       "  '0.002*HIH + 0.002*commission + 0.002*collapse + 0.001*include + 0.001*grey + 0.001*giant + 0.001*begin + 0.001*Dickie + 0.001*Australian + 0.001*Authority + 0.001*hearing + 0.001*expect + 0.001*September + 0.001*remote + 0.001*16-year + 0.001*standard + 0.001*Ham + 0.001*delegate + 0.001*director + 0.001*saviour'),\n",
       " (17,\n",
       "  '0.005*storm + 0.003*SES + 0.003*tree + 0.002*work + 0.002*damage + 0.002*Sydney + 0.002*bad + 0.002*Hornsby + 0.002*home + 0.002*area + 0.002*service + 0.002*bring + 0.002*clean + 0.002*power + 0.002*hit + 0.001*north + 0.001*call + 0.001*volunteer + 0.001*business + 0.001*genius'),\n",
       " (18,\n",
       "  '0.002*call + 0.002*Afghanistan + 0.002*agreement + 0.001*afghan + 0.001*kilometre + 0.001*norwegian + 0.001*chairman + 0.001*light + 0.001*Brahimi + 0.001*crisis + 0.001*Seamaster + 0.001*44-year + 0.001*generally + 0.001*council + 0.001*region + 0.001*permanent + 0.001*statutory + 0.001*Islam + 0.001*strike + 0.001*structure'),\n",
       " (19,\n",
       "  '0.003*brain + 0.002*embryo + 0.002*human + 0.002*cell + 0.002*research + 0.002*destruction + 0.002*team + 0.002*early + 0.002*finding + 0.001*company + 0.001*believe + 0.001*phenomenon + 0.001*bone + 0.001*tissue + 0.001*australian + 0.001*damage + 0.001*bin_Laden + 0.001*Mrs + 0.001*israeli + 0.001*Technologies')]"
      ]
     },
     "execution_count": 20,
     "metadata": {},
     "output_type": "execute_result"
    }
   ],
   "source": [
    "hdp_model = HdpModel(corpus=corpus, id2word=dictionary)\n",
    "hdp_model.show_topics()"
   ]
  },
  {
   "cell_type": "markdown",
   "metadata": {
    "papermill": {
     "duration": 0.041037,
     "end_time": "2023-11-21T04:44:14.786944",
     "exception": false,
     "start_time": "2023-11-21T04:44:14.745907",
     "status": "completed"
    },
    "tags": []
   },
   "source": [
    "## ✔️ LDA - Latent Dirchlet Allocation\n",
    "\n",
    "> LDA, or Latent Dirchlet Allocation is arguably the most famous topic modeling algorithm out there. Out here we create a simple topic model with 10 topics."
   ]
  },
  {
   "cell_type": "code",
   "execution_count": 21,
   "metadata": {
    "execution": {
     "iopub.execute_input": "2023-11-21T04:44:14.872818Z",
     "iopub.status.busy": "2023-11-21T04:44:14.871923Z",
     "iopub.status.idle": "2023-11-21T04:44:15.775793Z",
     "shell.execute_reply": "2023-11-21T04:44:15.776366Z",
     "shell.execute_reply.started": "2023-11-21T04:41:54.372241Z"
    },
    "papermill": {
     "duration": 0.951477,
     "end_time": "2023-11-21T04:44:15.776580",
     "exception": false,
     "start_time": "2023-11-21T04:44:14.825103",
     "status": "completed"
    },
    "tags": []
   },
   "outputs": [
    {
     "data": {
      "text/plain": [
       "[(0,\n",
       "  '0.004*\"Australia\" + 0.004*\"people\" + 0.004*\"day\" + 0.003*\"Government\" + 0.003*\"fire\" + 0.003*\"australian\" + 0.003*\"claim\" + 0.003*\"force\" + 0.003*\"test\" + 0.003*\"attack\"'),\n",
       " (1,\n",
       "  '0.004*\"United_States\" + 0.004*\"australian\" + 0.004*\"force\" + 0.004*\"official\" + 0.003*\"Afghanistan\" + 0.003*\"Australian\" + 0.003*\"report\" + 0.002*\"tell\" + 0.002*\"attack\" + 0.002*\"year\"'),\n",
       " (2,\n",
       "  '0.006*\"fire\" + 0.005*\"man\" + 0.004*\"report\" + 0.004*\"Australia\" + 0.004*\"New_South\" + 0.004*\"morning\" + 0.003*\"Sydney\" + 0.003*\"day\" + 0.003*\"year\" + 0.003*\"new\"'),\n",
       " (3,\n",
       "  '0.006*\"Australia\" + 0.006*\"year\" + 0.004*\"win\" + 0.004*\"call\" + 0.003*\"Sydney\" + 0.003*\"area\" + 0.003*\"man\" + 0.003*\"day\" + 0.003*\"United_States\" + 0.003*\"force\"'),\n",
       " (4,\n",
       "  '0.010*\"israeli\" + 0.009*\"palestinian\" + 0.006*\"kill\" + 0.006*\"Arafat\" + 0.006*\"attack\" + 0.005*\"official\" + 0.004*\"Government\" + 0.004*\"tell\" + 0.004*\"security\" + 0.004*\"group\"'),\n",
       " (5,\n",
       "  '0.006*\"people\" + 0.004*\"israeli\" + 0.003*\"palestinian\" + 0.003*\"include\" + 0.003*\"Taliban\" + 0.003*\"kill\" + 0.003*\"change\" + 0.003*\"fire\" + 0.003*\"official\" + 0.003*\"area\"'),\n",
       " (6,\n",
       "  '0.004*\"tell\" + 0.004*\"people\" + 0.004*\"company\" + 0.004*\"month\" + 0.003*\"day\" + 0.003*\"place\" + 0.003*\"good\" + 0.003*\"attack\" + 0.003*\"report\" + 0.003*\"work\"'),\n",
       " (7,\n",
       "  '0.006*\"people\" + 0.005*\"year\" + 0.005*\"new\" + 0.004*\"day\" + 0.004*\"report\" + 0.004*\"Australian\" + 0.003*\"Qantas\" + 0.003*\"test\" + 0.003*\"force\" + 0.003*\"Australia\"'),\n",
       " (8,\n",
       "  '0.008*\"Australia\" + 0.005*\"day\" + 0.004*\"yesterday\" + 0.004*\"union\" + 0.004*\"australian\" + 0.003*\"Australian\" + 0.003*\"new\" + 0.003*\"Afghanistan\" + 0.003*\"test\" + 0.003*\"Qantas\"'),\n",
       " (9,\n",
       "  '0.006*\"people\" + 0.006*\"force\" + 0.005*\"area\" + 0.004*\"Afghanistan\" + 0.004*\"believe\" + 0.004*\"year\" + 0.004*\"Al_Qaeda\" + 0.004*\"Australia\" + 0.003*\"bin_Laden\" + 0.003*\"Tora_Bora\"')]"
      ]
     },
     "execution_count": 21,
     "metadata": {},
     "output_type": "execute_result"
    }
   ],
   "source": [
    "lda_model = LdaModel(corpus=corpus, num_topics=10, id2word=dictionary)\n",
    "lda_model.show_topics()"
   ]
  },
  {
   "cell_type": "markdown",
   "metadata": {
    "papermill": {
     "duration": 0.039639,
     "end_time": "2023-11-21T04:44:15.853838",
     "exception": false,
     "start_time": "2023-11-21T04:44:15.814199",
     "status": "completed"
    },
    "tags": []
   },
   "source": [
    "---\n",
    "# 📊 pyLDAvis\n",
    "\n",
    "Python library for interactive topic model visualization. This is a port of the fabulous R package by Carson Sievert and Kenny Shirley.\n",
    "\n",
    "**pyLDAvis** is designed to help users interpret the topics in a topic model that has been fit to a corpus of text data. The package extracts information from a fitted LDA topic model to inform an interactive web-based visualization.\n",
    "\n",
    "The visualization is intended to be used within an IPython notebook but can also be saved to a stand-alone HTML file for easy sharing."
   ]
  },
  {
   "cell_type": "code",
   "execution_count": 22,
   "metadata": {
    "execution": {
     "iopub.execute_input": "2023-11-21T04:44:15.933338Z",
     "iopub.status.busy": "2023-11-21T04:44:15.932612Z",
     "iopub.status.idle": "2023-11-21T04:44:19.836596Z",
     "shell.execute_reply": "2023-11-21T04:44:19.837192Z",
     "shell.execute_reply.started": "2023-11-21T04:41:54.840911Z"
    },
    "papermill": {
     "duration": 3.945406,
     "end_time": "2023-11-21T04:44:19.837391",
     "exception": false,
     "start_time": "2023-11-21T04:44:15.891985",
     "status": "completed"
    },
    "tags": []
   },
   "outputs": [
    {
     "data": {
      "text/html": [
       "\n",
       "<link rel=\"stylesheet\" type=\"text/css\" href=\"https://cdn.jsdelivr.net/gh/bmabey/pyLDAvis/pyLDAvis/js/ldavis.v1.0.0.css\">\n",
       "\n",
       "\n",
       "<div id=\"ldavis_el161384603076210728541296101\"></div>\n",
       "<script type=\"text/javascript\">\n",
       "\n",
       "var ldavis_el161384603076210728541296101_data = {\"mdsDat\": {\"x\": [-0.06250816250271544, -0.019247774558865366, 0.029453542944143058, 0.034372849573266764, -0.04326712342689777, 0.030832439984319976, 0.01856469660013149, 0.048356673445494956, -0.020615739582477092, -0.01594140247640044], \"y\": [-0.010110462301561372, -0.0023542011795350923, -0.011903482524454896, 0.02675631443119084, 0.014114024851120203, 0.008911178481279564, -0.07681017097545004, 0.021559811988395326, 0.011002748950362901, 0.018834238278652597], \"topics\": [1, 2, 3, 4, 5, 6, 7, 8, 9, 10], \"cluster\": [1, 1, 1, 1, 1, 1, 1, 1, 1, 1], \"Freq\": [16.37762719194641, 14.692926081326652, 12.897864985394463, 10.635184062075325, 9.392471677232246, 9.326905742668815, 8.59762041866213, 7.342075269110371, 6.5358851291242805, 4.201439442459311]}, \"tinfo\": {\"Term\": [\"palestinian\", \"israeli\", \"Qantas\", \"people\", \"australian\", \"test\", \"report\", \"Australian\", \"United_States\", \"fire\", \"new\", \"Australia\", \"Arafat\", \"Afghanistan\", \"play\", \"win\", \"official\", \"firefighter\", \"South_Africa\", \"match\", \"year\", \"detainee\", \"radio\", \"bill\", \"kill\", \"Pakistan\", \"month\", \"West_Bank\", \"man\", \"day\", \"Saadi\", \"quarrel\", \"Aristide\", \"open_fire\", \"clap\", \"initiate\", \"Kashmiris\", \"attention\", \"Muttahida\", \"motive\", \"alliance\", \"MJC\", \"Almao\", \"Rodriguez\", \"haitian\", \"Raanan\", \"personally\", \"Inspector\", \"gunman\", \"directive\", \"expel\", \"spelt\", \"palestinian\", \"depose\", \"imply\", \"Antarctic\", \"settler\", \"Gissin\", \"fare\", \"Adolfo\", \"West_Bank\", \"army\", \"Jenin\", \"israeli\", \"tank\", \"Kashmir\", \"willingness\", \"Palestinians\", \"Arafat\", \"kill\", \"Israelis\", \"security\", \"killing\", \"town\", \"West\", \"armed\", \"Sharon\", \"official\", \"attack\", \"Hamas\", \"shoot\", \"indian\", \"Israel\", \"helicopter\", \"Government\", \"group\", \"terrorism\", \"tell\", \"militant\", \"Prime_Minister\", \"injure\", \"support\", \"palestinian_leader\", \"control\", \" \", \"call\", \"give\", \"early\", \"President\", \"people\", \"arrest\", \"day\", \"time\", \"Australia\", \"force\", \"year\", \"fire\", \"take\", \"Sergeant\", \"Kentucky\", \"Campbell\", \"Zimbabwe\", \"Habeel\", \"Mohamad\", \"Rehman\", \"malaysian\", \"earthquake\", \"Burakin\", \"quake\", \"Richter\", \"Fort\", \"Fazalur\", \"Prosser\", \"Jefferson\", \"Petithory\", \"misguided\", \"Class\", \"Special\", \"Master\", \"California\", \"Cody\", \"Forces\", \"Tennessee\", \"suspension\", \"Ministerial\", \"Action\", \"sand\", \"shake\", \"cave\", \"Tora_Bora\", \"bin_Laden\", \"Group\", \"unit\", \"Commonwealth\", \"Al_Qaeda\", \"bombardment\", \"Ali\", \"flee\", \"believe\", \"possibility\", \"area\", \"Pentagon\", \"Pakistan\", \"force\", \"Afghanistan\", \"Laden\", \"Governor_General\", \"people\", \"tree\", \"fighter\", \"Taliban\", \"wind\", \"region\", \"member\", \"power\", \"north\", \"year\", \"home\", \"arrest\", \"Osama_bin\", \"continue\", \"man\", \"time\", \"Australia\", \"try\", \"day\", \"come\", \"kill\", \"expect\", \"fire\", \"official\", \"report\", \"casino\", \"farmer\", \"Truss\", \"gambling\", \"mental\", \"Templeton\", \"Jackson\", \"Lockett\", \"discharge\", \"Cosgrove\", \"Lieutenant\", \"Vicario\", \"Plan\", \"subsidy\", \"Mitchell\", \"Sanchez\", \"Memorandum\", \"lobby\", \"hijacking\", \"Tenet\", \"comeback\", \"grand\", \"professional\", \"killer\", \"Rome\", \"expense\", \"unhappy\", \"poker\", \"containment\", \"taxis\", \"Hopman\", \"product\", \"Test\", \"Swans\", \"passport\", \"draft\", \"Afroz\", \"tailender\", \"win\", \"play\", \"year\", \"big\", \"Australia\", \"Sydney\", \"return\", \"call\", \"United_States\", \"get\", \"Melbourne\", \"Zinni\", \"lot\", \"month\", \"area\", \"man\", \"$\", \"work\", \"Australian\", \"end\", \"come\", \"bring\", \"Government\", \"day\", \"week\", \"go\", \"know\", \"force\", \"early\", \"tell\", \"australian\", \"time\", \"think\", \"believe\", \"attack\", \"fire\", \"Knop\", \"alcohol\", \"Farina\", \"Picton\", \"Bulli\", \"AMWU\", \"closed\", \"motorist\", \"Soccer\", \"Wolthuizen\", \"aboriginal\", \"Road\", \"Rabbani\", \"speed\", \"HIV\", \"arbitrate\", \"underfoot\", \"outburst\", \"gesture\", \"crude\", \"card\", \"Penrith\", \"Wilton\", \"Tops\", \"Upper\", \"grounding\", \"Springwood\", \"Color\", \"Wisemans\", \"Kirribilli\", \"dispute\", \"maintenance_worker\", \"Workers_Union\", \"Highway\", \"industrial_action\", \"arbitration\", \"breathing\", \"Hume\", \"Cameron\", \"wage_freeze\", \"Qantas\", \"interest_rate\", \"India\", \"Australia\", \"union\", \"yesterday\", \"worker\", \"Commission\", \"rate\", \"test\", \"day\", \"South_Africa\", \"Australian\", \"australian\", \"Industrial_Relations\", \"talk\", \"new\", \"ask\", \"Afghanistan\", \"want\", \"arrest\", \"think\", \"cent\", \"meeting\", \"company\", \"month\", \"report\", \"force\", \"continue\", \"people\", \"tell\", \"claim\", \"rink\", \"Centrelink\", \"Rich\", \"Rudd\", \"rubble\", \"skate\", \"typhoid\", \"provision\", \"Pieterse\", \"Tel\", \"Sultan\", \"illegally\", \"IMF\", \"inexperienced\", \"defunctoperator\", \"deter\", \"ineffective\", \"treason\", \"symptom\", \"tribe\", \"bastion\", \"shepherd\", \"Zaeef\", \"Salam\", \"ammunition\", \"globally\", \"Kevin\", \"driver\", \"considerable\", \"commodity\", \"Ruddock\", \"Saxeten\", \"proceed\", \"elder\", \"surrender\", \"island\", \"Northern_Alliance\", \"ice\", \"trap\", \"roof\", \"ASIC\", \"Taliban\", \"change\", \"face\", \"people\", \"Dr\", \"policy\", \"include\", \"charge\", \"hospital\", \"Interlaken\", \"militant\", \"centre\", \"action\", \"witness\", \"israeli\", \"hour\", \"respond\", \"palestinian\", \"Pakistan\", \"troop\", \"hold\", \"try\", \"police\", \"kill\", \"fire\", \"staff\", \"area\", \"come\", \"official\", \"Arafat\", \"Christmas\", \"leader\", \"arrest\", \"company\", \"United_States\", \"group\", \"attack\", \"child\", \"claim\", \"man\", \"force\", \"Australia\", \"take\", \"abortion\", \"Nelson\", \"amendment\", \"razor\", \"Palmerston\", \"Larrakia\", \"bill\", \"alarm\", \"5:00am\", \"unchanged\", \"counselling\", \"Steven\", \"voting\", \"abstain\", \"Polley\", \"9:00am\", \"Assembly\", \"Kons\", \"specialist\", \"Legislative\", \"retrospective\", \"Private\", \"Speaker\", \"apart\", \"medically\", \"10:00pm\", \"Llewellyn\", \"16-hour\", \"11:30am\", \"aedt\", \"ACDT\", \"ticket\", \"Buchanan\", \"gang\", \"Goshen\", \"Gutnick\", \"freeze\", \"whilst\", \"Boje\", \"Darwin\", \"debate\", \"Woomera\", \"raft\", \"detainee\", \"spending\", \"spinner\", \"Woomera_Detention\", \"south_african\", \"centre\", \"Franklin\", \"UTN\", \"visa\", \"Adelaide\", \"test\", \"match\", \"night\", \"Government\", \"claim\", \"play\", \"fire\", \"win\", \"Australia\", \"australian\", \"people\", \"good\", \"damage\", \"day\", \"go\", \"know\", \"call\", \"family\", \"think\", \"force\", \"attack\", \"try\", \"start\", \"group\", \"company\", \"year\", \"new\", \"time\", \"come\", \"report\", \"Cahill\", \"brain\", \"Launceston\", \"petrol\", \"Sherrard\", \"Stoltenberg\", \"emission\", \"Kemp\", \"terminal\", \"Darren\", \"pollutant\", \"random\", \"semi\", \"Atlanta\", \"luggage\", \"embryo\", \"Memphis\", \"ACT\", \"unresolved\", \"38-year\", \"16-year\", \"loaded\", \"cathedral\", \"Virgin\", \"Hewitt\", \"cell\", \"fatality\", \"leaded\", \"respiratory\", \"sanctuary\", \"thick\", \"shop\", \"human\", \"Team\", \"coast\", \"research\", \"road\", \"check\", \"firefighter\", \"lung_cancer\", \"New_South\", \"fire\", \"blaze\", \"yacht\", \"morning\", \"man\", \"flight\", \"Wales\", \"cost\", \"report\", \"Sydney\", \"lead\", \"south\", \"Australia\", \"new\", \"time\", \"damage\", \"day\", \"year\", \"come\", \"force\", \"remain\", \"area\", \"plan\", \"cent\", \"early\", \"tell\", \"australian\", \"take\", \"state\", \"go\", \"company\", \"Lavarch\", \"Annan\", \"Nobel\", \"Prize\", \"draconian\", \"safeguard\", \"attorney\", \"Peace\", \"Ghana\", \"gala\", \"Nationals\", \"Kofi\", \"Oslo\", \"amalgamation\", \"Trounson\", \"AIDS\", \"Bradstreet\", \"attendant\", \"solution\", \"Dun\", \"save\", \"Nauru\", \"Cairns\", \"toddler\", \"blood\", \"Martyn\", \"essential\", \"extend\", \"Reith\", \"inherit\", \"Henderson\", \"approval\", \"Qantas\", \"secret\", \"wicket\", \"individual\", \"protect\", \"new\", \"people\", \"South_Africa\", \"Australian\", \"Waugh\", \"test\", \"year\", \"report\", \"general\", \"Hayden\", \"match\", \"day\", \"run\", \"cent\", \"law\", \"child\", \"fight\", \"old\", \"work\", \"power\", \"think\", \"force\", \"company\", \"number\", \"world\", \"state\", \"good\", \"win\", \"take\", \"United_States\", \"Australia\", \"Afghanistan\", \"include\", \"give\", \"time\", \"Freeman\", \"Classic\", \"Track\", \"McDonald\", \"chain\", \"Games\", \"scg\", \"Cathy\", \"Championships\", \"Olympics\", \"Olympic\", \"subsidiary\", \"Terence\", \"witch\", \"accelerate\", \"box\", \"Jeff\", \"buyer\", \"financially\", \"Redmond\", \"coercion\", \"counting\", \"selector\", \"summons\", \"computer\", \"Butler\", \"Iraq\", \"Peel\", \"selection\", \"acquit\", \"verdict\", \"virus\", \"user\", \"guilty\", \"Baker\", \"canyone\", \"Solomon\", \"Friedli\", \"accident\", \"Traveland\", \"month\", \"guide\", \"company\", \"tell\", \"place\", \"HIH\", \"court\", \"good\", \"look\", \"Adventure_World\", \"Simon\", \"get\", \"people\", \"work\", \"day\", \"begin\", \"claim\", \"lead\", \"report\", \"take\", \"group\", \"attack\", \"end\", \"think\", \"official\", \"come\", \"year\", \"Arafat\", \"arrest\", \"man\", \"Australia\", \"Afghanistan\", \"know\", \"child\", \"force\", \"cow\", \"Mitsubishi\", \"mad\", \"paddle\", \"Japan\", \"dairy\", \"meat\", \"incinerate\", \"ministerial\", \"organ\", \"canoeist\", \"dusty\", \"canoe\", \"gruelling\", \"Marathon\", \"Swan\", \"K\", \"Yarrawonga\", \"reaffirm\", \"Magna\", \"coordination\", \"maker\", \"audio\", \"outbreak\", \"Triple\", \"Local\", \"F\", \"NewsRadio\", \"FM\", \"broadcast\", \"ABC\", \"Owen\", \"japanese\", \"Hawthorne\", \"Justice\", \"Radio\", \"radio\", \"case\", \"United_States\", \"australian\", \"car\", \"September\", \"confirm\", \"disease\", \"Afghanistan\", \"official\", \"force\", \"source\", \"World_Trade\", \"Australian\", \"head\", \"role\", \"way\", \"report\", \"Pentagon\", \"tell\", \"government\", \"include\", \"attack\", \"fighter\", \"Government\", \"hour\", \"year\", \"day\", \"place\", \"people\", \"area\", \"early\", \"Arafat\", \"kill\"], \"Freq\": [73.0, 88.0, 29.0, 108.0, 59.0, 38.0, 67.0, 53.0, 57.0, 67.0, 63.0, 114.0, 64.0, 65.0, 31.0, 38.0, 73.0, 20.0, 23.0, 27.0, 93.0, 20.0, 16.0, 11.0, 71.0, 39.0, 51.0, 29.0, 68.0, 96.0, 2.8199832578614714, 2.110822876315855, 1.9836029466993155, 4.5317886277049, 1.3147041028968476, 1.2881987204313774, 1.2706078986139662, 1.267509595236776, 1.2648419535680913, 1.2642014297254411, 1.262899874339736, 1.2572882839189095, 3.0540682674165507, 1.8630254612439614, 1.8409470077059213, 1.2250557843203314, 2.4445990987717936, 1.7710403585652947, 8.807002407846555, 1.165624878700596, 1.164345608349331, 1.1642921516102753, 43.41798455252675, 1.1345578317160352, 1.690982397724184, 2.8505148487884573, 3.8708905214204434, 1.1145835365985512, 1.6799398213640977, 1.1166687595757336, 16.876767751676994, 9.235112958421558, 5.417451950736375, 47.04265661508848, 7.293483258859196, 3.8264850610154544, 2.715445391764893, 9.871754009794948, 29.387228432065278, 30.247919665031564, 8.454367304098163, 18.689587217815408, 3.576350451687402, 9.589412740570827, 2.712800171848651, 8.202475868435414, 11.585053707407889, 25.610175952414096, 26.77691426252868, 15.380964521479514, 6.253874644479367, 8.357220413227553, 14.28158771816729, 8.720118117130628, 18.971331302803733, 17.582377019820477, 9.406198585768426, 18.903718234876404, 12.403662045399056, 8.505231322950705, 10.401893924552986, 11.085497062981858, 8.62770713787355, 8.81943882424417, 11.858264401539683, 12.42676301287929, 12.097414813094803, 12.360979778700099, 9.750159205681502, 14.127883870811704, 10.939542392019314, 12.492245467452541, 11.080451621810212, 11.94982061984388, 11.252312713668395, 11.24525150226494, 10.595831145743164, 10.327285269863497, 4.057043671906449, 1.946974834278941, 1.946667953050955, 5.851004361428802, 2.3462855727135987, 2.292837950753249, 2.1987345761487496, 1.6875054068185944, 1.6816195916757597, 1.6808620783008428, 1.646019161450746, 1.6263271253708298, 2.1175837480821382, 1.4856260072789398, 1.020076329512387, 1.0199413483807327, 1.0198262985838298, 1.0198223123168795, 1.019734982407077, 1.0197300149051851, 1.0195915994512352, 1.0195369569304247, 1.0195333386265777, 1.0195161670150996, 1.0192961250794452, 2.4719297632809667, 1.9094885931505352, 1.8974304422619181, 1.4464701948973973, 1.8784409704001892, 9.076814722564308, 14.206357752682909, 14.623290366779438, 2.99155131241228, 2.611857545584506, 5.546599279817771, 15.663134471443795, 1.8960093687577424, 1.8138540014196654, 5.856695524090096, 18.515098735386008, 2.9217028390205164, 20.338572764173144, 7.4727644514183105, 13.267281570346414, 24.289093325510496, 18.7487013379333, 9.078767380098096, 5.662635217836969, 24.50053571813664, 5.989977647442898, 10.223359296013458, 9.611969466129924, 7.874887286541234, 6.0520181890955955, 10.226592465146037, 10.715057106485384, 9.237214254763234, 16.217880551853444, 7.8877502953907, 11.115393112779648, 7.3267267644421485, 9.883696971098239, 12.061112255670793, 11.646677865735583, 14.96411153016069, 9.070425901859535, 13.030655782944043, 10.525967245828943, 10.841658982355757, 8.78705211936934, 9.677384474746791, 9.81558160392208, 9.358832438365209, 3.357748246721078, 3.8499839649691165, 2.7276697739950047, 1.7281855534678947, 1.7073360077982196, 2.244726361160383, 2.2243133074974053, 5.285720950644562, 1.6088936016050241, 1.5955894242968018, 1.5755008863980533, 1.5608849720109974, 1.564833964938879, 1.4960569724509665, 1.536222742954753, 1.517178275847554, 1.5016947609202995, 1.4270459065485106, 1.4754988880200999, 1.4862151220937458, 1.9036807501536308, 1.9175132615212667, 2.2411004842936997, 0.9100724829500261, 0.9095137861017893, 0.906067071223055, 0.9060417688990358, 0.9039833440879761, 2.712170539326019, 0.9008288979690294, 2.6667566361427952, 2.9773322195404535, 5.251292562864227, 1.3144118036560706, 2.16001095026019, 2.491066127049524, 2.909751327127134, 3.7944209227786683, 14.38578425895855, 10.369794222497145, 21.481784207186028, 6.288971664358223, 23.182947955296058, 12.465541576527126, 9.913217984679806, 13.632028241765564, 12.231676610065698, 7.887355003574064, 7.465644722238397, 4.062974406445242, 5.599914228029646, 10.90663933769406, 12.449009576360302, 12.388007503530902, 7.691493912450543, 9.673488047180191, 9.804497666800547, 8.681711022218792, 10.490837095182144, 7.3681823235057236, 10.487414067585469, 12.313045438688595, 8.096935768467041, 8.497219826484324, 8.367097403246598, 10.980702147173778, 8.822633984720406, 9.605122244374956, 8.97759704531608, 9.135716113237924, 8.617141214033222, 8.47315354791083, 9.159958969732234, 8.400921119317607, 2.946675770909018, 2.325325854942323, 2.8956956249007444, 1.6924871527626753, 1.687543119822727, 2.772814459694875, 1.641363536756719, 1.6372794359934757, 2.180308405490029, 1.6035767709932724, 1.5620956527894956, 4.089867973051098, 2.6893635729981837, 1.3917621409738183, 2.715083943758502, 1.400593003430196, 1.396224004633188, 0.923568933399738, 0.9211105004134554, 0.9193271576885463, 1.8247908166034854, 0.8975783134606166, 0.8915474242634704, 0.8912563115639645, 0.8911547461695652, 0.8870291847077343, 0.8778131905372801, 0.8770317407107929, 0.8701260929201022, 1.2899408799079963, 7.097444449672018, 4.074893469604841, 3.5026339085754574, 4.332331558887404, 5.606265235464833, 1.7044077694637028, 1.6443394738373658, 2.011501038018514, 2.3042631098122226, 4.079115180823782, 9.60923833162734, 3.9288960561460975, 9.427130158974615, 24.9412050898335, 10.978571388817384, 11.005916628326212, 8.251291252322703, 6.2795802331788435, 5.883742958334616, 9.644112194776945, 16.541852089654704, 6.639537934394663, 10.482790214646814, 10.790615038140304, 3.7751576550401063, 6.784273593146063, 10.47615650287277, 6.7014431076522225, 9.808095561138256, 7.504924101753946, 8.443887650004047, 8.754590396421351, 7.5854306573843315, 7.376849429169088, 8.3475106136894, 7.554897116788387, 8.285892380427207, 9.19101831664958, 6.901078058190179, 8.847109368243855, 7.203267067665786, 6.395999033823249, 2.2754609454404013, 2.5722085528695233, 1.301349333797276, 2.2050917960997296, 1.209946733236052, 1.604531486845819, 1.2091822653712927, 1.1646493856158753, 1.1739252426694657, 1.1656517401987558, 2.3834754719063294, 0.7642617328603801, 1.939086303366645, 1.120353138067211, 1.1169287924748514, 0.7421929961335423, 0.7398193822186844, 1.125199315481063, 1.5137335607638798, 0.7296550958958025, 0.729615343566835, 1.7811989911012538, 0.7264724789626279, 0.7245209297160777, 0.7163138379409011, 0.7044478069475844, 1.0755539882739757, 0.7167832604133437, 0.6912979403832346, 0.6884890110237464, 2.060371207895193, 1.6911801165787248, 1.68329613988772, 2.8913212753361286, 4.1289491155307605, 1.865271481740361, 4.2386906337084005, 1.943355405551304, 2.304249942750679, 2.2591438297071322, 2.0648749037056326, 8.136317889105854, 7.749826145143753, 5.324613550472132, 17.020216665449112, 3.2698609853655203, 4.257614624063979, 8.329851357817974, 6.130323476448405, 4.530193285922628, 2.326777203382451, 6.659196615355838, 4.575593111440163, 5.636507657714435, 3.2839798835545433, 10.485866512395038, 7.012991402283011, 3.166515907024504, 8.984235222796425, 6.1926287835307114, 4.9143779834793255, 5.40783156205584, 6.029854051790252, 6.649327374425273, 7.94245636567105, 7.658345294435962, 5.092704579018689, 7.36741219038272, 7.0726164458279905, 7.380683038887104, 6.897146686300973, 4.6578702394980125, 5.755569568099223, 6.058536572448187, 6.3266639143460015, 6.224694721347631, 6.214168116460334, 6.608375105334469, 5.47478734277862, 5.446624817082642, 5.697490082559386, 5.692749911356114, 5.751645456540712, 5.466265447057084, 2.3166323471205956, 2.0897230810120098, 1.5679673537146157, 2.007376872144395, 2.0336555858836296, 1.3818593344670596, 6.404238253227294, 1.2588957053149081, 0.8229031344225938, 0.822930618870498, 0.8227565247472293, 0.8225927859541907, 0.8224014848536222, 0.822201852773094, 0.822174679763693, 0.8219148621924283, 0.8218904142699298, 0.8216929622589237, 0.8216675021612901, 0.8216256136826146, 0.8215030626316194, 0.8213808230191275, 0.8212796055055992, 0.8209702692123314, 0.8209117966333623, 0.8209273685585206, 0.8207494593135881, 0.8202605787232462, 0.8203138347072872, 0.8189161765647124, 1.596171691718914, 1.9098393159694405, 1.213236095664144, 2.477866084558936, 2.084158453556725, 1.8082156866329724, 1.8417809713114865, 1.4804825652640443, 1.8260564412867297, 1.789791919101292, 3.371902006683094, 2.8656085781907925, 1.76675761596877, 6.684248251283118, 1.4261075826811096, 1.9879267590255374, 2.456905027541977, 3.7027717809366396, 6.073764005872767, 1.4167476099070149, 1.4450044252990963, 2.5737914793222614, 5.057555119096365, 7.556302220976946, 5.664859577389411, 6.439487485892416, 9.293186655722213, 7.831227674030113, 5.843609083403456, 8.975886257051528, 6.351447558309955, 11.536262678569246, 7.904135427620835, 10.823624112613034, 6.620740334594895, 5.152604281631038, 9.846186205095535, 6.815637304120995, 6.229335635604332, 6.733835489756911, 4.7753002723097335, 6.642994484276991, 7.61905832511853, 7.164117057097453, 5.520576347643533, 5.317590697313254, 6.125131426830645, 6.079002401495988, 6.9170996083128236, 6.106646305913841, 6.00812771845392, 5.673926175093524, 5.600544412100986, 2.8234718436248425, 3.380041258508316, 3.13410274637134, 3.5017146054825363, 1.4521033178468759, 1.9411592852500217, 1.9534737231419281, 1.4330968903698165, 2.830404411814558, 1.3995716302333863, 1.3954601189144773, 1.3564859543453485, 1.3454168982990187, 1.3202940899505873, 1.3083251608302695, 3.0222681456464877, 1.2791862974708255, 2.7752188952982304, 0.849218071742145, 0.8491068974406929, 0.8490688584608544, 1.2444402013965632, 1.673220606151045, 3.722463561627214, 4.646861586035303, 2.4771058313282848, 2.7795289270289, 0.792502168118093, 0.7909478810475646, 1.1730400314366733, 1.5468462154420808, 1.5175490238005171, 2.670100973609596, 1.8413114130171853, 4.358459227673157, 2.807968590875918, 4.416205269934228, 2.5463336166811024, 6.7912055796904385, 2.4450345214816016, 8.94759659003205, 13.663263944058945, 3.4967718347966685, 4.978826471195008, 8.812539550974163, 12.59723890282994, 6.3157924000638195, 7.352246943169704, 4.655167576712165, 10.766125668535766, 8.534477766308612, 6.824300353409754, 5.58727158071891, 10.654864666918213, 7.921657456386696, 7.679784091076222, 5.261967966873846, 8.533564256619211, 8.172304763597705, 6.576072038229827, 7.146984588748815, 4.867208907970215, 6.239038638435807, 5.0225319671394315, 5.223309454065716, 5.434202151675968, 5.662059947207498, 5.3768824330757266, 5.170434985003721, 4.9915645054246625, 4.959352810210878, 4.974396724335338, 1.5507241095575859, 1.5047452833007167, 1.4981212452370338, 1.471329059599798, 0.8125417024519562, 0.8125089120048258, 0.8122904111748818, 1.602182801790229, 0.7910521305043238, 0.7898304871544096, 0.7833623722636238, 0.7817268950837567, 0.7803614028003563, 1.105192520495658, 1.3797542278949881, 1.0365545759133186, 1.0158918135578165, 1.404894020159071, 1.974891527148197, 0.9703812471440811, 2.620083474591312, 3.4250819645204915, 1.2216131949609292, 0.8967565191040322, 0.8975386478812876, 0.5771789213634712, 0.8785800081276827, 0.8631099042054251, 0.5912254908463795, 0.8574863118772756, 1.6126256091976683, 1.5230435786106142, 7.125566420279071, 1.9263836074139618, 4.761249413954138, 2.607705479188178, 2.774528319292383, 10.5769954784236, 13.214102527353933, 4.668997321612334, 7.793769784160004, 2.777252807060313, 6.162618246529742, 10.665840306210495, 8.721707812025098, 2.728882300751249, 2.096757254553784, 4.644182982197341, 9.113033788743182, 4.357820268683262, 5.647295592376479, 3.6886867593338213, 5.3317355292507855, 3.471278372248974, 4.573759643736665, 5.6067433093122006, 4.683414821536427, 5.3150208593109, 6.082038817879713, 5.196683996922103, 4.159004984479709, 4.380595348739519, 4.433090954588149, 4.504378735041961, 4.187867932821149, 4.693421362770643, 4.728418760219358, 5.701444572247149, 4.859987027704456, 4.411506872604114, 4.530500279422184, 4.576516247755617, 1.3523880187891935, 1.350719446530147, 1.3200201612785598, 1.1861546387811637, 1.1166063515055817, 0.7301382925287329, 0.7190084212418607, 0.7130712459071898, 0.7121960393279158, 0.6964000364362383, 0.6626519594358034, 0.6368479057470272, 0.6316050686037312, 0.6263252939344599, 0.6176748199783001, 0.8916993210235951, 0.5875015534681117, 0.856587829198057, 0.5746027184188042, 1.3771678063404025, 0.5686185118472196, 0.826393938781194, 1.351186703505704, 0.554117941273459, 1.9430888967006366, 0.7820866398058146, 1.0137610397070203, 1.3243287027131412, 0.8122362815763468, 1.057312838058797, 3.336340731338364, 2.73884323952628, 1.7468402031184571, 3.405300746228326, 1.0256092012885212, 2.915985574953126, 1.5975370863086025, 1.7708500314871514, 2.2174252661336338, 1.4519603493348718, 6.695048689631818, 2.7657961757622647, 6.8472548668288065, 7.363764786917719, 5.012504115737706, 2.7536531687001577, 3.0791948791639583, 4.9631276460077745, 4.023115295902375, 2.1792245531548944, 1.694621889994218, 3.65318504573029, 7.025838693298881, 4.7113173839961, 6.269389151746859, 3.1575126916241754, 4.257778252650395, 3.846321057101411, 4.79006709816329, 4.339913779390581, 4.432257376086247, 4.918292800594205, 3.8180093436912945, 4.182680606782582, 4.576649602441186, 4.2692861743323665, 4.593046590338206, 3.9697179282193114, 3.6617648091492803, 3.8730487671819662, 4.007322402964879, 3.6851337687142744, 3.485137962268097, 3.318123165351622, 3.352431961634845, 2.195292725823611, 1.4973252878818204, 1.124437710608234, 1.0877182506937852, 2.700420709578417, 0.5891828673466409, 0.5891818853028281, 0.5890445394610019, 0.5889572778536311, 0.5889139977798789, 0.5754806555368431, 0.5733933915586087, 0.5732432090012287, 0.5717319487922264, 0.569637249339409, 0.5691312161918426, 0.5690139321021932, 0.5667652271357243, 0.5352040926402643, 0.5239685644503956, 0.5151571763395636, 1.193920607229022, 0.49863758604966774, 0.7158487722701817, 0.493025486243154, 0.4878540435246651, 0.48396984980686786, 0.48160066910835775, 0.47944154056681837, 0.9519142877996652, 1.035349922621509, 1.230560241010683, 1.3446838330863864, 0.9546775486510763, 1.5628778347256072, 1.388035736328904, 2.658375766358835, 2.400551947819786, 5.236076352907772, 4.915731977651136, 2.202545399965484, 2.557389114659652, 2.7179670266746516, 1.727856004482059, 4.185431729214942, 4.3772464908292, 4.592947924979424, 2.064582694332751, 1.4974566011687962, 3.2248663368839, 2.4022413437618413, 1.8111996779154278, 2.3688608328110963, 3.121446741784358, 1.859312389270688, 2.8800426957962273, 2.252651800552811, 2.4191771101904274, 2.8162196683988494, 2.2091605873808415, 2.6305581127319875, 2.3528209709237795, 2.7771242236251874, 2.6700430080234328, 2.1664234435651704, 2.607014033194734, 2.3379423056991757, 2.2604297278425873, 2.2892065576906466, 2.2912306902809116], \"Total\": [73.0, 88.0, 29.0, 108.0, 59.0, 38.0, 67.0, 53.0, 57.0, 67.0, 63.0, 114.0, 64.0, 65.0, 31.0, 38.0, 73.0, 20.0, 23.0, 27.0, 93.0, 20.0, 16.0, 11.0, 71.0, 39.0, 51.0, 29.0, 68.0, 96.0, 4.08325469549121, 3.0735656411488503, 3.0208780311307795, 6.962821162025521, 2.022868027005616, 2.0145085621787504, 2.002898773992974, 2.0016375175975445, 2.0006763722127068, 2.0002250304636355, 1.99991571206598, 1.9977278462632426, 4.863490313635804, 2.9922001024812372, 2.9634268631752065, 1.9840398260998375, 4.047699022231387, 2.941209504800852, 14.669057844216379, 1.9604436632036135, 1.959818755114474, 1.959927827880676, 73.98621620924635, 1.9474082182720456, 2.9273352947747653, 4.943529374644437, 6.735380515411213, 1.9401200223489545, 2.9294848972540537, 1.9475873643012915, 29.833223361415083, 16.324975882379412, 9.590505715306815, 88.27706945779691, 13.092735192736459, 6.844261931399632, 4.818110974347345, 19.68336731674202, 64.63755379045804, 71.2991272089716, 17.651426302852634, 45.06765285712028, 6.679169648567837, 21.247339669411712, 4.864262978720759, 18.44045829551432, 28.156692196042627, 73.93653348921723, 79.5257234789148, 40.490456519082414, 13.6409278242368, 19.628551802827968, 40.8562884096523, 21.64541287910531, 65.2475209191571, 60.040154374668795, 25.47796217078992, 71.24489666835072, 38.719667447674595, 22.32526366442736, 30.69706965307241, 34.62599401207335, 23.27052379977726, 25.69726212219205, 47.918817310246915, 55.80284292219984, 53.07752955250606, 56.14001722487977, 32.200794011686476, 108.68134191805768, 52.21860907605336, 96.11209206997322, 64.15690797287493, 114.26970793411719, 90.19933803271972, 93.08423598220836, 67.20634681635897, 55.25428502272522, 5.385095262234137, 2.66211048055319, 2.661803916485329, 8.51198151081885, 3.4186942198132013, 3.4059297628231167, 3.3616844786844164, 2.6034896836155377, 2.6113687741644194, 2.6115343635295747, 2.604815024147095, 2.6009378906177174, 3.443711693934923, 2.5130704433640894, 1.735207985784897, 1.735073641379253, 1.7349586658289904, 1.734954718271568, 1.734867740241737, 1.7348627182734244, 1.7347248795281511, 1.7346701514930543, 1.7346663025558842, 1.7346494972482542, 1.7344304925739198, 4.212535420506657, 3.362536653298781, 3.358722875224639, 2.566908459552387, 3.3799987080361107, 16.75569277748211, 26.86244925385903, 32.62598616223008, 5.832208771607052, 5.035292292997455, 12.447367361374772, 42.66927809920539, 3.58565077286692, 3.4078863532695687, 13.568673846479067, 53.56940544322611, 6.008587019551559, 65.29592617763616, 19.18205749411406, 39.7261857212771, 90.19933803271972, 65.69612270880566, 26.37541145825103, 14.53418134266297, 108.68134191805768, 16.1214302583432, 34.46942698640466, 33.16675803272196, 25.237207455271378, 17.3216165210126, 38.58950760025791, 41.50725905900559, 33.58560741580439, 93.08423598220836, 28.295984375795033, 52.21860907605336, 25.508200443895973, 43.84229324259313, 68.68558794525948, 64.15690797287493, 114.26970793411719, 40.78230348644193, 96.11209206997322, 62.56320914394638, 71.2991272089716, 41.52777207457198, 67.20634681635897, 73.93653348921723, 67.84465006181503, 4.176941428083344, 5.407036950156396, 3.923562957581393, 2.493673642178396, 2.4965290414903842, 3.3363796709220432, 3.3877402822787284, 8.136664079635386, 2.4862131657876145, 2.483624321781108, 2.4828518581880217, 2.475143396224003, 2.4949893466175754, 2.398827013649711, 2.494132137653472, 2.4695777898285596, 2.4970542618914373, 2.3731185103338177, 2.4648674503079024, 2.4920100856868266, 3.2752966803736987, 3.301976054896647, 4.021693857179236, 1.6537351277169399, 1.6535841760930707, 1.6507350505601945, 1.6531592718410617, 1.6503757731463442, 4.961708936577783, 1.6497625903877653, 4.956972680668266, 5.727014932608204, 10.455792701452294, 2.441107323755933, 4.16948001875374, 4.866665076361034, 5.812316481297752, 7.9657379990037676, 38.2455854954562, 31.23865599229861, 93.08423598220836, 17.95771108931089, 114.26970793411719, 48.353907315968414, 35.10715210553044, 55.80284292219984, 57.774862141465476, 29.42073604008277, 27.33107048387631, 10.643559400281278, 17.791203728239708, 51.62109705502805, 65.29592617763616, 68.68558794525948, 32.06621480423309, 51.75194243781181, 53.71862501116013, 43.52524561158999, 62.56320914394638, 32.25731370501311, 65.2475209191571, 96.11209206997322, 42.409584593025556, 47.94621379444667, 46.43830897167998, 90.19933803271972, 56.14001722487977, 71.24489666835072, 59.10613338890223, 64.15690797287493, 56.90074614132294, 53.56940544322611, 79.5257234789148, 67.20634681635897, 4.198512783102869, 3.340508474619545, 4.195584468082875, 2.507898461223366, 2.50707478987627, 4.180662746386857, 2.5028505891645474, 2.502400809891587, 3.350560337067448, 2.4876921041491142, 2.4943165320303504, 6.7428869859336125, 4.653761422386543, 2.4820531439459734, 4.849993378646746, 2.5060620671029374, 2.5051049600126025, 1.6602524755193209, 1.6598892253507065, 1.6595199740527034, 3.3237387493554267, 1.6585867844535607, 1.65800002891638, 1.6581870317119198, 1.6582546855811924, 1.6581576823801858, 1.6567488097184069, 1.6566122033384474, 1.6559520213399193, 2.455032688997895, 14.646179345973827, 8.333339595775445, 7.341297643979683, 9.274611529587592, 12.63944889864909, 3.4116127467788115, 3.3152771826979333, 4.194978634778117, 4.956634874302709, 10.14512654007483, 29.712476866693706, 9.893003809660698, 29.98502407625863, 114.26970793411719, 41.71457998508159, 41.98851873809341, 28.632238240380424, 20.322850471206635, 18.991174020226996, 38.92333264407894, 96.11209206997322, 23.996656433415268, 53.71862501116013, 59.10613338890223, 10.197436968895392, 29.145878742668984, 63.80497104798131, 30.526911153950067, 65.69612270880566, 39.77865981533671, 52.21860907605336, 56.90074614132294, 44.39420019082966, 42.314320252999885, 59.62295848604826, 51.62109705502805, 67.84465006181503, 90.19933803271972, 43.84229324259313, 108.68134191805768, 71.24489666835072, 49.839352284202825, 3.8221812801140427, 4.393800139239746, 2.3001222850949214, 3.9324510664254255, 2.314341896108737, 3.087257749160404, 2.362154761115778, 2.2946210633264075, 2.3179491907352716, 2.323715239530861, 4.751602437940243, 1.5328614150419173, 3.917462465494632, 2.3013464514125013, 2.2969255167161426, 1.531649972970369, 1.531502478680696, 2.366533817212487, 3.2061937709164665, 1.5534056197163255, 1.5533763665537665, 3.809083231601937, 1.5542509674272285, 1.554825711251332, 1.5571771673286783, 1.5496030169077977, 2.384787924819598, 1.590888520283414, 1.5504941346463843, 1.554666589339436, 4.689386195157553, 3.858541825161062, 3.8492053819487353, 7.129276356421063, 11.077135501310558, 4.7850496163205785, 12.93435305067486, 5.056648284275621, 6.260763392158763, 6.2247073179317685, 5.616761170590782, 33.16675803272196, 31.793798737640522, 21.02204650485501, 108.68134191805768, 10.965864676022385, 16.209332644828386, 45.544470507094076, 28.90714808551157, 19.464493830376732, 6.813466785611162, 38.719667447674595, 21.15991968724603, 30.469837696997864, 12.198504072974172, 88.27706945779691, 44.57561594386463, 11.502314030610215, 73.98621620924635, 39.7261857212771, 26.488170957497612, 32.17058838667671, 40.78230348644193, 49.753520754424954, 71.2991272089716, 67.20634681635897, 29.545394085637298, 65.29592617763616, 62.56320914394638, 73.93653348921723, 64.63755379045804, 24.985734773901584, 43.83709255982423, 52.21860907605336, 59.62295848604826, 57.774862141465476, 60.040154374668795, 79.5257234789148, 43.35808634560995, 49.839352284202825, 68.68558794525948, 90.19933803271972, 114.26970793411719, 55.25428502272522, 3.063099501168877, 3.0166117730850117, 2.3113356987171536, 2.9977087210521, 3.130345449936231, 2.3557644802586593, 11.170296206154225, 2.3512120403701786, 1.5594379611375073, 1.5596101826410498, 1.5595996205679397, 1.559626036481405, 1.5596307272650427, 1.559348862415465, 1.5596081189051145, 1.5594190976710083, 1.5595679070263737, 1.5594810691736238, 1.5595513693132153, 1.5596849145967864, 1.5594810252310602, 1.5594999760108235, 1.5596438294092105, 1.5595199907869615, 1.5595500634156172, 1.5596012280725478, 1.5592967471182768, 1.5594073095788359, 1.5596457161132042, 1.5596706553244697, 3.17112398622881, 3.858874203691023, 2.3861407983772245, 5.442694369813362, 4.49872274116081, 3.8638345847764293, 3.9783106808346096, 3.089769047607056, 3.9827503266088526, 4.00003963539365, 8.78684462491163, 7.190484653094675, 3.980778800145875, 20.664215445544357, 3.076094882906994, 4.645958334394148, 6.319177050082816, 11.022210544013484, 21.15991968724603, 3.177521514793181, 3.287705176863106, 7.246210879784388, 20.303983494012197, 38.92333264407894, 27.631476878905836, 34.12636358802715, 65.2475209191571, 49.839352284202825, 31.23865599229861, 67.20634681635897, 38.2455854954562, 114.26970793411719, 59.10613338890223, 108.68134191805768, 43.98759883127705, 27.571502713949155, 96.11209206997322, 47.94621379444667, 46.43830897167998, 55.80284292219984, 27.153780289504052, 56.90074614132294, 90.19933803271972, 79.5257234789148, 40.78230348644193, 37.77597035400183, 60.040154374668795, 59.62295848604826, 93.08423598220836, 63.80497104798131, 64.15690797287493, 62.56320914394638, 67.84465006181503, 3.9181794232143505, 4.7731422104496914, 4.967117305924313, 5.6428186187388105, 2.3671938449283014, 3.1722172366979553, 3.2113658301771473, 2.389588287009561, 4.764318426888858, 2.3733532249785934, 2.397022084055825, 2.360975172271357, 2.3578965101769787, 2.3337582700197923, 2.3333011837727984, 5.4618542816516715, 2.3314847478110736, 5.113829885102306, 1.5798883096638352, 1.5797755849089603, 1.5797370371980723, 2.329149255287532, 3.1372210032303967, 7.017665718985562, 8.788107676601317, 4.761160303361297, 5.344579074651801, 1.5912034228932004, 1.5916700607163323, 2.367122722290263, 3.1747959531542778, 3.1383231982754833, 5.832662467956987, 3.895727900121825, 10.535892517417228, 6.411173246197438, 11.147592496069285, 5.842680088505802, 20.96207849719069, 5.710567051742065, 33.302129561770066, 67.20634681635897, 9.779946435100461, 16.5743835973118, 39.091683783415945, 68.68558794525948, 24.422426929581164, 33.49611441163548, 16.25266198322969, 67.84465006181503, 48.353907315968414, 40.240779640577784, 27.822965543171932, 114.26970793411719, 63.80497104798131, 64.15690797287493, 27.571502713949155, 96.11209206997322, 93.08423598220836, 62.56320914394638, 90.19933803271972, 26.634260753324522, 65.29592617763616, 34.53590173031227, 44.39420019082966, 56.14001722487977, 71.24489666835072, 59.10613338890223, 55.25428502272522, 41.24997330452626, 47.94621379444667, 59.62295848604826, 2.2847273439616362, 2.287393550660569, 2.2877672124269526, 2.288040829762741, 1.5465399098706472, 1.5465070626647588, 1.5462895216465709, 3.0877004983489624, 1.5475061377649786, 1.5476754948291578, 1.547310147824559, 1.5476420103935573, 1.5479866688284605, 2.3689297774636797, 3.0816842890944267, 2.3210664998537895, 2.3332399093972325, 3.2523351136986647, 4.753821022426844, 2.3427741305708527, 6.336132259728338, 8.650313870725235, 3.118696861207608, 2.3305015797913398, 2.3329663685429622, 1.5490205943851718, 2.375118154174929, 2.338297883955499, 1.60442912049095, 2.3328158464360143, 4.7158431772613465, 4.62694563660804, 29.712476866693706, 6.4526759597735435, 20.288612668485225, 9.566595106400165, 10.416854528639707, 63.80497104798131, 108.68134191805768, 23.996656433415268, 53.71862501116013, 11.115106714789752, 38.92333264407894, 93.08423598220836, 67.84465006181503, 11.151263445677186, 7.32207008302459, 27.631476878905836, 96.11209206997322, 27.09272373449252, 44.39420019082966, 21.360974825990745, 43.35808634560995, 19.328985977695364, 33.45043854195299, 51.75194243781181, 41.50725905900559, 56.90074614132294, 90.19933803271972, 59.62295848604826, 33.666475928270344, 39.21164913730229, 41.24997330452626, 43.98759883127705, 38.2455854954562, 55.25428502272522, 57.774862141465476, 114.26970793411719, 65.69612270880566, 45.544470507094076, 53.07752955250606, 64.15690797287493, 2.2189971521513705, 2.2194419984785068, 2.2256896025839237, 2.229953114966237, 2.236622594093145, 1.5091258362616429, 1.5041108344818206, 1.5130415530061787, 1.5130959462719893, 1.5167404458858122, 1.524126575083013, 1.5171218744435342, 1.525521742932455, 1.5284119020848967, 1.5192876032454057, 2.2484460556179657, 1.521803243421173, 2.2627764879125127, 1.5226410260379988, 3.714966891254705, 1.5406124577525315, 2.2495426451847313, 3.6839220977571427, 1.5424453276100367, 5.534687272575583, 2.2294564275788438, 2.9218000582968116, 3.826719490030522, 2.350896719805751, 3.099817772728909, 10.275218984602224, 8.854453997279657, 5.610785658353738, 13.55045317700567, 3.1068708679754975, 11.470356010009748, 5.513298603208523, 6.327326377444484, 9.608988412207529, 5.210341853146169, 51.62109705502805, 13.8421109181761, 59.62295848604826, 71.24489666835072, 40.417930372923976, 15.529481977201067, 18.87629077354777, 43.98759883127705, 32.64703334083668, 10.944978641267953, 7.093510095913963, 29.42073604008277, 108.68134191805768, 51.75194243781181, 96.11209206997322, 24.15323315990913, 49.839352284202825, 40.240779640577784, 67.84465006181503, 55.25428502272522, 60.040154374668795, 79.5257234789148, 43.52524561158999, 56.90074614132294, 73.93653348921723, 62.56320914394638, 93.08423598220836, 64.63755379045804, 52.21860907605336, 68.68558794525948, 114.26970793411719, 65.69612270880566, 46.43830897167998, 43.35808634560995, 90.19933803271972, 2.94964407194749, 2.4758050958534836, 1.878777605291711, 1.9005863864852846, 5.095054726221892, 1.34351502281197, 1.3435133009736102, 1.3433780786024687, 1.3432908212359553, 1.3432484696327767, 1.3511505333176759, 1.3527138767756752, 1.3526595221779918, 1.3535071915479073, 1.3548441712791468, 1.3549723904707058, 1.354960865539995, 1.3564022439526253, 1.3638113379354997, 1.3679828833990448, 1.3711357284127699, 3.4846402586009457, 1.4596270740401176, 2.1082087893509884, 1.467215158348142, 1.4737992627469652, 1.4788667352920348, 1.4815503037617708, 1.484550643875057, 2.9827304997559767, 3.5242609873244723, 4.288528316649563, 5.040179448067649, 3.5810456591090305, 7.417322162349078, 6.308054476723782, 16.777383864801347, 14.670691728059154, 57.774862141465476, 59.10613338890223, 15.020304729286277, 21.83447583658428, 26.130150570760563, 11.055940928404883, 65.69612270880566, 73.93653348921723, 90.19933803271972, 19.687484904719007, 10.036489870433918, 53.71862501116013, 28.403161913075987, 17.419516228741642, 32.6240768391432, 67.84465006181503, 19.18205749411406, 71.24489666835072, 35.85535903230192, 45.544470507094076, 79.5257234789148, 34.46942698640466, 65.2475209191571, 44.57561594386463, 93.08423598220836, 96.11209206997322, 40.417930372923976, 108.68134191805768, 65.29592617763616, 56.14001722487977, 64.63755379045804, 71.2991272089716], \"Category\": [\"Default\", \"Default\", \"Default\", \"Default\", \"Default\", \"Default\", \"Default\", \"Default\", \"Default\", \"Default\", \"Default\", \"Default\", \"Default\", \"Default\", \"Default\", \"Default\", \"Default\", \"Default\", \"Default\", \"Default\", \"Default\", \"Default\", \"Default\", \"Default\", \"Default\", \"Default\", \"Default\", \"Default\", \"Default\", \"Default\", \"Topic1\", \"Topic1\", \"Topic1\", \"Topic1\", \"Topic1\", \"Topic1\", \"Topic1\", \"Topic1\", \"Topic1\", \"Topic1\", \"Topic1\", \"Topic1\", \"Topic1\", \"Topic1\", \"Topic1\", \"Topic1\", \"Topic1\", \"Topic1\", \"Topic1\", \"Topic1\", \"Topic1\", \"Topic1\", \"Topic1\", \"Topic1\", \"Topic1\", \"Topic1\", \"Topic1\", \"Topic1\", \"Topic1\", \"Topic1\", \"Topic1\", \"Topic1\", \"Topic1\", \"Topic1\", \"Topic1\", \"Topic1\", \"Topic1\", \"Topic1\", \"Topic1\", \"Topic1\", \"Topic1\", \"Topic1\", \"Topic1\", \"Topic1\", \"Topic1\", \"Topic1\", \"Topic1\", \"Topic1\", \"Topic1\", \"Topic1\", \"Topic1\", \"Topic1\", \"Topic1\", \"Topic1\", \"Topic1\", \"Topic1\", \"Topic1\", \"Topic1\", \"Topic1\", \"Topic1\", \"Topic1\", \"Topic1\", \"Topic1\", \"Topic1\", \"Topic1\", \"Topic1\", \"Topic1\", \"Topic1\", \"Topic1\", \"Topic1\", \"Topic1\", \"Topic1\", \"Topic1\", \"Topic1\", \"Topic1\", \"Topic1\", \"Topic1\", \"Topic1\", \"Topic2\", \"Topic2\", \"Topic2\", \"Topic2\", \"Topic2\", \"Topic2\", \"Topic2\", \"Topic2\", \"Topic2\", \"Topic2\", \"Topic2\", \"Topic2\", \"Topic2\", \"Topic2\", \"Topic2\", \"Topic2\", \"Topic2\", \"Topic2\", \"Topic2\", \"Topic2\", \"Topic2\", \"Topic2\", \"Topic2\", \"Topic2\", \"Topic2\", \"Topic2\", \"Topic2\", \"Topic2\", \"Topic2\", \"Topic2\", \"Topic2\", \"Topic2\", \"Topic2\", \"Topic2\", \"Topic2\", \"Topic2\", \"Topic2\", \"Topic2\", \"Topic2\", \"Topic2\", \"Topic2\", \"Topic2\", \"Topic2\", \"Topic2\", \"Topic2\", \"Topic2\", \"Topic2\", \"Topic2\", \"Topic2\", \"Topic2\", \"Topic2\", \"Topic2\", \"Topic2\", \"Topic2\", \"Topic2\", \"Topic2\", \"Topic2\", \"Topic2\", \"Topic2\", \"Topic2\", \"Topic2\", \"Topic2\", \"Topic2\", \"Topic2\", \"Topic2\", \"Topic2\", \"Topic2\", \"Topic2\", \"Topic2\", \"Topic2\", \"Topic2\", \"Topic2\", \"Topic2\", \"Topic2\", \"Topic3\", \"Topic3\", \"Topic3\", \"Topic3\", \"Topic3\", \"Topic3\", \"Topic3\", \"Topic3\", \"Topic3\", \"Topic3\", \"Topic3\", \"Topic3\", \"Topic3\", \"Topic3\", \"Topic3\", \"Topic3\", \"Topic3\", \"Topic3\", \"Topic3\", \"Topic3\", \"Topic3\", \"Topic3\", \"Topic3\", \"Topic3\", \"Topic3\", \"Topic3\", \"Topic3\", \"Topic3\", \"Topic3\", \"Topic3\", \"Topic3\", \"Topic3\", \"Topic3\", \"Topic3\", \"Topic3\", \"Topic3\", \"Topic3\", \"Topic3\", \"Topic3\", \"Topic3\", \"Topic3\", \"Topic3\", \"Topic3\", \"Topic3\", \"Topic3\", \"Topic3\", \"Topic3\", \"Topic3\", \"Topic3\", \"Topic3\", \"Topic3\", \"Topic3\", \"Topic3\", \"Topic3\", \"Topic3\", \"Topic3\", \"Topic3\", \"Topic3\", \"Topic3\", \"Topic3\", \"Topic3\", \"Topic3\", \"Topic3\", \"Topic3\", \"Topic3\", \"Topic3\", \"Topic3\", \"Topic3\", \"Topic3\", \"Topic3\", \"Topic3\", \"Topic3\", \"Topic3\", \"Topic3\", \"Topic4\", \"Topic4\", \"Topic4\", \"Topic4\", \"Topic4\", \"Topic4\", \"Topic4\", \"Topic4\", \"Topic4\", \"Topic4\", \"Topic4\", \"Topic4\", \"Topic4\", \"Topic4\", \"Topic4\", \"Topic4\", \"Topic4\", \"Topic4\", \"Topic4\", \"Topic4\", \"Topic4\", \"Topic4\", \"Topic4\", \"Topic4\", \"Topic4\", \"Topic4\", \"Topic4\", \"Topic4\", \"Topic4\", \"Topic4\", \"Topic4\", \"Topic4\", \"Topic4\", \"Topic4\", \"Topic4\", \"Topic4\", \"Topic4\", \"Topic4\", \"Topic4\", \"Topic4\", \"Topic4\", \"Topic4\", \"Topic4\", \"Topic4\", \"Topic4\", \"Topic4\", \"Topic4\", \"Topic4\", \"Topic4\", \"Topic4\", \"Topic4\", \"Topic4\", \"Topic4\", \"Topic4\", \"Topic4\", \"Topic4\", \"Topic4\", \"Topic4\", \"Topic4\", \"Topic4\", \"Topic4\", \"Topic4\", \"Topic4\", \"Topic4\", \"Topic4\", \"Topic4\", \"Topic4\", \"Topic4\", \"Topic4\", \"Topic4\", \"Topic4\", \"Topic4\", \"Topic5\", \"Topic5\", \"Topic5\", \"Topic5\", \"Topic5\", \"Topic5\", \"Topic5\", \"Topic5\", \"Topic5\", \"Topic5\", \"Topic5\", \"Topic5\", \"Topic5\", \"Topic5\", \"Topic5\", \"Topic5\", \"Topic5\", \"Topic5\", \"Topic5\", \"Topic5\", \"Topic5\", \"Topic5\", \"Topic5\", \"Topic5\", \"Topic5\", \"Topic5\", \"Topic5\", \"Topic5\", \"Topic5\", \"Topic5\", \"Topic5\", \"Topic5\", \"Topic5\", \"Topic5\", \"Topic5\", \"Topic5\", \"Topic5\", \"Topic5\", \"Topic5\", \"Topic5\", \"Topic5\", \"Topic5\", \"Topic5\", \"Topic5\", \"Topic5\", \"Topic5\", \"Topic5\", \"Topic5\", \"Topic5\", \"Topic5\", \"Topic5\", \"Topic5\", \"Topic5\", \"Topic5\", \"Topic5\", \"Topic5\", \"Topic5\", \"Topic5\", \"Topic5\", \"Topic5\", \"Topic5\", \"Topic5\", \"Topic5\", \"Topic5\", \"Topic5\", \"Topic5\", \"Topic5\", \"Topic5\", \"Topic5\", \"Topic5\", \"Topic5\", \"Topic5\", \"Topic5\", \"Topic5\", \"Topic5\", \"Topic5\", \"Topic5\", \"Topic5\", \"Topic5\", \"Topic5\", \"Topic5\", \"Topic5\", \"Topic5\", \"Topic5\", \"Topic6\", \"Topic6\", \"Topic6\", \"Topic6\", \"Topic6\", \"Topic6\", \"Topic6\", \"Topic6\", \"Topic6\", \"Topic6\", \"Topic6\", \"Topic6\", \"Topic6\", \"Topic6\", \"Topic6\", \"Topic6\", \"Topic6\", \"Topic6\", \"Topic6\", \"Topic6\", \"Topic6\", \"Topic6\", \"Topic6\", \"Topic6\", \"Topic6\", \"Topic6\", \"Topic6\", \"Topic6\", \"Topic6\", \"Topic6\", \"Topic6\", \"Topic6\", \"Topic6\", \"Topic6\", \"Topic6\", \"Topic6\", \"Topic6\", \"Topic6\", \"Topic6\", \"Topic6\", \"Topic6\", \"Topic6\", \"Topic6\", \"Topic6\", \"Topic6\", \"Topic6\", \"Topic6\", \"Topic6\", \"Topic6\", \"Topic6\", \"Topic6\", \"Topic6\", \"Topic6\", \"Topic6\", \"Topic6\", \"Topic6\", \"Topic6\", \"Topic6\", \"Topic6\", \"Topic6\", \"Topic6\", \"Topic6\", \"Topic6\", \"Topic6\", \"Topic6\", \"Topic6\", \"Topic6\", \"Topic6\", \"Topic6\", \"Topic6\", \"Topic6\", \"Topic6\", \"Topic6\", \"Topic6\", \"Topic6\", \"Topic6\", \"Topic6\", \"Topic6\", \"Topic6\", \"Topic6\", \"Topic6\", \"Topic6\", \"Topic6\", \"Topic7\", \"Topic7\", \"Topic7\", \"Topic7\", \"Topic7\", \"Topic7\", \"Topic7\", \"Topic7\", \"Topic7\", \"Topic7\", \"Topic7\", \"Topic7\", \"Topic7\", \"Topic7\", \"Topic7\", \"Topic7\", \"Topic7\", \"Topic7\", \"Topic7\", \"Topic7\", \"Topic7\", \"Topic7\", \"Topic7\", \"Topic7\", \"Topic7\", \"Topic7\", \"Topic7\", \"Topic7\", \"Topic7\", \"Topic7\", \"Topic7\", \"Topic7\", \"Topic7\", \"Topic7\", \"Topic7\", \"Topic7\", \"Topic7\", \"Topic7\", \"Topic7\", \"Topic7\", \"Topic7\", \"Topic7\", \"Topic7\", \"Topic7\", \"Topic7\", \"Topic7\", \"Topic7\", \"Topic7\", \"Topic7\", \"Topic7\", \"Topic7\", \"Topic7\", \"Topic7\", \"Topic7\", \"Topic7\", \"Topic7\", \"Topic7\", \"Topic7\", \"Topic7\", \"Topic7\", \"Topic7\", \"Topic7\", \"Topic7\", \"Topic7\", \"Topic7\", \"Topic7\", \"Topic7\", \"Topic7\", \"Topic7\", \"Topic7\", \"Topic7\", \"Topic7\", \"Topic8\", \"Topic8\", \"Topic8\", \"Topic8\", \"Topic8\", \"Topic8\", \"Topic8\", \"Topic8\", \"Topic8\", \"Topic8\", \"Topic8\", \"Topic8\", \"Topic8\", \"Topic8\", \"Topic8\", \"Topic8\", \"Topic8\", \"Topic8\", \"Topic8\", \"Topic8\", \"Topic8\", \"Topic8\", \"Topic8\", \"Topic8\", \"Topic8\", \"Topic8\", \"Topic8\", \"Topic8\", \"Topic8\", \"Topic8\", \"Topic8\", \"Topic8\", \"Topic8\", \"Topic8\", \"Topic8\", \"Topic8\", \"Topic8\", \"Topic8\", \"Topic8\", \"Topic8\", \"Topic8\", \"Topic8\", \"Topic8\", \"Topic8\", \"Topic8\", \"Topic8\", \"Topic8\", \"Topic8\", \"Topic8\", \"Topic8\", \"Topic8\", \"Topic8\", \"Topic8\", \"Topic8\", \"Topic8\", \"Topic8\", \"Topic8\", \"Topic8\", \"Topic8\", \"Topic8\", \"Topic8\", \"Topic8\", \"Topic8\", \"Topic8\", \"Topic8\", \"Topic8\", \"Topic8\", \"Topic8\", \"Topic8\", \"Topic8\", \"Topic8\", \"Topic8\", \"Topic9\", \"Topic9\", \"Topic9\", \"Topic9\", \"Topic9\", \"Topic9\", \"Topic9\", \"Topic9\", \"Topic9\", \"Topic9\", \"Topic9\", \"Topic9\", \"Topic9\", \"Topic9\", \"Topic9\", \"Topic9\", \"Topic9\", \"Topic9\", \"Topic9\", \"Topic9\", \"Topic9\", \"Topic9\", \"Topic9\", \"Topic9\", \"Topic9\", \"Topic9\", \"Topic9\", \"Topic9\", \"Topic9\", \"Topic9\", \"Topic9\", \"Topic9\", \"Topic9\", \"Topic9\", \"Topic9\", \"Topic9\", \"Topic9\", \"Topic9\", \"Topic9\", \"Topic9\", \"Topic9\", \"Topic9\", \"Topic9\", \"Topic9\", \"Topic9\", \"Topic9\", \"Topic9\", \"Topic9\", \"Topic9\", \"Topic9\", \"Topic9\", \"Topic9\", \"Topic9\", \"Topic9\", \"Topic9\", \"Topic9\", \"Topic9\", \"Topic9\", \"Topic9\", \"Topic9\", \"Topic9\", \"Topic9\", \"Topic9\", \"Topic9\", \"Topic9\", \"Topic9\", \"Topic9\", \"Topic9\", \"Topic9\", \"Topic9\", \"Topic9\", \"Topic9\", \"Topic9\", \"Topic9\", \"Topic9\", \"Topic10\", \"Topic10\", \"Topic10\", \"Topic10\", \"Topic10\", \"Topic10\", \"Topic10\", \"Topic10\", \"Topic10\", \"Topic10\", \"Topic10\", \"Topic10\", \"Topic10\", \"Topic10\", \"Topic10\", \"Topic10\", \"Topic10\", \"Topic10\", \"Topic10\", \"Topic10\", \"Topic10\", \"Topic10\", \"Topic10\", \"Topic10\", \"Topic10\", \"Topic10\", \"Topic10\", \"Topic10\", \"Topic10\", \"Topic10\", \"Topic10\", \"Topic10\", \"Topic10\", \"Topic10\", \"Topic10\", \"Topic10\", \"Topic10\", \"Topic10\", \"Topic10\", \"Topic10\", \"Topic10\", \"Topic10\", \"Topic10\", \"Topic10\", \"Topic10\", \"Topic10\", \"Topic10\", \"Topic10\", \"Topic10\", \"Topic10\", \"Topic10\", \"Topic10\", \"Topic10\", \"Topic10\", \"Topic10\", \"Topic10\", \"Topic10\", \"Topic10\", \"Topic10\", \"Topic10\", \"Topic10\", \"Topic10\", \"Topic10\", \"Topic10\", \"Topic10\", \"Topic10\", \"Topic10\", \"Topic10\", \"Topic10\", \"Topic10\"], \"logprob\": [30.0, 29.0, 28.0, 27.0, 26.0, 25.0, 24.0, 23.0, 22.0, 21.0, 20.0, 19.0, 18.0, 17.0, 16.0, 15.0, 14.0, 13.0, 12.0, 11.0, 10.0, 9.0, 8.0, 7.0, 6.0, 5.0, 4.0, 3.0, 2.0, 1.0, -7.4181, -7.7077, -7.7699, -6.9437, -8.1812, -8.2016, -8.2153, -8.2178, -8.2199, -8.2204, -8.2214, -8.2258, -7.3383, -7.8326, -7.8445, -8.2518, -7.5609, -7.8832, -6.2793, -8.3015, -8.3026, -8.3027, -4.6839, -8.3286, -7.9295, -7.4073, -7.1013, -8.3463, -7.936, -8.3445, -5.6289, -6.2318, -6.7652, -4.6038, -6.4678, -7.1129, -7.4558, -6.1651, -5.0742, -5.0454, -6.3201, -5.5268, -7.1805, -6.1941, -7.4568, -6.3504, -6.0051, -5.2118, -5.1673, -5.7217, -6.6216, -6.3317, -5.7958, -6.2892, -5.5119, -5.5879, -6.2134, -5.5154, -5.9368, -6.3141, -6.1128, -6.0492, -6.2998, -6.2778, -5.9818, -5.935, -5.9618, -5.9403, -6.1775, -5.8067, -6.0624, -5.9297, -6.0496, -5.9741, -6.0342, -6.0349, -6.0943, -6.12, -6.9458, -7.68, -7.6801, -6.5796, -7.4934, -7.5165, -7.5584, -7.823, -7.8265, -7.8269, -7.8479, -7.8599, -7.596, -7.9504, -8.3264, -8.3265, -8.3266, -8.3266, -8.3267, -8.3267, -8.3269, -8.3269, -8.3269, -8.3269, -8.3271, -7.4413, -7.6994, -7.7058, -7.9771, -7.7158, -6.1405, -5.6926, -5.6636, -7.2505, -7.3862, -6.6331, -5.5949, -7.7065, -7.7508, -6.5787, -5.4277, -7.2741, -5.3337, -6.335, -5.761, -5.1562, -5.4151, -6.1403, -6.6124, -5.1476, -6.5562, -6.0216, -6.0832, -6.2826, -6.5459, -6.0213, -5.9746, -6.123, -5.5601, -6.2809, -5.9379, -6.3547, -6.0554, -5.8563, -5.8912, -5.6406, -6.1412, -5.779, -5.9924, -5.9629, -6.173, -6.0765, -6.0623, -6.1099, -7.0047, -6.8679, -7.2125, -7.6689, -7.681, -7.4074, -7.4165, -6.5509, -7.7404, -7.7487, -7.7614, -7.7707, -7.7682, -7.8131, -7.7866, -7.7991, -7.8094, -7.8603, -7.827, -7.8197, -7.5722, -7.5649, -7.409, -8.3102, -8.3108, -8.3146, -8.3146, -8.3169, -7.2182, -8.3204, -7.2351, -7.1249, -6.5575, -7.9426, -7.4458, -7.3032, -7.1479, -6.8824, -5.5497, -5.8771, -5.1487, -6.3772, -5.0725, -5.693, -5.9221, -5.6035, -5.7119, -6.1507, -6.2056, -6.814, -6.4932, -5.8266, -5.6943, -5.6992, -6.1758, -5.9466, -5.9331, -6.0547, -5.8654, -6.2188, -5.8658, -5.7053, -6.1245, -6.0762, -6.0916, -5.8198, -6.0386, -5.9537, -6.0212, -6.0038, -6.0622, -6.079, -6.0011, -6.0876, -6.9424, -7.1792, -6.9598, -7.4969, -7.4998, -7.0032, -7.5275, -7.53, -7.2436, -7.5508, -7.577, -6.6145, -7.0338, -7.6925, -7.0242, -7.6862, -7.6893, -8.1026, -8.1052, -8.1072, -7.4216, -8.1311, -8.1379, -8.1382, -8.1383, -8.1429, -8.1534, -8.1543, -8.1622, -7.7685, -6.0633, -6.6182, -6.7695, -6.557, -6.2992, -7.4898, -7.5257, -7.3242, -7.1883, -6.6172, -5.7603, -6.6547, -5.7795, -4.8065, -5.6271, -5.6246, -5.9127, -6.1858, -6.2509, -5.7567, -5.2172, -6.13, -5.6733, -5.6444, -6.6946, -6.1085, -5.674, -6.1207, -5.7398, -6.0075, -5.8896, -5.8535, -5.9968, -6.0247, -5.9011, -6.0009, -5.9085, -5.8048, -6.0914, -5.843, -6.0485, -6.1674, -7.0766, -6.954, -7.6354, -7.108, -7.7082, -7.426, -7.7089, -7.7464, -7.7384, -7.7455, -7.0302, -8.1676, -7.2366, -7.7852, -7.7882, -8.1969, -8.2001, -7.7808, -7.4842, -8.214, -8.214, -7.3215, -8.2184, -8.221, -8.2324, -8.2491, -7.826, -8.2318, -8.268, -8.2721, -7.1759, -7.3734, -7.378, -6.8371, -6.4808, -7.2754, -6.4545, -7.2344, -7.064, -7.0838, -7.1737, -5.8025, -5.8511, -6.2265, -5.0644, -6.7141, -6.4501, -5.779, -6.0856, -6.388, -7.0543, -6.0028, -6.3781, -6.1695, -6.7097, -5.5488, -5.951, -6.7462, -5.7033, -6.0754, -6.3066, -6.2109, -6.1021, -6.0043, -5.8266, -5.863, -6.271, -5.9017, -5.9426, -5.8999, -5.9677, -6.3602, -6.1486, -6.0973, -6.054, -6.0703, -6.072, -6.0105, -6.1986, -6.2038, -6.1588, -6.1596, -6.1493, -6.2002, -7.0517, -7.1548, -7.442, -7.195, -7.182, -7.5684, -6.0348, -7.6616, -8.0867, -8.0867, -8.0869, -8.0871, -8.0873, -8.0876, -8.0876, -8.0879, -8.0879, -8.0882, -8.0882, -8.0883, -8.0884, -8.0886, -8.0887, -8.0891, -8.0891, -8.0891, -8.0893, -8.0899, -8.0899, -8.0916, -7.4242, -7.2448, -7.6985, -6.9844, -7.1574, -7.2995, -7.2811, -7.4994, -7.2896, -7.3097, -6.6763, -6.839, -7.3226, -5.992, -7.5368, -7.2047, -6.9929, -6.5827, -6.0878, -7.5434, -7.5237, -6.9464, -6.2709, -5.8694, -6.1575, -6.0293, -5.6625, -5.8337, -6.1264, -5.6973, -6.0431, -5.4463, -5.8244, -5.5101, -6.0016, -6.2523, -5.6047, -5.9726, -6.0625, -5.9846, -6.3283, -5.9982, -5.8611, -5.9227, -6.1833, -6.2208, -6.0794, -6.087, -5.9578, -6.0824, -6.0987, -6.1559, -6.1689, -6.7724, -6.5925, -6.668, -6.5571, -7.4374, -7.1471, -7.1408, -7.4505, -6.77, -7.4742, -7.4772, -7.5055, -7.5137, -7.5325, -7.5416, -6.7044, -7.5642, -6.7896, -7.9738, -7.9739, -7.974, -7.5917, -7.2956, -6.496, -6.2742, -6.9033, -6.7881, -8.0429, -8.0449, -7.6508, -7.3742, -7.3933, -6.8283, -7.1999, -6.3383, -6.7779, -6.3251, -6.8757, -5.8947, -6.9163, -5.619, -5.1957, -6.5585, -6.2052, -5.6342, -5.2769, -5.9673, -5.8154, -6.2724, -5.434, -5.6663, -5.8899, -6.0899, -5.4444, -5.7408, -5.7718, -6.1499, -5.6664, -5.7096, -5.9269, -5.8437, -6.2279, -5.9795, -6.1964, -6.1572, -6.1177, -6.0766, -6.1283, -6.1674, -6.2026, -6.2091, -6.2061, -7.2138, -7.2439, -7.2483, -7.2663, -7.8601, -7.8601, -7.8604, -7.1811, -7.8869, -7.8884, -7.8967, -7.8988, -7.9005, -7.5525, -7.3306, -7.6166, -7.6367, -7.3125, -6.972, -7.6826, -6.6893, -6.4214, -7.4523, -7.7615, -7.7606, -8.2021, -7.782, -7.7997, -8.1781, -7.8063, -7.1746, -7.2318, -5.6888, -6.9969, -6.092, -6.694, -6.632, -5.2938, -5.0712, -6.1116, -5.5992, -6.631, -5.834, -5.2855, -5.4867, -6.6486, -6.9121, -6.1169, -5.4428, -6.1805, -5.9213, -6.3472, -5.9788, -6.408, -6.1322, -5.9285, -6.1085, -5.982, -5.8472, -6.0045, -6.2272, -6.1753, -6.1634, -6.1475, -6.2203, -6.1063, -6.0989, -5.9118, -6.0715, -6.1683, -6.1417, -6.1316, -7.2343, -7.2356, -7.2586, -7.3655, -7.4259, -7.8507, -7.8661, -7.8744, -7.8756, -7.898, -7.9477, -7.9874, -7.9957, -8.0041, -8.018, -7.6508, -8.0681, -7.691, -8.0903, -7.2162, -8.1007, -7.7269, -7.2352, -8.1266, -6.8719, -7.782, -7.5225, -7.2553, -7.7442, -7.4805, -6.3313, -6.5287, -6.9784, -6.3109, -7.5109, -6.466, -7.0677, -6.9647, -6.7399, -7.1633, -5.6348, -6.5189, -5.6123, -5.5396, -5.9243, -6.5233, -6.4115, -5.9342, -6.1441, -6.7572, -7.0087, -6.2406, -5.5866, -5.9862, -5.7005, -6.3864, -6.0874, -6.1891, -5.9697, -6.0683, -6.0473, -5.9432, -6.1965, -6.1052, -6.0152, -6.0848, -6.0117, -6.1575, -6.2383, -6.1822, -6.1481, -6.2319, -6.2877, -6.3368, -6.3265, -6.308, -6.6906, -6.977, -7.0102, -6.1009, -7.6233, -7.6233, -7.6236, -7.6237, -7.6238, -7.6469, -7.6505, -7.6508, -7.6534, -7.6571, -7.658, -7.6582, -7.6621, -7.7194, -7.7406, -7.7576, -6.9171, -7.7902, -7.4286, -7.8015, -7.8121, -7.82, -7.825, -7.8295, -7.1436, -7.0596, -6.8868, -6.7982, -7.1407, -6.6478, -6.7664, -6.1166, -6.2186, -5.4387, -5.5019, -6.3047, -6.1553, -6.0944, -6.5474, -5.6627, -5.6179, -5.5698, -6.3694, -6.6905, -5.9234, -6.2179, -6.5003, -6.2319, -5.956, -6.4741, -6.0365, -6.2822, -6.2109, -6.0589, -6.3017, -6.1271, -6.2387, -6.0729, -6.1122, -6.3212, -6.1361, -6.245, -6.2788, -6.2661, -6.2652], \"loglift\": [30.0, 29.0, 28.0, 27.0, 26.0, 25.0, 24.0, 23.0, 22.0, 21.0, 20.0, 19.0, 18.0, 17.0, 16.0, 15.0, 14.0, 13.0, 12.0, 11.0, 10.0, 9.0, 8.0, 7.0, 6.0, 5.0, 4.0, 3.0, 2.0, 1.0, 1.4391, 1.4335, 1.3886, 1.3798, 1.3783, 1.3621, 1.3542, 1.3523, 1.3507, 1.3504, 1.3496, 1.3462, 1.344, 1.3354, 1.3332, 1.3271, 1.305, 1.302, 1.2991, 1.2893, 1.2886, 1.2885, 1.2762, 1.269, 1.2605, 1.2587, 1.2554, 1.255, 1.2532, 1.253, 1.2396, 1.2396, 1.2381, 1.1798, 1.2242, 1.2278, 1.2358, 1.1192, 1.021, 0.9518, 1.0731, 0.9291, 1.1846, 1.0137, 1.2253, 0.9991, 0.9212, 0.749, 0.7207, 0.8413, 1.0294, 0.9554, 0.7582, 0.9001, 0.574, 0.5811, 0.8128, 0.4825, 0.6709, 0.8442, 0.7271, 0.6703, 0.817, 0.7398, 0.4128, 0.3073, 0.3305, 0.2959, 0.6145, -0.231, 0.2462, -0.2312, 0.0531, -0.4486, -0.2722, -0.3043, -0.0381, 0.1321, 1.6346, 1.605, 1.6049, 1.5429, 1.5414, 1.5221, 1.4932, 1.4842, 1.4777, 1.4772, 1.4588, 1.4483, 1.4315, 1.3921, 1.3866, 1.3865, 1.3865, 1.3865, 1.3864, 1.3864, 1.3864, 1.3863, 1.3863, 1.3863, 1.3862, 1.3847, 1.3519, 1.3467, 1.3442, 1.3304, 1.3048, 1.2808, 1.1153, 1.2502, 1.2614, 1.1095, 0.9156, 1.2806, 1.2872, 1.0776, 0.8554, 1.1968, 0.7514, 0.9751, 0.8211, 0.6058, 0.6639, 0.8513, 0.9752, 0.4281, 0.9277, 0.7024, 0.6793, 0.7532, 0.8662, 0.5898, 0.5636, 0.6269, 0.1704, 0.6404, 0.3707, 0.6703, 0.4281, 0.1783, 0.2115, -0.1151, 0.4146, -0.0804, 0.1355, 0.0343, 0.3647, -0.0202, -0.1014, -0.0631, 1.8298, 1.7085, 1.6846, 1.6814, 1.6681, 1.6518, 1.6274, 1.6167, 1.6129, 1.6056, 1.5933, 1.5871, 1.5816, 1.576, 1.5635, 1.5609, 1.5396, 1.5395, 1.535, 1.5313, 1.5055, 1.5046, 1.4634, 1.4508, 1.4503, 1.4482, 1.4468, 1.4462, 1.4441, 1.443, 1.4282, 1.3939, 1.3594, 1.429, 1.3904, 1.3784, 1.3562, 1.3065, 1.0703, 0.9453, 0.5818, 0.9989, 0.453, 0.6925, 0.7836, 0.6387, 0.4956, 0.7317, 0.7504, 1.0851, 0.8922, 0.4935, 0.3908, 0.3353, 0.6204, 0.371, 0.3472, 0.436, 0.2624, 0.5715, 0.2201, -0.0067, 0.3922, 0.3178, 0.3343, -0.0578, 0.1976, 0.0443, 0.1635, 0.099, 0.1606, 0.204, -0.1131, -0.0313, 1.8869, 1.8787, 1.8702, 1.8478, 1.8452, 1.8304, 1.8191, 1.8168, 1.8113, 1.8019, 1.773, 1.741, 1.6926, 1.6625, 1.6608, 1.6592, 1.6564, 1.6545, 1.6521, 1.6504, 1.6414, 1.627, 1.6206, 1.6202, 1.62, 1.6154, 1.6058, 1.605, 1.5975, 1.5975, 1.5166, 1.5256, 1.501, 1.4798, 1.4281, 1.547, 1.5398, 1.506, 1.475, 1.3299, 1.1122, 1.3175, 1.0839, 0.719, 0.9061, 0.902, 0.9968, 1.0666, 1.0692, 0.8458, 0.4814, 0.9561, 0.607, 0.5403, 1.2473, 0.7833, 0.4343, 0.7247, 0.3392, 0.5732, 0.419, 0.3693, 0.4741, 0.4942, 0.2749, 0.3193, 0.1383, -0.0428, 0.3921, -0.2673, -0.0506, 0.1879, 1.8466, 1.8298, 1.7957, 1.7868, 1.7167, 1.7108, 1.6956, 1.6871, 1.6849, 1.6754, 1.6753, 1.6693, 1.662, 1.6454, 1.6443, 1.6408, 1.6377, 1.6218, 1.6148, 1.6096, 1.6096, 1.6052, 1.6047, 1.6017, 1.5888, 1.5769, 1.569, 1.568, 1.5575, 1.5507, 1.5428, 1.5404, 1.5381, 1.4628, 1.3784, 1.4232, 1.2496, 1.409, 1.3657, 1.3517, 1.3646, 0.9601, 0.9537, 0.992, 0.5112, 1.1552, 1.0284, 0.6664, 0.8144, 0.9074, 1.2908, 0.6049, 0.8339, 0.6778, 1.053, 0.2348, 0.5158, 1.0753, 0.2569, 0.5066, 0.6807, 0.5821, 0.4537, 0.3527, 0.1706, 0.1933, 0.6071, 0.1834, 0.1853, 0.0609, 0.1276, 0.6855, 0.3349, 0.2113, 0.122, 0.1372, 0.0971, -0.1225, 0.2959, 0.1515, -0.1243, -0.3976, -0.6238, 0.0519, 2.093, 2.0052, 1.9842, 1.9712, 1.941, 1.8388, 1.816, 1.7476, 1.733, 1.7329, 1.7327, 1.7325, 1.7323, 1.7322, 1.732, 1.7318, 1.7317, 1.7315, 1.7314, 1.7313, 1.7313, 1.7311, 1.7309, 1.7306, 1.7305, 1.7305, 1.7305, 1.7298, 1.7297, 1.728, 1.6858, 1.6689, 1.6959, 1.5854, 1.6028, 1.6129, 1.6021, 1.6365, 1.5925, 1.5681, 1.4145, 1.4523, 1.5599, 1.2436, 1.6036, 1.5234, 1.4276, 1.2814, 1.1241, 1.5645, 1.5502, 1.3372, 0.9823, 0.7331, 0.7876, 0.7046, 0.4234, 0.5216, 0.696, 0.359, 0.5769, 0.0792, 0.3603, 0.0656, 0.4786, 0.695, 0.0938, 0.4214, 0.3634, 0.2576, 0.6342, 0.2245, -0.0991, -0.0347, 0.3725, 0.4116, 0.0897, 0.0891, -0.2272, 0.0258, 0.004, -0.028, -0.1221, 2.126, 2.1086, 1.9932, 1.9766, 1.965, 1.9625, 1.9566, 1.9424, 1.9329, 1.9255, 1.9127, 1.8995, 1.8926, 1.8841, 1.8751, 1.8619, 1.8534, 1.8425, 1.8329, 1.8328, 1.8328, 1.8269, 1.8251, 1.8196, 1.8165, 1.8003, 1.7999, 1.7566, 1.7544, 1.7516, 1.7347, 1.7271, 1.6723, 1.7043, 1.571, 1.6281, 1.5277, 1.6231, 1.3266, 1.6054, 1.1394, 0.8606, 1.4252, 1.251, 0.964, 0.7576, 1.1012, 0.9373, 1.2034, 0.6129, 0.7193, 0.6793, 0.8483, 0.0811, 0.3675, 0.3309, 0.7974, 0.0322, 0.0209, 0.2009, -0.0816, 0.754, 0.1056, 0.5256, 0.3137, 0.1185, -0.0787, 0.0565, 0.0847, 0.3418, 0.1849, -0.0301, 2.224, 2.1928, 2.1882, 2.17, 1.9679, 1.9679, 1.9678, 1.9555, 1.9405, 1.9389, 1.9309, 1.9286, 1.9266, 1.8491, 1.808, 1.8054, 1.7801, 1.7721, 1.7331, 1.7301, 1.7285, 1.6851, 1.6743, 1.6565, 1.6563, 1.6243, 1.6171, 1.6149, 1.6132, 1.6107, 1.5385, 1.5004, 1.1837, 1.4027, 1.162, 1.3117, 1.2886, 0.8144, 0.5044, 0.9746, 0.6811, 1.2247, 0.7685, 0.4451, 0.5601, 1.2039, 1.361, 0.8282, 0.2557, 0.7843, 0.5496, 0.8553, 0.5157, 0.8945, 0.6218, 0.3891, 0.4297, 0.2408, -0.0851, 0.1715, 0.5203, 0.4198, 0.381, 0.3327, 0.3997, 0.1458, 0.1086, -0.3863, 0.0075, 0.2771, 0.1506, -0.0288, 2.2327, 2.2312, 2.2054, 2.0966, 2.0332, 2.0018, 1.9898, 1.9756, 1.9743, 1.9495, 1.8949, 1.8598, 1.846, 1.8357, 1.8278, 1.803, 1.7761, 1.7565, 1.7533, 1.7355, 1.7311, 1.7265, 1.7249, 1.7041, 1.6811, 1.6803, 1.6693, 1.6668, 1.6651, 1.6522, 1.603, 1.5545, 1.561, 1.3468, 1.6195, 1.3583, 1.4892, 1.4544, 1.2615, 1.4501, 0.6853, 1.1175, 0.5637, 0.4583, 0.6405, 0.9981, 0.9146, 0.546, 0.6342, 1.114, 1.2961, 0.6418, -0.011, 0.3314, -0.002, 0.6932, 0.2678, 0.3801, 0.0772, 0.1838, 0.1218, -0.0553, 0.2943, 0.1175, -0.0544, 0.0431, -0.2811, -0.0622, 0.0704, -0.1476, -0.6226, -0.1529, 0.1382, 0.1578, -0.5645, 2.8744, 2.6669, 2.6564, 2.6117, 2.5349, 2.3454, 2.3454, 2.3453, 2.3452, 2.3452, 2.3162, 2.3114, 2.3112, 2.308, 2.3033, 2.3023, 2.3021, 2.2971, 2.2344, 2.2101, 2.1908, 2.0986, 2.0957, 2.0896, 2.0792, 2.0642, 2.0527, 2.046, 2.0395, 2.0276, 1.9448, 1.9213, 1.8485, 1.8477, 1.6125, 1.6558, 1.3274, 1.3596, 0.7688, 0.6828, 1.25, 1.0252, 0.9065, 1.3137, 0.4163, 0.343, 0.1922, 0.9147, 1.2673, 0.3569, 0.6996, 0.9061, 0.5471, 0.0908, 0.836, -0.0386, 0.4024, 0.2345, -0.1709, 0.4223, -0.0412, 0.2282, -0.3423, -0.4137, 0.2435, -0.5605, -0.1599, -0.0426, -0.1708, -0.2681]}, \"token.table\": {\"Topic\": [1, 2, 3, 4, 5, 6, 7, 8, 9, 10, 1, 2, 3, 4, 5, 6, 7, 8, 9, 10, 6, 6, 6, 7, 7, 6, 6, 1, 8, 9, 10, 6, 1, 2, 7, 4, 8, 4, 1, 3, 4, 5, 2, 1, 2, 3, 4, 5, 6, 7, 8, 9, 10, 1, 2, 3, 4, 5, 6, 9, 1, 2, 3, 4, 5, 6, 7, 8, 9, 10, 3, 4, 7, 1, 2, 3, 4, 5, 6, 7, 8, 9, 10, 2, 5, 1, 9, 8, 1, 2, 9, 1, 2, 3, 4, 5, 6, 7, 8, 9, 10, 1, 6, 7, 1, 2, 3, 4, 5, 6, 7, 8, 9, 10, 1, 2, 3, 4, 5, 6, 7, 8, 9, 10, 2, 7, 9, 4, 6, 7, 8, 6, 4, 2, 8, 9, 7, 4, 8, 2, 2, 4, 8, 2, 9, 5, 8, 9, 1, 2, 3, 4, 5, 6, 7, 8, 10, 2, 9, 2, 4, 1, 2, 3, 4, 5, 6, 7, 8, 9, 1, 2, 5, 6, 9, 3, 7, 6, 1, 2, 3, 4, 5, 6, 9, 7, 8, 4, 2, 2, 2, 3, 6, 9, 2, 5, 9, 9, 8, 1, 3, 6, 10, 1, 2, 3, 4, 5, 6, 7, 8, 9, 10, 1, 2, 3, 5, 9, 2, 5, 9, 2, 6, 1, 2, 4, 5, 6, 7, 9, 10, 4, 8, 2, 1, 2, 3, 4, 5, 6, 8, 9, 10, 6, 10, 1, 3, 4, 6, 8, 3, 4, 8, 2, 3, 7, 2, 3, 4, 7, 3, 7, 2, 4, 7, 5, 1, 2, 3, 4, 5, 6, 7, 8, 9, 1, 2, 3, 4, 6, 7, 8, 1, 4, 5, 6, 9, 8, 9, 1, 2, 3, 4, 5, 6, 7, 8, 9, 10, 1, 2, 3, 4, 5, 6, 7, 8, 9, 10, 2, 3, 8, 10, 9, 2, 1, 2, 3, 5, 1, 2, 4, 9, 10, 10, 1, 4, 6, 1, 7, 2, 5, 4, 4, 8, 6, 1, 2, 3, 4, 5, 6, 7, 8, 9, 10, 6, 1, 7, 8, 6, 3, 6, 3, 4, 7, 1, 10, 10, 8, 2, 9, 1, 2, 3, 4, 5, 6, 7, 8, 9, 10, 3, 7, 2, 3, 10, 2, 1, 8, 2, 8, 9, 6, 1, 2, 3, 4, 5, 6, 7, 8, 9, 10, 8, 1, 2, 3, 4, 5, 6, 8, 10, 9, 9, 1, 2, 3, 4, 5, 6, 7, 8, 9, 10, 8, 2, 4, 10, 1, 2, 3, 4, 5, 6, 8, 9, 10, 1, 2, 3, 5, 6, 7, 8, 9, 10, 6, 8, 3, 6, 9, 4, 1, 2, 3, 4, 5, 6, 7, 9, 10, 2, 4, 5, 3, 6, 1, 2, 3, 4, 5, 6, 7, 8, 9, 10, 1, 2, 3, 4, 5, 6, 7, 8, 9, 10, 6, 8, 2, 1, 2, 3, 4, 5, 7, 8, 1, 4, 5, 10, 1, 3, 8, 9, 10, 6, 9, 2, 8, 5, 2, 2, 3, 4, 1, 3, 1, 5, 2, 4, 5, 1, 5, 5, 3, 2, 5, 9, 1, 2, 3, 4, 5, 6, 7, 8, 9, 10, 2, 3, 1, 2, 3, 4, 5, 6, 7, 8, 9, 10, 7, 2, 3, 4, 5, 7, 9, 4, 1, 3, 5, 9, 1, 3, 4, 5, 6, 7, 8, 9, 6, 2, 4, 6, 7, 1, 5, 10, 3, 1, 2, 3, 4, 5, 6, 7, 8, 9, 10, 1, 2, 3, 4, 5, 6, 7, 8, 9, 10, 3, 6, 7, 4, 5, 3, 3, 2, 9, 3, 4, 6, 8, 4, 1, 2, 3, 4, 5, 6, 7, 8, 9, 9, 5, 6, 8, 9, 6, 8, 3, 10, 4, 6, 1, 2, 3, 4, 5, 6, 7, 8, 9, 10, 4, 3, 1, 7, 1, 2, 3, 4, 5, 6, 7, 8, 9, 10, 3, 4, 6, 8, 1, 2, 9, 1, 2, 3, 4, 5, 6, 7, 8, 9, 10, 4, 4, 4, 2, 3, 4, 6, 2, 4, 5, 6, 2, 4, 5, 6, 8, 1, 2, 3, 4, 5, 7, 9, 10, 10, 5, 2, 5, 9, 1, 3, 4, 7, 8, 4, 6, 6, 9, 2, 3, 4, 6, 7, 9, 3, 9, 1, 2, 3, 4, 5, 6, 7, 8, 9, 6, 6, 4, 1, 8, 6, 5, 6, 6, 8, 4, 4, 1, 2, 3, 4, 5, 6, 7, 8, 9, 10, 1, 2, 3, 4, 5, 6, 7, 8, 9, 1, 2, 3, 4, 5, 7, 10, 1, 2, 3, 4, 5, 6, 7, 8, 9, 10, 1, 2, 3, 4, 5, 6, 7, 8, 9, 10, 1, 2, 3, 4, 5, 6, 7, 8, 9, 10, 1, 8, 1, 8, 1, 2, 3, 4, 5, 6, 7, 8, 9, 10, 5, 1, 2, 3, 4, 5, 6, 7, 8, 9, 10, 1, 2, 3, 4, 5, 6, 7, 8, 9, 10, 1, 2, 3, 4, 5, 6, 8, 9, 1, 2, 3, 6, 8, 1, 2, 3, 4, 5, 6, 7, 8, 9, 10, 2, 3, 5, 7, 8, 1, 2, 5, 9, 2, 7, 4, 1, 2, 3, 4, 5, 6, 7, 8, 9, 10, 1, 10, 9, 1, 2, 3, 4, 5, 6, 7, 8, 9, 10, 10, 10, 2, 3, 4, 5, 6, 7, 9, 1, 2, 3, 5, 7, 8, 10, 3, 4, 1, 2, 3, 4, 6, 7, 8, 10, 3, 7, 1, 2, 3, 4, 5, 6, 8, 2, 7, 1, 2, 3, 4, 5, 6, 7, 8, 9, 10, 1, 2, 3, 4, 5, 6, 7, 8, 9, 10, 9, 1, 2, 3, 4, 5, 6, 7, 8, 9, 10, 1, 2, 3, 4, 5, 6, 7, 8, 9, 10, 1, 3, 7, 1, 2, 3, 4, 5, 6, 7, 8, 9, 10, 1, 2, 3, 4, 5, 6, 7, 8, 9, 10, 1, 4, 2, 3, 5, 7, 9, 1, 2, 3, 4, 5, 6, 7, 8, 9, 10, 3, 5, 1, 2, 3, 4, 5, 6, 7, 8, 9, 10, 2, 3, 9, 1, 2, 3, 4, 5, 6, 7, 8, 9, 10, 5, 3, 1, 2, 3, 4, 5, 6, 7, 8, 9, 10, 1, 2, 3, 4, 5, 6, 7, 8, 9, 10, 10, 1, 2, 3, 4, 6, 7, 8, 9, 6, 5, 9, 1, 2, 3, 4, 5, 6, 7, 8, 9, 10, 10, 4, 10, 1, 2, 3, 4, 5, 6, 7, 8, 9, 10, 1, 2, 3, 4, 5, 6, 7, 8, 9, 10, 1, 2, 3, 6, 5, 1, 1, 2, 3, 4, 5, 6, 9, 5, 1, 3, 3, 4, 5, 6, 7, 8, 10, 1, 2, 3, 4, 5, 6, 7, 8, 8, 3, 7, 5, 10, 1, 2, 3, 4, 5, 6, 7, 8, 9, 10, 2, 1, 2, 3, 5, 6, 7, 8, 2, 7, 1, 2, 3, 4, 5, 6, 7, 8, 9, 10, 3, 8, 1, 2, 3, 4, 5, 6, 7, 8, 9, 10, 1, 3, 8, 1, 2, 3, 4, 5, 6, 7, 8, 9, 10, 1, 2, 3, 4, 5, 6, 7, 8, 9, 10, 1, 7, 3, 10, 1, 7, 1, 2, 3, 4, 5, 6, 7, 8, 10, 1, 2, 3, 4, 5, 6, 7, 8, 9, 10, 9, 1, 2, 3, 4, 5, 6, 7, 8, 9, 10, 1, 2, 3, 5, 7, 8, 9, 10, 1, 2, 3, 4, 5, 6, 7, 8, 9, 1, 2, 3, 4, 5, 6, 7, 8, 9, 1, 2, 3, 4, 5, 6, 7, 8, 9, 10, 6, 7, 8, 3, 2, 6, 8, 9, 2, 3, 4, 5, 6, 7, 8, 9, 4, 1, 2, 3, 4, 5, 6, 7, 8, 9, 10, 1, 2, 3, 4, 5, 6, 7, 8, 9, 10, 5, 1, 2, 3, 4, 5, 6, 7, 8, 9, 10, 1, 2, 3, 4, 5, 6, 7, 8, 9, 10, 1, 2, 3, 4, 5, 6, 7, 8, 9, 10, 3, 4, 1, 2, 3, 4, 5, 6, 7, 8, 9, 10, 10, 2, 3, 4, 5, 6, 7, 9, 2, 3, 4, 6, 7, 8, 9, 1, 2, 5, 6, 1, 1, 2, 3, 4, 5, 6, 7, 8, 9, 10, 1, 2, 3, 4, 5, 6, 7, 8, 10, 3, 1, 2, 3, 4, 5, 6, 7, 8, 9, 10, 1, 2, 3, 4, 5, 6, 7, 8, 9, 10, 1, 2, 3, 4, 5, 6, 7, 8, 9, 10, 1, 2, 3, 4, 5, 6, 7, 8, 9, 10, 1, 2, 7, 1, 2, 5, 5, 1, 10, 1, 2, 3, 4, 5, 6, 7, 8, 9, 10, 1, 2, 3, 4, 5, 6, 7, 8, 1, 2, 3, 4, 5, 7, 8, 9, 2, 3, 4, 5, 6, 8, 5, 5, 8, 1, 1, 2, 3, 4, 5, 6, 7, 8, 9, 10, 1, 2, 3, 4, 7, 9, 2, 4, 5, 1, 2, 3, 4, 5, 6, 7, 8, 9, 10, 2, 7, 10, 1, 2, 3, 4, 5, 6, 7, 8, 9, 10, 3, 1, 3, 5, 1, 2, 3, 4, 5, 6, 7, 8, 9, 10, 1, 2, 3, 4, 5, 6, 7, 8, 9, 1, 2, 3, 4, 5, 6, 7, 8, 9, 10, 7, 1, 2, 3, 4, 5, 6, 7, 8, 9, 10, 7, 3, 1, 2, 3, 4, 5, 6, 7, 8, 9, 10, 1, 2, 3, 4, 5, 6, 8, 9, 7, 2, 3, 7, 8, 10, 2, 4, 6, 8, 4, 10, 2, 1, 2, 3, 4, 5, 6, 7, 8, 9, 10, 1, 2, 3, 4, 5, 6, 7, 8, 9, 10, 10, 6, 1, 2, 3, 4, 5, 6, 7, 8, 9, 10, 1, 2, 3, 4, 5, 6, 7, 8, 9, 10, 3, 1, 2, 3, 4, 5, 6, 7, 8, 9, 10, 10, 2, 1, 2, 3, 4, 5, 6, 7, 8, 9, 10, 1, 2, 3, 4, 5, 6, 7, 8, 9, 10, 1, 4, 1, 2, 3, 4, 5, 6, 7, 8, 9, 10, 1, 2, 3, 4, 5, 6, 7, 8, 9, 10, 1, 2, 3, 4, 5, 6, 7, 8, 9, 10, 1, 2, 3, 4, 5, 6, 7, 8, 9, 10, 1, 2, 3, 4, 5, 6, 7, 8, 9, 10, 1, 2, 3, 4, 5, 6, 7, 8, 9, 10, 1, 5, 10, 10, 4, 10, 1, 2, 3, 4, 5, 6, 7, 8, 9, 10, 1, 2, 3, 4, 5, 6, 7, 8, 9, 10, 3, 8, 1, 2, 3, 4, 5, 6, 7, 8, 9, 10, 1, 2, 2, 7, 1, 2, 3, 4, 5, 6, 7, 8, 9, 10, 1, 2, 3, 4, 5, 6, 7, 8, 9, 10, 1, 2, 3, 4, 5, 6, 7, 8, 10, 3, 1, 2, 3, 4, 5, 6, 7, 8, 9, 10, 1, 2, 3, 4, 5, 6, 7, 8, 9, 7, 1, 2, 5, 1, 2, 3, 4, 5, 6, 7, 8, 9, 10, 3, 5, 2, 3, 5, 3, 8, 2, 3, 6, 8, 5, 2, 1, 1, 2, 3, 4, 5, 6, 7, 8, 9, 10, 3, 6, 7, 2, 3, 4, 5, 6, 7, 8, 9, 10, 6, 10, 1, 2, 3, 4, 5, 6, 8, 9, 10, 1, 2, 3, 4, 5, 6, 7, 8, 9, 10, 1, 2, 3, 4, 5, 6, 7, 8, 9, 10, 1, 3, 5, 7, 8, 7, 1, 2, 3, 4, 5, 9, 6, 1, 2, 3, 4, 5, 6, 7, 8, 9, 10, 2, 5, 1, 2, 3, 4, 7, 1, 2, 3, 4, 5, 6, 7, 9, 10, 2, 5, 7, 5, 1, 2, 3, 4, 5, 6, 7, 8, 9, 10, 8, 7, 2, 1, 3, 4, 6, 7, 8, 9, 1, 2, 5, 8, 9, 1, 2, 3, 4, 5, 6, 7, 8, 9, 10, 9, 8, 9, 7, 1, 5, 2, 5, 1, 2, 3, 5, 6, 9, 10, 7, 2, 5, 1, 2, 8, 1, 2, 3, 4, 5, 6, 8, 9, 10, 1, 2, 3, 4, 5, 6, 7, 8, 9, 10, 2, 3, 4, 5, 6, 8, 6, 4, 1, 6, 7, 4, 6, 8, 1, 2, 3, 4, 5, 6, 7, 8, 9, 1, 2, 3, 4, 5, 6, 7, 8, 9, 10, 1, 2, 3, 4, 5, 6, 7, 8, 9, 10, 9, 3, 9, 1, 2, 3, 4, 5, 6, 7, 8, 9, 10, 1, 2, 3, 4, 5, 6, 8, 9, 2, 5, 1, 5, 3, 4, 6, 8, 1, 2, 3, 4, 5, 6, 7, 8, 9, 10, 1, 2, 3, 4, 5, 6, 7, 8, 9, 10, 1, 5, 10, 3, 1, 2, 3, 4, 5, 6, 7, 8, 9, 10, 5, 7, 1, 2, 3, 4, 5, 6, 7, 8, 9, 1, 2, 3, 4, 5, 6, 7, 8, 9, 10, 2, 7, 1, 2, 3, 4, 5, 6, 7, 8, 9, 10, 2, 6, 1, 2, 3, 4, 5, 6, 7, 8, 9, 10, 8, 1, 2, 3, 4, 5, 6, 7, 9, 10, 2, 3, 5, 7, 5, 1, 2, 3, 4, 6, 7, 9, 5, 1, 2, 3, 4, 5, 6, 7, 8, 9, 10, 1, 2, 3, 4, 5, 6, 7, 8, 9, 10, 5, 6, 4, 3, 1, 2, 3, 4, 5, 6, 7, 8, 9, 2, 6, 7, 2, 3, 9, 1, 2, 3, 6, 9, 2, 3, 9, 2, 3, 4, 6, 6, 1, 2, 4, 8, 1, 2, 3, 4, 5, 6, 7, 8, 9, 10, 1, 2, 3, 4, 5, 6, 7, 8, 9, 10, 1, 2, 3, 4, 5, 6, 7, 8, 9, 10, 6, 1, 2, 3, 4, 5, 6, 7, 8, 9, 1, 1, 2, 3, 4, 5, 6, 7, 8, 9, 10, 1, 2, 3, 4, 5, 6, 7, 8, 9, 10, 9, 1, 2, 3, 4, 5, 6, 7, 8, 9, 10, 1, 2, 3, 4, 5, 6, 7, 8, 9, 10, 1, 2, 3, 4, 5, 6, 7, 8, 9, 1, 2, 3, 4, 5, 6, 7, 8, 9, 10, 1, 2, 4, 5, 6, 7, 8, 1, 2, 3, 4, 5, 6, 7, 8, 9, 10, 1, 2, 3, 4, 5, 6, 7, 8, 9, 10], \"Freq\": [0.2504235428497091, 0.14608039999566363, 0.12521177142485454, 0.06260588571242727, 0.10434314285404546, 0.10434314285404546, 0.04173725714161818, 0.04173725714161818, 0.06260588571242727, 0.04173725714161818, 0.12474188252091283, 0.06237094126045641, 0.24948376504182565, 0.12474188252091283, 0.031185470630228206, 0.12474188252091283, 0.06237094126045641, 0.09355641189068462, 0.09355641189068462, 0.031185470630228206, 0.6411895438399098, 0.6411712542590132, 0.64126927830682, 0.6330167467451844, 0.6330013006610862, 0.6412566738279001, 0.6412644307700859, 0.2837474306235118, 0.2837474306235118, 0.2837474306235118, 0.2837474306235118, 0.6306912024523067, 0.1955481551924941, 0.1955481551924941, 0.5866444655774823, 0.43083642802263217, 0.43083642802263217, 0.7175895741871916, 0.17803854741696593, 0.17803854741696593, 0.17803854741696593, 0.35607709483393185, 0.5954644292784159, 0.0985028381543856, 0.0985028381543856, 0.0985028381543856, 0.1477542572315784, 0.0492514190771928, 0.246257095385964, 0.0492514190771928, 0.0985028381543856, 0.0492514190771928, 0.0985028381543856, 0.5134557855168442, 0.18273219761791185, 0.09136609880895592, 0.09136609880895592, 0.18273219761791185, 0.09136609880895592, 0.18273219761791185, 0.10655118919311422, 0.2892103706670243, 0.1217727876492734, 0.15221598456159174, 0.04566479536847753, 0.0608863938246367, 0.03044319691231835, 0.07610799228079587, 0.0608863938246367, 0.0608863938246367, 0.5161453285713327, 0.17204844285711088, 0.17204844285711088, 0.04687213117011335, 0.3749770493609068, 0.14061639351034005, 0.0937442623402267, 0.07030819675517003, 0.0937442623402267, 0.04687213117011335, 0.07030819675517003, 0.023436065585056676, 0.023436065585056676, 0.5868740306087893, 0.29343701530439464, 0.6168409530062963, 0.20561365100209875, 0.8743576283243548, 0.6068538836619687, 0.2022846278873229, 0.2022846278873229, 0.448655592598881, 0.12376706002727751, 0.061883530013638756, 0.030941765006819378, 0.10829617752386783, 0.030941765006819378, 0.04641264751022907, 0.04641264751022907, 0.061883530013638756, 0.030941765006819378, 0.6620591693506266, 0.6412032432154229, 0.42849339318742685, 0.1050147078954526, 0.13126838486931575, 0.20127819013295084, 0.2187806414488596, 0.0525073539477263, 0.1050147078954526, 0.09626348223749823, 0.0525073539477263, 0.03500490263181753, 0.017502451315908767, 0.07446206970429704, 0.11169310455644557, 0.1861551742607426, 0.1861551742607426, 0.055846552278222786, 0.0930775871303713, 0.03723103485214852, 0.1489241394085941, 0.03723103485214852, 0.055846552278222786, 0.32186725567117663, 0.32186725567117663, 0.32186725567117663, 0.2510827739612437, 0.5021655479224874, 0.4285885887569698, 0.4285885887569698, 0.4190867532544952, 0.7977424558996522, 0.7658333077788546, 0.44853982685186855, 0.44853982685186855, 0.7656617209068223, 0.3206467459016791, 0.3206467459016791, 0.576478472947313, 0.20174978092181511, 0.40349956184363023, 0.20174978092181511, 0.7513701469944559, 0.6609203812103872, 0.6827802596681347, 0.22759341988937823, 0.6608966222292972, 0.16009134957192175, 0.2001141869649022, 0.04002283739298044, 0.08004567478596088, 0.2001141869649022, 0.04002283739298044, 0.16009134957192175, 0.08004567478596088, 0.04002283739298044, 0.5764128162649792, 0.45056370055425177, 0.5764797520575482, 0.6036415752490379, 0.14761708768415102, 0.14761708768415102, 0.04920569589471701, 0.29523417536830204, 0.09841139178943402, 0.04920569589471701, 0.09841139178943402, 0.04920569589471701, 0.04920569589471701, 0.0803382732241907, 0.48202963934514415, 0.1606765464483814, 0.0803382732241907, 0.1606765464483814, 0.8052747681926866, 0.4213447831849891, 0.49999504562488595, 0.18238415839410613, 0.18238415839410613, 0.09119207919705306, 0.09119207919705306, 0.27357623759115923, 0.09119207919705306, 0.09119207919705306, 0.4268443922745274, 0.4268443922745274, 0.7150374453957344, 0.397919605731928, 0.5764853370011297, 0.5807687105521658, 0.3147106936473688, 0.3147106936473688, 0.45065402586500675, 0.3160892738407737, 0.15804463692038684, 0.3160892738407737, 0.6626352660406154, 0.6462009911277464, 0.5154320291943968, 0.22228531464065487, 0.44457062928130975, 0.22228531464065487, 0.29119880314749974, 0.09195751678342097, 0.1532625279723683, 0.07663126398618415, 0.061305011188947316, 0.13793627517513146, 0.045978758391710485, 0.061305011188947316, 0.030652505594473658, 0.045978758391710485, 0.13760664965210606, 0.41281994895631824, 0.06880332482605303, 0.20640997447815912, 0.13760664965210606, 0.514384878436606, 0.1714616261455353, 0.1714616261455353, 0.2588102513342616, 0.5176205026685232, 0.19318094476070222, 0.0643936482535674, 0.1287872965071348, 0.0643936482535674, 0.0643936482535674, 0.2575745930142696, 0.19318094476070222, 0.0643936482535674, 0.6185575455026838, 0.2061858485008946, 0.5850186859090547, 0.3704576655719052, 0.17288024393355575, 0.12348588852396838, 0.07409153311438103, 0.0987887108191747, 0.024697177704793676, 0.024697177704793676, 0.07409153311438103, 0.024697177704793676, 0.2792480451781789, 0.2792480451781789, 0.13657339914273553, 0.13657339914273553, 0.13657339914273553, 0.13657339914273553, 0.27314679828547106, 0.21205115658250848, 0.21205115658250848, 0.42410231316501695, 0.11379013967506786, 0.22758027935013572, 0.5689506983753393, 0.21564245506344487, 0.10782122753172244, 0.43128491012688974, 0.10782122753172244, 0.6052080964052358, 0.2017360321350786, 0.2383802367214899, 0.4767604734429798, 0.2383802367214899, 0.5105345660912346, 0.06669996311870727, 0.1000499446780609, 0.2000998893561218, 0.3001498340341827, 0.1000499446780609, 0.06669996311870727, 0.1000499446780609, 0.033349981559353634, 0.033349981559353634, 0.09806385693289774, 0.19612771386579547, 0.09806385693289774, 0.39225542773159094, 0.09806385693289774, 0.09806385693289774, 0.09806385693289774, 0.6799923625758237, 0.1467681624443849, 0.2935363248887698, 0.1467681624443849, 0.1467681624443849, 0.3422547676253126, 0.3422547676253126, 0.3426645088175092, 0.0734281090323234, 0.1713322544087546, 0.0244760363441078, 0.12238018172053901, 0.0489520726882156, 0.0734281090323234, 0.0244760363441078, 0.0734281090323234, 0.0244760363441078, 0.4532211654027712, 0.0566526456753464, 0.0566526456753464, 0.0566526456753464, 0.1133052913506928, 0.0566526456753464, 0.0566526456753464, 0.0566526456753464, 0.0566526456753464, 0.0566526456753464, 0.29518201416767414, 0.5903640283353483, 0.1962687456237638, 0.5888062368712914, 0.6571151719665779, 0.5763444133731841, 0.5213489411741665, 0.1042697882348333, 0.1042697882348333, 0.2085395764696666, 0.13481954512857486, 0.13481954512857486, 0.13481954512857486, 0.13481954512857486, 0.2696390902571497, 0.73802869546455, 0.5844311687793649, 0.1461077921948412, 0.1461077921948412, 0.4992763553429126, 0.4184821316024466, 0.7512836204996262, 0.41932449824679774, 0.4073265518953982, 0.7145387319228025, 0.6461442589980516, 0.6412389478571257, 0.07582820094259948, 0.34122690424169766, 0.15165640188519897, 0.07582820094259948, 0.03791410047129974, 0.07582820094259948, 0.07582820094259948, 0.03791410047129974, 0.07582820094259948, 0.07582820094259948, 0.4244906519221317, 0.20132401520038462, 0.6039720456011539, 0.8753779768451805, 0.6411551401447788, 0.8055253048643806, 0.641314747720786, 0.6145024485543289, 0.12290048971086578, 0.12290048971086578, 0.5005686845034992, 0.7310032984588865, 0.7380922627108265, 0.6455692091020353, 0.5764602858938659, 0.4484399215788627, 0.07317678980703957, 0.03658839490351978, 0.2561187643246385, 0.07317678980703957, 0.03658839490351978, 0.07317678980703957, 0.18294197451759892, 0.07317678980703957, 0.10976518471055935, 0.03658839490351978, 0.8009437482087655, 0.42891123389885144, 0.594789055470346, 0.8018821335912213, 0.40390901597012435, 0.5872111697166164, 0.49983096411241196, 0.6462828421347525, 0.23120548339505764, 0.34680822509258646, 0.11560274169752882, 0.6629954897890792, 0.09008432912482324, 0.12011243883309765, 0.18016865824964648, 0.060056219416548824, 0.060056219416548824, 0.09008432912482324, 0.27025298737446973, 0.09008432912482324, 0.060056219416548824, 0.030028109708274412, 0.43710740960360256, 0.1546269838285919, 0.07731349191429596, 0.07731349191429596, 0.23194047574288787, 0.3092539676571838, 0.07731349191429596, 0.07731349191429596, 0.07731349191429596, 0.6561134858143485, 0.6593085868531556, 0.07840615822346626, 0.2744215537821319, 0.15681231644693253, 0.11760923733519939, 0.07840615822346626, 0.07840615822346626, 0.03920307911173313, 0.03920307911173313, 0.07840615822346626, 0.07840615822346626, 0.6460003953114241, 0.23318022551411197, 0.23318022551411197, 0.23318022551411197, 0.1258615673571206, 0.32724007512851355, 0.05034462694284824, 0.15103388082854471, 0.15103388082854471, 0.10068925388569648, 0.02517231347142412, 0.05034462694284824, 0.02517231347142412, 0.508043153342687, 0.1016086306685374, 0.0508043153342687, 0.15241294600280608, 0.0508043153342687, 0.0508043153342687, 0.0508043153342687, 0.0508043153342687, 0.0508043153342687, 0.6389071212701916, 0.6477312165054313, 0.2613204345406629, 0.2613204345406629, 0.2613204345406629, 0.6029229277438508, 0.15639615306754964, 0.36492435715761584, 0.05213205102251655, 0.1042641020450331, 0.05213205102251655, 0.05213205102251655, 0.05213205102251655, 0.05213205102251655, 0.1042641020450331, 0.5763826076641339, 0.797480452627412, 0.4314158412086644, 0.8016066291871643, 0.6411867108655641, 0.31055134840373033, 0.12422053936149213, 0.031055134840373033, 0.1863308090422382, 0.062110269680746066, 0.0931654045211191, 0.062110269680746066, 0.062110269680746066, 0.062110269680746066, 0.062110269680746066, 0.40313073723471515, 0.08958460827438114, 0.08958460827438114, 0.08958460827438114, 0.1343769124115717, 0.04479230413719057, 0.04479230413719057, 0.04479230413719057, 0.08958460827438114, 0.04479230413719057, 0.6412311736983699, 0.43705513773707233, 0.5762997912596997, 0.033655894945633195, 0.16827947472816598, 0.06731178989126639, 0.33655894945633197, 0.1009676848368996, 0.033655894945633195, 0.2355912646194324, 0.504022140506004, 0.6446398359762799, 0.21487994532542662, 0.21487994532542662, 0.31705496637352143, 0.15852748318676071, 0.15852748318676071, 0.15852748318676071, 0.15852748318676071, 0.26918140303055477, 0.26918140303055477, 0.5949398323017789, 0.6232746509200752, 0.43475949364958744, 0.7689533868588473, 0.14830442836816152, 0.14830442836816152, 0.5932177134726461, 0.6684044955220507, 0.6047469578250946, 0.2542943276619063, 0.5085886553238126, 0.21324752502420036, 0.21324752502420036, 0.4264950500484007, 0.7347080267397095, 0.24490267557990317, 0.6431589037688312, 0.8098550319967212, 0.25916526120803635, 0.5183305224160727, 0.25916526120803635, 0.04579913012266921, 0.18319652049067683, 0.18319652049067683, 0.04579913012266921, 0.13739739036800763, 0.04579913012266921, 0.09159826024533842, 0.09159826024533842, 0.04579913012266921, 0.13739739036800763, 0.7427909452321375, 0.18569773630803438, 0.42618642546678753, 0.10654660636669688, 0.1420621418222625, 0.03551553545556563, 0.10654660636669688, 0.03551553545556563, 0.03551553545556563, 0.03551553545556563, 0.07103107091113126, 0.03551553545556563, 0.4224411119277342, 0.1409739306039791, 0.1409739306039791, 0.1409739306039791, 0.1409739306039791, 0.1409739306039791, 0.2819478612079582, 0.5969150824934807, 0.18137961898491028, 0.18137961898491028, 0.18137961898491028, 0.36275923796982057, 0.041672472278575574, 0.1666898891143023, 0.291707305950029, 0.041672472278575574, 0.12501741683572673, 0.08334494455715115, 0.2083623613928779, 0.08334494455715115, 0.6411720298850525, 0.5764144848274929, 0.6035918022901536, 0.6411793446690917, 0.630473845505566, 0.21045531756092936, 0.4209106351218587, 0.7380224180454397, 0.40965015764295915, 0.10340425991487141, 0.12408511189784568, 0.24817022379569137, 0.10340425991487141, 0.06204255594892284, 0.08272340793189713, 0.18612766784676854, 0.041361703965948564, 0.041361703965948564, 0.020680851982974282, 0.1507533535556009, 0.3015067071112018, 0.06030134142224037, 0.06030134142224037, 0.24120536568896148, 0.030150670711120185, 0.06030134142224037, 0.030150670711120185, 0.06030134142224037, 0.030150670711120185, 0.2566914388370729, 0.2566914388370729, 0.5133828776741458, 0.43034532931922065, 0.43034532931922065, 0.5994521599057937, 0.4012824850684296, 0.5765581291850939, 0.6555134363917595, 0.4782038189515279, 0.09564076379030559, 0.19128152758061118, 0.19128152758061118, 0.6030682793168365, 0.03722668735637876, 0.5211736229893027, 0.14890674942551504, 0.03722668735637876, 0.07445337471275752, 0.03722668735637876, 0.03722668735637876, 0.03722668735637876, 0.03722668735637876, 0.44929894934093495, 0.19192598646788758, 0.19192598646788758, 0.19192598646788758, 0.19192598646788758, 0.32449787395121404, 0.32449787395121404, 0.7646111537991719, 0.25487038459972394, 0.30416352629104315, 0.30416352629104315, 0.13846852598992765, 0.13846852598992765, 0.2077027889848915, 0.06923426299496382, 0.10385139449244575, 0.06923426299496382, 0.06923426299496382, 0.0865428287437048, 0.051925697246222875, 0.0865428287437048, 0.6030436751936664, 0.8080339923137924, 0.28499505107363676, 0.5699901021472735, 0.0895626269701866, 0.1791252539403732, 0.149271044950311, 0.0597084179801244, 0.0895626269701866, 0.0895626269701866, 0.2089794629304354, 0.0895626269701866, 0.0597084179801244, 0.0298542089900622, 0.3598705889775762, 0.08996764724439404, 0.08996764724439404, 0.26990294173318213, 0.6167429707488724, 0.20558099024962415, 0.20558099024962415, 0.569834502764023, 0.06703935326635566, 0.06703935326635566, 0.03351967663317783, 0.10055902989953348, 0.03351967663317783, 0.03351967663317783, 0.03351967663317783, 0.03351967663317783, 0.03351967663317783, 0.6031362982867802, 0.6038822303503978, 0.8039580125950018, 0.13907268400463316, 0.13907268400463316, 0.2781453680092663, 0.4172180520138995, 0.15824845420131003, 0.15824845420131003, 0.15824845420131003, 0.31649690840262007, 0.13621570034284902, 0.5448628013713961, 0.13621570034284902, 0.13621570034284902, 0.13621570034284902, 0.09963642796530477, 0.09963642796530477, 0.09963642796530477, 0.19927285593060953, 0.09963642796530477, 0.09963642796530477, 0.09963642796530477, 0.09963642796530477, 0.7372444305945329, 0.6433967364069348, 0.7048887491559884, 0.11748145819266473, 0.11748145819266473, 0.28186059636409966, 0.3758141284854662, 0.09395353212136655, 0.09395353212136655, 0.09395353212136655, 0.8018228538027684, 0.6529334091944454, 0.6412933142176911, 0.6582032248955784, 0.2081384547679487, 0.10406922738397435, 0.2081384547679487, 0.10406922738397435, 0.10406922738397435, 0.2081384547679487, 0.32259960853107017, 0.32259960853107017, 0.09845802363087691, 0.22973538847204614, 0.13127736484116923, 0.09845802363087691, 0.19691604726175382, 0.06563868242058461, 0.032819341210292306, 0.06563868242058461, 0.06563868242058461, 0.6411610018988032, 0.4253125548993694, 0.5987112486603653, 0.5000210728715994, 0.42213155050575657, 0.8653005277900773, 0.6421876848576517, 0.6412229441800116, 0.21612529701842106, 0.43225059403684213, 0.3990324154884248, 0.5862330072158298, 0.09188934672091378, 0.3062978224030459, 0.18377869344182757, 0.030629782240304593, 0.10720423784106609, 0.06125956448060919, 0.09188934672091378, 0.030629782240304593, 0.030629782240304593, 0.030629782240304593, 0.43382869730228, 0.10845717432557, 0.054228587162785, 0.054228587162785, 0.10845717432557, 0.054228587162785, 0.054228587162785, 0.054228587162785, 0.054228587162785, 0.5513024989956814, 0.061255833221742384, 0.061255833221742384, 0.061255833221742384, 0.18376749966522715, 0.061255833221742384, 0.061255833221742384, 0.21065287250334724, 0.21065287250334724, 0.05745078341000379, 0.15320208909334346, 0.11490156682000759, 0.019150261136667932, 0.05745078341000379, 0.038300522273335864, 0.07660104454667173, 0.038300522273335864, 0.22930587260199192, 0.09827394540085367, 0.09827394540085367, 0.22930587260199192, 0.03275798180028456, 0.06551596360056912, 0.09827394540085367, 0.06551596360056912, 0.06551596360056912, 0.03275798180028456, 0.3395127867922974, 0.10059638127179182, 0.1131709289307658, 0.07544728595384387, 0.08802183361281785, 0.08802183361281785, 0.06287273829486989, 0.05029819063589591, 0.06287273829486989, 0.037723642976921934, 0.3074713905673657, 0.3074713905673657, 0.49959095550938964, 0.6467094201965148, 0.08459358975660554, 0.08459358975660554, 0.15226846156188997, 0.18610589746453218, 0.08459358975660554, 0.13534974361056887, 0.08459358975660554, 0.06767487180528443, 0.05075615385396332, 0.08459358975660554, 0.6437589894704937, 0.16560929849505285, 0.08280464924752642, 0.08280464924752642, 0.04140232462376321, 0.08280464924752642, 0.16560929849505285, 0.12420697387128964, 0.04140232462376321, 0.12420697387128964, 0.04140232462376321, 0.11200422984643568, 0.35468006118037965, 0.1493389731285809, 0.03733474328214523, 0.05600211492321784, 0.07466948656429045, 0.07466948656429045, 0.03733474328214523, 0.05600211492321784, 0.018667371641072614, 0.055686384251678815, 0.11137276850335763, 0.3341183055100729, 0.11137276850335763, 0.055686384251678815, 0.11137276850335763, 0.16705915275503644, 0.055686384251678815, 0.08952314079630713, 0.08952314079630713, 0.08952314079630713, 0.5371388447778428, 0.08952314079630713, 0.12260165808047375, 0.45975621780177656, 0.09195124356035532, 0.09195124356035532, 0.06130082904023688, 0.06130082904023688, 0.03065041452011844, 0.03065041452011844, 0.06130082904023688, 0.06130082904023688, 0.2045000975487915, 0.10225004877439575, 0.10225004877439575, 0.30675014632318726, 0.4286388408695934, 0.27888940204861234, 0.5577788040972247, 0.44475160856156665, 0.44475160856156665, 0.2095055952472422, 0.6285167857417266, 0.6032678083261875, 0.18600432927765898, 0.15500360773138247, 0.21700505082393545, 0.06200144309255299, 0.15500360773138247, 0.06200144309255299, 0.06200144309255299, 0.06200144309255299, 0.06200144309255299, 0.031000721546276495, 0.33526327641126547, 0.33526327641126547, 0.4419349437922318, 0.2150428073481913, 0.12544163761977825, 0.2508832752395565, 0.05376070183704783, 0.08960116972841305, 0.12544163761977825, 0.03584046789136522, 0.05376070183704783, 0.05376070183704783, 0.01792023394568261, 0.7392843384489282, 0.7401099842994955, 0.17436250437690645, 0.08718125218845323, 0.08718125218845323, 0.26154375656535966, 0.08718125218845323, 0.08718125218845323, 0.26154375656535966, 0.13315309083579654, 0.1997296362536948, 0.06657654541789827, 0.13315309083579654, 0.1997296362536948, 0.06657654541789827, 0.13315309083579654, 0.3008660052460291, 0.6017320104920582, 0.13632622353960322, 0.13632622353960322, 0.13632622353960322, 0.13632622353960322, 0.06816311176980161, 0.06816311176980161, 0.20448933530940483, 0.13632622353960322, 0.718228888686284, 0.637506888402379, 0.11936241769052902, 0.5371308796073806, 0.11936241769052902, 0.05968120884526451, 0.05968120884526451, 0.05968120884526451, 0.05968120884526451, 0.21003283575518708, 0.42006567151037416, 0.0901018597655976, 0.1351527896483964, 0.1576782545897958, 0.1802037195311952, 0.0675763948241982, 0.0225254649413994, 0.112627324706997, 0.1351527896483964, 0.0675763948241982, 0.0225254649413994, 0.047259158578127396, 0.09451831715625479, 0.09451831715625479, 0.09451831715625479, 0.23629579289063696, 0.28355495146876436, 0.047259158578127396, 0.047259158578127396, 0.047259158578127396, 0.047259158578127396, 0.4471026996870061, 0.1258106976460293, 0.1258106976460293, 0.09435802323452198, 0.03145267441150733, 0.2516213952920586, 0.06290534882301466, 0.09435802323452198, 0.06290534882301466, 0.09435802323452198, 0.06290534882301466, 0.20756111887105305, 0.1383740792473687, 0.17296759905921086, 0.06918703962368435, 0.20756111887105305, 0.06918703962368435, 0.03459351981184217, 0.03459351981184217, 0.03459351981184217, 0.03459351981184217, 0.17115433069273836, 0.17115433069273836, 0.5134629920782151, 0.23063748524991143, 0.13838249114994686, 0.13838249114994686, 0.046127497049982286, 0.11531874262495571, 0.06919124557497343, 0.046127497049982286, 0.11531874262495571, 0.06919124557497343, 0.023063748524991143, 0.14045126349322026, 0.16051572970653744, 0.1003223310665859, 0.12038679727990308, 0.1003223310665859, 0.16051572970653744, 0.06019339863995154, 0.06019339863995154, 0.08025786485326872, 0.02006446621331718, 0.4943476226080189, 0.7990888503926241, 0.18982729718376823, 0.18982729718376823, 0.09491364859188411, 0.37965459436753646, 0.6490925053655706, 0.14385451326981427, 0.17582218288532855, 0.1598383480775714, 0.0799191740387857, 0.11188684365429999, 0.09590300884654285, 0.11188684365429999, 0.047951504423271424, 0.06393533923102857, 0.01598383480775714, 0.6106317061243465, 0.6432247318216898, 0.10063237639245957, 0.13417650185661276, 0.10063237639245957, 0.13417650185661276, 0.10063237639245957, 0.10063237639245957, 0.08386031366038298, 0.08386031366038298, 0.11740443912453616, 0.03354412546415319, 0.18067868169444865, 0.3613573633888973, 0.3613573633888973, 0.07653993399632318, 0.15307986799264636, 0.11480990099448478, 0.19134983499080796, 0.07653993399632318, 0.07653993399632318, 0.07653993399632318, 0.07653993399632318, 0.03826996699816159, 0.11480990099448478, 0.6449556806792219, 0.6046303881076056, 0.09123610340970871, 0.22809025852427176, 0.15966318096699023, 0.15966318096699023, 0.045618051704854355, 0.06842707755728153, 0.09123610340970871, 0.045618051704854355, 0.06842707755728153, 0.045618051704854355, 0.35023186350376356, 0.1556586060016727, 0.07782930300083635, 0.038914651500418174, 0.1556586060016727, 0.038914651500418174, 0.07782930300083635, 0.07782930300083635, 0.038914651500418174, 0.038914651500418174, 0.7293223998747392, 0.12305676461269546, 0.06152838230634773, 0.12305676461269546, 0.12305676461269546, 0.06152838230634773, 0.30764191153173864, 0.12305676461269546, 0.06152838230634773, 0.6411902047243655, 0.4445348045037308, 0.4445348045037308, 0.05297650963299139, 0.21190603853196557, 0.05297650963299139, 0.1589295288989742, 0.10595301926598279, 0.10595301926598279, 0.05297650963299139, 0.05297650963299139, 0.1589295288989742, 0.05297650963299139, 0.6780479106007894, 0.6025838890977047, 0.744316202662926, 0.07253866503939761, 0.18134666259849402, 0.10880799755909643, 0.10880799755909643, 0.07253866503939761, 0.18134666259849402, 0.18134666259849402, 0.036269332519698806, 0.036269332519698806, 0.036269332519698806, 0.12485421700386616, 0.13525873508752168, 0.12485421700386616, 0.17687680742214373, 0.052022590418277566, 0.10404518083655513, 0.09364066275289962, 0.09364066275289962, 0.06242710850193308, 0.03121355425096654, 0.11380649626657727, 0.11380649626657727, 0.22761299253315453, 0.34141948879973183, 0.4353645743940688, 0.5135030193552895, 0.048392836526277176, 0.1935713461051087, 0.048392836526277176, 0.14517850957883152, 0.1935713461051087, 0.3387498556839402, 0.048392836526277176, 0.6528906849785489, 0.5100886185966055, 0.8044362516946186, 0.18089821689093935, 0.09044910844546968, 0.09044910844546968, 0.09044910844546968, 0.09044910844546968, 0.18089821689093935, 0.18089821689093935, 0.1365543840994813, 0.06827719204974066, 0.06827719204974066, 0.4779403443481846, 0.06827719204974066, 0.06827719204974066, 0.06827719204974066, 0.06827719204974066, 0.6466047165143253, 0.41095903840078224, 0.20547951920039112, 0.6285795561727051, 0.7392546326083362, 0.21375127036266597, 0.12468824104488847, 0.1603134527719995, 0.08906302931777749, 0.07125042345422199, 0.07125042345422199, 0.08906302931777749, 0.07125042345422199, 0.05343781759066649, 0.03562521172711099, 0.7658818699936228, 0.14026669047544196, 0.14026669047544196, 0.14026669047544196, 0.4208000714263259, 0.14026669047544196, 0.5492640127873928, 0.18308800426246427, 0.3113939840185811, 0.6227879680371622, 0.1378510314115794, 0.1148758595096495, 0.20677654711736912, 0.1148758595096495, 0.0919006876077196, 0.0919006876077196, 0.0919006876077196, 0.0459503438038598, 0.0919006876077196, 0.0459503438038598, 0.42103168562044907, 0.42103168562044907, 0.07224081259675717, 0.2167224377902715, 0.16856189605910007, 0.14448162519351435, 0.09632108346234289, 0.09632108346234289, 0.07224081259675717, 0.07224081259675717, 0.024080270865585722, 0.048160541731171444, 0.5102512655266377, 0.6057907352610217, 0.42766150833972677, 0.09513821594572645, 0.1902764318914529, 0.09513821594572645, 0.1427073239185897, 0.23784553986431614, 0.1427073239185897, 0.04756910797286323, 0.04756910797286323, 0.04756910797286323, 0.04756910797286323, 0.0736545695912946, 0.11048185438694191, 0.11048185438694191, 0.1473091391825892, 0.0368272847956473, 0.1841364239782365, 0.0736545695912946, 0.0736545695912946, 0.11048185438694191, 0.0368272847956473, 0.6827138797932345, 0.34135693989661725, 0.7397767089208263, 0.18494417723020656, 0.3742109475909101, 0.5613164213863652, 0.20694308561327482, 0.1552073142099561, 0.10347154280663741, 0.10347154280663741, 0.051735771403318705, 0.051735771403318705, 0.051735771403318705, 0.1552073142099561, 0.051735771403318705, 0.11604486496330992, 0.2901121624082748, 0.11604486496330992, 0.05802243248165496, 0.11604486496330992, 0.08703364872248244, 0.02901121624082748, 0.05802243248165496, 0.05802243248165496, 0.05802243248165496, 0.6567536161836245, 0.16367501762977013, 0.1487954705725183, 0.11903637645801464, 0.044638641171755485, 0.11903637645801464, 0.13391592351526646, 0.2083136588015256, 0.01487954705725183, 0.02975909411450366, 0.02975909411450366, 0.04770519298141254, 0.28623115788847525, 0.14311557894423763, 0.14311557894423763, 0.33393635086988777, 0.04770519298141254, 0.04770519298141254, 0.04770519298141254, 0.07369916996416638, 0.4421950197849983, 0.07369916996416638, 0.07369916996416638, 0.07369916996416638, 0.07369916996416638, 0.07369916996416638, 0.07369916996416638, 0.07369916996416638, 0.20472985811020494, 0.08189194324408199, 0.12283791486612297, 0.08189194324408199, 0.08189194324408199, 0.04094597162204099, 0.24567582973224594, 0.12283791486612297, 0.04094597162204099, 0.1219521145045406, 0.2660773407371795, 0.1219521145045406, 0.09977900277644232, 0.06651933518429487, 0.08869244691239317, 0.07760589104834402, 0.06651933518429487, 0.033259667592147435, 0.05543277932024573, 0.5027259458731916, 0.2513629729365958, 0.6461302794681687, 0.8020295704183896, 0.18373252879056876, 0.3674650575811375, 0.18373252879056876, 0.18373252879056876, 0.08967593715917925, 0.26902781147753774, 0.08967593715917925, 0.08967593715917925, 0.08967593715917925, 0.08967593715917925, 0.26902781147753774, 0.08967593715917925, 0.6024498410661814, 0.0679792646001515, 0.10196889690022726, 0.271917058400606, 0.0679792646001515, 0.0679792646001515, 0.10196889690022726, 0.0679792646001515, 0.0679792646001515, 0.135958529200303, 0.03398963230007575, 0.22608437320220792, 0.11304218660110396, 0.11304218660110396, 0.11304218660110396, 0.09420182216758664, 0.09420182216758664, 0.07536145773406931, 0.09420182216758664, 0.05652109330055198, 0.018840364433517328, 0.6453265701530966, 0.1251402253726017, 0.14599692960136862, 0.16685363383013557, 0.1251402253726017, 0.04171340845753389, 0.14599692960136862, 0.10428352114383474, 0.06257011268630085, 0.06257011268630085, 0.04171340845753389, 0.11366840047756342, 0.11366840047756342, 0.18186944076410147, 0.04546736019102537, 0.09093472038205073, 0.15913576066858878, 0.06820104028653805, 0.11366840047756342, 0.11366840047756342, 0.04546736019102537, 0.13944916840730906, 0.08366950104438543, 0.16733900208877087, 0.16733900208877087, 0.08366950104438543, 0.11155933472584724, 0.05577966736292362, 0.05577966736292362, 0.05577966736292362, 0.05577966736292362, 0.6056979114170471, 0.6030789536038335, 0.2997993624012779, 0.11658864093383028, 0.1332441610672346, 0.08327760066702164, 0.09993312080042596, 0.09993312080042596, 0.04996656040021298, 0.03331104026680865, 0.0666220805336173, 0.03331104026680865, 0.7388213422467103, 0.07224331649350521, 0.14448663298701042, 0.14448663298701042, 0.14448663298701042, 0.14448663298701042, 0.07224331649350521, 0.21672994948051563, 0.22139480951757579, 0.14759653967838388, 0.14759653967838388, 0.07379826983919194, 0.07379826983919194, 0.07379826983919194, 0.22139480951757579, 0.6135363358423501, 0.06817070398248334, 0.20451211194745003, 0.06817070398248334, 0.6748943342765918, 0.17603673898356176, 0.1408293911868494, 0.1408293911868494, 0.10562204339013705, 0.1408293911868494, 0.03520734779671235, 0.10562204339013705, 0.0704146955934247, 0.03520734779671235, 0.0704146955934247, 0.4157924845447441, 0.04619916494941601, 0.13859749484824804, 0.04619916494941601, 0.09239832989883202, 0.09239832989883202, 0.04619916494941601, 0.04619916494941601, 0.04619916494941601, 0.4057013288382236, 0.18650575885907233, 0.09325287942953617, 0.09325287942953617, 0.09325287942953617, 0.15542146571589363, 0.06216858628635745, 0.06216858628635745, 0.06216858628635745, 0.06216858628635745, 0.031084293143178725, 0.1060221111291771, 0.2827256296778056, 0.1413628148389028, 0.1060221111291771, 0.0353407037097257, 0.0706814074194514, 0.1060221111291771, 0.0706814074194514, 0.0706814074194514, 0.0353407037097257, 0.15412679241204474, 0.10275119494136316, 0.10275119494136316, 0.05137559747068158, 0.2568779873534079, 0.10275119494136316, 0.10275119494136316, 0.05137559747068158, 0.05137559747068158, 0.05137559747068158, 0.17947031870686053, 0.1346027390301454, 0.0673013695150727, 0.11216894919178784, 0.15703652886850297, 0.11216894919178784, 0.08973515935343027, 0.0673013695150727, 0.022433789838357567, 0.04486757967671513, 0.17144828892357816, 0.17144828892357816, 0.5143448667707345, 0.19775945325476652, 0.19775945325476652, 0.39551890650953303, 0.6523746962295702, 0.683215210628574, 0.7443920783941266, 0.17565249767815191, 0.10978281104884494, 0.06586968662930696, 0.13173937325861393, 0.17565249767815191, 0.06586968662930696, 0.08782624883907596, 0.08782624883907596, 0.06586968662930696, 0.04391312441953798, 0.40756954870442386, 0.10189238717610596, 0.10189238717610596, 0.15283858076415896, 0.10189238717610596, 0.10189238717610596, 0.05094619358805298, 0.05094619358805298, 0.10453039862960106, 0.10453039862960106, 0.10453039862960106, 0.10453039862960106, 0.10453039862960106, 0.10453039862960106, 0.3135911958888032, 0.10453039862960106, 0.1582347471030767, 0.07911737355153835, 0.4747042413092301, 0.07911737355153835, 0.07911737355153835, 0.07911737355153835, 0.6529535628707857, 0.4345282299352313, 0.428666498269789, 0.49639898225027673, 0.32576399353477437, 0.16288199676738718, 0.03257639935347744, 0.03257639935347744, 0.13030559741390976, 0.09772919806043232, 0.06515279870695488, 0.03257639935347744, 0.06515279870695488, 0.03257639935347744, 0.1010815339041396, 0.1010815339041396, 0.1010815339041396, 0.4043261356165584, 0.1010815339041396, 0.1010815339041396, 0.20898424889665848, 0.20898424889665848, 0.41796849779331696, 0.5324145929251711, 0.05663985031118842, 0.06796782037342611, 0.06796782037342611, 0.11327970062237684, 0.033983910186713054, 0.045311880248950734, 0.022655940124475367, 0.033983910186713054, 0.022655940124475367, 0.1984056342246682, 0.1984056342246682, 0.1984056342246682, 0.42076251385339664, 0.1542795884129121, 0.07012708564223277, 0.056101668513786215, 0.11220333702757243, 0.042076251385339665, 0.042076251385339665, 0.028050834256893108, 0.042076251385339665, 0.028050834256893108, 0.6046917570049731, 0.5988768380599061, 0.14971920951497653, 0.14971920951497653, 0.15073761631305077, 0.17227156150062944, 0.17227156150062944, 0.08613578075031472, 0.06460183556273605, 0.1292036711254721, 0.06460183556273605, 0.04306789037515736, 0.06460183556273605, 0.04306789037515736, 0.14044302867441147, 0.046814342891470496, 0.18725737156588199, 0.09362868578294099, 0.09362868578294099, 0.09362868578294099, 0.09362868578294099, 0.18725737156588199, 0.046814342891470496, 0.07455123948381148, 0.14910247896762296, 0.14910247896762296, 0.09940165264508198, 0.024850413161270495, 0.09940165264508198, 0.17395289212889348, 0.04970082632254099, 0.09940165264508198, 0.04970082632254099, 0.6284551589147246, 0.1824938546981063, 0.1824938546981063, 0.06843519551178986, 0.13687039102357973, 0.13687039102357973, 0.09124692734905315, 0.09124692734905315, 0.022811731837263288, 0.06843519551178986, 0.045623463674526576, 0.42934131324123775, 0.42138645653197226, 0.12252261815766835, 0.15315327269708542, 0.15315327269708542, 0.09189196361825126, 0.12252261815766835, 0.09189196361825126, 0.061261309078834175, 0.061261309078834175, 0.12252261815766835, 0.030630654539417088, 0.05620755151112767, 0.05620755151112767, 0.33724530906676603, 0.16862265453338302, 0.11241510302225534, 0.05620755151112767, 0.16862265453338302, 0.05620755151112767, 0.4285773336741141, 0.1751139582005153, 0.1751139582005153, 0.3502279164010306, 0.1751139582005153, 0.5322609749996108, 0.2399998196418027, 0.4799996392836054, 0.11999990982090135, 0.11999990982090135, 0.28697366895528315, 0.28697366895528315, 0.7681997023404928, 0.1164727599969848, 0.1747091399954772, 0.1747091399954772, 0.0873545699977386, 0.0873545699977386, 0.0582363799984924, 0.1892682349951003, 0.0436772849988693, 0.0582363799984924, 0.0291181899992462, 0.03619060987519674, 0.03619060987519674, 0.21714365925118045, 0.14476243950078696, 0.03619060987519674, 0.21714365925118045, 0.07238121975039348, 0.18095304937598372, 0.03619060987519674, 0.03619060987519674, 0.7443171565739805, 0.641210579550021, 0.21269395198099497, 0.16542862931855162, 0.11816330665610832, 0.16542862931855162, 0.07089798399366498, 0.023632661331221664, 0.09453064532488666, 0.04726532266244333, 0.07089798399366498, 0.023632661331221664, 0.12956889867044022, 0.25913779734088044, 0.12956889867044022, 0.07774133920226413, 0.07774133920226413, 0.07774133920226413, 0.05182755946817609, 0.10365511893635218, 0.05182755946817609, 0.025913779734088045, 0.8011122509538423, 0.30992001716483464, 0.15496000858241732, 0.07748000429120866, 0.05165333619413911, 0.1807866766794869, 0.025826668097069554, 0.05165333619413911, 0.05165333619413911, 0.07748000429120866, 0.025826668097069554, 0.7444404325490029, 0.5763839191124482, 0.15497539681250877, 0.11623154760938158, 0.21309117061719957, 0.15497539681250877, 0.05811577380469079, 0.09685962300781797, 0.03874384920312719, 0.019371924601563596, 0.13560347221094518, 0.03874384920312719, 0.12790444197037054, 0.12790444197037054, 0.07674266518222232, 0.12790444197037054, 0.05116177678814822, 0.12790444197037054, 0.23022799554666698, 0.05116177678814822, 0.05116177678814822, 0.02558088839407411, 0.4999437487132177, 0.7992324779045478, 0.09403656018412739, 0.12538208024550318, 0.09403656018412739, 0.156727600306879, 0.06269104012275159, 0.09403656018412739, 0.12538208024550318, 0.17240036033756687, 0.04701828009206369, 0.031345520061375795, 0.11721143360857104, 0.17581715041285656, 0.1465142920107138, 0.08790857520642828, 0.05860571680428552, 0.17581715041285656, 0.05860571680428552, 0.05860571680428552, 0.05860571680428552, 0.02930285840214276, 0.11909863503369955, 0.267971928825824, 0.17864795255054933, 0.059549317516849776, 0.059549317516849776, 0.11909863503369955, 0.11909863503369955, 0.029774658758424888, 0.059549317516849776, 0.029774658758424888, 0.08910941574020957, 0.17821883148041914, 0.08910941574020957, 0.14851569290034927, 0.059406277160139714, 0.08910941574020957, 0.08910941574020957, 0.11881255432027943, 0.08910941574020957, 0.029703138580069857, 0.3516529484546607, 0.13525113402102334, 0.09467579381471634, 0.08115068041261402, 0.09467579381471634, 0.02705022680420467, 0.05410045360840934, 0.05410045360840934, 0.06762556701051167, 0.05410045360840934, 0.20926481998795665, 0.08968492285198143, 0.14947487141996904, 0.08968492285198143, 0.05978994856798762, 0.05978994856798762, 0.14947487141996904, 0.14947487141996904, 0.05978994856798762, 0.02989497428399381, 0.7180997305042766, 0.2872398922017106, 0.7444639041899557, 0.4743363205064, 0.6023180297847192, 0.5261534056598604, 0.5811893377326968, 0.05406412444025086, 0.06758015555031358, 0.02703206222012543, 0.12164427999056443, 0.02703206222012543, 0.02703206222012543, 0.02703206222012543, 0.04054809333018815, 0.02703206222012543, 0.3867553681832528, 0.08594563737405617, 0.12891845606108426, 0.04297281868702808, 0.08594563737405617, 0.04297281868702808, 0.04297281868702808, 0.04297281868702808, 0.04297281868702808, 0.04297281868702808, 0.4796761205244488, 0.2398380602622244, 0.12881695931354584, 0.2300302844884747, 0.05520726827723393, 0.08281090241585089, 0.1564205934521628, 0.10121332517492887, 0.04600605689769494, 0.11961574793400685, 0.06440847965677292, 0.027603634138616964, 0.49410788426098295, 0.24705394213049148, 0.17721639974022477, 0.7088655989608991, 0.1237074722497297, 0.14844896669967564, 0.17319046114962158, 0.07422448334983782, 0.09896597779978376, 0.07422448334983782, 0.04948298889989188, 0.07422448334983782, 0.1237074722497297, 0.04948298889989188, 0.1737322525079396, 0.11582150167195975, 0.14477687708994968, 0.14477687708994968, 0.05791075083597987, 0.0868661262539698, 0.14477687708994968, 0.05791075083597987, 0.05791075083597987, 0.028955375417989936, 0.0320116204822171, 0.0320116204822171, 0.32011620482217096, 0.16005810241108548, 0.0320116204822171, 0.19206972289330257, 0.0320116204822171, 0.09603486144665128, 0.0320116204822171, 0.6059226124566521, 0.1808917210989448, 0.1808917210989448, 0.14069356085473483, 0.08039632048841991, 0.14069356085473483, 0.10049540061052488, 0.040198160244209954, 0.040198160244209954, 0.06029724036631493, 0.040198160244209954, 0.12338570895070768, 0.12338570895070768, 0.12338570895070768, 0.06169285447535384, 0.24677141790141535, 0.06169285447535384, 0.06169285447535384, 0.06169285447535384, 0.12338570895070768, 0.41718430825133385, 0.1664284792324824, 0.4992854376974472, 0.1664284792324824, 0.21682954268808366, 0.2650138855076578, 0.07227651422936122, 0.0963686856391483, 0.04818434281957415, 0.0963686856391483, 0.04818434281957415, 0.12046085704893536, 0.04818434281957415, 0.024092171409787075, 0.25979387971595597, 0.5195877594319119, 0.17461103415432844, 0.5238331024629853, 0.17461103415432844, 0.49730289550253687, 0.24865144775126843, 0.19199653739056022, 0.19199653739056022, 0.19199653739056022, 0.2879948060858403, 0.4358018044819765, 0.7678088391918992, 0.650710033071697, 0.3576242904346901, 0.05960404840578168, 0.05960404840578168, 0.05960404840578168, 0.11920809681156336, 0.05960404840578168, 0.05960404840578168, 0.05960404840578168, 0.05960404840578168, 0.17881214521734504, 0.5024142511828867, 0.5024142511828867, 0.4235537974920584, 0.1579681170213479, 0.1579681170213479, 0.3159362340426958, 0.05265603900711596, 0.05265603900711596, 0.10531207801423192, 0.05265603900711596, 0.10531207801423192, 0.05265603900711596, 0.6671762289493103, 0.733239248116072, 0.05773133233765535, 0.3463879940259321, 0.17319399701296606, 0.05773133233765535, 0.05773133233765535, 0.05773133233765535, 0.05773133233765535, 0.1154626646753107, 0.05773133233765535, 0.1501825050466518, 0.1501825050466518, 0.0750912525233259, 0.0750912525233259, 0.1501825050466518, 0.03754562626166295, 0.18772813130831476, 0.03754562626166295, 0.03754562626166295, 0.03754562626166295, 0.13265600149458898, 0.13265600149458898, 0.08843733432972598, 0.11791644577296796, 0.02947911144324199, 0.08843733432972598, 0.16213511293783095, 0.13265600149458898, 0.07369777860810497, 0.04421866716486299, 0.15597769107130505, 0.15597769107130505, 0.15597769107130505, 0.46793307321391514, 0.15597769107130505, 0.6282709115920351, 0.0869390278633306, 0.2608170835899918, 0.0869390278633306, 0.1738780557266612, 0.2608170835899918, 0.0869390278633306, 0.6412389659257541, 0.1993895710753846, 0.11393689775736264, 0.2848422443934066, 0.08545267331802198, 0.05696844887868132, 0.08545267331802198, 0.05696844887868132, 0.02848422443934066, 0.05696844887868132, 0.02848422443934066, 0.26163070945974676, 0.5232614189194935, 0.17941093565316577, 0.08970546782658288, 0.08970546782658288, 0.17941093565316577, 0.35882187130633153, 0.11481375106732668, 0.05740687553366334, 0.17222062660099, 0.11481375106732668, 0.11481375106732668, 0.17222062660099, 0.05740687553366334, 0.05740687553366334, 0.11481375106732668, 0.1606501236000702, 0.3213002472001404, 0.1606501236000702, 0.4320882760154708, 0.14764111719441061, 0.11073083789580795, 0.11073083789580795, 0.14764111719441061, 0.11073083789580795, 0.07382055859720531, 0.07382055859720531, 0.14764111719441061, 0.036910279298602654, 0.036910279298602654, 0.6466184501459165, 0.42245380460564785, 0.3895736898129894, 0.15782498833805517, 0.15782498833805517, 0.15782498833805517, 0.15782498833805517, 0.15782498833805517, 0.47347496501416547, 0.6648446225337569, 0.1549744642740583, 0.3099489285481166, 0.1549744642740583, 0.3099489285481166, 0.1549744642740583, 0.42158840754890065, 0.11094431777602648, 0.06656659066561589, 0.06656659066561589, 0.08875545422082118, 0.06656659066561589, 0.08875545422082118, 0.022188863555205295, 0.04437772711041059, 0.022188863555205295, 0.4253696011293204, 0.27144982262486583, 0.27144982262486583, 0.42410682389319204, 0.5938788448325386, 0.14846971120813465, 0.5917162025076823, 0.5250607241677115, 0.4398527781474935, 0.07330879635791558, 0.07330879635791558, 0.07330879635791558, 0.14661759271583116, 0.07330879635791558, 0.07330879635791558, 0.6372829927456182, 0.3239120544023107, 0.6478241088046214, 0.21035709911718473, 0.21035709911718473, 0.42071419823436945, 0.3047621384365773, 0.1015873794788591, 0.1015873794788591, 0.1015873794788591, 0.1015873794788591, 0.05079368973942955, 0.05079368973942955, 0.05079368973942955, 0.1015873794788591, 0.07188306353960254, 0.2156491906188076, 0.17970765884900633, 0.07188306353960254, 0.1078245953094038, 0.03594153176980127, 0.2156491906188076, 0.03594153176980127, 0.03594153176980127, 0.03594153176980127, 0.09072590257705901, 0.27217770773117705, 0.09072590257705901, 0.09072590257705901, 0.36290361030823604, 0.09072590257705901, 0.6412100426293578, 0.4028922597564522, 0.510222869319289, 0.325087501545132, 0.325087501545132, 0.21524084548864214, 0.4304816909772843, 0.21524084548864214, 0.03384622310677261, 0.16923111553386305, 0.10153866932031784, 0.16923111553386305, 0.16923111553386305, 0.10153866932031784, 0.06769244621354523, 0.13538489242709045, 0.06769244621354523, 0.2117748379467508, 0.1058874189733754, 0.13235927371671927, 0.07941556423003156, 0.1058874189733754, 0.13235927371671927, 0.07941556423003156, 0.07941556423003156, 0.0529437094866877, 0.02647185474334385, 0.2424243993123439, 0.09696975972493757, 0.14545463958740634, 0.07272731979370317, 0.07272731979370317, 0.07272731979370317, 0.12121219965617196, 0.09696975972493757, 0.048484879862468785, 0.024242439931234393, 0.6591428261930443, 0.41687040970851147, 0.6483211962847746, 0.3176804107389533, 0.11552014935961939, 0.08664011201971454, 0.14440018669952423, 0.14440018669952423, 0.057760074679809696, 0.057760074679809696, 0.028880037339904848, 0.028880037339904848, 0.028880037339904848, 0.09027604653582942, 0.18055209307165884, 0.09027604653582942, 0.09027604653582942, 0.3611041861433177, 0.09027604653582942, 0.09027604653582942, 0.09027604653582942, 0.47477345597237797, 0.23738672798618898, 0.31189630803697727, 0.6237926160739545, 0.5021505854825076, 0.1255376463706269, 0.1255376463706269, 0.2510752927412538, 0.18098143874067246, 0.12668700711847072, 0.10858886324440348, 0.10858886324440348, 0.09049071937033623, 0.09049071937033623, 0.09049071937033623, 0.09049071937033623, 0.07239257549626898, 0.018098143874067246, 0.17155084065727963, 0.10293050439436777, 0.17155084065727963, 0.24017117692019146, 0.10293050439436777, 0.034310168131455925, 0.06862033626291185, 0.034310168131455925, 0.034310168131455925, 0.034310168131455925, 0.5346476421430593, 0.2291347037755968, 0.0763782345918656, 0.6061478214055981, 0.2666857682234581, 0.11228874451514025, 0.1403609306439253, 0.09825265145074771, 0.05614437225757012, 0.05614437225757012, 0.08421655838635518, 0.04210827919317759, 0.09825265145074771, 0.04210827919317759, 0.20989361129940445, 0.6296808338982134, 0.3532464621647942, 0.11774882072159808, 0.07849921381439871, 0.11774882072159808, 0.07849921381439871, 0.07849921381439871, 0.07849921381439871, 0.07849921381439871, 0.03924960690719936, 0.051383061627541346, 0.025691530813770673, 0.15414918488262402, 0.25691530813770674, 0.051383061627541346, 0.20553224651016538, 0.025691530813770673, 0.15414918488262402, 0.051383061627541346, 0.025691530813770673, 0.31498087270977615, 0.6299617454195523, 0.10544677191223384, 0.12302123389760615, 0.15817015786835076, 0.15817015786835076, 0.07029784794148923, 0.12302123389760615, 0.08787230992686153, 0.08787230992686153, 0.07029784794148923, 0.035148923970744615, 0.25914293838433433, 0.5182858767686687, 0.17145464685814846, 0.18704143293616193, 0.14028107470212145, 0.06234714431205398, 0.07793393039006748, 0.09352071646808097, 0.12469428862410796, 0.07793393039006748, 0.04676035823404048, 0.03117357215602699, 0.42909217855562853, 0.4706471565659719, 0.09412943131319439, 0.04706471565659719, 0.04706471565659719, 0.09412943131319439, 0.09412943131319439, 0.04706471565659719, 0.09412943131319439, 0.04706471565659719, 0.15972493086904402, 0.15972493086904402, 0.31944986173808804, 0.15972493086904402, 0.4225589310098634, 0.062029235866493775, 0.37217541519896263, 0.18608770759948132, 0.062029235866493775, 0.18608770759948132, 0.062029235866493775, 0.062029235866493775, 0.6437468664382806, 0.15101080427253055, 0.15101080427253055, 0.07550540213626528, 0.1887635053406632, 0.1887635053406632, 0.03775270106813264, 0.07550540213626528, 0.03775270106813264, 0.07550540213626528, 0.03775270106813264, 0.12260219684898988, 0.22068395432818178, 0.12260219684898988, 0.04904087873959595, 0.14712263621878785, 0.14712263621878785, 0.024520439369797975, 0.04904087873959595, 0.07356131810939393, 0.04904087873959595, 0.4233422875000976, 0.6411858624227473, 0.39918487087861154, 0.6049023932741443, 0.16780703539394173, 0.14383460176623578, 0.04794486725541192, 0.2636967699047656, 0.1198621681385298, 0.04794486725541192, 0.07191730088311789, 0.07191730088311789, 0.04794486725541192, 0.5957946084226488, 0.1985982028075496, 0.6329561361288746, 0.1782281592794636, 0.3564563185589272, 0.3564563185589272, 0.09732152682084294, 0.19464305364168588, 0.09732152682084294, 0.19464305364168588, 0.2919645804625288, 0.22587502296747575, 0.3388125344512136, 0.3388125344512136, 0.27600632015549487, 0.13800316007774743, 0.13800316007774743, 0.4140094802332423, 0.6411774162423646, 0.09856949502303833, 0.19713899004607666, 0.3942779800921533, 0.19713899004607666, 0.15083464420002135, 0.1005564294666809, 0.12569553683335113, 0.2011128589333618, 0.1005564294666809, 0.1005564294666809, 0.07541732210001068, 0.05027821473334045, 0.05027821473334045, 0.05027821473334045, 0.12260883333871682, 0.09195662500403762, 0.12260883333871682, 0.12260883333871682, 0.15326104167339602, 0.09195662500403762, 0.06130441666935841, 0.09195662500403762, 0.06130441666935841, 0.06130441666935841, 0.11789787728367121, 0.11789787728367121, 0.1886366036538739, 0.14147745274040543, 0.09431830182693696, 0.09431830182693696, 0.09431830182693696, 0.07073872637020272, 0.04715915091346848, 0.04715915091346848, 0.32364878558624743, 0.09857746474240925, 0.049288732371204624, 0.09857746474240925, 0.24644366185602312, 0.049288732371204624, 0.09857746474240925, 0.09857746474240925, 0.24644366185602312, 0.049288732371204624, 0.6226506645389952, 0.07844042550626967, 0.07844042550626967, 0.36605531902925853, 0.05229361700417979, 0.026146808502089895, 0.15688085101253935, 0.07844042550626967, 0.10458723400835958, 0.026146808502089895, 0.026146808502089895, 0.11887210600923202, 0.3169922826912854, 0.11887210600923202, 0.03962403533641067, 0.07924807067282134, 0.03962403533641067, 0.1584961413456427, 0.03962403533641067, 0.03962403533641067, 0.03962403533641067, 0.654273889542411, 0.16395452983706477, 0.08197726491853238, 0.08197726491853238, 0.08197726491853238, 0.24593179475559715, 0.08197726491853238, 0.08197726491853238, 0.08197726491853238, 0.08197726491853238, 0.08197726491853238, 0.11593767726129225, 0.13526062347150763, 0.19322946210215375, 0.09661473105107687, 0.09661473105107687, 0.09661473105107687, 0.05796883863064613, 0.11593767726129225, 0.09661473105107687, 0.019322946210215373, 0.13970266545067886, 0.13970266545067886, 0.06985133272533943, 0.2794053309013577, 0.13970266545067886, 0.034925666362669715, 0.06985133272533943, 0.10477699908800914, 0.034925666362669715, 0.17851837793123718, 0.153015752512489, 0.12751312709374085, 0.0765078762562445, 0.0765078762562445, 0.10201050167499268, 0.10201050167499268, 0.10201050167499268, 0.02550262541874817, 0.05100525083749634, 0.18100220634971728, 0.18100220634971728, 0.060334068783239096, 0.060334068783239096, 0.060334068783239096, 0.30167034391619546, 0.060334068783239096, 0.118172533554473, 0.17188732153377892, 0.22560210951308482, 0.06445774557516709, 0.05371478797930591, 0.07520070317102827, 0.08594366076688946, 0.118172533554473, 0.05371478797930591, 0.032228872787583546, 0.14289620544667123, 0.07144810272333561, 0.1667122396877831, 0.26197637665223056, 0.07144810272333561, 0.09526413696444748, 0.04763206848222374, 0.07144810272333561, 0.04763206848222374, 0.02381603424111187], \"Term\": [\" \", \" \", \" \", \" \", \" \", \" \", \" \", \" \", \" \", \" \", \"$\", \"$\", \"$\", \"$\", \"$\", \"$\", \"$\", \"$\", \"$\", \"$\", \"10:00pm\", \"11:30am\", \"16-hour\", \"16-year\", \"38-year\", \"5:00am\", \"9:00am\", \"ABC\", \"ABC\", \"ABC\", \"ABC\", \"ACDT\", \"ACT\", \"ACT\", \"ACT\", \"AIDS\", \"AIDS\", \"AMWU\", \"ASIC\", \"ASIC\", \"ASIC\", \"ASIC\", \"Action\", \"Adelaide\", \"Adelaide\", \"Adelaide\", \"Adelaide\", \"Adelaide\", \"Adelaide\", \"Adelaide\", \"Adelaide\", \"Adelaide\", \"Adelaide\", \"Adolfo\", \"Adventure_World\", \"Adventure_World\", \"Adventure_World\", \"Adventure_World\", \"Adventure_World\", \"Adventure_World\", \"Afghanistan\", \"Afghanistan\", \"Afghanistan\", \"Afghanistan\", \"Afghanistan\", \"Afghanistan\", \"Afghanistan\", \"Afghanistan\", \"Afghanistan\", \"Afghanistan\", \"Afroz\", \"Afroz\", \"Afroz\", \"Al_Qaeda\", \"Al_Qaeda\", \"Al_Qaeda\", \"Al_Qaeda\", \"Al_Qaeda\", \"Al_Qaeda\", \"Al_Qaeda\", \"Al_Qaeda\", \"Al_Qaeda\", \"Al_Qaeda\", \"Ali\", \"Ali\", \"Almao\", \"Almao\", \"Annan\", \"Antarctic\", \"Antarctic\", \"Antarctic\", \"Arafat\", \"Arafat\", \"Arafat\", \"Arafat\", \"Arafat\", \"Arafat\", \"Arafat\", \"Arafat\", \"Arafat\", \"Arafat\", \"Aristide\", \"Assembly\", \"Atlanta\", \"Australia\", \"Australia\", \"Australia\", \"Australia\", \"Australia\", \"Australia\", \"Australia\", \"Australia\", \"Australia\", \"Australia\", \"Australian\", \"Australian\", \"Australian\", \"Australian\", \"Australian\", \"Australian\", \"Australian\", \"Australian\", \"Australian\", \"Australian\", \"Baker\", \"Baker\", \"Baker\", \"Boje\", \"Boje\", \"Bradstreet\", \"Bradstreet\", \"Buchanan\", \"Bulli\", \"Burakin\", \"Butler\", \"Butler\", \"Cahill\", \"Cairns\", \"Cairns\", \"California\", \"Cameron\", \"Cameron\", \"Cameron\", \"Campbell\", \"Cathy\", \"Centrelink\", \"Centrelink\", \"Championships\", \"Christmas\", \"Christmas\", \"Christmas\", \"Christmas\", \"Christmas\", \"Christmas\", \"Christmas\", \"Christmas\", \"Christmas\", \"Class\", \"Classic\", \"Cody\", \"Color\", \"Commission\", \"Commission\", \"Commission\", \"Commission\", \"Commission\", \"Commission\", \"Commission\", \"Commission\", \"Commission\", \"Commonwealth\", \"Commonwealth\", \"Commonwealth\", \"Commonwealth\", \"Commonwealth\", \"Cosgrove\", \"Darren\", \"Darwin\", \"Dr\", \"Dr\", \"Dr\", \"Dr\", \"Dr\", \"Dr\", \"Dr\", \"Dun\", \"Dun\", \"Farina\", \"Fazalur\", \"Forces\", \"Fort\", \"Franklin\", \"Franklin\", \"Freeman\", \"Friedli\", \"Friedli\", \"Friedli\", \"Games\", \"Ghana\", \"Gissin\", \"Goshen\", \"Goshen\", \"Goshen\", \"Government\", \"Government\", \"Government\", \"Government\", \"Government\", \"Government\", \"Government\", \"Government\", \"Government\", \"Government\", \"Governor_General\", \"Governor_General\", \"Governor_General\", \"Governor_General\", \"Governor_General\", \"Group\", \"Group\", \"Group\", \"Gutnick\", \"Gutnick\", \"HIH\", \"HIH\", \"HIH\", \"HIH\", \"HIH\", \"HIH\", \"HIH\", \"HIH\", \"HIV\", \"HIV\", \"Habeel\", \"Hamas\", \"Hamas\", \"Hamas\", \"Hamas\", \"Hamas\", \"Hamas\", \"Hamas\", \"Hamas\", \"Hamas\", \"Hawthorne\", \"Hawthorne\", \"Hayden\", \"Hayden\", \"Hayden\", \"Hayden\", \"Hayden\", \"Henderson\", \"Henderson\", \"Henderson\", \"Hewitt\", \"Hewitt\", \"Hewitt\", \"Highway\", \"Highway\", \"Highway\", \"Highway\", \"Hopman\", \"Hopman\", \"Hume\", \"Hume\", \"Hume\", \"IMF\", \"India\", \"India\", \"India\", \"India\", \"India\", \"India\", \"India\", \"India\", \"India\", \"Industrial_Relations\", \"Industrial_Relations\", \"Industrial_Relations\", \"Industrial_Relations\", \"Industrial_Relations\", \"Industrial_Relations\", \"Industrial_Relations\", \"Inspector\", \"Interlaken\", \"Interlaken\", \"Interlaken\", \"Interlaken\", \"Iraq\", \"Iraq\", \"Israel\", \"Israel\", \"Israel\", \"Israel\", \"Israel\", \"Israel\", \"Israel\", \"Israel\", \"Israel\", \"Israel\", \"Israelis\", \"Israelis\", \"Israelis\", \"Israelis\", \"Israelis\", \"Israelis\", \"Israelis\", \"Israelis\", \"Israelis\", \"Israelis\", \"Jackson\", \"Jackson\", \"Japan\", \"Japan\", \"Jeff\", \"Jefferson\", \"Jenin\", \"Jenin\", \"Jenin\", \"Jenin\", \"Justice\", \"Justice\", \"Justice\", \"Justice\", \"Justice\", \"K\", \"Kashmir\", \"Kashmir\", \"Kashmir\", \"Kashmiris\", \"Kemp\", \"Kentucky\", \"Kevin\", \"Kirribilli\", \"Knop\", \"Kofi\", \"Kons\", \"Laden\", \"Laden\", \"Laden\", \"Laden\", \"Laden\", \"Laden\", \"Laden\", \"Laden\", \"Laden\", \"Laden\", \"Larrakia\", \"Launceston\", \"Launceston\", \"Lavarch\", \"Legislative\", \"Lieutenant\", \"Llewellyn\", \"Lockett\", \"Lockett\", \"Lockett\", \"MJC\", \"Magna\", \"Marathon\", \"Martyn\", \"Master\", \"McDonald\", \"Melbourne\", \"Melbourne\", \"Melbourne\", \"Melbourne\", \"Melbourne\", \"Melbourne\", \"Melbourne\", \"Melbourne\", \"Melbourne\", \"Melbourne\", \"Memorandum\", \"Memphis\", \"Ministerial\", \"Mitchell\", \"Mitsubishi\", \"Mohamad\", \"Muttahida\", \"Nationals\", \"Nauru\", \"Nauru\", \"Nauru\", \"Nelson\", \"New_South\", \"New_South\", \"New_South\", \"New_South\", \"New_South\", \"New_South\", \"New_South\", \"New_South\", \"New_South\", \"New_South\", \"Nobel\", \"Northern_Alliance\", \"Northern_Alliance\", \"Northern_Alliance\", \"Northern_Alliance\", \"Northern_Alliance\", \"Northern_Alliance\", \"Northern_Alliance\", \"Northern_Alliance\", \"Olympic\", \"Olympics\", \"Osama_bin\", \"Osama_bin\", \"Osama_bin\", \"Osama_bin\", \"Osama_bin\", \"Osama_bin\", \"Osama_bin\", \"Osama_bin\", \"Osama_bin\", \"Osama_bin\", \"Oslo\", \"Owen\", \"Owen\", \"Owen\", \"Pakistan\", \"Pakistan\", \"Pakistan\", \"Pakistan\", \"Pakistan\", \"Pakistan\", \"Pakistan\", \"Pakistan\", \"Pakistan\", \"Palestinians\", \"Palestinians\", \"Palestinians\", \"Palestinians\", \"Palestinians\", \"Palestinians\", \"Palestinians\", \"Palestinians\", \"Palestinians\", \"Palmerston\", \"Peace\", \"Peel\", \"Peel\", \"Peel\", \"Penrith\", \"Pentagon\", \"Pentagon\", \"Pentagon\", \"Pentagon\", \"Pentagon\", \"Pentagon\", \"Pentagon\", \"Pentagon\", \"Pentagon\", \"Petithory\", \"Picton\", \"Pieterse\", \"Plan\", \"Polley\", \"President\", \"President\", \"President\", \"President\", \"President\", \"President\", \"President\", \"President\", \"President\", \"President\", \"Prime_Minister\", \"Prime_Minister\", \"Prime_Minister\", \"Prime_Minister\", \"Prime_Minister\", \"Prime_Minister\", \"Prime_Minister\", \"Prime_Minister\", \"Prime_Minister\", \"Prime_Minister\", \"Private\", \"Prize\", \"Prosser\", \"Qantas\", \"Qantas\", \"Qantas\", \"Qantas\", \"Qantas\", \"Qantas\", \"Qantas\", \"Raanan\", \"Rabbani\", \"Rabbani\", \"Rabbani\", \"Radio\", \"Radio\", \"Radio\", \"Radio\", \"Radio\", \"Redmond\", \"Redmond\", \"Rehman\", \"Reith\", \"Rich\", \"Richter\", \"Road\", \"Road\", \"Road\", \"Rodriguez\", \"Rome\", \"Rudd\", \"Rudd\", \"Ruddock\", \"Ruddock\", \"Ruddock\", \"Saadi\", \"Saadi\", \"Salam\", \"Sanchez\", \"Saxeten\", \"Saxeten\", \"Saxeten\", \"September\", \"September\", \"September\", \"September\", \"September\", \"September\", \"September\", \"September\", \"September\", \"September\", \"Sergeant\", \"Sergeant\", \"Sharon\", \"Sharon\", \"Sharon\", \"Sharon\", \"Sharon\", \"Sharon\", \"Sharon\", \"Sharon\", \"Sharon\", \"Sharon\", \"Sherrard\", \"Simon\", \"Simon\", \"Simon\", \"Simon\", \"Simon\", \"Simon\", \"Soccer\", \"Solomon\", \"Solomon\", \"Solomon\", \"Solomon\", \"South_Africa\", \"South_Africa\", \"South_Africa\", \"South_Africa\", \"South_Africa\", \"South_Africa\", \"South_Africa\", \"South_Africa\", \"Speaker\", \"Special\", \"Springwood\", \"Steven\", \"Stoltenberg\", \"Sultan\", \"Sultan\", \"Swan\", \"Swans\", \"Sydney\", \"Sydney\", \"Sydney\", \"Sydney\", \"Sydney\", \"Sydney\", \"Sydney\", \"Sydney\", \"Sydney\", \"Sydney\", \"Taliban\", \"Taliban\", \"Taliban\", \"Taliban\", \"Taliban\", \"Taliban\", \"Taliban\", \"Taliban\", \"Taliban\", \"Taliban\", \"Team\", \"Team\", \"Team\", \"Tel\", \"Tel\", \"Templeton\", \"Tenet\", \"Tennessee\", \"Terence\", \"Test\", \"Test\", \"Test\", \"Test\", \"Tops\", \"Tora_Bora\", \"Tora_Bora\", \"Tora_Bora\", \"Tora_Bora\", \"Tora_Bora\", \"Tora_Bora\", \"Tora_Bora\", \"Tora_Bora\", \"Tora_Bora\", \"Track\", \"Traveland\", \"Traveland\", \"Traveland\", \"Traveland\", \"Trounson\", \"Trounson\", \"Truss\", \"Truss\", \"UTN\", \"UTN\", \"United_States\", \"United_States\", \"United_States\", \"United_States\", \"United_States\", \"United_States\", \"United_States\", \"United_States\", \"United_States\", \"United_States\", \"Upper\", \"Vicario\", \"Virgin\", \"Virgin\", \"Wales\", \"Wales\", \"Wales\", \"Wales\", \"Wales\", \"Wales\", \"Wales\", \"Wales\", \"Wales\", \"Wales\", \"Waugh\", \"Waugh\", \"Waugh\", \"Waugh\", \"West\", \"West\", \"West\", \"West_Bank\", \"West_Bank\", \"West_Bank\", \"West_Bank\", \"West_Bank\", \"West_Bank\", \"West_Bank\", \"West_Bank\", \"West_Bank\", \"West_Bank\", \"Wilton\", \"Wisemans\", \"Wolthuizen\", \"Woomera\", \"Woomera\", \"Woomera\", \"Woomera\", \"Woomera_Detention\", \"Woomera_Detention\", \"Woomera_Detention\", \"Woomera_Detention\", \"Workers_Union\", \"Workers_Union\", \"Workers_Union\", \"Workers_Union\", \"Workers_Union\", \"World_Trade\", \"World_Trade\", \"World_Trade\", \"World_Trade\", \"World_Trade\", \"World_Trade\", \"World_Trade\", \"World_Trade\", \"Yarrawonga\", \"Zaeef\", \"Zimbabwe\", \"Zimbabwe\", \"Zimbabwe\", \"Zinni\", \"Zinni\", \"Zinni\", \"Zinni\", \"Zinni\", \"aboriginal\", \"abortion\", \"abstain\", \"accelerate\", \"accident\", \"accident\", \"accident\", \"accident\", \"accident\", \"accident\", \"acquit\", \"acquit\", \"action\", \"action\", \"action\", \"action\", \"action\", \"action\", \"action\", \"action\", \"action\", \"aedt\", \"alarm\", \"alcohol\", \"alliance\", \"amalgamation\", \"amendment\", \"ammunition\", \"apart\", \"approval\", \"approval\", \"arbitrate\", \"arbitration\", \"area\", \"area\", \"area\", \"area\", \"area\", \"area\", \"area\", \"area\", \"area\", \"area\", \"armed\", \"armed\", \"armed\", \"armed\", \"armed\", \"armed\", \"armed\", \"armed\", \"armed\", \"army\", \"army\", \"army\", \"army\", \"army\", \"army\", \"army\", \"arrest\", \"arrest\", \"arrest\", \"arrest\", \"arrest\", \"arrest\", \"arrest\", \"arrest\", \"arrest\", \"arrest\", \"ask\", \"ask\", \"ask\", \"ask\", \"ask\", \"ask\", \"ask\", \"ask\", \"ask\", \"ask\", \"attack\", \"attack\", \"attack\", \"attack\", \"attack\", \"attack\", \"attack\", \"attack\", \"attack\", \"attack\", \"attendant\", \"attendant\", \"attention\", \"attorney\", \"australian\", \"australian\", \"australian\", \"australian\", \"australian\", \"australian\", \"australian\", \"australian\", \"australian\", \"australian\", \"bastion\", \"begin\", \"begin\", \"begin\", \"begin\", \"begin\", \"begin\", \"begin\", \"begin\", \"begin\", \"begin\", \"believe\", \"believe\", \"believe\", \"believe\", \"believe\", \"believe\", \"believe\", \"believe\", \"believe\", \"believe\", \"big\", \"big\", \"big\", \"big\", \"big\", \"big\", \"big\", \"big\", \"bill\", \"bill\", \"bill\", \"bill\", \"bill\", \"bin_Laden\", \"bin_Laden\", \"bin_Laden\", \"bin_Laden\", \"bin_Laden\", \"bin_Laden\", \"bin_Laden\", \"bin_Laden\", \"bin_Laden\", \"bin_Laden\", \"blaze\", \"blaze\", \"blaze\", \"blaze\", \"blood\", \"bombardment\", \"bombardment\", \"box\", \"box\", \"brain\", \"brain\", \"breathing\", \"bring\", \"bring\", \"bring\", \"bring\", \"bring\", \"bring\", \"bring\", \"bring\", \"bring\", \"bring\", \"broadcast\", \"broadcast\", \"buyer\", \"call\", \"call\", \"call\", \"call\", \"call\", \"call\", \"call\", \"call\", \"call\", \"call\", \"canoe\", \"canoeist\", \"canyone\", \"canyone\", \"canyone\", \"canyone\", \"canyone\", \"canyone\", \"canyone\", \"car\", \"car\", \"car\", \"car\", \"car\", \"car\", \"car\", \"card\", \"card\", \"case\", \"case\", \"case\", \"case\", \"case\", \"case\", \"case\", \"case\", \"casino\", \"cathedral\", \"cave\", \"cave\", \"cave\", \"cave\", \"cave\", \"cave\", \"cave\", \"cell\", \"cell\", \"cent\", \"cent\", \"cent\", \"cent\", \"cent\", \"cent\", \"cent\", \"cent\", \"cent\", \"cent\", \"centre\", \"centre\", \"centre\", \"centre\", \"centre\", \"centre\", \"centre\", \"centre\", \"centre\", \"centre\", \"chain\", \"change\", \"change\", \"change\", \"change\", \"change\", \"change\", \"change\", \"change\", \"change\", \"change\", \"charge\", \"charge\", \"charge\", \"charge\", \"charge\", \"charge\", \"charge\", \"charge\", \"charge\", \"charge\", \"check\", \"check\", \"check\", \"child\", \"child\", \"child\", \"child\", \"child\", \"child\", \"child\", \"child\", \"child\", \"child\", \"claim\", \"claim\", \"claim\", \"claim\", \"claim\", \"claim\", \"claim\", \"claim\", \"claim\", \"claim\", \"clap\", \"closed\", \"coast\", \"coast\", \"coast\", \"coast\", \"coercion\", \"come\", \"come\", \"come\", \"come\", \"come\", \"come\", \"come\", \"come\", \"come\", \"come\", \"comeback\", \"commodity\", \"company\", \"company\", \"company\", \"company\", \"company\", \"company\", \"company\", \"company\", \"company\", \"company\", \"computer\", \"computer\", \"computer\", \"confirm\", \"confirm\", \"confirm\", \"confirm\", \"confirm\", \"confirm\", \"confirm\", \"confirm\", \"confirm\", \"confirm\", \"considerable\", \"containment\", \"continue\", \"continue\", \"continue\", \"continue\", \"continue\", \"continue\", \"continue\", \"continue\", \"continue\", \"continue\", \"control\", \"control\", \"control\", \"control\", \"control\", \"control\", \"control\", \"control\", \"control\", \"control\", \"coordination\", \"cost\", \"cost\", \"cost\", \"cost\", \"cost\", \"cost\", \"cost\", \"cost\", \"counselling\", \"counting\", \"counting\", \"court\", \"court\", \"court\", \"court\", \"court\", \"court\", \"court\", \"court\", \"court\", \"court\", \"cow\", \"crude\", \"dairy\", \"damage\", \"damage\", \"damage\", \"damage\", \"damage\", \"damage\", \"damage\", \"damage\", \"damage\", \"damage\", \"day\", \"day\", \"day\", \"day\", \"day\", \"day\", \"day\", \"day\", \"day\", \"day\", \"debate\", \"debate\", \"debate\", \"debate\", \"defunctoperator\", \"depose\", \"detainee\", \"detainee\", \"detainee\", \"detainee\", \"detainee\", \"detainee\", \"detainee\", \"deter\", \"directive\", \"discharge\", \"disease\", \"disease\", \"disease\", \"disease\", \"disease\", \"disease\", \"disease\", \"dispute\", \"dispute\", \"dispute\", \"dispute\", \"dispute\", \"dispute\", \"dispute\", \"dispute\", \"draconian\", \"draft\", \"draft\", \"driver\", \"dusty\", \"early\", \"early\", \"early\", \"early\", \"early\", \"early\", \"early\", \"early\", \"early\", \"early\", \"earthquake\", \"elder\", \"elder\", \"elder\", \"elder\", \"elder\", \"embryo\", \"embryo\", \"emission\", \"emission\", \"end\", \"end\", \"end\", \"end\", \"end\", \"end\", \"end\", \"end\", \"end\", \"end\", \"essential\", \"essential\", \"expect\", \"expect\", \"expect\", \"expect\", \"expect\", \"expect\", \"expect\", \"expect\", \"expect\", \"expect\", \"expel\", \"expense\", \"extend\", \"face\", \"face\", \"face\", \"face\", \"face\", \"face\", \"face\", \"face\", \"face\", \"face\", \"family\", \"family\", \"family\", \"family\", \"family\", \"family\", \"family\", \"family\", \"family\", \"family\", \"fare\", \"fare\", \"farmer\", \"farmer\", \"fatality\", \"fatality\", \"fight\", \"fight\", \"fight\", \"fight\", \"fight\", \"fight\", \"fight\", \"fight\", \"fight\", \"fighter\", \"fighter\", \"fighter\", \"fighter\", \"fighter\", \"fighter\", \"fighter\", \"fighter\", \"fighter\", \"fighter\", \"financially\", \"fire\", \"fire\", \"fire\", \"fire\", \"fire\", \"fire\", \"fire\", \"fire\", \"fire\", \"fire\", \"firefighter\", \"firefighter\", \"firefighter\", \"firefighter\", \"firefighter\", \"firefighter\", \"firefighter\", \"firefighter\", \"flee\", \"flee\", \"flee\", \"flee\", \"flee\", \"flee\", \"flee\", \"flee\", \"flee\", \"flight\", \"flight\", \"flight\", \"flight\", \"flight\", \"flight\", \"flight\", \"flight\", \"flight\", \"force\", \"force\", \"force\", \"force\", \"force\", \"force\", \"force\", \"force\", \"force\", \"force\", \"freeze\", \"freeze\", \"gala\", \"gambling\", \"gang\", \"gang\", \"gang\", \"gang\", \"general\", \"general\", \"general\", \"general\", \"general\", \"general\", \"general\", \"general\", \"gesture\", \"get\", \"get\", \"get\", \"get\", \"get\", \"get\", \"get\", \"get\", \"get\", \"get\", \"give\", \"give\", \"give\", \"give\", \"give\", \"give\", \"give\", \"give\", \"give\", \"give\", \"globally\", \"go\", \"go\", \"go\", \"go\", \"go\", \"go\", \"go\", \"go\", \"go\", \"go\", \"good\", \"good\", \"good\", \"good\", \"good\", \"good\", \"good\", \"good\", \"good\", \"good\", \"government\", \"government\", \"government\", \"government\", \"government\", \"government\", \"government\", \"government\", \"government\", \"government\", \"grand\", \"grounding\", \"group\", \"group\", \"group\", \"group\", \"group\", \"group\", \"group\", \"group\", \"group\", \"group\", \"gruelling\", \"guide\", \"guide\", \"guide\", \"guide\", \"guide\", \"guide\", \"guide\", \"guilty\", \"guilty\", \"guilty\", \"guilty\", \"guilty\", \"guilty\", \"guilty\", \"gunman\", \"gunman\", \"gunman\", \"gunman\", \"haitian\", \"head\", \"head\", \"head\", \"head\", \"head\", \"head\", \"head\", \"head\", \"head\", \"head\", \"helicopter\", \"helicopter\", \"helicopter\", \"helicopter\", \"helicopter\", \"helicopter\", \"helicopter\", \"helicopter\", \"helicopter\", \"hijacking\", \"hold\", \"hold\", \"hold\", \"hold\", \"hold\", \"hold\", \"hold\", \"hold\", \"hold\", \"hold\", \"home\", \"home\", \"home\", \"home\", \"home\", \"home\", \"home\", \"home\", \"home\", \"home\", \"hospital\", \"hospital\", \"hospital\", \"hospital\", \"hospital\", \"hospital\", \"hospital\", \"hospital\", \"hospital\", \"hospital\", \"hour\", \"hour\", \"hour\", \"hour\", \"hour\", \"hour\", \"hour\", \"hour\", \"hour\", \"hour\", \"human\", \"human\", \"human\", \"ice\", \"ice\", \"ice\", \"illegally\", \"imply\", \"incinerate\", \"include\", \"include\", \"include\", \"include\", \"include\", \"include\", \"include\", \"include\", \"include\", \"include\", \"indian\", \"indian\", \"indian\", \"indian\", \"indian\", \"indian\", \"indian\", \"indian\", \"individual\", \"individual\", \"individual\", \"individual\", \"individual\", \"individual\", \"individual\", \"individual\", \"industrial_action\", \"industrial_action\", \"industrial_action\", \"industrial_action\", \"industrial_action\", \"industrial_action\", \"ineffective\", \"inexperienced\", \"inherit\", \"initiate\", \"injure\", \"injure\", \"injure\", \"injure\", \"injure\", \"injure\", \"injure\", \"injure\", \"injure\", \"injure\", \"interest_rate\", \"interest_rate\", \"interest_rate\", \"interest_rate\", \"interest_rate\", \"interest_rate\", \"island\", \"island\", \"island\", \"israeli\", \"israeli\", \"israeli\", \"israeli\", \"israeli\", \"israeli\", \"israeli\", \"israeli\", \"israeli\", \"israeli\", \"japanese\", \"japanese\", \"japanese\", \"kill\", \"kill\", \"kill\", \"kill\", \"kill\", \"kill\", \"kill\", \"kill\", \"kill\", \"kill\", \"killer\", \"killing\", \"killing\", \"killing\", \"know\", \"know\", \"know\", \"know\", \"know\", \"know\", \"know\", \"know\", \"know\", \"know\", \"law\", \"law\", \"law\", \"law\", \"law\", \"law\", \"law\", \"law\", \"law\", \"lead\", \"lead\", \"lead\", \"lead\", \"lead\", \"lead\", \"lead\", \"lead\", \"lead\", \"lead\", \"leaded\", \"leader\", \"leader\", \"leader\", \"leader\", \"leader\", \"leader\", \"leader\", \"leader\", \"leader\", \"leader\", \"loaded\", \"lobby\", \"look\", \"look\", \"look\", \"look\", \"look\", \"look\", \"look\", \"look\", \"look\", \"look\", \"lot\", \"lot\", \"lot\", \"lot\", \"lot\", \"lot\", \"lot\", \"lot\", \"luggage\", \"lung_cancer\", \"lung_cancer\", \"lung_cancer\", \"lung_cancer\", \"mad\", \"maintenance_worker\", \"maintenance_worker\", \"maintenance_worker\", \"maintenance_worker\", \"maker\", \"maker\", \"malaysian\", \"man\", \"man\", \"man\", \"man\", \"man\", \"man\", \"man\", \"man\", \"man\", \"man\", \"match\", \"match\", \"match\", \"match\", \"match\", \"match\", \"match\", \"match\", \"match\", \"match\", \"meat\", \"medically\", \"meeting\", \"meeting\", \"meeting\", \"meeting\", \"meeting\", \"meeting\", \"meeting\", \"meeting\", \"meeting\", \"meeting\", \"member\", \"member\", \"member\", \"member\", \"member\", \"member\", \"member\", \"member\", \"member\", \"member\", \"mental\", \"militant\", \"militant\", \"militant\", \"militant\", \"militant\", \"militant\", \"militant\", \"militant\", \"militant\", \"militant\", \"ministerial\", \"misguided\", \"month\", \"month\", \"month\", \"month\", \"month\", \"month\", \"month\", \"month\", \"month\", \"month\", \"morning\", \"morning\", \"morning\", \"morning\", \"morning\", \"morning\", \"morning\", \"morning\", \"morning\", \"morning\", \"motive\", \"motorist\", \"new\", \"new\", \"new\", \"new\", \"new\", \"new\", \"new\", \"new\", \"new\", \"new\", \"night\", \"night\", \"night\", \"night\", \"night\", \"night\", \"night\", \"night\", \"night\", \"night\", \"north\", \"north\", \"north\", \"north\", \"north\", \"north\", \"north\", \"north\", \"north\", \"north\", \"number\", \"number\", \"number\", \"number\", \"number\", \"number\", \"number\", \"number\", \"number\", \"number\", \"official\", \"official\", \"official\", \"official\", \"official\", \"official\", \"official\", \"official\", \"official\", \"official\", \"old\", \"old\", \"old\", \"old\", \"old\", \"old\", \"old\", \"old\", \"old\", \"old\", \"open_fire\", \"open_fire\", \"organ\", \"outbreak\", \"outburst\", \"paddle\", \"palestinian\", \"palestinian\", \"palestinian\", \"palestinian\", \"palestinian\", \"palestinian\", \"palestinian\", \"palestinian\", \"palestinian\", \"palestinian\", \"palestinian_leader\", \"palestinian_leader\", \"palestinian_leader\", \"palestinian_leader\", \"palestinian_leader\", \"palestinian_leader\", \"palestinian_leader\", \"palestinian_leader\", \"palestinian_leader\", \"palestinian_leader\", \"passport\", \"passport\", \"people\", \"people\", \"people\", \"people\", \"people\", \"people\", \"people\", \"people\", \"people\", \"people\", \"personally\", \"personally\", \"petrol\", \"petrol\", \"place\", \"place\", \"place\", \"place\", \"place\", \"place\", \"place\", \"place\", \"place\", \"place\", \"plan\", \"plan\", \"plan\", \"plan\", \"plan\", \"plan\", \"plan\", \"plan\", \"plan\", \"plan\", \"play\", \"play\", \"play\", \"play\", \"play\", \"play\", \"play\", \"play\", \"play\", \"poker\", \"police\", \"police\", \"police\", \"police\", \"police\", \"police\", \"police\", \"police\", \"police\", \"police\", \"policy\", \"policy\", \"policy\", \"policy\", \"policy\", \"policy\", \"policy\", \"policy\", \"policy\", \"pollutant\", \"possibility\", \"possibility\", \"possibility\", \"power\", \"power\", \"power\", \"power\", \"power\", \"power\", \"power\", \"power\", \"power\", \"power\", \"proceed\", \"proceed\", \"product\", \"product\", \"product\", \"professional\", \"professional\", \"protect\", \"protect\", \"protect\", \"protect\", \"provision\", \"quake\", \"quarrel\", \"radio\", \"radio\", \"radio\", \"radio\", \"radio\", \"radio\", \"radio\", \"radio\", \"radio\", \"radio\", \"raft\", \"raft\", \"random\", \"rate\", \"rate\", \"rate\", \"rate\", \"rate\", \"rate\", \"rate\", \"rate\", \"rate\", \"razor\", \"reaffirm\", \"region\", \"region\", \"region\", \"region\", \"region\", \"region\", \"region\", \"region\", \"region\", \"remain\", \"remain\", \"remain\", \"remain\", \"remain\", \"remain\", \"remain\", \"remain\", \"remain\", \"remain\", \"report\", \"report\", \"report\", \"report\", \"report\", \"report\", \"report\", \"report\", \"report\", \"report\", \"research\", \"research\", \"research\", \"research\", \"research\", \"respiratory\", \"respond\", \"respond\", \"respond\", \"respond\", \"respond\", \"respond\", \"retrospective\", \"return\", \"return\", \"return\", \"return\", \"return\", \"return\", \"return\", \"return\", \"return\", \"return\", \"rink\", \"rink\", \"road\", \"road\", \"road\", \"road\", \"road\", \"role\", \"role\", \"role\", \"role\", \"role\", \"role\", \"role\", \"role\", \"role\", \"roof\", \"roof\", \"roof\", \"rubble\", \"run\", \"run\", \"run\", \"run\", \"run\", \"run\", \"run\", \"run\", \"run\", \"run\", \"safeguard\", \"sanctuary\", \"sand\", \"save\", \"save\", \"save\", \"save\", \"save\", \"save\", \"scg\", \"secret\", \"secret\", \"secret\", \"secret\", \"secret\", \"security\", \"security\", \"security\", \"security\", \"security\", \"security\", \"security\", \"security\", \"security\", \"security\", \"selection\", \"selector\", \"selector\", \"semi\", \"settler\", \"settler\", \"shake\", \"shepherd\", \"shoot\", \"shoot\", \"shoot\", \"shoot\", \"shoot\", \"shoot\", \"shoot\", \"shop\", \"skate\", \"skate\", \"solution\", \"solution\", \"solution\", \"source\", \"source\", \"source\", \"source\", \"source\", \"source\", \"source\", \"source\", \"source\", \"south\", \"south\", \"south\", \"south\", \"south\", \"south\", \"south\", \"south\", \"south\", \"south\", \"south_african\", \"south_african\", \"south_african\", \"south_african\", \"south_african\", \"south_african\", \"specialist\", \"speed\", \"spelt\", \"spending\", \"spending\", \"spinner\", \"spinner\", \"spinner\", \"staff\", \"staff\", \"staff\", \"staff\", \"staff\", \"staff\", \"staff\", \"staff\", \"staff\", \"start\", \"start\", \"start\", \"start\", \"start\", \"start\", \"start\", \"start\", \"start\", \"start\", \"state\", \"state\", \"state\", \"state\", \"state\", \"state\", \"state\", \"state\", \"state\", \"state\", \"subsidiary\", \"subsidy\", \"summons\", \"support\", \"support\", \"support\", \"support\", \"support\", \"support\", \"support\", \"support\", \"support\", \"support\", \"surrender\", \"surrender\", \"surrender\", \"surrender\", \"surrender\", \"surrender\", \"surrender\", \"surrender\", \"suspension\", \"suspension\", \"symptom\", \"symptom\", \"tailender\", \"tailender\", \"tailender\", \"tailender\", \"take\", \"take\", \"take\", \"take\", \"take\", \"take\", \"take\", \"take\", \"take\", \"take\", \"talk\", \"talk\", \"talk\", \"talk\", \"talk\", \"talk\", \"talk\", \"talk\", \"talk\", \"talk\", \"tank\", \"tank\", \"tank\", \"taxis\", \"tell\", \"tell\", \"tell\", \"tell\", \"tell\", \"tell\", \"tell\", \"tell\", \"tell\", \"tell\", \"terminal\", \"terminal\", \"terrorism\", \"terrorism\", \"terrorism\", \"terrorism\", \"terrorism\", \"terrorism\", \"terrorism\", \"terrorism\", \"terrorism\", \"test\", \"test\", \"test\", \"test\", \"test\", \"test\", \"test\", \"test\", \"test\", \"test\", \"thick\", \"thick\", \"think\", \"think\", \"think\", \"think\", \"think\", \"think\", \"think\", \"think\", \"think\", \"think\", \"ticket\", \"ticket\", \"time\", \"time\", \"time\", \"time\", \"time\", \"time\", \"time\", \"time\", \"time\", \"time\", \"toddler\", \"town\", \"town\", \"town\", \"town\", \"town\", \"town\", \"town\", \"town\", \"town\", \"trap\", \"trap\", \"trap\", \"trap\", \"treason\", \"tree\", \"tree\", \"tree\", \"tree\", \"tree\", \"tree\", \"tree\", \"tribe\", \"troop\", \"troop\", \"troop\", \"troop\", \"troop\", \"troop\", \"troop\", \"troop\", \"troop\", \"troop\", \"try\", \"try\", \"try\", \"try\", \"try\", \"try\", \"try\", \"try\", \"try\", \"try\", \"typhoid\", \"unchanged\", \"underfoot\", \"unhappy\", \"union\", \"union\", \"union\", \"union\", \"union\", \"union\", \"union\", \"union\", \"union\", \"unit\", \"unit\", \"unresolved\", \"user\", \"user\", \"user\", \"verdict\", \"verdict\", \"verdict\", \"verdict\", \"verdict\", \"virus\", \"virus\", \"virus\", \"visa\", \"visa\", \"visa\", \"visa\", \"voting\", \"wage_freeze\", \"wage_freeze\", \"wage_freeze\", \"wage_freeze\", \"want\", \"want\", \"want\", \"want\", \"want\", \"want\", \"want\", \"want\", \"want\", \"want\", \"way\", \"way\", \"way\", \"way\", \"way\", \"way\", \"way\", \"way\", \"way\", \"way\", \"week\", \"week\", \"week\", \"week\", \"week\", \"week\", \"week\", \"week\", \"week\", \"week\", \"whilst\", \"wicket\", \"wicket\", \"wicket\", \"wicket\", \"wicket\", \"wicket\", \"wicket\", \"wicket\", \"wicket\", \"willingness\", \"win\", \"win\", \"win\", \"win\", \"win\", \"win\", \"win\", \"win\", \"win\", \"win\", \"wind\", \"wind\", \"wind\", \"wind\", \"wind\", \"wind\", \"wind\", \"wind\", \"wind\", \"wind\", \"witch\", \"witness\", \"witness\", \"witness\", \"witness\", \"witness\", \"witness\", \"witness\", \"witness\", \"witness\", \"witness\", \"work\", \"work\", \"work\", \"work\", \"work\", \"work\", \"work\", \"work\", \"work\", \"work\", \"worker\", \"worker\", \"worker\", \"worker\", \"worker\", \"worker\", \"worker\", \"worker\", \"worker\", \"world\", \"world\", \"world\", \"world\", \"world\", \"world\", \"world\", \"world\", \"world\", \"world\", \"yacht\", \"yacht\", \"yacht\", \"yacht\", \"yacht\", \"yacht\", \"yacht\", \"year\", \"year\", \"year\", \"year\", \"year\", \"year\", \"year\", \"year\", \"year\", \"year\", \"yesterday\", \"yesterday\", \"yesterday\", \"yesterday\", \"yesterday\", \"yesterday\", \"yesterday\", \"yesterday\", \"yesterday\", \"yesterday\"]}, \"R\": 30, \"lambda.step\": 0.01, \"plot.opts\": {\"xlab\": \"PC1\", \"ylab\": \"PC2\"}, \"topic.order\": [5, 10, 4, 9, 6, 1, 3, 8, 7, 2]};\n",
       "\n",
       "function LDAvis_load_lib(url, callback){\n",
       "  var s = document.createElement('script');\n",
       "  s.src = url;\n",
       "  s.async = true;\n",
       "  s.onreadystatechange = s.onload = callback;\n",
       "  s.onerror = function(){console.warn(\"failed to load library \" + url);};\n",
       "  document.getElementsByTagName(\"head\")[0].appendChild(s);\n",
       "}\n",
       "\n",
       "if(typeof(LDAvis) !== \"undefined\"){\n",
       "   // already loaded: just create the visualization\n",
       "   !function(LDAvis){\n",
       "       new LDAvis(\"#\" + \"ldavis_el161384603076210728541296101\", ldavis_el161384603076210728541296101_data);\n",
       "   }(LDAvis);\n",
       "}else if(typeof define === \"function\" && define.amd){\n",
       "   // require.js is available: use it to load d3/LDAvis\n",
       "   require.config({paths: {d3: \"https://d3js.org/d3.v5\"}});\n",
       "   require([\"d3\"], function(d3){\n",
       "      window.d3 = d3;\n",
       "      LDAvis_load_lib(\"https://cdn.jsdelivr.net/gh/bmabey/pyLDAvis/pyLDAvis/js/ldavis.v3.0.0.js\", function(){\n",
       "        new LDAvis(\"#\" + \"ldavis_el161384603076210728541296101\", ldavis_el161384603076210728541296101_data);\n",
       "      });\n",
       "    });\n",
       "}else{\n",
       "    // require.js not available: dynamically load d3 & LDAvis\n",
       "    LDAvis_load_lib(\"https://d3js.org/d3.v5.js\", function(){\n",
       "         LDAvis_load_lib(\"https://cdn.jsdelivr.net/gh/bmabey/pyLDAvis/pyLDAvis/js/ldavis.v3.0.0.js\", function(){\n",
       "                 new LDAvis(\"#\" + \"ldavis_el161384603076210728541296101\", ldavis_el161384603076210728541296101_data);\n",
       "            })\n",
       "         });\n",
       "}\n",
       "</script>"
      ],
      "text/plain": [
       "PreparedData(topic_coordinates=              x         y  topics  cluster       Freq\n",
       "topic                                                \n",
       "4     -0.062508 -0.010110       1        1  16.377627\n",
       "9     -0.019248 -0.002354       2        1  14.692926\n",
       "3      0.029454 -0.011903       3        1  12.897865\n",
       "8      0.034373  0.026756       4        1  10.635184\n",
       "5     -0.043267  0.014114       5        1   9.392472\n",
       "0      0.030832  0.008911       6        1   9.326906\n",
       "2      0.018565 -0.076810       7        1   8.597620\n",
       "7      0.048357  0.021560       8        1   7.342075\n",
       "6     -0.020616  0.011003       9        1   6.535885\n",
       "1     -0.015941  0.018834      10        1   4.201439, topic_info=             Term        Freq       Total Category  logprob  loglift\n",
       "845   palestinian   73.000000   73.000000  Default  30.0000  30.0000\n",
       "838       israeli   88.000000   88.000000  Default  29.0000  29.0000\n",
       "2384       Qantas   29.000000   29.000000  Default  28.0000  28.0000\n",
       "82         people  108.000000  108.000000  Default  27.0000  27.0000\n",
       "868    australian   59.000000   59.000000  Default  26.0000  26.0000\n",
       "...           ...         ...         ...      ...      ...      ...\n",
       "82         people    2.607014  108.681342  Topic10  -6.1361  -0.5605\n",
       "27           area    2.337942   65.295926  Topic10  -6.2450  -0.1599\n",
       "404         early    2.260430   56.140017  Topic10  -6.2788  -0.0426\n",
       "2197       Arafat    2.289207   64.637554  Topic10  -6.2661  -0.1708\n",
       "670          kill    2.291231   71.299127  Topic10  -6.2652  -0.2681\n",
       "\n",
       "[784 rows x 6 columns], token_table=      Topic      Freq       Term\n",
       "term                            \n",
       "637       1  0.250424           \n",
       "637       2  0.146080           \n",
       "637       3  0.125212           \n",
       "637       4  0.062606           \n",
       "637       5  0.104343           \n",
       "...     ...       ...        ...\n",
       "176       6  0.095264  yesterday\n",
       "176       7  0.047632  yesterday\n",
       "176       8  0.071448  yesterday\n",
       "176       9  0.047632  yesterday\n",
       "176      10  0.023816  yesterday\n",
       "\n",
       "[2373 rows x 3 columns], R=30, lambda_step=0.01, plot_opts={'xlab': 'PC1', 'ylab': 'PC2'}, topic_order=[5, 10, 4, 9, 6, 1, 3, 8, 7, 2])"
      ]
     },
     "execution_count": 22,
     "metadata": {},
     "output_type": "execute_result"
    }
   ],
   "source": [
    "import pyLDAvis.gensim\n",
    "\n",
    "\n",
    "pyLDAvis.enable_notebook()\n",
    "pyLDAvis.gensim.prepare(lda_model, corpus, dictionary)"
   ]
  },
  {
   "cell_type": "markdown",
   "metadata": {
    "papermill": {
     "duration": 0.043186,
     "end_time": "2023-11-21T04:44:19.923469",
     "exception": false,
     "start_time": "2023-11-21T04:44:19.880283",
     "status": "completed"
    },
    "tags": []
   },
   "source": [
    "> This is a great way to get a view of what words end up appearing in our documents, and what kind of document topics might be present."
   ]
  }
 ],
 "metadata": {
  "kaggle": {
   "accelerator": "none",
   "dataSources": [
    {
     "databundleVersionId": 1099992,
     "sourceId": 16295,
     "sourceType": "competition"
    },
    {
     "databundleVersionId": 869809,
     "sourceId": 17777,
     "sourceType": "competition"
    },
    {
     "databundleVersionId": 2703900,
     "sourceId": 19018,
     "sourceType": "competition"
    },
    {
     "databundleVersionId": 1408234,
     "sourceId": 21733,
     "sourceType": "competition"
    },
    {
     "datasetId": 1108793,
     "sourceId": 1863123,
     "sourceType": "datasetVersion"
    },
    {
     "datasetId": 1167113,
     "sourceId": 2730445,
     "sourceType": "datasetVersion"
    }
   ],
   "dockerImageVersionId": 30066,
   "isGpuEnabled": false,
   "isInternetEnabled": true,
   "language": "python",
   "sourceType": "notebook"
  },
  "kernelspec": {
   "display_name": "Python 3",
   "language": "python",
   "name": "python3"
  },
  "language_info": {
   "codemirror_mode": {
    "name": "ipython",
    "version": 3
   },
   "file_extension": ".py",
   "mimetype": "text/x-python",
   "name": "python",
   "nbconvert_exporter": "python",
   "pygments_lexer": "ipython3",
   "version": "3.7.9"
  },
  "papermill": {
   "default_parameters": {},
   "duration": 41.677389,
   "end_time": "2023-11-21T04:44:21.579425",
   "environment_variables": {},
   "exception": null,
   "input_path": "__notebook__.ipynb",
   "output_path": "__notebook__.ipynb",
   "parameters": {},
   "start_time": "2023-11-21T04:43:39.902036",
   "version": "2.2.2"
  }
 },
 "nbformat": 4,
 "nbformat_minor": 4
}
